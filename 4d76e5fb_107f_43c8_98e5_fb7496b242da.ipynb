{
  "nbformat": 4,
  "nbformat_minor": 0,
  "metadata": {
    "kernelspec": {
      "display_name": "Python 3",
      "language": "python",
      "name": "python3"
    },
    "language_info": {
      "codemirror_mode": {
        "name": "ipython",
        "version": 3
      },
      "file_extension": ".py",
      "mimetype": "text/x-python",
      "name": "python",
      "nbconvert_exporter": "python",
      "pygments_lexer": "ipython3",
      "version": "3.7.4"
    },
    "colab": {
      "name": "4d76e5fb-107f-43c8-98e5-fb7496b242da.ipynb",
      "provenance": []
    }
  },
  "cells": [
    {
      "cell_type": "markdown",
      "metadata": {
        "id": "KI7vcEow1lui",
        "colab_type": "text"
      },
      "source": [
        "# Introduction to Machine Learning: Project"
      ]
    },
    {
      "cell_type": "markdown",
      "metadata": {
        "id": "Lbl0n7jt1luk",
        "colab_type": "text"
      },
      "source": [
        "Mobile carrier Megaline has found out that many of their subscribers use\n",
        "legacy plans. They want to develop a model that would analyze subscribers'\n",
        "behavior and recommend one of Megaline's newer plans: Smart or Ultra."
      ]
    },
    {
      "cell_type": "markdown",
      "metadata": {
        "id": "Ur2p8bgF1lum",
        "colab_type": "text"
      },
      "source": [
        "You have access to behavior data about subscribers who have already\n",
        "switched to the new plans (from the project for the Statistical Data Analysis\n",
        "course). For this classification task, you need to develop a model that will pick\n",
        "the right plan. Since you’ve already performed the data preprocessing step,\n",
        "you can move straight to creating the model."
      ]
    },
    {
      "cell_type": "markdown",
      "metadata": {
        "id": "K9L8zOoA1luo",
        "colab_type": "text"
      },
      "source": [
        "Develop a model with the highest possible accuracy. In this project, the\n",
        "threshold for accuracy is 0.75. Check the accuracy using the test dataset."
      ]
    },
    {
      "cell_type": "markdown",
      "metadata": {
        "id": "WGvqlkYW1lup",
        "colab_type": "text"
      },
      "source": [
        "#### Data description\n",
        "Every observation in the dataset contains monthly behavior information about\n",
        "one user. \n",
        "\n",
        "The information given is as follows:\n",
        "\n",
        "сalls — number of calls,\n",
        "\n",
        "minutes — total call duration in minutes,\n",
        "\n",
        "messages — number of text messages,\n",
        "\n",
        "mb_used — Internet traffic used in MB,\n",
        "\n",
        "is_ultra — plan for the current month (Ultra - 1, Smart - 0)"
      ]
    },
    {
      "cell_type": "code",
      "metadata": {
        "id": "4wffKcFk1lur",
        "colab_type": "code",
        "colab": {}
      },
      "source": [
        "import pandas as pd\n",
        "from sklearn.model_selection import train_test_split\n",
        "from sklearn.linear_model import LogisticRegression\n",
        "from sklearn.metrics import accuracy_score\n",
        "from sklearn.tree import DecisionTreeClassifier\n",
        "from sklearn.ensemble import RandomForestClassifier\n"
      ],
      "execution_count": null,
      "outputs": []
    },
    {
      "cell_type": "markdown",
      "metadata": {
        "id": "Dq6dL34j1lu1",
        "colab_type": "text"
      },
      "source": [
        "##  1) Open and look through the data file."
      ]
    },
    {
      "cell_type": "code",
      "metadata": {
        "id": "DHJpRd5D1lu3",
        "colab_type": "code",
        "colab": {}
      },
      "source": [
        "df = pd.read_csv('/datasets/users_behavior.csv')"
      ],
      "execution_count": null,
      "outputs": []
    },
    {
      "cell_type": "code",
      "metadata": {
        "id": "L63BGI3K1lvA",
        "colab_type": "code",
        "colab": {},
        "outputId": "6b7be3ce-49ae-43cd-8677-43f59f76e05c"
      },
      "source": [
        "df.head()"
      ],
      "execution_count": null,
      "outputs": [
        {
          "output_type": "execute_result",
          "data": {
            "text/html": [
              "<div>\n",
              "<style scoped>\n",
              "    .dataframe tbody tr th:only-of-type {\n",
              "        vertical-align: middle;\n",
              "    }\n",
              "\n",
              "    .dataframe tbody tr th {\n",
              "        vertical-align: top;\n",
              "    }\n",
              "\n",
              "    .dataframe thead th {\n",
              "        text-align: right;\n",
              "    }\n",
              "</style>\n",
              "<table border=\"1\" class=\"dataframe\">\n",
              "  <thead>\n",
              "    <tr style=\"text-align: right;\">\n",
              "      <th></th>\n",
              "      <th>calls</th>\n",
              "      <th>minutes</th>\n",
              "      <th>messages</th>\n",
              "      <th>mb_used</th>\n",
              "      <th>is_ultra</th>\n",
              "    </tr>\n",
              "  </thead>\n",
              "  <tbody>\n",
              "    <tr>\n",
              "      <td>0</td>\n",
              "      <td>40.0</td>\n",
              "      <td>311.90</td>\n",
              "      <td>83.0</td>\n",
              "      <td>19915.42</td>\n",
              "      <td>0</td>\n",
              "    </tr>\n",
              "    <tr>\n",
              "      <td>1</td>\n",
              "      <td>85.0</td>\n",
              "      <td>516.75</td>\n",
              "      <td>56.0</td>\n",
              "      <td>22696.96</td>\n",
              "      <td>0</td>\n",
              "    </tr>\n",
              "    <tr>\n",
              "      <td>2</td>\n",
              "      <td>77.0</td>\n",
              "      <td>467.66</td>\n",
              "      <td>86.0</td>\n",
              "      <td>21060.45</td>\n",
              "      <td>0</td>\n",
              "    </tr>\n",
              "    <tr>\n",
              "      <td>3</td>\n",
              "      <td>106.0</td>\n",
              "      <td>745.53</td>\n",
              "      <td>81.0</td>\n",
              "      <td>8437.39</td>\n",
              "      <td>1</td>\n",
              "    </tr>\n",
              "    <tr>\n",
              "      <td>4</td>\n",
              "      <td>66.0</td>\n",
              "      <td>418.74</td>\n",
              "      <td>1.0</td>\n",
              "      <td>14502.75</td>\n",
              "      <td>0</td>\n",
              "    </tr>\n",
              "  </tbody>\n",
              "</table>\n",
              "</div>"
            ],
            "text/plain": [
              "   calls  minutes  messages   mb_used  is_ultra\n",
              "0   40.0   311.90      83.0  19915.42         0\n",
              "1   85.0   516.75      56.0  22696.96         0\n",
              "2   77.0   467.66      86.0  21060.45         0\n",
              "3  106.0   745.53      81.0   8437.39         1\n",
              "4   66.0   418.74       1.0  14502.75         0"
            ]
          },
          "metadata": {
            "tags": []
          },
          "execution_count": 26
        }
      ]
    },
    {
      "cell_type": "code",
      "metadata": {
        "id": "kyjnLNsR1lvO",
        "colab_type": "code",
        "colab": {},
        "outputId": "75ca3bde-332c-485a-b8a6-0fa885bb4cbf"
      },
      "source": [
        "df.info()"
      ],
      "execution_count": null,
      "outputs": [
        {
          "output_type": "stream",
          "text": [
            "<class 'pandas.core.frame.DataFrame'>\n",
            "RangeIndex: 3214 entries, 0 to 3213\n",
            "Data columns (total 5 columns):\n",
            "calls       3214 non-null float64\n",
            "minutes     3214 non-null float64\n",
            "messages    3214 non-null float64\n",
            "mb_used     3214 non-null float64\n",
            "is_ultra    3214 non-null int64\n",
            "dtypes: float64(4), int64(1)\n",
            "memory usage: 125.7 KB\n"
          ],
          "name": "stdout"
        }
      ]
    },
    {
      "cell_type": "markdown",
      "metadata": {
        "id": "5Hbtkhzm1lva",
        "colab_type": "text"
      },
      "source": [
        "### No missing values and data types are okay. This is a classification task and the target is is_ultra."
      ]
    },
    {
      "cell_type": "markdown",
      "metadata": {
        "id": "ppr2Ze-F1lvd",
        "colab_type": "text"
      },
      "source": [
        "## 2) Split the source data into a training set, a validation set, and a test set."
      ]
    },
    {
      "cell_type": "code",
      "metadata": {
        "id": "Nut1KT101lvf",
        "colab_type": "code",
        "colab": {}
      },
      "source": [
        "df_train, df_valid = train_test_split(df, test_size=0.40, random_state=12345)"
      ],
      "execution_count": null,
      "outputs": []
    },
    {
      "cell_type": "code",
      "metadata": {
        "id": "3PvQ4gqf1lvz",
        "colab_type": "code",
        "colab": {}
      },
      "source": [
        "df_valid, df_test = train_test_split(df_valid, test_size=0.50, random_state=12345)"
      ],
      "execution_count": null,
      "outputs": []
    },
    {
      "cell_type": "code",
      "metadata": {
        "id": "H-pHREQ21lwA",
        "colab_type": "code",
        "colab": {},
        "outputId": "e2350079-9805-42a1-876f-c95060b16e02"
      },
      "source": [
        "print('training set:', (len(df_train)/len(df))*100, '%')"
      ],
      "execution_count": null,
      "outputs": [
        {
          "output_type": "stream",
          "text": [
            "training set: 59.98755444928439 %\n"
          ],
          "name": "stdout"
        }
      ]
    },
    {
      "cell_type": "code",
      "metadata": {
        "scrolled": true,
        "id": "rJpb2UN_1lwO",
        "colab_type": "code",
        "colab": {},
        "outputId": "194be47f-86f6-420c-d778-757cc45e9a75"
      },
      "source": [
        "print('validation set:', (len(df_valid)/len(df))*100, '%')"
      ],
      "execution_count": null,
      "outputs": [
        {
          "output_type": "stream",
          "text": [
            "validation set: 20.00622277535781 %\n"
          ],
          "name": "stdout"
        }
      ]
    },
    {
      "cell_type": "code",
      "metadata": {
        "id": "etQ7RZ_v1lwW",
        "colab_type": "code",
        "colab": {},
        "outputId": "60583a09-7b57-4585-befd-4384391bc644"
      },
      "source": [
        "print('test set:', (len(df_test)/len(df))*100, '%')"
      ],
      "execution_count": null,
      "outputs": [
        {
          "output_type": "stream",
          "text": [
            "test set: 20.00622277535781 %\n"
          ],
          "name": "stdout"
        }
      ]
    },
    {
      "cell_type": "markdown",
      "metadata": {
        "id": "OVQwT1TV1lwv",
        "colab_type": "text"
      },
      "source": [
        "### 60% of data is training set, 20% of data is validation set, and 20% is test set. The small error is okay and inevitable with computers."
      ]
    },
    {
      "cell_type": "code",
      "metadata": {
        "id": "9kZHx53K1lwz",
        "colab_type": "code",
        "colab": {}
      },
      "source": [
        "df_train_features= df_train.drop(['is_ultra'], axis=1)\n",
        "df_train_target= df_train['is_ultra']\n",
        "df_valid_features= df_valid.drop(['is_ultra'], axis=1)\n",
        "df_valid_target= df_valid['is_ultra']\n",
        "df_test_features= df_test.drop(['is_ultra'], axis=1)\n",
        "df_test_target= df_test['is_ultra']"
      ],
      "execution_count": null,
      "outputs": []
    },
    {
      "cell_type": "markdown",
      "metadata": {
        "id": "zuwocdc71lxA",
        "colab_type": "text"
      },
      "source": [
        "##  3) Investigate the quality of different models by changing hyperparameters. Briefly describe the findings of the study."
      ]
    },
    {
      "cell_type": "code",
      "metadata": {
        "id": "m2lbObEr1lxD",
        "colab_type": "code",
        "colab": {},
        "outputId": "573be27e-b68b-47ec-aff7-ed12e0df13fe"
      },
      "source": [
        "for depth in range(1,21):\n",
        "    model = DecisionTreeClassifier(random_state=12345, max_depth=depth)\n",
        "    model.fit(df_train_features, df_train_target)\n",
        "\n",
        "    print(depth, 'depth', model.score(df_valid_features, df_valid_target), 'accuracy')"
      ],
      "execution_count": null,
      "outputs": [
        {
          "output_type": "stream",
          "text": [
            "1 depth 0.7542768273716952 accuracy\n",
            "2 depth 0.7822706065318819 accuracy\n",
            "3 depth 0.7853810264385692 accuracy\n",
            "4 depth 0.7791601866251944 accuracy\n",
            "5 depth 0.7791601866251944 accuracy\n",
            "6 depth 0.7838258164852255 accuracy\n",
            "7 depth 0.7822706065318819 accuracy\n",
            "8 depth 0.7791601866251944 accuracy\n",
            "9 depth 0.7822706065318819 accuracy\n",
            "10 depth 0.7744945567651633 accuracy\n",
            "11 depth 0.7620528771384136 accuracy\n",
            "12 depth 0.7620528771384136 accuracy\n",
            "13 depth 0.7558320373250389 accuracy\n",
            "14 depth 0.7589424572317263 accuracy\n",
            "15 depth 0.7465007776049767 accuracy\n",
            "16 depth 0.7340590979782271 accuracy\n",
            "17 depth 0.7356143079315708 accuracy\n",
            "18 depth 0.7309486780715396 accuracy\n",
            "19 depth 0.7278382581648523 accuracy\n",
            "20 depth 0.7216174183514774 accuracy\n"
          ],
          "name": "stdout"
        }
      ]
    },
    {
      "cell_type": "markdown",
      "metadata": {
        "id": "e1Qxah3Q1lxQ",
        "colab_type": "text"
      },
      "source": [
        "Decision Tree with a depth of 6 has the best accuracy ay 78.4%."
      ]
    },
    {
      "cell_type": "code",
      "metadata": {
        "id": "eXPmV1Co1lxT",
        "colab_type": "code",
        "colab": {},
        "outputId": "f90ee763-cb8c-4425-dae3-d5ecff79c7e1"
      },
      "source": [
        "for trees in range(100,1001,100):\n",
        "\n",
        "    model = RandomForestClassifier(random_state=12345, n_estimators=trees)\n",
        "    model.fit(df_train_features, df_train_target)\n",
        "\n",
        "    print(trees, 'trees:', model.score(df_valid_features, df_valid_target), 'accuracy')"
      ],
      "execution_count": null,
      "outputs": [
        {
          "output_type": "stream",
          "text": [
            "100 trees: 0.7853810264385692 accuracy\n",
            "200 trees: 0.7869362363919129 accuracy\n",
            "300 trees: 0.7869362363919129 accuracy\n",
            "400 trees: 0.7853810264385692 accuracy\n",
            "500 trees: 0.7853810264385692 accuracy\n",
            "600 trees: 0.7838258164852255 accuracy\n",
            "700 trees: 0.7822706065318819 accuracy\n",
            "800 trees: 0.7838258164852255 accuracy\n",
            "900 trees: 0.7838258164852255 accuracy\n",
            "1000 trees: 0.7853810264385692 accuracy\n"
          ],
          "name": "stdout"
        }
      ]
    },
    {
      "cell_type": "markdown",
      "metadata": {
        "id": "lGOwfVTE1lxk",
        "colab_type": "text"
      },
      "source": [
        "Random Forest with 200 trees has the best accuracy of 78.7%."
      ]
    },
    {
      "cell_type": "code",
      "metadata": {
        "id": "n-QZVJ2-1lxn",
        "colab_type": "code",
        "colab": {},
        "outputId": "4b3dafa2-95ee-48d8-cb80-7585496bb0b6"
      },
      "source": [
        "model = LogisticRegression(random_state=12345)\n",
        "model.fit(df_train_features, df_train_target)\n",
        "\n",
        "model.score(df_valid_features, df_valid_target)"
      ],
      "execution_count": null,
      "outputs": [
        {
          "output_type": "stream",
          "text": [
            "/opt/conda/lib/python3.7/site-packages/sklearn/linear_model/logistic.py:432: FutureWarning: Default solver will be changed to 'lbfgs' in 0.22. Specify a solver to silence this warning.\n",
            "  FutureWarning)\n"
          ],
          "name": "stderr"
        },
        {
          "output_type": "execute_result",
          "data": {
            "text/plain": [
              "0.7589424572317263"
            ]
          },
          "metadata": {
            "tags": []
          },
          "execution_count": 37
        }
      ]
    },
    {
      "cell_type": "markdown",
      "metadata": {
        "id": "x6_tzMm01lx6",
        "colab_type": "text"
      },
      "source": [
        "### The Random Forest with 200 trees has the highest accuracy, so I will use this one."
      ]
    },
    {
      "cell_type": "markdown",
      "metadata": {
        "id": "2OjS2Cel1lx7",
        "colab_type": "text"
      },
      "source": [
        "## 4) Check the quality of the model using the test set."
      ]
    },
    {
      "cell_type": "code",
      "metadata": {
        "id": "DvtoAnMM1lx-",
        "colab_type": "code",
        "colab": {},
        "outputId": "6afba488-1064-41b0-9cf9-fdc6e34a530c"
      },
      "source": [
        "model = RandomForestClassifier(random_state=12345, n_estimators=200)\n",
        "model.fit(df_train_features, df_train_target)"
      ],
      "execution_count": null,
      "outputs": [
        {
          "output_type": "execute_result",
          "data": {
            "text/plain": [
              "RandomForestClassifier(bootstrap=True, class_weight=None, criterion='gini',\n",
              "                       max_depth=None, max_features='auto', max_leaf_nodes=None,\n",
              "                       min_impurity_decrease=0.0, min_impurity_split=None,\n",
              "                       min_samples_leaf=1, min_samples_split=2,\n",
              "                       min_weight_fraction_leaf=0.0, n_estimators=200,\n",
              "                       n_jobs=None, oob_score=False, random_state=12345,\n",
              "                       verbose=0, warm_start=False)"
            ]
          },
          "metadata": {
            "tags": []
          },
          "execution_count": 38
        }
      ]
    },
    {
      "cell_type": "code",
      "metadata": {
        "id": "tWc4Z3ff1lyM",
        "colab_type": "code",
        "colab": {},
        "outputId": "a7e04d20-a68c-495a-c081-0205d8e2aa09"
      },
      "source": [
        "model.score(df_test_features, df_test_target)"
      ],
      "execution_count": null,
      "outputs": [
        {
          "output_type": "execute_result",
          "data": {
            "text/plain": [
              "0.7869362363919129"
            ]
          },
          "metadata": {
            "tags": []
          },
          "execution_count": 39
        }
      ]
    },
    {
      "cell_type": "markdown",
      "metadata": {
        "id": "72LMqqOw1lyc",
        "colab_type": "text"
      },
      "source": [
        "### This is a pretty good accuracy for the test set. It is accurate about 78.7% of the time."
      ]
    },
    {
      "cell_type": "markdown",
      "metadata": {
        "id": "zxfJZXOW1lyd",
        "colab_type": "text"
      },
      "source": [
        "## 5) Additional task: sanity check the model. This data is more complex than what you’re used to working with, so it’s okay if it doesn’t work out. We'll take a closer look at it later. "
      ]
    },
    {
      "cell_type": "code",
      "metadata": {
        "id": "AJuTEEa_1lye",
        "colab_type": "code",
        "colab": {},
        "outputId": "0654a0cf-70ad-438b-a4a9-49c0020d3a7c"
      },
      "source": [
        "model.score(df_test_features, df_test_target)"
      ],
      "execution_count": null,
      "outputs": [
        {
          "output_type": "execute_result",
          "data": {
            "text/plain": [
              "0.7869362363919129"
            ]
          },
          "metadata": {
            "tags": []
          },
          "execution_count": 40
        }
      ]
    },
    {
      "cell_type": "code",
      "metadata": {
        "id": "od4xhw261lyo",
        "colab_type": "code",
        "colab": {},
        "outputId": "88824645-4dbc-4834-f92a-519c430eb34a"
      },
      "source": [
        "df['is_ultra'].unique()"
      ],
      "execution_count": null,
      "outputs": [
        {
          "output_type": "execute_result",
          "data": {
            "text/plain": [
              "array([0, 1])"
            ]
          },
          "metadata": {
            "tags": []
          },
          "execution_count": 41
        }
      ]
    },
    {
      "cell_type": "code",
      "metadata": {
        "id": "oz-5wSnL1lyv",
        "colab_type": "code",
        "colab": {}
      },
      "source": [
        "import numpy as np\n",
        "choices = [0,1]\n",
        "random_predictions = np.random.choice(choices, size=len(df_test_target))\n",
        "accuracy = accuracy_score(df_test_target, random_predictions)"
      ],
      "execution_count": null,
      "outputs": []
    },
    {
      "cell_type": "code",
      "metadata": {
        "id": "_YvdL0SF1ly4",
        "colab_type": "code",
        "colab": {},
        "outputId": "6b12c6a8-1808-425d-c6a3-cbd93429fb59"
      },
      "source": [
        "accuracy"
      ],
      "execution_count": null,
      "outputs": [
        {
          "output_type": "execute_result",
          "data": {
            "text/plain": [
              "0.5241057542768274"
            ]
          },
          "metadata": {
            "tags": []
          },
          "execution_count": 43
        }
      ]
    },
    {
      "cell_type": "code",
      "metadata": {
        "id": "teRaP5Qa1lzR",
        "colab_type": "code",
        "colab": {},
        "outputId": "44aa7d05-5aae-4f17-a328-64f0df7ec2f0"
      },
      "source": [
        "## extra code\n",
        "\n",
        "zero_predictions = np.zeros(len(df_test_target))\n",
        "accuracy = accuracy_score(df_test_target, zero_predictions)\n",
        "accuracy"
      ],
      "execution_count": null,
      "outputs": [
        {
          "output_type": "execute_result",
          "data": {
            "text/plain": [
              "0.6842923794712286"
            ]
          },
          "metadata": {
            "tags": []
          },
          "execution_count": 57
        }
      ]
    },
    {
      "cell_type": "markdown",
      "metadata": {
        "id": "g0d0VQbo1lzg",
        "colab_type": "text"
      },
      "source": [
        "### My model performs better than chance so it passes the sanity check."
      ]
    }
  ]
}