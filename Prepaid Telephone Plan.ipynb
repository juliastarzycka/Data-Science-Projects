{
  "nbformat": 4,
  "nbformat_minor": 0,
  "metadata": {
    "kernelspec": {
      "display_name": "Python 3",
      "language": "python",
      "name": "python3"
    },
    "language_info": {
      "codemirror_mode": {
        "name": "ipython",
        "version": 3
      },
      "file_extension": ".py",
      "mimetype": "text/x-python",
      "name": "python",
      "nbconvert_exporter": "python",
      "pygments_lexer": "ipython3",
      "version": "3.7.6"
    },
    "colab": {
      "name": "Prepaid Telephone Plan.ipynb",
      "provenance": []
    }
  },
  "cells": [
    {
      "cell_type": "markdown",
      "metadata": {
        "id": "sIS6pyia2jPb",
        "colab_type": "text"
      },
      "source": [
        "#### You work as an analyst for the telecom operator Megaline. The company offers its clients two prepaid plans, Surf and Ultimate. The commercial department wants to know which of the plans is more profitable in order to adjust the advertising budget. You are going to carry out a preliminary analysis of the plans based on a relatively small client selection. You'll have the data on 500 Megaline clients: who the clients are, where they're from, which plan they use, and the number of calls they made and text messages they sent in 2018. Your job is to analyze clients' behavior and determine which prepaid plan is more profitable."
      ]
    },
    {
      "cell_type": "markdown",
      "metadata": {
        "id": "zocrA2ru2jPd",
        "colab_type": "text"
      },
      "source": [
        "#### Description of the plans\n",
        "\n",
        "#### Surf\n",
        "#### Monthly charge: 20 dollars\n",
        "#### 500 monthly minutes, 50 texts, and 15 GB of data\n",
        "#### After exceeding the package limits: 1. 1 minute: 3 cents (Megaline always rounds up the minute and megabyte values. If the call lasted just one second, it will be counted as one minute, and if one megabyte of data was used, it will be counted as one gigabyte) 2. 1 text message: 3 cents 3. 1 GB of data: 10 dollars\n",
        "\n",
        "#### Ultimate\n",
        "#### Monthly charge: 70 dollars\n",
        "#### 3000 monthly minutes, 1000 text messages, and 30 GB of data\n",
        "#### After exceeding the package limits: 1. 1 minute: 1 cent 2. 1 text message: 1 cent 3. 1 GB of data: 7 dollars\n"
      ]
    },
    {
      "cell_type": "markdown",
      "metadata": {
        "id": "akZjLCmn2jPf",
        "colab_type": "text"
      },
      "source": [
        "Description of the data\n",
        "\n",
        "The users table (data on users):\n",
        "user_id — unique user identifier\n",
        "first_name — user's name\n",
        "last_name — user's last name\n",
        "age — user's age (years)\n",
        "reg_date — subscription date (dd, mm, yy)\n",
        "churn_date — the date the user stopped using the service (if the value is missing, the calling plan was being used when this data was generated)\n",
        "city — user's city of residence\n",
        "plan — calling plan name\n",
        "\n",
        "The calls table (data on calls):\n",
        "id — unique call identifier\n",
        "call_date — call date\n",
        "duration — call duration (in minutes)\n",
        "user_id — the identifier of the user making the call\n",
        "\n",
        "The messages table (data on texts):\n",
        "id — unique text message identifier\n",
        "message_date — text message date\n",
        "user_id — the identifier of the user sending the text\n",
        "\n",
        "The internet table (data on web sessions):\n",
        "id — unique session identifier\n",
        "mb_used — the volume of data spent during the session (in megabytes)\n",
        "session_date — web session date\n",
        "user_id — user identifier\n",
        "\n",
        "The plans table (data on the plans):\n",
        "plan_name — calling plan name\n",
        "usd_monthly_fee — monthly charge in US dollars\n",
        "minutes_included — monthly minute allowance\n",
        "messages_included — monthly text allowance\n",
        "mb_per_month_included — data volume allowance (in megabytes)\n",
        "usd_per_minute — price per minute after exceeding the package limits (e.g., if the package includes 100 minutes, the 101st minute will be charged)\n",
        "usd_per_message — price per text after exceeding the package limits\n",
        "usd_per_gb — price per extra gigabyte of data after exceeding the package limits (1 GB = 1024 megabytes)\n"
      ]
    },
    {
      "cell_type": "markdown",
      "metadata": {
        "id": "jfBiM-Ii2jPh",
        "colab_type": "text"
      },
      "source": [
        "## Step 1. Open the data file and study the general information"
      ]
    },
    {
      "cell_type": "code",
      "metadata": {
        "id": "JUSu5u_32jPk",
        "colab_type": "code",
        "colab": {}
      },
      "source": [
        "import pandas as pd"
      ],
      "execution_count": null,
      "outputs": []
    },
    {
      "cell_type": "code",
      "metadata": {
        "id": "QF5Qmasz2jPy",
        "colab_type": "code",
        "colab": {}
      },
      "source": [
        "users = pd.read_csv('/datasets/megaline_users.csv')"
      ],
      "execution_count": null,
      "outputs": []
    },
    {
      "cell_type": "code",
      "metadata": {
        "id": "3mfi40eB2jP7",
        "colab_type": "code",
        "colab": {},
        "outputId": "0261ae2c-dd45-4f5a-a306-de899dbfdf23"
      },
      "source": [
        "print(users.head())"
      ],
      "execution_count": null,
      "outputs": [
        {
          "output_type": "stream",
          "text": [
            "   user_id first_name  last_name  age                                   city  \\\n",
            "0     1000   Anamaria      Bauer   45  Atlanta-Sandy Springs-Roswell, GA MSA   \n",
            "1     1001     Mickey  Wilkerson   28        Seattle-Tacoma-Bellevue, WA MSA   \n",
            "2     1002     Carlee    Hoffman   36   Las Vegas-Henderson-Paradise, NV MSA   \n",
            "3     1003   Reynaldo    Jenkins   52                          Tulsa, OK MSA   \n",
            "4     1004    Leonila   Thompson   40        Seattle-Tacoma-Bellevue, WA MSA   \n",
            "\n",
            "     reg_date    tariff churn_date  \n",
            "0  2018-12-24  ultimate        NaN  \n",
            "1  2018-08-13      surf        NaN  \n",
            "2  2018-10-21      surf        NaN  \n",
            "3  2018-01-28      surf        NaN  \n",
            "4  2018-05-23      surf        NaN  \n"
          ],
          "name": "stdout"
        }
      ]
    },
    {
      "cell_type": "code",
      "metadata": {
        "id": "0YFN_aOl2jQO",
        "colab_type": "code",
        "colab": {},
        "outputId": "5d6522d2-830b-451d-d472-6f3340a427ee"
      },
      "source": [
        "users.info()"
      ],
      "execution_count": null,
      "outputs": [
        {
          "output_type": "stream",
          "text": [
            "<class 'pandas.core.frame.DataFrame'>\n",
            "RangeIndex: 500 entries, 0 to 499\n",
            "Data columns (total 8 columns):\n",
            "user_id       500 non-null int64\n",
            "first_name    500 non-null object\n",
            "last_name     500 non-null object\n",
            "age           500 non-null int64\n",
            "city          500 non-null object\n",
            "reg_date      500 non-null object\n",
            "tariff        500 non-null object\n",
            "churn_date    34 non-null object\n",
            "dtypes: int64(2), object(6)\n",
            "memory usage: 31.4+ KB\n"
          ],
          "name": "stdout"
        }
      ]
    },
    {
      "cell_type": "code",
      "metadata": {
        "id": "O7Q44xpQ2jQZ",
        "colab_type": "code",
        "colab": {}
      },
      "source": [
        "calls = pd.read_csv('/datasets/megaline_calls.csv')"
      ],
      "execution_count": null,
      "outputs": []
    },
    {
      "cell_type": "code",
      "metadata": {
        "id": "lEhFqOkt2jQq",
        "colab_type": "code",
        "colab": {},
        "outputId": "9abb1333-7812-4e24-e661-1523c28c3e7f"
      },
      "source": [
        "print(calls.head())"
      ],
      "execution_count": null,
      "outputs": [
        {
          "output_type": "stream",
          "text": [
            "         id  user_id   call_date  duration\n",
            "0   1000_93     1000  2018-12-27      8.52\n",
            "1  1000_145     1000  2018-12-27     13.66\n",
            "2  1000_247     1000  2018-12-27     14.48\n",
            "3  1000_309     1000  2018-12-28      5.76\n",
            "4  1000_380     1000  2018-12-30      4.22\n"
          ],
          "name": "stdout"
        }
      ]
    },
    {
      "cell_type": "code",
      "metadata": {
        "id": "p-ZkEqsL2jRE",
        "colab_type": "code",
        "colab": {},
        "outputId": "b5c398ef-1b59-4966-ca9d-24db327472cd"
      },
      "source": [
        "calls.info()"
      ],
      "execution_count": null,
      "outputs": [
        {
          "output_type": "stream",
          "text": [
            "<class 'pandas.core.frame.DataFrame'>\n",
            "RangeIndex: 137735 entries, 0 to 137734\n",
            "Data columns (total 4 columns):\n",
            "id           137735 non-null object\n",
            "user_id      137735 non-null int64\n",
            "call_date    137735 non-null object\n",
            "duration     137735 non-null float64\n",
            "dtypes: float64(1), int64(1), object(2)\n",
            "memory usage: 4.2+ MB\n"
          ],
          "name": "stdout"
        }
      ]
    },
    {
      "cell_type": "code",
      "metadata": {
        "id": "KZsW-7rh2jRQ",
        "colab_type": "code",
        "colab": {}
      },
      "source": [
        "messages = pd.read_csv('/datasets/megaline_messages.csv')"
      ],
      "execution_count": null,
      "outputs": []
    },
    {
      "cell_type": "code",
      "metadata": {
        "id": "Fax8C4sw2jRb",
        "colab_type": "code",
        "colab": {},
        "outputId": "c782295a-b249-467f-8416-c42d042721b8"
      },
      "source": [
        "print(messages.head())"
      ],
      "execution_count": null,
      "outputs": [
        {
          "output_type": "stream",
          "text": [
            "         id  user_id message_date\n",
            "0  1000_125     1000   2018-12-27\n",
            "1  1000_160     1000   2018-12-31\n",
            "2  1000_223     1000   2018-12-31\n",
            "3  1000_251     1000   2018-12-27\n",
            "4  1000_255     1000   2018-12-26\n"
          ],
          "name": "stdout"
        }
      ]
    },
    {
      "cell_type": "code",
      "metadata": {
        "id": "CYJvZfjU2jRn",
        "colab_type": "code",
        "colab": {},
        "outputId": "9210e1e2-9a99-472b-fd6d-6d7f331feefc"
      },
      "source": [
        "messages.info()"
      ],
      "execution_count": null,
      "outputs": [
        {
          "output_type": "stream",
          "text": [
            "<class 'pandas.core.frame.DataFrame'>\n",
            "RangeIndex: 76051 entries, 0 to 76050\n",
            "Data columns (total 3 columns):\n",
            "id              76051 non-null object\n",
            "user_id         76051 non-null int64\n",
            "message_date    76051 non-null object\n",
            "dtypes: int64(1), object(2)\n",
            "memory usage: 1.7+ MB\n"
          ],
          "name": "stdout"
        }
      ]
    },
    {
      "cell_type": "code",
      "metadata": {
        "id": "XO8L0nIk2jRz",
        "colab_type": "code",
        "colab": {}
      },
      "source": [
        "internet = pd.read_csv('/datasets/megaline_internet.csv')"
      ],
      "execution_count": null,
      "outputs": []
    },
    {
      "cell_type": "code",
      "metadata": {
        "id": "E82awz862jR9",
        "colab_type": "code",
        "colab": {},
        "outputId": "4ad187d1-a766-4fb4-baa0-e81379bb9a22"
      },
      "source": [
        "print(internet.head())"
      ],
      "execution_count": null,
      "outputs": [
        {
          "output_type": "stream",
          "text": [
            "         id  user_id session_date  mb_used\n",
            "0   1000_13     1000   2018-12-29    89.86\n",
            "1  1000_204     1000   2018-12-31     0.00\n",
            "2  1000_379     1000   2018-12-28   660.40\n",
            "3  1000_413     1000   2018-12-26   270.99\n",
            "4  1000_442     1000   2018-12-27   880.22\n"
          ],
          "name": "stdout"
        }
      ]
    },
    {
      "cell_type": "code",
      "metadata": {
        "id": "MxD9zKVP2jSO",
        "colab_type": "code",
        "colab": {},
        "outputId": "471286e7-5372-40e1-f199-e0dd4db2689f"
      },
      "source": [
        "internet.info()"
      ],
      "execution_count": null,
      "outputs": [
        {
          "output_type": "stream",
          "text": [
            "<class 'pandas.core.frame.DataFrame'>\n",
            "RangeIndex: 104825 entries, 0 to 104824\n",
            "Data columns (total 4 columns):\n",
            "id              104825 non-null object\n",
            "user_id         104825 non-null int64\n",
            "session_date    104825 non-null object\n",
            "mb_used         104825 non-null float64\n",
            "dtypes: float64(1), int64(1), object(2)\n",
            "memory usage: 3.2+ MB\n"
          ],
          "name": "stdout"
        }
      ]
    },
    {
      "cell_type": "code",
      "metadata": {
        "id": "w0oxaWOm2jSa",
        "colab_type": "code",
        "colab": {}
      },
      "source": [
        "plans = pd.read_csv('/datasets/megaline_plans.csv')"
      ],
      "execution_count": null,
      "outputs": []
    },
    {
      "cell_type": "code",
      "metadata": {
        "id": "WJw5whGc2jSi",
        "colab_type": "code",
        "colab": {},
        "outputId": "b246ac1d-7ecd-4d00-ff00-2dc721b9cfaa"
      },
      "source": [
        "print(plans.head())"
      ],
      "execution_count": null,
      "outputs": [
        {
          "output_type": "stream",
          "text": [
            "   messages_included  mb_per_month_included  minutes_included  \\\n",
            "0                 50                  15360               500   \n",
            "1               1000                  30720              3000   \n",
            "\n",
            "   usd_monthly_pay  usd_per_gb  usd_per_message  usd_per_minute plan_name  \n",
            "0               20          10             0.03            0.03      surf  \n",
            "1               70           7             0.01            0.01  ultimate  \n"
          ],
          "name": "stdout"
        }
      ]
    },
    {
      "cell_type": "code",
      "metadata": {
        "id": "qbLwgUUq2jSs",
        "colab_type": "code",
        "colab": {},
        "outputId": "3f368965-92a3-4da6-9fe9-47c20f59cd58"
      },
      "source": [
        "plans.info()"
      ],
      "execution_count": null,
      "outputs": [
        {
          "output_type": "stream",
          "text": [
            "<class 'pandas.core.frame.DataFrame'>\n",
            "RangeIndex: 2 entries, 0 to 1\n",
            "Data columns (total 8 columns):\n",
            "messages_included        2 non-null int64\n",
            "mb_per_month_included    2 non-null int64\n",
            "minutes_included         2 non-null int64\n",
            "usd_monthly_pay          2 non-null int64\n",
            "usd_per_gb               2 non-null int64\n",
            "usd_per_message          2 non-null float64\n",
            "usd_per_minute           2 non-null float64\n",
            "plan_name                2 non-null object\n",
            "dtypes: float64(2), int64(5), object(1)\n",
            "memory usage: 256.0+ bytes\n"
          ],
          "name": "stdout"
        }
      ]
    },
    {
      "cell_type": "markdown",
      "metadata": {
        "id": "6yPb838s2jS_",
        "colab_type": "text"
      },
      "source": [
        "### There is missing data in the users DataFrame in the churn_date column. However, it said that if the value is missing, the calling plan was being used when this data was generated. "
      ]
    },
    {
      "cell_type": "markdown",
      "metadata": {
        "id": "0VZ4ohC22jTG",
        "colab_type": "text"
      },
      "source": [
        "## Step 2. Prepare the data"
      ]
    },
    {
      "cell_type": "markdown",
      "metadata": {
        "id": "ra4i2TzT2jTI",
        "colab_type": "text"
      },
      "source": [
        "#### Convert the data to the necessary types"
      ]
    },
    {
      "cell_type": "markdown",
      "metadata": {
        "id": "515bOWn92jTK",
        "colab_type": "text"
      },
      "source": [
        "##### users"
      ]
    },
    {
      "cell_type": "code",
      "metadata": {
        "id": "fVNVLThg2jTM",
        "colab_type": "code",
        "colab": {}
      },
      "source": [
        "users['reg_date']= pd.to_datetime(users['reg_date'], format='%Y-%m-%d')"
      ],
      "execution_count": null,
      "outputs": []
    },
    {
      "cell_type": "code",
      "metadata": {
        "id": "JV-NrGTg2jTS",
        "colab_type": "code",
        "colab": {}
      },
      "source": [
        "users['churn_date']= pd.to_datetime(users['churn_date'], format='%Y-%m-%d')"
      ],
      "execution_count": null,
      "outputs": []
    },
    {
      "cell_type": "code",
      "metadata": {
        "id": "jnmueJS62jTd",
        "colab_type": "code",
        "colab": {},
        "outputId": "2c59bda8-bd41-4bfc-8b21-7030bd0b045e"
      },
      "source": [
        "users.info()"
      ],
      "execution_count": null,
      "outputs": [
        {
          "output_type": "stream",
          "text": [
            "<class 'pandas.core.frame.DataFrame'>\n",
            "RangeIndex: 500 entries, 0 to 499\n",
            "Data columns (total 8 columns):\n",
            "user_id       500 non-null int64\n",
            "first_name    500 non-null object\n",
            "last_name     500 non-null object\n",
            "age           500 non-null int64\n",
            "city          500 non-null object\n",
            "reg_date      500 non-null datetime64[ns]\n",
            "tariff        500 non-null object\n",
            "churn_date    34 non-null datetime64[ns]\n",
            "dtypes: datetime64[ns](2), int64(2), object(4)\n",
            "memory usage: 31.4+ KB\n"
          ],
          "name": "stdout"
        }
      ]
    },
    {
      "cell_type": "code",
      "metadata": {
        "id": "fAwSk_jc2jTk",
        "colab_type": "code",
        "colab": {}
      },
      "source": [
        "users['churn_date'] = users['churn_date'].fillna('plan still in use')"
      ],
      "execution_count": null,
      "outputs": []
    },
    {
      "cell_type": "code",
      "metadata": {
        "id": "FA2dIUPB2jTz",
        "colab_type": "code",
        "colab": {},
        "outputId": "d7ea2806-1303-4cf5-9fcd-057609a8e850"
      },
      "source": [
        "users.info()"
      ],
      "execution_count": null,
      "outputs": [
        {
          "output_type": "stream",
          "text": [
            "<class 'pandas.core.frame.DataFrame'>\n",
            "RangeIndex: 500 entries, 0 to 499\n",
            "Data columns (total 8 columns):\n",
            "user_id       500 non-null int64\n",
            "first_name    500 non-null object\n",
            "last_name     500 non-null object\n",
            "age           500 non-null int64\n",
            "city          500 non-null object\n",
            "reg_date      500 non-null datetime64[ns]\n",
            "tariff        500 non-null object\n",
            "churn_date    500 non-null object\n",
            "dtypes: datetime64[ns](1), int64(2), object(5)\n",
            "memory usage: 31.4+ KB\n"
          ],
          "name": "stdout"
        }
      ]
    },
    {
      "cell_type": "markdown",
      "metadata": {
        "id": "qlYqLGHY2jT9",
        "colab_type": "text"
      },
      "source": [
        "<div class=\"alert alert-success\" role=\"alert\">\n",
        "Good work with missed values\n",
        "</div>\n"
      ]
    },
    {
      "cell_type": "markdown",
      "metadata": {
        "id": "2YmXHO7_2jT_",
        "colab_type": "text"
      },
      "source": [
        "##### calls"
      ]
    },
    {
      "cell_type": "code",
      "metadata": {
        "id": "QjIzA9Eq2jUA",
        "colab_type": "code",
        "colab": {}
      },
      "source": [
        "calls['id']= calls['id'].astype('int')"
      ],
      "execution_count": null,
      "outputs": []
    },
    {
      "cell_type": "code",
      "metadata": {
        "id": "-lH3JRko2jUP",
        "colab_type": "code",
        "colab": {}
      },
      "source": [
        "calls['call_date']= pd.to_datetime(calls['call_date'], format='%Y-%m-%d')"
      ],
      "execution_count": null,
      "outputs": []
    },
    {
      "cell_type": "code",
      "metadata": {
        "id": "tbTHYiqv2jUY",
        "colab_type": "code",
        "colab": {}
      },
      "source": [
        "import numpy as np"
      ],
      "execution_count": null,
      "outputs": []
    },
    {
      "cell_type": "code",
      "metadata": {
        "id": "iHlw6PL-2jUi",
        "colab_type": "code",
        "colab": {}
      },
      "source": [
        "calls['duration'] = np.ceil(calls['duration'])"
      ],
      "execution_count": null,
      "outputs": []
    },
    {
      "cell_type": "code",
      "metadata": {
        "id": "3s9rZ2xb2jUp",
        "colab_type": "code",
        "colab": {},
        "outputId": "cf221186-9e2a-4a36-b9a2-3cbc27e91c89"
      },
      "source": [
        "calls.info()"
      ],
      "execution_count": null,
      "outputs": [
        {
          "output_type": "stream",
          "text": [
            "<class 'pandas.core.frame.DataFrame'>\n",
            "RangeIndex: 137735 entries, 0 to 137734\n",
            "Data columns (total 4 columns):\n",
            "id           137735 non-null int64\n",
            "user_id      137735 non-null int64\n",
            "call_date    137735 non-null datetime64[ns]\n",
            "duration     137735 non-null float64\n",
            "dtypes: datetime64[ns](1), float64(1), int64(2)\n",
            "memory usage: 4.2 MB\n"
          ],
          "name": "stdout"
        }
      ]
    },
    {
      "cell_type": "code",
      "metadata": {
        "id": "L-HUgxEv2jUx",
        "colab_type": "code",
        "colab": {},
        "outputId": "a1d3d1d3-a374-4092-a762-6db1a3971f00"
      },
      "source": [
        "calls.head()"
      ],
      "execution_count": null,
      "outputs": [
        {
          "output_type": "execute_result",
          "data": {
            "text/html": [
              "<div>\n",
              "<style scoped>\n",
              "    .dataframe tbody tr th:only-of-type {\n",
              "        vertical-align: middle;\n",
              "    }\n",
              "\n",
              "    .dataframe tbody tr th {\n",
              "        vertical-align: top;\n",
              "    }\n",
              "\n",
              "    .dataframe thead th {\n",
              "        text-align: right;\n",
              "    }\n",
              "</style>\n",
              "<table border=\"1\" class=\"dataframe\">\n",
              "  <thead>\n",
              "    <tr style=\"text-align: right;\">\n",
              "      <th></th>\n",
              "      <th>id</th>\n",
              "      <th>user_id</th>\n",
              "      <th>call_date</th>\n",
              "      <th>duration</th>\n",
              "    </tr>\n",
              "  </thead>\n",
              "  <tbody>\n",
              "    <tr>\n",
              "      <td>0</td>\n",
              "      <td>100093</td>\n",
              "      <td>1000</td>\n",
              "      <td>2018-12-27</td>\n",
              "      <td>9.0</td>\n",
              "    </tr>\n",
              "    <tr>\n",
              "      <td>1</td>\n",
              "      <td>1000145</td>\n",
              "      <td>1000</td>\n",
              "      <td>2018-12-27</td>\n",
              "      <td>14.0</td>\n",
              "    </tr>\n",
              "    <tr>\n",
              "      <td>2</td>\n",
              "      <td>1000247</td>\n",
              "      <td>1000</td>\n",
              "      <td>2018-12-27</td>\n",
              "      <td>15.0</td>\n",
              "    </tr>\n",
              "    <tr>\n",
              "      <td>3</td>\n",
              "      <td>1000309</td>\n",
              "      <td>1000</td>\n",
              "      <td>2018-12-28</td>\n",
              "      <td>6.0</td>\n",
              "    </tr>\n",
              "    <tr>\n",
              "      <td>4</td>\n",
              "      <td>1000380</td>\n",
              "      <td>1000</td>\n",
              "      <td>2018-12-30</td>\n",
              "      <td>5.0</td>\n",
              "    </tr>\n",
              "  </tbody>\n",
              "</table>\n",
              "</div>"
            ],
            "text/plain": [
              "        id  user_id  call_date  duration\n",
              "0   100093     1000 2018-12-27       9.0\n",
              "1  1000145     1000 2018-12-27      14.0\n",
              "2  1000247     1000 2018-12-27      15.0\n",
              "3  1000309     1000 2018-12-28       6.0\n",
              "4  1000380     1000 2018-12-30       5.0"
            ]
          },
          "metadata": {
            "tags": []
          },
          "execution_count": 138
        }
      ]
    },
    {
      "cell_type": "markdown",
      "metadata": {
        "id": "I8SWcwsb2jVA",
        "colab_type": "text"
      },
      "source": [
        "##### messages"
      ]
    },
    {
      "cell_type": "code",
      "metadata": {
        "id": "ome2EBhW2jVC",
        "colab_type": "code",
        "colab": {}
      },
      "source": [
        "messages['id']= messages['id'].astype('int')"
      ],
      "execution_count": null,
      "outputs": []
    },
    {
      "cell_type": "code",
      "metadata": {
        "id": "MWNeULGf2jVL",
        "colab_type": "code",
        "colab": {}
      },
      "source": [
        "messages['message_date']= pd.to_datetime(messages['message_date'], format='%Y-%m-%d')"
      ],
      "execution_count": null,
      "outputs": []
    },
    {
      "cell_type": "code",
      "metadata": {
        "id": "vqUz7QEq2jVS",
        "colab_type": "code",
        "colab": {},
        "outputId": "37b1a87c-86ed-44ee-d41c-f3b3b8b6b6c1"
      },
      "source": [
        "messages.info()"
      ],
      "execution_count": null,
      "outputs": [
        {
          "output_type": "stream",
          "text": [
            "<class 'pandas.core.frame.DataFrame'>\n",
            "RangeIndex: 76051 entries, 0 to 76050\n",
            "Data columns (total 3 columns):\n",
            "id              76051 non-null int64\n",
            "user_id         76051 non-null int64\n",
            "message_date    76051 non-null datetime64[ns]\n",
            "dtypes: datetime64[ns](1), int64(2)\n",
            "memory usage: 1.7 MB\n"
          ],
          "name": "stdout"
        }
      ]
    },
    {
      "cell_type": "markdown",
      "metadata": {
        "id": "P5AxgxYM2jVZ",
        "colab_type": "text"
      },
      "source": [
        "##### internet"
      ]
    },
    {
      "cell_type": "code",
      "metadata": {
        "id": "f2LD2AiO2jVa",
        "colab_type": "code",
        "colab": {}
      },
      "source": [
        "internet['id']= internet['id'].astype('int')"
      ],
      "execution_count": null,
      "outputs": []
    },
    {
      "cell_type": "code",
      "metadata": {
        "id": "hnSCOnX22jVh",
        "colab_type": "code",
        "colab": {}
      },
      "source": [
        "internet['session_date']= pd.to_datetime(internet['session_date'], format='%Y-%m-%d')"
      ],
      "execution_count": null,
      "outputs": []
    },
    {
      "cell_type": "code",
      "metadata": {
        "id": "2SWsaAoY2jVo",
        "colab_type": "code",
        "colab": {}
      },
      "source": [
        "internet['mb_used'] = np.ceil(internet['mb_used'])"
      ],
      "execution_count": null,
      "outputs": []
    },
    {
      "cell_type": "code",
      "metadata": {
        "id": "BSzg7ZNT2jV2",
        "colab_type": "code",
        "colab": {},
        "outputId": "ca9ff2bd-673c-475e-8bce-9d5a13f1e253"
      },
      "source": [
        "internet.info()"
      ],
      "execution_count": null,
      "outputs": [
        {
          "output_type": "stream",
          "text": [
            "<class 'pandas.core.frame.DataFrame'>\n",
            "RangeIndex: 104825 entries, 0 to 104824\n",
            "Data columns (total 4 columns):\n",
            "id              104825 non-null int64\n",
            "user_id         104825 non-null int64\n",
            "session_date    104825 non-null datetime64[ns]\n",
            "mb_used         104825 non-null float64\n",
            "dtypes: datetime64[ns](1), float64(1), int64(2)\n",
            "memory usage: 3.2 MB\n"
          ],
          "name": "stdout"
        }
      ]
    },
    {
      "cell_type": "code",
      "metadata": {
        "id": "xrEl7fMM2jV9",
        "colab_type": "code",
        "colab": {},
        "outputId": "3e264a2f-eeca-4755-dc7c-2b22ed9d711d"
      },
      "source": [
        "internet.head()"
      ],
      "execution_count": null,
      "outputs": [
        {
          "output_type": "execute_result",
          "data": {
            "text/html": [
              "<div>\n",
              "<style scoped>\n",
              "    .dataframe tbody tr th:only-of-type {\n",
              "        vertical-align: middle;\n",
              "    }\n",
              "\n",
              "    .dataframe tbody tr th {\n",
              "        vertical-align: top;\n",
              "    }\n",
              "\n",
              "    .dataframe thead th {\n",
              "        text-align: right;\n",
              "    }\n",
              "</style>\n",
              "<table border=\"1\" class=\"dataframe\">\n",
              "  <thead>\n",
              "    <tr style=\"text-align: right;\">\n",
              "      <th></th>\n",
              "      <th>id</th>\n",
              "      <th>user_id</th>\n",
              "      <th>session_date</th>\n",
              "      <th>mb_used</th>\n",
              "    </tr>\n",
              "  </thead>\n",
              "  <tbody>\n",
              "    <tr>\n",
              "      <td>0</td>\n",
              "      <td>100013</td>\n",
              "      <td>1000</td>\n",
              "      <td>2018-12-29</td>\n",
              "      <td>90.0</td>\n",
              "    </tr>\n",
              "    <tr>\n",
              "      <td>1</td>\n",
              "      <td>1000204</td>\n",
              "      <td>1000</td>\n",
              "      <td>2018-12-31</td>\n",
              "      <td>0.0</td>\n",
              "    </tr>\n",
              "    <tr>\n",
              "      <td>2</td>\n",
              "      <td>1000379</td>\n",
              "      <td>1000</td>\n",
              "      <td>2018-12-28</td>\n",
              "      <td>661.0</td>\n",
              "    </tr>\n",
              "    <tr>\n",
              "      <td>3</td>\n",
              "      <td>1000413</td>\n",
              "      <td>1000</td>\n",
              "      <td>2018-12-26</td>\n",
              "      <td>271.0</td>\n",
              "    </tr>\n",
              "    <tr>\n",
              "      <td>4</td>\n",
              "      <td>1000442</td>\n",
              "      <td>1000</td>\n",
              "      <td>2018-12-27</td>\n",
              "      <td>881.0</td>\n",
              "    </tr>\n",
              "  </tbody>\n",
              "</table>\n",
              "</div>"
            ],
            "text/plain": [
              "        id  user_id session_date  mb_used\n",
              "0   100013     1000   2018-12-29     90.0\n",
              "1  1000204     1000   2018-12-31      0.0\n",
              "2  1000379     1000   2018-12-28    661.0\n",
              "3  1000413     1000   2018-12-26    271.0\n",
              "4  1000442     1000   2018-12-27    881.0"
            ]
          },
          "metadata": {
            "tags": []
          },
          "execution_count": 146
        }
      ]
    },
    {
      "cell_type": "markdown",
      "metadata": {
        "id": "J9X4R-W52jWI",
        "colab_type": "text"
      },
      "source": [
        "In the users DataFrame, I needed to change reg_date to datetime, and possibly churn_date to datetime and then filling missing values in churn_date with 'plan still in use'. In the calls DataFrame, I needed to change id to int and call_date to datetime. In the messages DataFrame, I needed to change id to int and message_date to datetime. In the internet DataFrame, I needed to change id to int and session_date to datetime. "
      ]
    },
    {
      "cell_type": "markdown",
      "metadata": {
        "id": "lQ1QJyx12jWJ",
        "colab_type": "text"
      },
      "source": [
        "#### Find and eliminate errors in the data"
      ]
    },
    {
      "cell_type": "markdown",
      "metadata": {
        "id": "bHTN2c_62jWK",
        "colab_type": "text"
      },
      "source": [
        "##### users"
      ]
    },
    {
      "cell_type": "code",
      "metadata": {
        "id": "YG2PSYme2jWM",
        "colab_type": "code",
        "colab": {},
        "outputId": "748b7e78-42cd-49d2-91cd-f5f1e4349618"
      },
      "source": [
        "users.info()"
      ],
      "execution_count": null,
      "outputs": [
        {
          "output_type": "stream",
          "text": [
            "<class 'pandas.core.frame.DataFrame'>\n",
            "RangeIndex: 500 entries, 0 to 499\n",
            "Data columns (total 8 columns):\n",
            "user_id       500 non-null int64\n",
            "first_name    500 non-null object\n",
            "last_name     500 non-null object\n",
            "age           500 non-null int64\n",
            "city          500 non-null object\n",
            "reg_date      500 non-null datetime64[ns]\n",
            "tariff        500 non-null object\n",
            "churn_date    500 non-null object\n",
            "dtypes: datetime64[ns](1), int64(2), object(5)\n",
            "memory usage: 31.4+ KB\n"
          ],
          "name": "stdout"
        }
      ]
    },
    {
      "cell_type": "code",
      "metadata": {
        "id": "XPgc0xtF2jWc",
        "colab_type": "code",
        "colab": {},
        "outputId": "c538ceb9-c161-4215-b0bd-8bb395ec1b45"
      },
      "source": [
        "users['user_id'].min()"
      ],
      "execution_count": null,
      "outputs": [
        {
          "output_type": "execute_result",
          "data": {
            "text/plain": [
              "1000"
            ]
          },
          "metadata": {
            "tags": []
          },
          "execution_count": 148
        }
      ]
    },
    {
      "cell_type": "code",
      "metadata": {
        "id": "ldBIYb2g2jWq",
        "colab_type": "code",
        "colab": {},
        "outputId": "ee42db93-0431-4450-b2c9-495debcca12f"
      },
      "source": [
        "users['user_id'].max()"
      ],
      "execution_count": null,
      "outputs": [
        {
          "output_type": "execute_result",
          "data": {
            "text/plain": [
              "1499"
            ]
          },
          "metadata": {
            "tags": []
          },
          "execution_count": 149
        }
      ]
    },
    {
      "cell_type": "markdown",
      "metadata": {
        "id": "NC9sa7JP2jWy",
        "colab_type": "text"
      },
      "source": [
        "Everything seems fine with the users_id column. There are 500 users in this data."
      ]
    },
    {
      "cell_type": "code",
      "metadata": {
        "id": "bBk2oplu2jW0",
        "colab_type": "code",
        "colab": {},
        "outputId": "c4989b27-c3fc-46ed-fa44-577cbd95d315"
      },
      "source": [
        "print(len(users['first_name'].unique()))"
      ],
      "execution_count": null,
      "outputs": [
        {
          "output_type": "stream",
          "text": [
            "458\n"
          ],
          "name": "stdout"
        }
      ]
    },
    {
      "cell_type": "code",
      "metadata": {
        "id": "IxqOp1cv2jXO",
        "colab_type": "code",
        "colab": {}
      },
      "source": [
        "users['first_name'] = users['first_name'].str.lower()"
      ],
      "execution_count": null,
      "outputs": []
    },
    {
      "cell_type": "code",
      "metadata": {
        "id": "nqdnUlMU2jXd",
        "colab_type": "code",
        "colab": {},
        "outputId": "1c8a7f26-c3ce-47b0-92dd-4f3efaf77c53"
      },
      "source": [
        "print(len(users['first_name'].unique()))"
      ],
      "execution_count": null,
      "outputs": [
        {
          "output_type": "stream",
          "text": [
            "458\n"
          ],
          "name": "stdout"
        }
      ]
    },
    {
      "cell_type": "markdown",
      "metadata": {
        "id": "SveHFLDk2jXo",
        "colab_type": "text"
      },
      "source": [
        "Everything seems fine. There were no duplicates."
      ]
    },
    {
      "cell_type": "code",
      "metadata": {
        "id": "TB2yCMxV2jXp",
        "colab_type": "code",
        "colab": {},
        "outputId": "e1aac262-1a92-4a75-8703-2772fe232d75"
      },
      "source": [
        "print(len(users['last_name'].unique()))"
      ],
      "execution_count": null,
      "outputs": [
        {
          "output_type": "stream",
          "text": [
            "399\n"
          ],
          "name": "stdout"
        }
      ]
    },
    {
      "cell_type": "code",
      "metadata": {
        "id": "v4JC1MvX2jXv",
        "colab_type": "code",
        "colab": {}
      },
      "source": [
        "users['last_name'] = users['last_name'].str.lower()"
      ],
      "execution_count": null,
      "outputs": []
    },
    {
      "cell_type": "code",
      "metadata": {
        "id": "5B783pDD2jX3",
        "colab_type": "code",
        "colab": {},
        "outputId": "f29e817b-07ef-4f40-f3ea-b74259695285"
      },
      "source": [
        "print(len(users['last_name'].unique()))"
      ],
      "execution_count": null,
      "outputs": [
        {
          "output_type": "stream",
          "text": [
            "399\n"
          ],
          "name": "stdout"
        }
      ]
    },
    {
      "cell_type": "markdown",
      "metadata": {
        "id": "xMRv6lRh2jX9",
        "colab_type": "text"
      },
      "source": [
        "Everything seems fine. There were no duplicates. There are less unique last names than first names so some people have same last name."
      ]
    },
    {
      "cell_type": "code",
      "metadata": {
        "id": "RmXuB4zg2jX-",
        "colab_type": "code",
        "colab": {},
        "outputId": "4e641a5e-f832-4cb8-9fe8-136370dbd5e4"
      },
      "source": [
        "users['age'].min()"
      ],
      "execution_count": null,
      "outputs": [
        {
          "output_type": "execute_result",
          "data": {
            "text/plain": [
              "18"
            ]
          },
          "metadata": {
            "tags": []
          },
          "execution_count": 156
        }
      ]
    },
    {
      "cell_type": "code",
      "metadata": {
        "id": "D8SKpw8g2jYG",
        "colab_type": "code",
        "colab": {},
        "outputId": "09dcea88-7ae5-421e-ea95-7e2a4712ac5a"
      },
      "source": [
        "users['age'].max()"
      ],
      "execution_count": null,
      "outputs": [
        {
          "output_type": "execute_result",
          "data": {
            "text/plain": [
              "75"
            ]
          },
          "metadata": {
            "tags": []
          },
          "execution_count": 157
        }
      ]
    },
    {
      "cell_type": "code",
      "metadata": {
        "id": "FDiIg83f2jYO",
        "colab_type": "code",
        "colab": {},
        "outputId": "d0013d89-d3fa-4b4b-d663-783a1e4c34f6"
      },
      "source": [
        "users['age'].hist()"
      ],
      "execution_count": null,
      "outputs": [
        {
          "output_type": "execute_result",
          "data": {
            "text/plain": [
              "<matplotlib.axes._subplots.AxesSubplot at 0x7f767c30cc10>"
            ]
          },
          "metadata": {
            "tags": []
          },
          "execution_count": 158
        },
        {
          "output_type": "display_data",
          "data": {
            "image/png": "[encoded data removed]",
            "text/plain": [
              "<Figure size 432x288 with 1 Axes>"
            ]
          },
          "metadata": {
            "tags": [],
            "needs_background": "light"
          }
        }
      ]
    },
    {
      "cell_type": "markdown",
      "metadata": {
        "id": "HR0kyZEl2jYh",
        "colab_type": "text"
      },
      "source": [
        "This is a reasonable range."
      ]
    },
    {
      "cell_type": "code",
      "metadata": {
        "id": "1TCDX01D2jYl",
        "colab_type": "code",
        "colab": {},
        "outputId": "d0532479-b617-4832-e652-4559d74bb55e"
      },
      "source": [
        "print(len(users['city'].unique()))"
      ],
      "execution_count": null,
      "outputs": [
        {
          "output_type": "stream",
          "text": [
            "73\n"
          ],
          "name": "stdout"
        }
      ]
    },
    {
      "cell_type": "code",
      "metadata": {
        "id": "IU7U49qT2jYr",
        "colab_type": "code",
        "colab": {}
      },
      "source": [
        "users['city'] = users['city'].str.lower()"
      ],
      "execution_count": null,
      "outputs": []
    },
    {
      "cell_type": "code",
      "metadata": {
        "id": "EKXlD6Ax2jY6",
        "colab_type": "code",
        "colab": {},
        "outputId": "e73ce7c5-ba42-4eb6-dbdf-1755579923a4"
      },
      "source": [
        "print(len(users['city'].unique()))"
      ],
      "execution_count": null,
      "outputs": [
        {
          "output_type": "stream",
          "text": [
            "73\n"
          ],
          "name": "stdout"
        }
      ]
    },
    {
      "cell_type": "markdown",
      "metadata": {
        "id": "LkttaK-g2jZL",
        "colab_type": "text"
      },
      "source": [
        "Everything seems fine. There were no duplicates."
      ]
    },
    {
      "cell_type": "code",
      "metadata": {
        "id": "O8MuGL_i2jZV",
        "colab_type": "code",
        "colab": {},
        "outputId": "162d39d9-ada7-4bac-b3b3-2bd8ec6931ed"
      },
      "source": [
        "users['reg_date'].min()"
      ],
      "execution_count": null,
      "outputs": [
        {
          "output_type": "execute_result",
          "data": {
            "text/plain": [
              "Timestamp('2018-01-01 00:00:00')"
            ]
          },
          "metadata": {
            "tags": []
          },
          "execution_count": 162
        }
      ]
    },
    {
      "cell_type": "code",
      "metadata": {
        "id": "XGwxkuqt2jZh",
        "colab_type": "code",
        "colab": {},
        "outputId": "c2a83e50-601f-4aa3-c9d2-c30505b7312b"
      },
      "source": [
        "users['reg_date'].max()"
      ],
      "execution_count": null,
      "outputs": [
        {
          "output_type": "execute_result",
          "data": {
            "text/plain": [
              "Timestamp('2018-12-31 00:00:00')"
            ]
          },
          "metadata": {
            "tags": []
          },
          "execution_count": 163
        }
      ]
    },
    {
      "cell_type": "markdown",
      "metadata": {
        "id": "V0WbHp3a2jZr",
        "colab_type": "text"
      },
      "source": [
        "Registration date is over the course of 1 year (only 2018)."
      ]
    },
    {
      "cell_type": "code",
      "metadata": {
        "id": "e0K02Zny2jZs",
        "colab_type": "code",
        "colab": {},
        "outputId": "621ee579-443e-42c1-a176-d5a7b42bfdc0"
      },
      "source": [
        "users['tariff'].unique()"
      ],
      "execution_count": null,
      "outputs": [
        {
          "output_type": "execute_result",
          "data": {
            "text/plain": [
              "array(['ultimate', 'surf'], dtype=object)"
            ]
          },
          "metadata": {
            "tags": []
          },
          "execution_count": 164
        }
      ]
    },
    {
      "cell_type": "markdown",
      "metadata": {
        "id": "gNE5LJUo2jZz",
        "colab_type": "text"
      },
      "source": [
        "Looks good. No error."
      ]
    },
    {
      "cell_type": "code",
      "metadata": {
        "id": "9mStfa_I2jZ0",
        "colab_type": "code",
        "colab": {},
        "outputId": "ff686dff-54e7-4a3b-ad6e-3e637b97d70f"
      },
      "source": [
        "users['churn_date'].unique()"
      ],
      "execution_count": null,
      "outputs": [
        {
          "output_type": "execute_result",
          "data": {
            "text/plain": [
              "array(['plan still in use', Timestamp('2018-12-18 00:00:00'),\n",
              "       Timestamp('2018-11-16 00:00:00'), Timestamp('2018-09-07 00:00:00'),\n",
              "       Timestamp('2018-12-30 00:00:00'), Timestamp('2018-10-07 00:00:00'),\n",
              "       Timestamp('2018-12-31 00:00:00'), Timestamp('2018-11-24 00:00:00'),\n",
              "       Timestamp('2018-11-11 00:00:00'), Timestamp('2018-12-12 00:00:00'),\n",
              "       Timestamp('2018-11-14 00:00:00'), Timestamp('2018-12-27 00:00:00'),\n",
              "       Timestamp('2018-11-29 00:00:00'), Timestamp('2018-12-22 00:00:00'),\n",
              "       Timestamp('2018-11-30 00:00:00'), Timestamp('2018-10-13 00:00:00'),\n",
              "       Timestamp('2018-07-31 00:00:00'), Timestamp('2018-12-15 00:00:00'),\n",
              "       Timestamp('2018-12-19 00:00:00'), Timestamp('2018-10-03 00:00:00'),\n",
              "       Timestamp('2018-10-22 00:00:00'), Timestamp('2018-08-16 00:00:00'),\n",
              "       Timestamp('2018-12-26 00:00:00'), Timestamp('2018-09-01 00:00:00'),\n",
              "       Timestamp('2018-11-21 00:00:00'), Timestamp('2018-08-19 00:00:00'),\n",
              "       Timestamp('2018-12-10 00:00:00'), Timestamp('2018-09-17 00:00:00'),\n",
              "       Timestamp('2018-11-18 00:00:00'), Timestamp('2018-09-18 00:00:00')],\n",
              "      dtype=object)"
            ]
          },
          "metadata": {
            "tags": []
          },
          "execution_count": 165
        }
      ]
    },
    {
      "cell_type": "code",
      "metadata": {
        "id": "hRe61UaI2jaD",
        "colab_type": "code",
        "colab": {},
        "outputId": "7aa03ca1-5061-4a5b-e7d1-e12b86445d0f"
      },
      "source": [
        "users[users['churn_date'] != 'plan still in use']['churn_date'].min()"
      ],
      "execution_count": null,
      "outputs": [
        {
          "output_type": "execute_result",
          "data": {
            "text/plain": [
              "Timestamp('2018-07-31 00:00:00')"
            ]
          },
          "metadata": {
            "tags": []
          },
          "execution_count": 166
        }
      ]
    },
    {
      "cell_type": "code",
      "metadata": {
        "id": "KIqmvh7-2jaK",
        "colab_type": "code",
        "colab": {},
        "outputId": "e242406f-5fa0-4cd7-912b-5c54e861f06b"
      },
      "source": [
        "users[users['churn_date'] != 'plan still in use']['churn_date'].max()"
      ],
      "execution_count": null,
      "outputs": [
        {
          "output_type": "execute_result",
          "data": {
            "text/plain": [
              "Timestamp('2018-12-31 00:00:00')"
            ]
          },
          "metadata": {
            "tags": []
          },
          "execution_count": 167
        }
      ]
    },
    {
      "cell_type": "markdown",
      "metadata": {
        "id": "6bd7hZMu2jaU",
        "colab_type": "text"
      },
      "source": [
        "The users started to cancel plan from Aug 31 and data lasts until Dec 31 of 2018. Looks like the data only includes dates in 2018."
      ]
    },
    {
      "cell_type": "markdown",
      "metadata": {
        "id": "tzSi-xgL2jaW",
        "colab_type": "text"
      },
      "source": [
        "##### calls"
      ]
    },
    {
      "cell_type": "code",
      "metadata": {
        "id": "GpQVAgof2jaY",
        "colab_type": "code",
        "colab": {},
        "outputId": "531103a9-bf3b-423f-842b-0e1d611d083a"
      },
      "source": [
        "calls.info()"
      ],
      "execution_count": null,
      "outputs": [
        {
          "output_type": "stream",
          "text": [
            "<class 'pandas.core.frame.DataFrame'>\n",
            "RangeIndex: 137735 entries, 0 to 137734\n",
            "Data columns (total 4 columns):\n",
            "id           137735 non-null int64\n",
            "user_id      137735 non-null int64\n",
            "call_date    137735 non-null datetime64[ns]\n",
            "duration     137735 non-null float64\n",
            "dtypes: datetime64[ns](1), float64(1), int64(2)\n",
            "memory usage: 4.2 MB\n"
          ],
          "name": "stdout"
        }
      ]
    },
    {
      "cell_type": "code",
      "metadata": {
        "id": "AKCC0Lp32jag",
        "colab_type": "code",
        "colab": {},
        "outputId": "b05b24d5-4c68-4eb5-938d-142efcec5964"
      },
      "source": [
        "print(len(calls['id'].unique()))"
      ],
      "execution_count": null,
      "outputs": [
        {
          "output_type": "stream",
          "text": [
            "137735\n"
          ],
          "name": "stdout"
        }
      ]
    },
    {
      "cell_type": "markdown",
      "metadata": {
        "id": "_N9XvV4W2jas",
        "colab_type": "text"
      },
      "source": [
        "This is the number of calls done by this sample of users."
      ]
    },
    {
      "cell_type": "code",
      "metadata": {
        "id": "FwjR7e2O2jat",
        "colab_type": "code",
        "colab": {},
        "outputId": "bd71ae91-ba88-4a63-fe9a-413d7ff9b995"
      },
      "source": [
        "print(len(calls['user_id'].unique()))"
      ],
      "execution_count": null,
      "outputs": [
        {
          "output_type": "stream",
          "text": [
            "481\n"
          ],
          "name": "stdout"
        }
      ]
    },
    {
      "cell_type": "markdown",
      "metadata": {
        "id": "bWp82oVO2jay",
        "colab_type": "text"
      },
      "source": [
        "There were 500 users and 481 of them used calls."
      ]
    },
    {
      "cell_type": "code",
      "metadata": {
        "id": "TfMglW3d2jaz",
        "colab_type": "code",
        "colab": {},
        "outputId": "e23b0be8-b873-4694-8f2a-f83366f42e81"
      },
      "source": [
        "calls['call_date'].min()"
      ],
      "execution_count": null,
      "outputs": [
        {
          "output_type": "execute_result",
          "data": {
            "text/plain": [
              "Timestamp('2018-01-15 00:00:00')"
            ]
          },
          "metadata": {
            "tags": []
          },
          "execution_count": 171
        }
      ]
    },
    {
      "cell_type": "code",
      "metadata": {
        "id": "zBXx6n7k2ja5",
        "colab_type": "code",
        "colab": {},
        "outputId": "5319c6e7-ebde-4108-c998-dab3307fc889"
      },
      "source": [
        "calls['call_date'].max()"
      ],
      "execution_count": null,
      "outputs": [
        {
          "output_type": "execute_result",
          "data": {
            "text/plain": [
              "Timestamp('2018-12-31 00:00:00')"
            ]
          },
          "metadata": {
            "tags": []
          },
          "execution_count": 172
        }
      ]
    },
    {
      "cell_type": "markdown",
      "metadata": {
        "id": "AQRUSyj82jbC",
        "colab_type": "text"
      },
      "source": [
        "The call data also is only in 2018."
      ]
    },
    {
      "cell_type": "code",
      "metadata": {
        "id": "410Wizbo2jbD",
        "colab_type": "code",
        "colab": {},
        "outputId": "758368d7-5f79-4669-e780-98d35b307874"
      },
      "source": [
        "calls['duration'].min()"
      ],
      "execution_count": null,
      "outputs": [
        {
          "output_type": "execute_result",
          "data": {
            "text/plain": [
              "0.0"
            ]
          },
          "metadata": {
            "tags": []
          },
          "execution_count": 173
        }
      ]
    },
    {
      "cell_type": "code",
      "metadata": {
        "id": "WtbYIuPD2jbU",
        "colab_type": "code",
        "colab": {},
        "outputId": "dfcfc931-56da-4210-8c60-771b36592a86"
      },
      "source": [
        "calls['duration'].max()"
      ],
      "execution_count": null,
      "outputs": [
        {
          "output_type": "execute_result",
          "data": {
            "text/plain": [
              "38.0"
            ]
          },
          "metadata": {
            "tags": []
          },
          "execution_count": 174
        }
      ]
    },
    {
      "cell_type": "code",
      "metadata": {
        "id": "BTrzYyNm2jbZ",
        "colab_type": "code",
        "colab": {},
        "outputId": "6a572139-c20f-47d6-d59a-798fde0a7fac"
      },
      "source": [
        "calls['duration'].hist()"
      ],
      "execution_count": null,
      "outputs": [
        {
          "output_type": "execute_result",
          "data": {
            "text/plain": [
              "<matplotlib.axes._subplots.AxesSubplot at 0x7f767bcb0450>"
            ]
          },
          "metadata": {
            "tags": []
          },
          "execution_count": 175
        },
        {
          "output_type": "display_data",
          "data": {
            "image/png": "[encoded data removed]",
            "text/plain": [
              "<Figure size 432x288 with 1 Axes>"
            ]
          },
          "metadata": {
            "tags": [],
            "needs_background": "light"
          }
        }
      ]
    },
    {
      "cell_type": "code",
      "metadata": {
        "id": "-FX9eJQK2jbl",
        "colab_type": "code",
        "colab": {}
      },
      "source": [
        "zero_duration_calls = len(calls[calls['duration'] == 0]['duration'])"
      ],
      "execution_count": null,
      "outputs": []
    },
    {
      "cell_type": "code",
      "metadata": {
        "id": "lBEvwzrC2jbu",
        "colab_type": "code",
        "colab": {}
      },
      "source": [
        "total_calls = len(calls['duration'])"
      ],
      "execution_count": null,
      "outputs": []
    },
    {
      "cell_type": "code",
      "metadata": {
        "id": "NpiV7dUA2jbz",
        "colab_type": "code",
        "colab": {}
      },
      "source": [
        "share_zero_duration_calls = zero_duration_calls / total_calls"
      ],
      "execution_count": null,
      "outputs": []
    },
    {
      "cell_type": "code",
      "metadata": {
        "id": "avEJvBUP2jb4",
        "colab_type": "code",
        "colab": {},
        "outputId": "a1bf8f95-9204-4a27-e049-3ed9c3723785"
      },
      "source": [
        "print(share_zero_duration_calls)"
      ],
      "execution_count": null,
      "outputs": [
        {
          "output_type": "stream",
          "text": [
            "0.1948233927469416\n"
          ],
          "name": "stdout"
        }
      ]
    },
    {
      "cell_type": "markdown",
      "metadata": {
        "id": "acMjzOvp2jcB",
        "colab_type": "text"
      },
      "source": [
        "Zero minute duration calls are missed calls. I will leave them in the data since they make up 20% of data, which is a significant amount."
      ]
    },
    {
      "cell_type": "markdown",
      "metadata": {
        "id": "ezJBmEmO2jcC",
        "colab_type": "text"
      },
      "source": [
        "##### messages"
      ]
    },
    {
      "cell_type": "code",
      "metadata": {
        "id": "_4SaXMzs2jcD",
        "colab_type": "code",
        "colab": {},
        "outputId": "f4801a07-9199-4009-d2a0-d98b440e9130"
      },
      "source": [
        "messages.info()"
      ],
      "execution_count": null,
      "outputs": [
        {
          "output_type": "stream",
          "text": [
            "<class 'pandas.core.frame.DataFrame'>\n",
            "RangeIndex: 76051 entries, 0 to 76050\n",
            "Data columns (total 3 columns):\n",
            "id              76051 non-null int64\n",
            "user_id         76051 non-null int64\n",
            "message_date    76051 non-null datetime64[ns]\n",
            "dtypes: datetime64[ns](1), int64(2)\n",
            "memory usage: 1.7 MB\n"
          ],
          "name": "stdout"
        }
      ]
    },
    {
      "cell_type": "code",
      "metadata": {
        "id": "zRPlYhBt2jcN",
        "colab_type": "code",
        "colab": {},
        "outputId": "306b1d3b-5e56-46fe-a50d-75270634120e"
      },
      "source": [
        "print(len(messages['id'].unique()))"
      ],
      "execution_count": null,
      "outputs": [
        {
          "output_type": "stream",
          "text": [
            "76051\n"
          ],
          "name": "stdout"
        }
      ]
    },
    {
      "cell_type": "markdown",
      "metadata": {
        "id": "8diUL37Y2jcS",
        "colab_type": "text"
      },
      "source": [
        "There were this many messages sent by the 500 user sample."
      ]
    },
    {
      "cell_type": "code",
      "metadata": {
        "id": "SHO1dR1L2jcT",
        "colab_type": "code",
        "colab": {},
        "outputId": "ef53ed5a-35ca-448d-982b-514c2d348afa"
      },
      "source": [
        "print(len(messages['user_id'].unique()))"
      ],
      "execution_count": null,
      "outputs": [
        {
          "output_type": "stream",
          "text": [
            "402\n"
          ],
          "name": "stdout"
        }
      ]
    },
    {
      "cell_type": "markdown",
      "metadata": {
        "id": "6Nr1kdSS2jcY",
        "colab_type": "text"
      },
      "source": [
        "There were 500 users and 402 of them used messages."
      ]
    },
    {
      "cell_type": "code",
      "metadata": {
        "id": "ptUveWfL2jcZ",
        "colab_type": "code",
        "colab": {},
        "outputId": "0673a0ad-3a03-432e-b390-289b2ab1a765"
      },
      "source": [
        "messages['message_date'].min()"
      ],
      "execution_count": null,
      "outputs": [
        {
          "output_type": "execute_result",
          "data": {
            "text/plain": [
              "Timestamp('2018-01-15 00:00:00')"
            ]
          },
          "metadata": {
            "tags": []
          },
          "execution_count": 183
        }
      ]
    },
    {
      "cell_type": "code",
      "metadata": {
        "id": "OpcBTYaY2jcf",
        "colab_type": "code",
        "colab": {},
        "outputId": "3c59bd0b-0e31-43af-a30c-a24270898e40"
      },
      "source": [
        "messages['message_date'].max()"
      ],
      "execution_count": null,
      "outputs": [
        {
          "output_type": "execute_result",
          "data": {
            "text/plain": [
              "Timestamp('2018-12-31 00:00:00')"
            ]
          },
          "metadata": {
            "tags": []
          },
          "execution_count": 184
        }
      ]
    },
    {
      "cell_type": "markdown",
      "metadata": {
        "id": "Ab2Cr4Ro2jcn",
        "colab_type": "text"
      },
      "source": [
        "The message dates are also all in 2018. Both call and messages start on Jan 15, even though they registered on Jan 1. Maybe it takes 14 days for the service to turn on."
      ]
    },
    {
      "cell_type": "markdown",
      "metadata": {
        "id": "IbnK0eMl2jco",
        "colab_type": "text"
      },
      "source": [
        "##### internet"
      ]
    },
    {
      "cell_type": "code",
      "metadata": {
        "id": "-w6tiYzp2jcp",
        "colab_type": "code",
        "colab": {},
        "outputId": "50995160-6df9-4fce-aa5b-67c7d99cfd78"
      },
      "source": [
        "internet.info()"
      ],
      "execution_count": null,
      "outputs": [
        {
          "output_type": "stream",
          "text": [
            "<class 'pandas.core.frame.DataFrame'>\n",
            "RangeIndex: 104825 entries, 0 to 104824\n",
            "Data columns (total 4 columns):\n",
            "id              104825 non-null int64\n",
            "user_id         104825 non-null int64\n",
            "session_date    104825 non-null datetime64[ns]\n",
            "mb_used         104825 non-null float64\n",
            "dtypes: datetime64[ns](1), float64(1), int64(2)\n",
            "memory usage: 3.2 MB\n"
          ],
          "name": "stdout"
        }
      ]
    },
    {
      "cell_type": "code",
      "metadata": {
        "id": "kdUGZc6h2jc7",
        "colab_type": "code",
        "colab": {},
        "outputId": "f1b22fc2-a3f0-4ca4-f2d2-c32c5aced34a"
      },
      "source": [
        "print(len(internet['id'].unique()))"
      ],
      "execution_count": null,
      "outputs": [
        {
          "output_type": "stream",
          "text": [
            "104825\n"
          ],
          "name": "stdout"
        }
      ]
    },
    {
      "cell_type": "markdown",
      "metadata": {
        "id": "7Zi1Zmnb2jdB",
        "colab_type": "text"
      },
      "source": [
        "This is the number of times internet was used by this sample of users."
      ]
    },
    {
      "cell_type": "code",
      "metadata": {
        "id": "HF3EGhtK2jdG",
        "colab_type": "code",
        "colab": {},
        "outputId": "45601c1a-c855-4e41-f759-ab1591d0cdd9"
      },
      "source": [
        "print(len(internet['user_id'].unique()))"
      ],
      "execution_count": null,
      "outputs": [
        {
          "output_type": "stream",
          "text": [
            "489\n"
          ],
          "name": "stdout"
        }
      ]
    },
    {
      "cell_type": "markdown",
      "metadata": {
        "id": "92LZjN1L2jdL",
        "colab_type": "text"
      },
      "source": [
        "489 of the 500 users used internet in 2018."
      ]
    },
    {
      "cell_type": "code",
      "metadata": {
        "id": "EsX0sHPe2jdM",
        "colab_type": "code",
        "colab": {},
        "outputId": "8cd9f8f0-bd61-4735-ef51-a311d536abcc"
      },
      "source": [
        "internet['session_date'].min()"
      ],
      "execution_count": null,
      "outputs": [
        {
          "output_type": "execute_result",
          "data": {
            "text/plain": [
              "Timestamp('2018-01-15 00:00:00')"
            ]
          },
          "metadata": {
            "tags": []
          },
          "execution_count": 188
        }
      ]
    },
    {
      "cell_type": "code",
      "metadata": {
        "id": "qdKbAuDC2jdX",
        "colab_type": "code",
        "colab": {},
        "outputId": "007bd787-e616-460d-f13b-e0030943b609"
      },
      "source": [
        "internet['session_date'].max()"
      ],
      "execution_count": null,
      "outputs": [
        {
          "output_type": "execute_result",
          "data": {
            "text/plain": [
              "Timestamp('2018-12-31 00:00:00')"
            ]
          },
          "metadata": {
            "tags": []
          },
          "execution_count": 189
        }
      ]
    },
    {
      "cell_type": "markdown",
      "metadata": {
        "id": "EwcXag472jdb",
        "colab_type": "text"
      },
      "source": [
        "The dates are also all in 2018. Just as calls and messages, the first internet use was on Jan 15, even though the reg_date of the users was Jan 1."
      ]
    },
    {
      "cell_type": "code",
      "metadata": {
        "id": "hJrrWOIr2jdd",
        "colab_type": "code",
        "colab": {},
        "outputId": "cf6c6187-f9ac-4dbc-dd12-e329d03f2a46"
      },
      "source": [
        "internet['mb_used'].min()"
      ],
      "execution_count": null,
      "outputs": [
        {
          "output_type": "execute_result",
          "data": {
            "text/plain": [
              "0.0"
            ]
          },
          "metadata": {
            "tags": []
          },
          "execution_count": 190
        }
      ]
    },
    {
      "cell_type": "code",
      "metadata": {
        "scrolled": true,
        "id": "k0ILad5v2jdk",
        "colab_type": "code",
        "colab": {},
        "outputId": "7a19cb7a-6fbf-47f8-e945-e2c352c3a32f"
      },
      "source": [
        "internet['mb_used'].max()"
      ],
      "execution_count": null,
      "outputs": [
        {
          "output_type": "execute_result",
          "data": {
            "text/plain": [
              "1694.0"
            ]
          },
          "metadata": {
            "tags": []
          },
          "execution_count": 191
        }
      ]
    },
    {
      "cell_type": "code",
      "metadata": {
        "id": "x2XY767b2jdp",
        "colab_type": "code",
        "colab": {},
        "outputId": "4d2ba852-7d36-483c-d4e4-75d0d42f763b"
      },
      "source": [
        "print(len(internet[internet['mb_used'] == 0.0]['mb_used']))"
      ],
      "execution_count": null,
      "outputs": [
        {
          "output_type": "stream",
          "text": [
            "13747\n"
          ],
          "name": "stdout"
        }
      ]
    },
    {
      "cell_type": "code",
      "metadata": {
        "id": "RmyxHyl22jdt",
        "colab_type": "code",
        "colab": {}
      },
      "source": [
        "zero_mb_internet = len(internet[internet['mb_used'] == 0.0]['mb_used'])"
      ],
      "execution_count": null,
      "outputs": []
    },
    {
      "cell_type": "code",
      "metadata": {
        "id": "WCw29caN2jd1",
        "colab_type": "code",
        "colab": {}
      },
      "source": [
        "total_internet = len(calls['duration'])"
      ],
      "execution_count": null,
      "outputs": []
    },
    {
      "cell_type": "code",
      "metadata": {
        "id": "6oiOp8892jd6",
        "colab_type": "code",
        "colab": {}
      },
      "source": [
        "share_zero_mb = zero_mb_internet / total_internet"
      ],
      "execution_count": null,
      "outputs": []
    },
    {
      "cell_type": "code",
      "metadata": {
        "id": "m7aIc8Uq2jd_",
        "colab_type": "code",
        "colab": {},
        "outputId": "f7039f20-422e-4411-e998-26eb46786e94"
      },
      "source": [
        "print(share_zero_mb)"
      ],
      "execution_count": null,
      "outputs": [
        {
          "output_type": "stream",
          "text": [
            "0.09980760155370821\n"
          ],
          "name": "stdout"
        }
      ]
    },
    {
      "cell_type": "markdown",
      "metadata": {
        "id": "HkJFaueX2jeK",
        "colab_type": "text"
      },
      "source": [
        "This data of zero megabytes in an internet using session is confusing and should be removed. This is less than 10% of data and there is no plausible explanation like in calls where 0 duration could mean missed call."
      ]
    },
    {
      "cell_type": "code",
      "metadata": {
        "id": "GIerfiFn2jeM",
        "colab_type": "code",
        "colab": {}
      },
      "source": [
        "# internet = internet[internet['mb_used'] != 0.0]#"
      ],
      "execution_count": null,
      "outputs": []
    },
    {
      "cell_type": "code",
      "metadata": {
        "id": "ChOVml7U2jeY",
        "colab_type": "code",
        "colab": {},
        "outputId": "ab29a454-caff-4898-adc3-dab2ab55c92b"
      },
      "source": [
        "internet['mb_used'].hist()"
      ],
      "execution_count": null,
      "outputs": [
        {
          "output_type": "execute_result",
          "data": {
            "text/plain": [
              "<matplotlib.axes._subplots.AxesSubplot at 0x7f767b752f90>"
            ]
          },
          "metadata": {
            "tags": []
          },
          "execution_count": 198
        },
        {
          "output_type": "display_data",
          "data": {
            "image/png": "[encoded data removed]",
            "text/plain": [
              "<Figure size 432x288 with 1 Axes>"
            ]
          },
          "metadata": {
            "tags": [],
            "needs_background": "light"
          }
        }
      ]
    },
    {
      "cell_type": "markdown",
      "metadata": {
        "id": "97SoNhZw2jem",
        "colab_type": "text"
      },
      "source": [
        "Now the 0 mb sessions are not included."
      ]
    },
    {
      "cell_type": "markdown",
      "metadata": {
        "id": "8jCcH81E2jeq",
        "colab_type": "text"
      },
      "source": [
        "##### plans"
      ]
    },
    {
      "cell_type": "code",
      "metadata": {
        "id": "IysSsNAO2jer",
        "colab_type": "code",
        "colab": {},
        "outputId": "da2771eb-1844-4efb-efae-9167989b0674"
      },
      "source": [
        "plans.info()"
      ],
      "execution_count": null,
      "outputs": [
        {
          "output_type": "stream",
          "text": [
            "<class 'pandas.core.frame.DataFrame'>\n",
            "RangeIndex: 2 entries, 0 to 1\n",
            "Data columns (total 8 columns):\n",
            "messages_included        2 non-null int64\n",
            "mb_per_month_included    2 non-null int64\n",
            "minutes_included         2 non-null int64\n",
            "usd_monthly_pay          2 non-null int64\n",
            "usd_per_gb               2 non-null int64\n",
            "usd_per_message          2 non-null float64\n",
            "usd_per_minute           2 non-null float64\n",
            "plan_name                2 non-null object\n",
            "dtypes: float64(2), int64(5), object(1)\n",
            "memory usage: 256.0+ bytes\n"
          ],
          "name": "stdout"
        }
      ]
    },
    {
      "cell_type": "code",
      "metadata": {
        "id": "Mec60uH02jfB",
        "colab_type": "code",
        "colab": {},
        "outputId": "d1d30bf9-0549-4d4b-dcb2-9db9bc772704"
      },
      "source": [
        "print(plans.head())"
      ],
      "execution_count": null,
      "outputs": [
        {
          "output_type": "stream",
          "text": [
            "   messages_included  mb_per_month_included  minutes_included  \\\n",
            "0                 50                  15360               500   \n",
            "1               1000                  30720              3000   \n",
            "\n",
            "   usd_monthly_pay  usd_per_gb  usd_per_message  usd_per_minute plan_name  \n",
            "0               20          10             0.03            0.03      surf  \n",
            "1               70           7             0.01            0.01  ultimate  \n"
          ],
          "name": "stdout"
        }
      ]
    },
    {
      "cell_type": "markdown",
      "metadata": {
        "id": "IvMyb9LI2jfN",
        "colab_type": "text"
      },
      "source": [
        "In the mb_per_month_included column, it says surf includes 15360 and ultimate includes 30720, while in the description it says surf includes 15 GB of data while ultimate includes 30 GB of data. However, this is probably okay, since it is just rounded for the advertisement."
      ]
    },
    {
      "cell_type": "markdown",
      "metadata": {
        "id": "bRTXfVNR2jfO",
        "colab_type": "text"
      },
      "source": [
        "#### Explain what errors you found and how you removed them. Note: many calls have a duration of 0.0 minutes. These might be missed calls. Whether or not to preprocess these values is up to you; assess how much their absence would affect the results of your analysis."
      ]
    },
    {
      "cell_type": "markdown",
      "metadata": {
        "id": "5cjKffQk2jfS",
        "colab_type": "text"
      },
      "source": [
        "In the mb_used column of the internet DataFrame, there were 0.0 mb values for some sessions. I could remove these values since they consisted of less than 10% of data. \n",
        "\n",
        "In the duration column of the calls DataFrame, I did not remove the values with 0 duration since they could mean missed calls and they were about 20 percent of the data.\n"
      ]
    },
    {
      "cell_type": "markdown",
      "metadata": {
        "id": "BsSbofB_2jfW",
        "colab_type": "text"
      },
      "source": [
        "#### For each user, find the number of calls made and minutes used per month, find the number of text messages sent per month, and find the volume of data per month.\n"
      ]
    },
    {
      "cell_type": "code",
      "metadata": {
        "id": "nFHOkrZV2jfX",
        "colab_type": "code",
        "colab": {}
      },
      "source": [
        "calls['month'] = calls['call_date'].dt.month"
      ],
      "execution_count": null,
      "outputs": []
    },
    {
      "cell_type": "code",
      "metadata": {
        "id": "ky9f_g4P2jff",
        "colab_type": "code",
        "colab": {}
      },
      "source": [
        "messages['month'] = messages['message_date'].dt.month"
      ],
      "execution_count": null,
      "outputs": []
    },
    {
      "cell_type": "code",
      "metadata": {
        "id": "iBuc8XQC2jfq",
        "colab_type": "code",
        "colab": {}
      },
      "source": [
        "internet['month'] = internet['session_date'].dt.month"
      ],
      "execution_count": null,
      "outputs": []
    },
    {
      "cell_type": "code",
      "metadata": {
        "scrolled": true,
        "id": "kcYc_0FE2jfu",
        "colab_type": "code",
        "colab": {},
        "outputId": "4a3f736a-69c6-48a5-eda8-ff032bc75225"
      },
      "source": [
        "calls.info()"
      ],
      "execution_count": null,
      "outputs": [
        {
          "output_type": "stream",
          "text": [
            "<class 'pandas.core.frame.DataFrame'>\n",
            "RangeIndex: 137735 entries, 0 to 137734\n",
            "Data columns (total 5 columns):\n",
            "id           137735 non-null int64\n",
            "user_id      137735 non-null int64\n",
            "call_date    137735 non-null datetime64[ns]\n",
            "duration     137735 non-null float64\n",
            "month        137735 non-null int64\n",
            "dtypes: datetime64[ns](1), float64(1), int64(3)\n",
            "memory usage: 5.3 MB\n"
          ],
          "name": "stdout"
        }
      ]
    },
    {
      "cell_type": "code",
      "metadata": {
        "scrolled": true,
        "id": "YizrpRXZ2jfz",
        "colab_type": "code",
        "colab": {},
        "outputId": "ccab0c87-c573-4000-afe0-38dcde470839"
      },
      "source": [
        "# extra code\n",
        "\n",
        "calls_pivoted = calls.pivot_table(index=['user_id', 'month'], values='duration', aggfunc='sum').reset_index()\n",
        "agg = users.merge(calls_pivoted, on='user_id', how=\"outer\")\n",
        "agg\n"
      ],
      "execution_count": null,
      "outputs": [
        {
          "output_type": "execute_result",
          "data": {
            "text/html": [
              "<div>\n",
              "<style scoped>\n",
              "    .dataframe tbody tr th:only-of-type {\n",
              "        vertical-align: middle;\n",
              "    }\n",
              "\n",
              "    .dataframe tbody tr th {\n",
              "        vertical-align: top;\n",
              "    }\n",
              "\n",
              "    .dataframe thead th {\n",
              "        text-align: right;\n",
              "    }\n",
              "</style>\n",
              "<table border=\"1\" class=\"dataframe\">\n",
              "  <thead>\n",
              "    <tr style=\"text-align: right;\">\n",
              "      <th></th>\n",
              "      <th>user_id</th>\n",
              "      <th>first_name</th>\n",
              "      <th>last_name</th>\n",
              "      <th>age</th>\n",
              "      <th>city</th>\n",
              "      <th>reg_date</th>\n",
              "      <th>tariff</th>\n",
              "      <th>churn_date</th>\n",
              "      <th>month</th>\n",
              "      <th>duration</th>\n",
              "    </tr>\n",
              "  </thead>\n",
              "  <tbody>\n",
              "    <tr>\n",
              "      <td>0</td>\n",
              "      <td>1000</td>\n",
              "      <td>anamaria</td>\n",
              "      <td>bauer</td>\n",
              "      <td>45</td>\n",
              "      <td>atlanta-sandy springs-roswell, ga msa</td>\n",
              "      <td>2018-12-24</td>\n",
              "      <td>ultimate</td>\n",
              "      <td>plan still in use</td>\n",
              "      <td>12.0</td>\n",
              "      <td>124.0</td>\n",
              "    </tr>\n",
              "    <tr>\n",
              "      <td>1</td>\n",
              "      <td>1001</td>\n",
              "      <td>mickey</td>\n",
              "      <td>wilkerson</td>\n",
              "      <td>28</td>\n",
              "      <td>seattle-tacoma-bellevue, wa msa</td>\n",
              "      <td>2018-08-13</td>\n",
              "      <td>surf</td>\n",
              "      <td>plan still in use</td>\n",
              "      <td>8.0</td>\n",
              "      <td>182.0</td>\n",
              "    </tr>\n",
              "    <tr>\n",
              "      <td>2</td>\n",
              "      <td>1001</td>\n",
              "      <td>mickey</td>\n",
              "      <td>wilkerson</td>\n",
              "      <td>28</td>\n",
              "      <td>seattle-tacoma-bellevue, wa msa</td>\n",
              "      <td>2018-08-13</td>\n",
              "      <td>surf</td>\n",
              "      <td>plan still in use</td>\n",
              "      <td>9.0</td>\n",
              "      <td>315.0</td>\n",
              "    </tr>\n",
              "    <tr>\n",
              "      <td>3</td>\n",
              "      <td>1001</td>\n",
              "      <td>mickey</td>\n",
              "      <td>wilkerson</td>\n",
              "      <td>28</td>\n",
              "      <td>seattle-tacoma-bellevue, wa msa</td>\n",
              "      <td>2018-08-13</td>\n",
              "      <td>surf</td>\n",
              "      <td>plan still in use</td>\n",
              "      <td>10.0</td>\n",
              "      <td>393.0</td>\n",
              "    </tr>\n",
              "    <tr>\n",
              "      <td>4</td>\n",
              "      <td>1001</td>\n",
              "      <td>mickey</td>\n",
              "      <td>wilkerson</td>\n",
              "      <td>28</td>\n",
              "      <td>seattle-tacoma-bellevue, wa msa</td>\n",
              "      <td>2018-08-13</td>\n",
              "      <td>surf</td>\n",
              "      <td>plan still in use</td>\n",
              "      <td>11.0</td>\n",
              "      <td>426.0</td>\n",
              "    </tr>\n",
              "    <tr>\n",
              "      <td>...</td>\n",
              "      <td>...</td>\n",
              "      <td>...</td>\n",
              "      <td>...</td>\n",
              "      <td>...</td>\n",
              "      <td>...</td>\n",
              "      <td>...</td>\n",
              "      <td>...</td>\n",
              "      <td>...</td>\n",
              "      <td>...</td>\n",
              "      <td>...</td>\n",
              "    </tr>\n",
              "    <tr>\n",
              "      <td>2272</td>\n",
              "      <td>1498</td>\n",
              "      <td>scot</td>\n",
              "      <td>williamson</td>\n",
              "      <td>51</td>\n",
              "      <td>new york-newark-jersey city, ny-nj-pa msa</td>\n",
              "      <td>2018-02-04</td>\n",
              "      <td>surf</td>\n",
              "      <td>plan still in use</td>\n",
              "      <td>12.0</td>\n",
              "      <td>339.0</td>\n",
              "    </tr>\n",
              "    <tr>\n",
              "      <td>2273</td>\n",
              "      <td>1499</td>\n",
              "      <td>shena</td>\n",
              "      <td>dickson</td>\n",
              "      <td>37</td>\n",
              "      <td>orlando-kissimmee-sanford, fl msa</td>\n",
              "      <td>2018-05-06</td>\n",
              "      <td>surf</td>\n",
              "      <td>plan still in use</td>\n",
              "      <td>9.0</td>\n",
              "      <td>346.0</td>\n",
              "    </tr>\n",
              "    <tr>\n",
              "      <td>2274</td>\n",
              "      <td>1499</td>\n",
              "      <td>shena</td>\n",
              "      <td>dickson</td>\n",
              "      <td>37</td>\n",
              "      <td>orlando-kissimmee-sanford, fl msa</td>\n",
              "      <td>2018-05-06</td>\n",
              "      <td>surf</td>\n",
              "      <td>plan still in use</td>\n",
              "      <td>10.0</td>\n",
              "      <td>385.0</td>\n",
              "    </tr>\n",
              "    <tr>\n",
              "      <td>2275</td>\n",
              "      <td>1499</td>\n",
              "      <td>shena</td>\n",
              "      <td>dickson</td>\n",
              "      <td>37</td>\n",
              "      <td>orlando-kissimmee-sanford, fl msa</td>\n",
              "      <td>2018-05-06</td>\n",
              "      <td>surf</td>\n",
              "      <td>plan still in use</td>\n",
              "      <td>11.0</td>\n",
              "      <td>308.0</td>\n",
              "    </tr>\n",
              "    <tr>\n",
              "      <td>2276</td>\n",
              "      <td>1499</td>\n",
              "      <td>shena</td>\n",
              "      <td>dickson</td>\n",
              "      <td>37</td>\n",
              "      <td>orlando-kissimmee-sanford, fl msa</td>\n",
              "      <td>2018-05-06</td>\n",
              "      <td>surf</td>\n",
              "      <td>plan still in use</td>\n",
              "      <td>12.0</td>\n",
              "      <td>496.0</td>\n",
              "    </tr>\n",
              "  </tbody>\n",
              "</table>\n",
              "<p>2277 rows × 10 columns</p>\n",
              "</div>"
            ],
            "text/plain": [
              "      user_id first_name   last_name  age  \\\n",
              "0        1000   anamaria       bauer   45   \n",
              "1        1001     mickey   wilkerson   28   \n",
              "2        1001     mickey   wilkerson   28   \n",
              "3        1001     mickey   wilkerson   28   \n",
              "4        1001     mickey   wilkerson   28   \n",
              "...       ...        ...         ...  ...   \n",
              "2272     1498       scot  williamson   51   \n",
              "2273     1499      shena     dickson   37   \n",
              "2274     1499      shena     dickson   37   \n",
              "2275     1499      shena     dickson   37   \n",
              "2276     1499      shena     dickson   37   \n",
              "\n",
              "                                           city   reg_date    tariff  \\\n",
              "0         atlanta-sandy springs-roswell, ga msa 2018-12-24  ultimate   \n",
              "1               seattle-tacoma-bellevue, wa msa 2018-08-13      surf   \n",
              "2               seattle-tacoma-bellevue, wa msa 2018-08-13      surf   \n",
              "3               seattle-tacoma-bellevue, wa msa 2018-08-13      surf   \n",
              "4               seattle-tacoma-bellevue, wa msa 2018-08-13      surf   \n",
              "...                                         ...        ...       ...   \n",
              "2272  new york-newark-jersey city, ny-nj-pa msa 2018-02-04      surf   \n",
              "2273          orlando-kissimmee-sanford, fl msa 2018-05-06      surf   \n",
              "2274          orlando-kissimmee-sanford, fl msa 2018-05-06      surf   \n",
              "2275          orlando-kissimmee-sanford, fl msa 2018-05-06      surf   \n",
              "2276          orlando-kissimmee-sanford, fl msa 2018-05-06      surf   \n",
              "\n",
              "             churn_date  month  duration  \n",
              "0     plan still in use   12.0     124.0  \n",
              "1     plan still in use    8.0     182.0  \n",
              "2     plan still in use    9.0     315.0  \n",
              "3     plan still in use   10.0     393.0  \n",
              "4     plan still in use   11.0     426.0  \n",
              "...                 ...    ...       ...  \n",
              "2272  plan still in use   12.0     339.0  \n",
              "2273  plan still in use    9.0     346.0  \n",
              "2274  plan still in use   10.0     385.0  \n",
              "2275  plan still in use   11.0     308.0  \n",
              "2276  plan still in use   12.0     496.0  \n",
              "\n",
              "[2277 rows x 10 columns]"
            ]
          },
          "metadata": {
            "tags": []
          },
          "execution_count": 205
        }
      ]
    },
    {
      "cell_type": "code",
      "metadata": {
        "id": "QE0N_yVm2jgA",
        "colab_type": "code",
        "colab": {},
        "outputId": "2a53eb8c-cb45-4e3b-d25a-2cfab2102cd5"
      },
      "source": [
        "##extra code\n",
        "\n",
        "#without reset_index()\n",
        "print(calls.pivot_table(index=['user_id', 'month'], values='duration', aggfunc='sum').head(10))\n",
        "print()\n",
        "\n",
        "#with reset_index()\n",
        "print(calls.pivot_table(index=['user_id', 'month'], values='duration', aggfunc='sum').reset_index().head(10))\n"
      ],
      "execution_count": null,
      "outputs": [
        {
          "output_type": "stream",
          "text": [
            "               duration\n",
            "user_id month          \n",
            "1000    12        124.0\n",
            "1001    8         182.0\n",
            "        9         315.0\n",
            "        10        393.0\n",
            "        11        426.0\n",
            "        12        412.0\n",
            "1002    10         59.0\n",
            "        11        386.0\n",
            "        12        384.0\n",
            "1003    12       1104.0\n",
            "\n",
            "   user_id  month  duration\n",
            "0     1000     12     124.0\n",
            "1     1001      8     182.0\n",
            "2     1001      9     315.0\n",
            "3     1001     10     393.0\n",
            "4     1001     11     426.0\n",
            "5     1001     12     412.0\n",
            "6     1002     10      59.0\n",
            "7     1002     11     386.0\n",
            "8     1002     12     384.0\n",
            "9     1003     12    1104.0\n"
          ],
          "name": "stdout"
        }
      ]
    },
    {
      "cell_type": "code",
      "metadata": {
        "id": "q2Kfc2Qy2jgE",
        "colab_type": "code",
        "colab": {}
      },
      "source": [
        "#extra code\n",
        "\n",
        "calls_pivoted = calls.pivot_table(index=['user_id', 'month'], values='duration', aggfunc='sum').reset_index()"
      ],
      "execution_count": null,
      "outputs": []
    },
    {
      "cell_type": "code",
      "metadata": {
        "scrolled": true,
        "id": "4x9q57mH2jgL",
        "colab_type": "code",
        "colab": {},
        "outputId": "e9667127-62f7-445e-f3d5-59c4f8b578ca"
      },
      "source": [
        "min_pivoted = calls.pivot_table(index=['user_id', 'month'], values='duration', aggfunc='sum').reset_index()\n",
        "agg = agg.merge(min_pivoted, on=['user_id', 'month'], how=\"outer\")\n",
        "agg"
      ],
      "execution_count": null,
      "outputs": [
        {
          "output_type": "execute_result",
          "data": {
            "text/html": [
              "<div>\n",
              "<style scoped>\n",
              "    .dataframe tbody tr th:only-of-type {\n",
              "        vertical-align: middle;\n",
              "    }\n",
              "\n",
              "    .dataframe tbody tr th {\n",
              "        vertical-align: top;\n",
              "    }\n",
              "\n",
              "    .dataframe thead th {\n",
              "        text-align: right;\n",
              "    }\n",
              "</style>\n",
              "<table border=\"1\" class=\"dataframe\">\n",
              "  <thead>\n",
              "    <tr style=\"text-align: right;\">\n",
              "      <th></th>\n",
              "      <th>user_id</th>\n",
              "      <th>first_name</th>\n",
              "      <th>last_name</th>\n",
              "      <th>age</th>\n",
              "      <th>city</th>\n",
              "      <th>reg_date</th>\n",
              "      <th>tariff</th>\n",
              "      <th>churn_date</th>\n",
              "      <th>month</th>\n",
              "      <th>duration_x</th>\n",
              "      <th>duration_y</th>\n",
              "    </tr>\n",
              "  </thead>\n",
              "  <tbody>\n",
              "    <tr>\n",
              "      <td>0</td>\n",
              "      <td>1000</td>\n",
              "      <td>anamaria</td>\n",
              "      <td>bauer</td>\n",
              "      <td>45</td>\n",
              "      <td>atlanta-sandy springs-roswell, ga msa</td>\n",
              "      <td>2018-12-24</td>\n",
              "      <td>ultimate</td>\n",
              "      <td>plan still in use</td>\n",
              "      <td>12.0</td>\n",
              "      <td>124.0</td>\n",
              "      <td>124.0</td>\n",
              "    </tr>\n",
              "    <tr>\n",
              "      <td>1</td>\n",
              "      <td>1001</td>\n",
              "      <td>mickey</td>\n",
              "      <td>wilkerson</td>\n",
              "      <td>28</td>\n",
              "      <td>seattle-tacoma-bellevue, wa msa</td>\n",
              "      <td>2018-08-13</td>\n",
              "      <td>surf</td>\n",
              "      <td>plan still in use</td>\n",
              "      <td>8.0</td>\n",
              "      <td>182.0</td>\n",
              "      <td>182.0</td>\n",
              "    </tr>\n",
              "    <tr>\n",
              "      <td>2</td>\n",
              "      <td>1001</td>\n",
              "      <td>mickey</td>\n",
              "      <td>wilkerson</td>\n",
              "      <td>28</td>\n",
              "      <td>seattle-tacoma-bellevue, wa msa</td>\n",
              "      <td>2018-08-13</td>\n",
              "      <td>surf</td>\n",
              "      <td>plan still in use</td>\n",
              "      <td>9.0</td>\n",
              "      <td>315.0</td>\n",
              "      <td>315.0</td>\n",
              "    </tr>\n",
              "    <tr>\n",
              "      <td>3</td>\n",
              "      <td>1001</td>\n",
              "      <td>mickey</td>\n",
              "      <td>wilkerson</td>\n",
              "      <td>28</td>\n",
              "      <td>seattle-tacoma-bellevue, wa msa</td>\n",
              "      <td>2018-08-13</td>\n",
              "      <td>surf</td>\n",
              "      <td>plan still in use</td>\n",
              "      <td>10.0</td>\n",
              "      <td>393.0</td>\n",
              "      <td>393.0</td>\n",
              "    </tr>\n",
              "    <tr>\n",
              "      <td>4</td>\n",
              "      <td>1001</td>\n",
              "      <td>mickey</td>\n",
              "      <td>wilkerson</td>\n",
              "      <td>28</td>\n",
              "      <td>seattle-tacoma-bellevue, wa msa</td>\n",
              "      <td>2018-08-13</td>\n",
              "      <td>surf</td>\n",
              "      <td>plan still in use</td>\n",
              "      <td>11.0</td>\n",
              "      <td>426.0</td>\n",
              "      <td>426.0</td>\n",
              "    </tr>\n",
              "    <tr>\n",
              "      <td>...</td>\n",
              "      <td>...</td>\n",
              "      <td>...</td>\n",
              "      <td>...</td>\n",
              "      <td>...</td>\n",
              "      <td>...</td>\n",
              "      <td>...</td>\n",
              "      <td>...</td>\n",
              "      <td>...</td>\n",
              "      <td>...</td>\n",
              "      <td>...</td>\n",
              "      <td>...</td>\n",
              "    </tr>\n",
              "    <tr>\n",
              "      <td>2272</td>\n",
              "      <td>1498</td>\n",
              "      <td>scot</td>\n",
              "      <td>williamson</td>\n",
              "      <td>51</td>\n",
              "      <td>new york-newark-jersey city, ny-nj-pa msa</td>\n",
              "      <td>2018-02-04</td>\n",
              "      <td>surf</td>\n",
              "      <td>plan still in use</td>\n",
              "      <td>12.0</td>\n",
              "      <td>339.0</td>\n",
              "      <td>339.0</td>\n",
              "    </tr>\n",
              "    <tr>\n",
              "      <td>2273</td>\n",
              "      <td>1499</td>\n",
              "      <td>shena</td>\n",
              "      <td>dickson</td>\n",
              "      <td>37</td>\n",
              "      <td>orlando-kissimmee-sanford, fl msa</td>\n",
              "      <td>2018-05-06</td>\n",
              "      <td>surf</td>\n",
              "      <td>plan still in use</td>\n",
              "      <td>9.0</td>\n",
              "      <td>346.0</td>\n",
              "      <td>346.0</td>\n",
              "    </tr>\n",
              "    <tr>\n",
              "      <td>2274</td>\n",
              "      <td>1499</td>\n",
              "      <td>shena</td>\n",
              "      <td>dickson</td>\n",
              "      <td>37</td>\n",
              "      <td>orlando-kissimmee-sanford, fl msa</td>\n",
              "      <td>2018-05-06</td>\n",
              "      <td>surf</td>\n",
              "      <td>plan still in use</td>\n",
              "      <td>10.0</td>\n",
              "      <td>385.0</td>\n",
              "      <td>385.0</td>\n",
              "    </tr>\n",
              "    <tr>\n",
              "      <td>2275</td>\n",
              "      <td>1499</td>\n",
              "      <td>shena</td>\n",
              "      <td>dickson</td>\n",
              "      <td>37</td>\n",
              "      <td>orlando-kissimmee-sanford, fl msa</td>\n",
              "      <td>2018-05-06</td>\n",
              "      <td>surf</td>\n",
              "      <td>plan still in use</td>\n",
              "      <td>11.0</td>\n",
              "      <td>308.0</td>\n",
              "      <td>308.0</td>\n",
              "    </tr>\n",
              "    <tr>\n",
              "      <td>2276</td>\n",
              "      <td>1499</td>\n",
              "      <td>shena</td>\n",
              "      <td>dickson</td>\n",
              "      <td>37</td>\n",
              "      <td>orlando-kissimmee-sanford, fl msa</td>\n",
              "      <td>2018-05-06</td>\n",
              "      <td>surf</td>\n",
              "      <td>plan still in use</td>\n",
              "      <td>12.0</td>\n",
              "      <td>496.0</td>\n",
              "      <td>496.0</td>\n",
              "    </tr>\n",
              "  </tbody>\n",
              "</table>\n",
              "<p>2277 rows × 11 columns</p>\n",
              "</div>"
            ],
            "text/plain": [
              "      user_id first_name   last_name  age  \\\n",
              "0        1000   anamaria       bauer   45   \n",
              "1        1001     mickey   wilkerson   28   \n",
              "2        1001     mickey   wilkerson   28   \n",
              "3        1001     mickey   wilkerson   28   \n",
              "4        1001     mickey   wilkerson   28   \n",
              "...       ...        ...         ...  ...   \n",
              "2272     1498       scot  williamson   51   \n",
              "2273     1499      shena     dickson   37   \n",
              "2274     1499      shena     dickson   37   \n",
              "2275     1499      shena     dickson   37   \n",
              "2276     1499      shena     dickson   37   \n",
              "\n",
              "                                           city   reg_date    tariff  \\\n",
              "0         atlanta-sandy springs-roswell, ga msa 2018-12-24  ultimate   \n",
              "1               seattle-tacoma-bellevue, wa msa 2018-08-13      surf   \n",
              "2               seattle-tacoma-bellevue, wa msa 2018-08-13      surf   \n",
              "3               seattle-tacoma-bellevue, wa msa 2018-08-13      surf   \n",
              "4               seattle-tacoma-bellevue, wa msa 2018-08-13      surf   \n",
              "...                                         ...        ...       ...   \n",
              "2272  new york-newark-jersey city, ny-nj-pa msa 2018-02-04      surf   \n",
              "2273          orlando-kissimmee-sanford, fl msa 2018-05-06      surf   \n",
              "2274          orlando-kissimmee-sanford, fl msa 2018-05-06      surf   \n",
              "2275          orlando-kissimmee-sanford, fl msa 2018-05-06      surf   \n",
              "2276          orlando-kissimmee-sanford, fl msa 2018-05-06      surf   \n",
              "\n",
              "             churn_date  month  duration_x  duration_y  \n",
              "0     plan still in use   12.0       124.0       124.0  \n",
              "1     plan still in use    8.0       182.0       182.0  \n",
              "2     plan still in use    9.0       315.0       315.0  \n",
              "3     plan still in use   10.0       393.0       393.0  \n",
              "4     plan still in use   11.0       426.0       426.0  \n",
              "...                 ...    ...         ...         ...  \n",
              "2272  plan still in use   12.0       339.0       339.0  \n",
              "2273  plan still in use    9.0       346.0       346.0  \n",
              "2274  plan still in use   10.0       385.0       385.0  \n",
              "2275  plan still in use   11.0       308.0       308.0  \n",
              "2276  plan still in use   12.0       496.0       496.0  \n",
              "\n",
              "[2277 rows x 11 columns]"
            ]
          },
          "metadata": {
            "tags": []
          },
          "execution_count": 209
        }
      ]
    },
    {
      "cell_type": "code",
      "metadata": {
        "id": "1BpTxvey2jgU",
        "colab_type": "code",
        "colab": {},
        "outputId": "940cdfb2-5f2f-4046-fd12-20cfbf6f3e6f"
      },
      "source": [
        "msgs_pivoted = messages.pivot_table(index=['user_id', 'month'], values='message_date', aggfunc='count').reset_index()\n",
        "agg = agg.merge(msgs_pivoted, on=['user_id', 'month'], how=\"outer\")\n",
        "agg"
      ],
      "execution_count": null,
      "outputs": [
        {
          "output_type": "execute_result",
          "data": {
            "text/html": [
              "<div>\n",
              "<style scoped>\n",
              "    .dataframe tbody tr th:only-of-type {\n",
              "        vertical-align: middle;\n",
              "    }\n",
              "\n",
              "    .dataframe tbody tr th {\n",
              "        vertical-align: top;\n",
              "    }\n",
              "\n",
              "    .dataframe thead th {\n",
              "        text-align: right;\n",
              "    }\n",
              "</style>\n",
              "<table border=\"1\" class=\"dataframe\">\n",
              "  <thead>\n",
              "    <tr style=\"text-align: right;\">\n",
              "      <th></th>\n",
              "      <th>user_id</th>\n",
              "      <th>first_name</th>\n",
              "      <th>last_name</th>\n",
              "      <th>age</th>\n",
              "      <th>city</th>\n",
              "      <th>reg_date</th>\n",
              "      <th>tariff</th>\n",
              "      <th>churn_date</th>\n",
              "      <th>month</th>\n",
              "      <th>duration_x</th>\n",
              "      <th>duration_y</th>\n",
              "      <th>message_date</th>\n",
              "    </tr>\n",
              "  </thead>\n",
              "  <tbody>\n",
              "    <tr>\n",
              "      <td>0</td>\n",
              "      <td>1000</td>\n",
              "      <td>anamaria</td>\n",
              "      <td>bauer</td>\n",
              "      <td>45.0</td>\n",
              "      <td>atlanta-sandy springs-roswell, ga msa</td>\n",
              "      <td>2018-12-24</td>\n",
              "      <td>ultimate</td>\n",
              "      <td>plan still in use</td>\n",
              "      <td>12.0</td>\n",
              "      <td>124.0</td>\n",
              "      <td>124.0</td>\n",
              "      <td>11.0</td>\n",
              "    </tr>\n",
              "    <tr>\n",
              "      <td>1</td>\n",
              "      <td>1001</td>\n",
              "      <td>mickey</td>\n",
              "      <td>wilkerson</td>\n",
              "      <td>28.0</td>\n",
              "      <td>seattle-tacoma-bellevue, wa msa</td>\n",
              "      <td>2018-08-13</td>\n",
              "      <td>surf</td>\n",
              "      <td>plan still in use</td>\n",
              "      <td>8.0</td>\n",
              "      <td>182.0</td>\n",
              "      <td>182.0</td>\n",
              "      <td>30.0</td>\n",
              "    </tr>\n",
              "    <tr>\n",
              "      <td>2</td>\n",
              "      <td>1001</td>\n",
              "      <td>mickey</td>\n",
              "      <td>wilkerson</td>\n",
              "      <td>28.0</td>\n",
              "      <td>seattle-tacoma-bellevue, wa msa</td>\n",
              "      <td>2018-08-13</td>\n",
              "      <td>surf</td>\n",
              "      <td>plan still in use</td>\n",
              "      <td>9.0</td>\n",
              "      <td>315.0</td>\n",
              "      <td>315.0</td>\n",
              "      <td>44.0</td>\n",
              "    </tr>\n",
              "    <tr>\n",
              "      <td>3</td>\n",
              "      <td>1001</td>\n",
              "      <td>mickey</td>\n",
              "      <td>wilkerson</td>\n",
              "      <td>28.0</td>\n",
              "      <td>seattle-tacoma-bellevue, wa msa</td>\n",
              "      <td>2018-08-13</td>\n",
              "      <td>surf</td>\n",
              "      <td>plan still in use</td>\n",
              "      <td>10.0</td>\n",
              "      <td>393.0</td>\n",
              "      <td>393.0</td>\n",
              "      <td>53.0</td>\n",
              "    </tr>\n",
              "    <tr>\n",
              "      <td>4</td>\n",
              "      <td>1001</td>\n",
              "      <td>mickey</td>\n",
              "      <td>wilkerson</td>\n",
              "      <td>28.0</td>\n",
              "      <td>seattle-tacoma-bellevue, wa msa</td>\n",
              "      <td>2018-08-13</td>\n",
              "      <td>surf</td>\n",
              "      <td>plan still in use</td>\n",
              "      <td>11.0</td>\n",
              "      <td>426.0</td>\n",
              "      <td>426.0</td>\n",
              "      <td>36.0</td>\n",
              "    </tr>\n",
              "    <tr>\n",
              "      <td>...</td>\n",
              "      <td>...</td>\n",
              "      <td>...</td>\n",
              "      <td>...</td>\n",
              "      <td>...</td>\n",
              "      <td>...</td>\n",
              "      <td>...</td>\n",
              "      <td>...</td>\n",
              "      <td>...</td>\n",
              "      <td>...</td>\n",
              "      <td>...</td>\n",
              "      <td>...</td>\n",
              "      <td>...</td>\n",
              "    </tr>\n",
              "    <tr>\n",
              "      <td>2305</td>\n",
              "      <td>1349</td>\n",
              "      <td>NaN</td>\n",
              "      <td>NaN</td>\n",
              "      <td>NaN</td>\n",
              "      <td>NaN</td>\n",
              "      <td>NaT</td>\n",
              "      <td>NaN</td>\n",
              "      <td>NaN</td>\n",
              "      <td>10.0</td>\n",
              "      <td>NaN</td>\n",
              "      <td>NaN</td>\n",
              "      <td>76.0</td>\n",
              "    </tr>\n",
              "    <tr>\n",
              "      <td>2306</td>\n",
              "      <td>1349</td>\n",
              "      <td>NaN</td>\n",
              "      <td>NaN</td>\n",
              "      <td>NaN</td>\n",
              "      <td>NaN</td>\n",
              "      <td>NaT</td>\n",
              "      <td>NaN</td>\n",
              "      <td>NaN</td>\n",
              "      <td>11.0</td>\n",
              "      <td>NaN</td>\n",
              "      <td>NaN</td>\n",
              "      <td>72.0</td>\n",
              "    </tr>\n",
              "    <tr>\n",
              "      <td>2307</td>\n",
              "      <td>1349</td>\n",
              "      <td>NaN</td>\n",
              "      <td>NaN</td>\n",
              "      <td>NaN</td>\n",
              "      <td>NaN</td>\n",
              "      <td>NaT</td>\n",
              "      <td>NaN</td>\n",
              "      <td>NaN</td>\n",
              "      <td>12.0</td>\n",
              "      <td>NaN</td>\n",
              "      <td>NaN</td>\n",
              "      <td>61.0</td>\n",
              "    </tr>\n",
              "    <tr>\n",
              "      <td>2308</td>\n",
              "      <td>1361</td>\n",
              "      <td>NaN</td>\n",
              "      <td>NaN</td>\n",
              "      <td>NaN</td>\n",
              "      <td>NaN</td>\n",
              "      <td>NaT</td>\n",
              "      <td>NaN</td>\n",
              "      <td>NaN</td>\n",
              "      <td>5.0</td>\n",
              "      <td>NaN</td>\n",
              "      <td>NaN</td>\n",
              "      <td>2.0</td>\n",
              "    </tr>\n",
              "    <tr>\n",
              "      <td>2309</td>\n",
              "      <td>1482</td>\n",
              "      <td>NaN</td>\n",
              "      <td>NaN</td>\n",
              "      <td>NaN</td>\n",
              "      <td>NaN</td>\n",
              "      <td>NaT</td>\n",
              "      <td>NaN</td>\n",
              "      <td>NaN</td>\n",
              "      <td>10.0</td>\n",
              "      <td>NaN</td>\n",
              "      <td>NaN</td>\n",
              "      <td>2.0</td>\n",
              "    </tr>\n",
              "  </tbody>\n",
              "</table>\n",
              "<p>2310 rows × 12 columns</p>\n",
              "</div>"
            ],
            "text/plain": [
              "      user_id first_name  last_name   age  \\\n",
              "0        1000   anamaria      bauer  45.0   \n",
              "1        1001     mickey  wilkerson  28.0   \n",
              "2        1001     mickey  wilkerson  28.0   \n",
              "3        1001     mickey  wilkerson  28.0   \n",
              "4        1001     mickey  wilkerson  28.0   \n",
              "...       ...        ...        ...   ...   \n",
              "2305     1349        NaN        NaN   NaN   \n",
              "2306     1349        NaN        NaN   NaN   \n",
              "2307     1349        NaN        NaN   NaN   \n",
              "2308     1361        NaN        NaN   NaN   \n",
              "2309     1482        NaN        NaN   NaN   \n",
              "\n",
              "                                       city   reg_date    tariff  \\\n",
              "0     atlanta-sandy springs-roswell, ga msa 2018-12-24  ultimate   \n",
              "1           seattle-tacoma-bellevue, wa msa 2018-08-13      surf   \n",
              "2           seattle-tacoma-bellevue, wa msa 2018-08-13      surf   \n",
              "3           seattle-tacoma-bellevue, wa msa 2018-08-13      surf   \n",
              "4           seattle-tacoma-bellevue, wa msa 2018-08-13      surf   \n",
              "...                                     ...        ...       ...   \n",
              "2305                                    NaN        NaT       NaN   \n",
              "2306                                    NaN        NaT       NaN   \n",
              "2307                                    NaN        NaT       NaN   \n",
              "2308                                    NaN        NaT       NaN   \n",
              "2309                                    NaN        NaT       NaN   \n",
              "\n",
              "             churn_date  month  duration_x  duration_y  message_date  \n",
              "0     plan still in use   12.0       124.0       124.0          11.0  \n",
              "1     plan still in use    8.0       182.0       182.0          30.0  \n",
              "2     plan still in use    9.0       315.0       315.0          44.0  \n",
              "3     plan still in use   10.0       393.0       393.0          53.0  \n",
              "4     plan still in use   11.0       426.0       426.0          36.0  \n",
              "...                 ...    ...         ...         ...           ...  \n",
              "2305                NaN   10.0         NaN         NaN          76.0  \n",
              "2306                NaN   11.0         NaN         NaN          72.0  \n",
              "2307                NaN   12.0         NaN         NaN          61.0  \n",
              "2308                NaN    5.0         NaN         NaN           2.0  \n",
              "2309                NaN   10.0         NaN         NaN           2.0  \n",
              "\n",
              "[2310 rows x 12 columns]"
            ]
          },
          "metadata": {
            "tags": []
          },
          "execution_count": 210
        }
      ]
    },
    {
      "cell_type": "code",
      "metadata": {
        "scrolled": true,
        "id": "zgLB9GrL2jgZ",
        "colab_type": "code",
        "colab": {},
        "outputId": "6a415759-8990-4949-c743-07f5ba70502c"
      },
      "source": [
        "int_pivoted = internet.pivot_table(index=['user_id', 'month'], values='mb_used', aggfunc='sum').reset_index()\n",
        "agg = agg.merge(int_pivoted, on=['user_id', 'month'], how=\"outer\")\n",
        "agg"
      ],
      "execution_count": null,
      "outputs": [
        {
          "output_type": "execute_result",
          "data": {
            "text/html": [
              "<div>\n",
              "<style scoped>\n",
              "    .dataframe tbody tr th:only-of-type {\n",
              "        vertical-align: middle;\n",
              "    }\n",
              "\n",
              "    .dataframe tbody tr th {\n",
              "        vertical-align: top;\n",
              "    }\n",
              "\n",
              "    .dataframe thead th {\n",
              "        text-align: right;\n",
              "    }\n",
              "</style>\n",
              "<table border=\"1\" class=\"dataframe\">\n",
              "  <thead>\n",
              "    <tr style=\"text-align: right;\">\n",
              "      <th></th>\n",
              "      <th>user_id</th>\n",
              "      <th>first_name</th>\n",
              "      <th>last_name</th>\n",
              "      <th>age</th>\n",
              "      <th>city</th>\n",
              "      <th>reg_date</th>\n",
              "      <th>tariff</th>\n",
              "      <th>churn_date</th>\n",
              "      <th>month</th>\n",
              "      <th>duration_x</th>\n",
              "      <th>duration_y</th>\n",
              "      <th>message_date</th>\n",
              "      <th>mb_used</th>\n",
              "    </tr>\n",
              "  </thead>\n",
              "  <tbody>\n",
              "    <tr>\n",
              "      <td>0</td>\n",
              "      <td>1000</td>\n",
              "      <td>anamaria</td>\n",
              "      <td>bauer</td>\n",
              "      <td>45.0</td>\n",
              "      <td>atlanta-sandy springs-roswell, ga msa</td>\n",
              "      <td>2018-12-24</td>\n",
              "      <td>ultimate</td>\n",
              "      <td>plan still in use</td>\n",
              "      <td>12.0</td>\n",
              "      <td>124.0</td>\n",
              "      <td>124.0</td>\n",
              "      <td>11.0</td>\n",
              "      <td>1903.0</td>\n",
              "    </tr>\n",
              "    <tr>\n",
              "      <td>1</td>\n",
              "      <td>1001</td>\n",
              "      <td>mickey</td>\n",
              "      <td>wilkerson</td>\n",
              "      <td>28.0</td>\n",
              "      <td>seattle-tacoma-bellevue, wa msa</td>\n",
              "      <td>2018-08-13</td>\n",
              "      <td>surf</td>\n",
              "      <td>plan still in use</td>\n",
              "      <td>8.0</td>\n",
              "      <td>182.0</td>\n",
              "      <td>182.0</td>\n",
              "      <td>30.0</td>\n",
              "      <td>6929.0</td>\n",
              "    </tr>\n",
              "    <tr>\n",
              "      <td>2</td>\n",
              "      <td>1001</td>\n",
              "      <td>mickey</td>\n",
              "      <td>wilkerson</td>\n",
              "      <td>28.0</td>\n",
              "      <td>seattle-tacoma-bellevue, wa msa</td>\n",
              "      <td>2018-08-13</td>\n",
              "      <td>surf</td>\n",
              "      <td>plan still in use</td>\n",
              "      <td>9.0</td>\n",
              "      <td>315.0</td>\n",
              "      <td>315.0</td>\n",
              "      <td>44.0</td>\n",
              "      <td>13333.0</td>\n",
              "    </tr>\n",
              "    <tr>\n",
              "      <td>3</td>\n",
              "      <td>1001</td>\n",
              "      <td>mickey</td>\n",
              "      <td>wilkerson</td>\n",
              "      <td>28.0</td>\n",
              "      <td>seattle-tacoma-bellevue, wa msa</td>\n",
              "      <td>2018-08-13</td>\n",
              "      <td>surf</td>\n",
              "      <td>plan still in use</td>\n",
              "      <td>10.0</td>\n",
              "      <td>393.0</td>\n",
              "      <td>393.0</td>\n",
              "      <td>53.0</td>\n",
              "      <td>22356.0</td>\n",
              "    </tr>\n",
              "    <tr>\n",
              "      <td>4</td>\n",
              "      <td>1001</td>\n",
              "      <td>mickey</td>\n",
              "      <td>wilkerson</td>\n",
              "      <td>28.0</td>\n",
              "      <td>seattle-tacoma-bellevue, wa msa</td>\n",
              "      <td>2018-08-13</td>\n",
              "      <td>surf</td>\n",
              "      <td>plan still in use</td>\n",
              "      <td>11.0</td>\n",
              "      <td>426.0</td>\n",
              "      <td>426.0</td>\n",
              "      <td>36.0</td>\n",
              "      <td>18524.0</td>\n",
              "    </tr>\n",
              "    <tr>\n",
              "      <td>...</td>\n",
              "      <td>...</td>\n",
              "      <td>...</td>\n",
              "      <td>...</td>\n",
              "      <td>...</td>\n",
              "      <td>...</td>\n",
              "      <td>...</td>\n",
              "      <td>...</td>\n",
              "      <td>...</td>\n",
              "      <td>...</td>\n",
              "      <td>...</td>\n",
              "      <td>...</td>\n",
              "      <td>...</td>\n",
              "      <td>...</td>\n",
              "    </tr>\n",
              "    <tr>\n",
              "      <td>2307</td>\n",
              "      <td>1349</td>\n",
              "      <td>NaN</td>\n",
              "      <td>NaN</td>\n",
              "      <td>NaN</td>\n",
              "      <td>NaN</td>\n",
              "      <td>NaT</td>\n",
              "      <td>NaN</td>\n",
              "      <td>NaN</td>\n",
              "      <td>12.0</td>\n",
              "      <td>NaN</td>\n",
              "      <td>NaN</td>\n",
              "      <td>61.0</td>\n",
              "      <td>13052.0</td>\n",
              "    </tr>\n",
              "    <tr>\n",
              "      <td>2308</td>\n",
              "      <td>1361</td>\n",
              "      <td>NaN</td>\n",
              "      <td>NaN</td>\n",
              "      <td>NaN</td>\n",
              "      <td>NaN</td>\n",
              "      <td>NaT</td>\n",
              "      <td>NaN</td>\n",
              "      <td>NaN</td>\n",
              "      <td>5.0</td>\n",
              "      <td>NaN</td>\n",
              "      <td>NaN</td>\n",
              "      <td>2.0</td>\n",
              "      <td>1523.0</td>\n",
              "    </tr>\n",
              "    <tr>\n",
              "      <td>2309</td>\n",
              "      <td>1482</td>\n",
              "      <td>NaN</td>\n",
              "      <td>NaN</td>\n",
              "      <td>NaN</td>\n",
              "      <td>NaN</td>\n",
              "      <td>NaT</td>\n",
              "      <td>NaN</td>\n",
              "      <td>NaN</td>\n",
              "      <td>10.0</td>\n",
              "      <td>NaN</td>\n",
              "      <td>NaN</td>\n",
              "      <td>2.0</td>\n",
              "      <td>NaN</td>\n",
              "    </tr>\n",
              "    <tr>\n",
              "      <td>2310</td>\n",
              "      <td>1108</td>\n",
              "      <td>NaN</td>\n",
              "      <td>NaN</td>\n",
              "      <td>NaN</td>\n",
              "      <td>NaN</td>\n",
              "      <td>NaT</td>\n",
              "      <td>NaN</td>\n",
              "      <td>NaN</td>\n",
              "      <td>12.0</td>\n",
              "      <td>NaN</td>\n",
              "      <td>NaN</td>\n",
              "      <td>NaN</td>\n",
              "      <td>235.0</td>\n",
              "    </tr>\n",
              "    <tr>\n",
              "      <td>2311</td>\n",
              "      <td>1311</td>\n",
              "      <td>NaN</td>\n",
              "      <td>NaN</td>\n",
              "      <td>NaN</td>\n",
              "      <td>NaN</td>\n",
              "      <td>NaT</td>\n",
              "      <td>NaN</td>\n",
              "      <td>NaN</td>\n",
              "      <td>6.0</td>\n",
              "      <td>NaN</td>\n",
              "      <td>NaN</td>\n",
              "      <td>NaN</td>\n",
              "      <td>1501.0</td>\n",
              "    </tr>\n",
              "  </tbody>\n",
              "</table>\n",
              "<p>2312 rows × 13 columns</p>\n",
              "</div>"
            ],
            "text/plain": [
              "      user_id first_name  last_name   age  \\\n",
              "0        1000   anamaria      bauer  45.0   \n",
              "1        1001     mickey  wilkerson  28.0   \n",
              "2        1001     mickey  wilkerson  28.0   \n",
              "3        1001     mickey  wilkerson  28.0   \n",
              "4        1001     mickey  wilkerson  28.0   \n",
              "...       ...        ...        ...   ...   \n",
              "2307     1349        NaN        NaN   NaN   \n",
              "2308     1361        NaN        NaN   NaN   \n",
              "2309     1482        NaN        NaN   NaN   \n",
              "2310     1108        NaN        NaN   NaN   \n",
              "2311     1311        NaN        NaN   NaN   \n",
              "\n",
              "                                       city   reg_date    tariff  \\\n",
              "0     atlanta-sandy springs-roswell, ga msa 2018-12-24  ultimate   \n",
              "1           seattle-tacoma-bellevue, wa msa 2018-08-13      surf   \n",
              "2           seattle-tacoma-bellevue, wa msa 2018-08-13      surf   \n",
              "3           seattle-tacoma-bellevue, wa msa 2018-08-13      surf   \n",
              "4           seattle-tacoma-bellevue, wa msa 2018-08-13      surf   \n",
              "...                                     ...        ...       ...   \n",
              "2307                                    NaN        NaT       NaN   \n",
              "2308                                    NaN        NaT       NaN   \n",
              "2309                                    NaN        NaT       NaN   \n",
              "2310                                    NaN        NaT       NaN   \n",
              "2311                                    NaN        NaT       NaN   \n",
              "\n",
              "             churn_date  month  duration_x  duration_y  message_date  mb_used  \n",
              "0     plan still in use   12.0       124.0       124.0          11.0   1903.0  \n",
              "1     plan still in use    8.0       182.0       182.0          30.0   6929.0  \n",
              "2     plan still in use    9.0       315.0       315.0          44.0  13333.0  \n",
              "3     plan still in use   10.0       393.0       393.0          53.0  22356.0  \n",
              "4     plan still in use   11.0       426.0       426.0          36.0  18524.0  \n",
              "...                 ...    ...         ...         ...           ...      ...  \n",
              "2307                NaN   12.0         NaN         NaN          61.0  13052.0  \n",
              "2308                NaN    5.0         NaN         NaN           2.0   1523.0  \n",
              "2309                NaN   10.0         NaN         NaN           2.0      NaN  \n",
              "2310                NaN   12.0         NaN         NaN           NaN    235.0  \n",
              "2311                NaN    6.0         NaN         NaN           NaN   1501.0  \n",
              "\n",
              "[2312 rows x 13 columns]"
            ]
          },
          "metadata": {
            "tags": []
          },
          "execution_count": 211
        }
      ]
    },
    {
      "cell_type": "code",
      "metadata": {
        "id": "jJzyG_b92jgu",
        "colab_type": "code",
        "colab": {}
      },
      "source": [
        "agg.columns = ['user_id','first_name', 'last_name', 'age','city','reg_date', 'tariff',  'churn_date', 'month', 'number_calls_per_month', 'minutes_used_per_month', 'number_messages_per_month', 'volume_data_per_month']"
      ],
      "execution_count": null,
      "outputs": []
    },
    {
      "cell_type": "code",
      "metadata": {
        "scrolled": true,
        "id": "VUJ0NBdE2jgx",
        "colab_type": "code",
        "colab": {},
        "outputId": "056fbaee-4bc7-4308-da18-003fe8543dca"
      },
      "source": [
        "agg"
      ],
      "execution_count": null,
      "outputs": [
        {
          "output_type": "execute_result",
          "data": {
            "text/html": [
              "<div>\n",
              "<style scoped>\n",
              "    .dataframe tbody tr th:only-of-type {\n",
              "        vertical-align: middle;\n",
              "    }\n",
              "\n",
              "    .dataframe tbody tr th {\n",
              "        vertical-align: top;\n",
              "    }\n",
              "\n",
              "    .dataframe thead th {\n",
              "        text-align: right;\n",
              "    }\n",
              "</style>\n",
              "<table border=\"1\" class=\"dataframe\">\n",
              "  <thead>\n",
              "    <tr style=\"text-align: right;\">\n",
              "      <th></th>\n",
              "      <th>user_id</th>\n",
              "      <th>first_name</th>\n",
              "      <th>last_name</th>\n",
              "      <th>age</th>\n",
              "      <th>city</th>\n",
              "      <th>reg_date</th>\n",
              "      <th>tariff</th>\n",
              "      <th>churn_date</th>\n",
              "      <th>month</th>\n",
              "      <th>number_calls_per_month</th>\n",
              "      <th>minutes_used_per_month</th>\n",
              "      <th>number_messages_per_month</th>\n",
              "      <th>volume_data_per_month</th>\n",
              "    </tr>\n",
              "  </thead>\n",
              "  <tbody>\n",
              "    <tr>\n",
              "      <td>0</td>\n",
              "      <td>1000</td>\n",
              "      <td>anamaria</td>\n",
              "      <td>bauer</td>\n",
              "      <td>45.0</td>\n",
              "      <td>atlanta-sandy springs-roswell, ga msa</td>\n",
              "      <td>2018-12-24</td>\n",
              "      <td>ultimate</td>\n",
              "      <td>plan still in use</td>\n",
              "      <td>12.0</td>\n",
              "      <td>124.0</td>\n",
              "      <td>124.0</td>\n",
              "      <td>11.0</td>\n",
              "      <td>1903.0</td>\n",
              "    </tr>\n",
              "    <tr>\n",
              "      <td>1</td>\n",
              "      <td>1001</td>\n",
              "      <td>mickey</td>\n",
              "      <td>wilkerson</td>\n",
              "      <td>28.0</td>\n",
              "      <td>seattle-tacoma-bellevue, wa msa</td>\n",
              "      <td>2018-08-13</td>\n",
              "      <td>surf</td>\n",
              "      <td>plan still in use</td>\n",
              "      <td>8.0</td>\n",
              "      <td>182.0</td>\n",
              "      <td>182.0</td>\n",
              "      <td>30.0</td>\n",
              "      <td>6929.0</td>\n",
              "    </tr>\n",
              "    <tr>\n",
              "      <td>2</td>\n",
              "      <td>1001</td>\n",
              "      <td>mickey</td>\n",
              "      <td>wilkerson</td>\n",
              "      <td>28.0</td>\n",
              "      <td>seattle-tacoma-bellevue, wa msa</td>\n",
              "      <td>2018-08-13</td>\n",
              "      <td>surf</td>\n",
              "      <td>plan still in use</td>\n",
              "      <td>9.0</td>\n",
              "      <td>315.0</td>\n",
              "      <td>315.0</td>\n",
              "      <td>44.0</td>\n",
              "      <td>13333.0</td>\n",
              "    </tr>\n",
              "    <tr>\n",
              "      <td>3</td>\n",
              "      <td>1001</td>\n",
              "      <td>mickey</td>\n",
              "      <td>wilkerson</td>\n",
              "      <td>28.0</td>\n",
              "      <td>seattle-tacoma-bellevue, wa msa</td>\n",
              "      <td>2018-08-13</td>\n",
              "      <td>surf</td>\n",
              "      <td>plan still in use</td>\n",
              "      <td>10.0</td>\n",
              "      <td>393.0</td>\n",
              "      <td>393.0</td>\n",
              "      <td>53.0</td>\n",
              "      <td>22356.0</td>\n",
              "    </tr>\n",
              "    <tr>\n",
              "      <td>4</td>\n",
              "      <td>1001</td>\n",
              "      <td>mickey</td>\n",
              "      <td>wilkerson</td>\n",
              "      <td>28.0</td>\n",
              "      <td>seattle-tacoma-bellevue, wa msa</td>\n",
              "      <td>2018-08-13</td>\n",
              "      <td>surf</td>\n",
              "      <td>plan still in use</td>\n",
              "      <td>11.0</td>\n",
              "      <td>426.0</td>\n",
              "      <td>426.0</td>\n",
              "      <td>36.0</td>\n",
              "      <td>18524.0</td>\n",
              "    </tr>\n",
              "    <tr>\n",
              "      <td>...</td>\n",
              "      <td>...</td>\n",
              "      <td>...</td>\n",
              "      <td>...</td>\n",
              "      <td>...</td>\n",
              "      <td>...</td>\n",
              "      <td>...</td>\n",
              "      <td>...</td>\n",
              "      <td>...</td>\n",
              "      <td>...</td>\n",
              "      <td>...</td>\n",
              "      <td>...</td>\n",
              "      <td>...</td>\n",
              "      <td>...</td>\n",
              "    </tr>\n",
              "    <tr>\n",
              "      <td>2307</td>\n",
              "      <td>1349</td>\n",
              "      <td>NaN</td>\n",
              "      <td>NaN</td>\n",
              "      <td>NaN</td>\n",
              "      <td>NaN</td>\n",
              "      <td>NaT</td>\n",
              "      <td>NaN</td>\n",
              "      <td>NaN</td>\n",
              "      <td>12.0</td>\n",
              "      <td>NaN</td>\n",
              "      <td>NaN</td>\n",
              "      <td>61.0</td>\n",
              "      <td>13052.0</td>\n",
              "    </tr>\n",
              "    <tr>\n",
              "      <td>2308</td>\n",
              "      <td>1361</td>\n",
              "      <td>NaN</td>\n",
              "      <td>NaN</td>\n",
              "      <td>NaN</td>\n",
              "      <td>NaN</td>\n",
              "      <td>NaT</td>\n",
              "      <td>NaN</td>\n",
              "      <td>NaN</td>\n",
              "      <td>5.0</td>\n",
              "      <td>NaN</td>\n",
              "      <td>NaN</td>\n",
              "      <td>2.0</td>\n",
              "      <td>1523.0</td>\n",
              "    </tr>\n",
              "    <tr>\n",
              "      <td>2309</td>\n",
              "      <td>1482</td>\n",
              "      <td>NaN</td>\n",
              "      <td>NaN</td>\n",
              "      <td>NaN</td>\n",
              "      <td>NaN</td>\n",
              "      <td>NaT</td>\n",
              "      <td>NaN</td>\n",
              "      <td>NaN</td>\n",
              "      <td>10.0</td>\n",
              "      <td>NaN</td>\n",
              "      <td>NaN</td>\n",
              "      <td>2.0</td>\n",
              "      <td>NaN</td>\n",
              "    </tr>\n",
              "    <tr>\n",
              "      <td>2310</td>\n",
              "      <td>1108</td>\n",
              "      <td>NaN</td>\n",
              "      <td>NaN</td>\n",
              "      <td>NaN</td>\n",
              "      <td>NaN</td>\n",
              "      <td>NaT</td>\n",
              "      <td>NaN</td>\n",
              "      <td>NaN</td>\n",
              "      <td>12.0</td>\n",
              "      <td>NaN</td>\n",
              "      <td>NaN</td>\n",
              "      <td>NaN</td>\n",
              "      <td>235.0</td>\n",
              "    </tr>\n",
              "    <tr>\n",
              "      <td>2311</td>\n",
              "      <td>1311</td>\n",
              "      <td>NaN</td>\n",
              "      <td>NaN</td>\n",
              "      <td>NaN</td>\n",
              "      <td>NaN</td>\n",
              "      <td>NaT</td>\n",
              "      <td>NaN</td>\n",
              "      <td>NaN</td>\n",
              "      <td>6.0</td>\n",
              "      <td>NaN</td>\n",
              "      <td>NaN</td>\n",
              "      <td>NaN</td>\n",
              "      <td>1501.0</td>\n",
              "    </tr>\n",
              "  </tbody>\n",
              "</table>\n",
              "<p>2312 rows × 13 columns</p>\n",
              "</div>"
            ],
            "text/plain": [
              "      user_id first_name  last_name   age  \\\n",
              "0        1000   anamaria      bauer  45.0   \n",
              "1        1001     mickey  wilkerson  28.0   \n",
              "2        1001     mickey  wilkerson  28.0   \n",
              "3        1001     mickey  wilkerson  28.0   \n",
              "4        1001     mickey  wilkerson  28.0   \n",
              "...       ...        ...        ...   ...   \n",
              "2307     1349        NaN        NaN   NaN   \n",
              "2308     1361        NaN        NaN   NaN   \n",
              "2309     1482        NaN        NaN   NaN   \n",
              "2310     1108        NaN        NaN   NaN   \n",
              "2311     1311        NaN        NaN   NaN   \n",
              "\n",
              "                                       city   reg_date    tariff  \\\n",
              "0     atlanta-sandy springs-roswell, ga msa 2018-12-24  ultimate   \n",
              "1           seattle-tacoma-bellevue, wa msa 2018-08-13      surf   \n",
              "2           seattle-tacoma-bellevue, wa msa 2018-08-13      surf   \n",
              "3           seattle-tacoma-bellevue, wa msa 2018-08-13      surf   \n",
              "4           seattle-tacoma-bellevue, wa msa 2018-08-13      surf   \n",
              "...                                     ...        ...       ...   \n",
              "2307                                    NaN        NaT       NaN   \n",
              "2308                                    NaN        NaT       NaN   \n",
              "2309                                    NaN        NaT       NaN   \n",
              "2310                                    NaN        NaT       NaN   \n",
              "2311                                    NaN        NaT       NaN   \n",
              "\n",
              "             churn_date  month  number_calls_per_month  \\\n",
              "0     plan still in use   12.0                   124.0   \n",
              "1     plan still in use    8.0                   182.0   \n",
              "2     plan still in use    9.0                   315.0   \n",
              "3     plan still in use   10.0                   393.0   \n",
              "4     plan still in use   11.0                   426.0   \n",
              "...                 ...    ...                     ...   \n",
              "2307                NaN   12.0                     NaN   \n",
              "2308                NaN    5.0                     NaN   \n",
              "2309                NaN   10.0                     NaN   \n",
              "2310                NaN   12.0                     NaN   \n",
              "2311                NaN    6.0                     NaN   \n",
              "\n",
              "      minutes_used_per_month  number_messages_per_month  volume_data_per_month  \n",
              "0                      124.0                       11.0                 1903.0  \n",
              "1                      182.0                       30.0                 6929.0  \n",
              "2                      315.0                       44.0                13333.0  \n",
              "3                      393.0                       53.0                22356.0  \n",
              "4                      426.0                       36.0                18524.0  \n",
              "...                      ...                        ...                    ...  \n",
              "2307                     NaN                       61.0                13052.0  \n",
              "2308                     NaN                        2.0                 1523.0  \n",
              "2309                     NaN                        2.0                    NaN  \n",
              "2310                     NaN                        NaN                  235.0  \n",
              "2311                     NaN                        NaN                 1501.0  \n",
              "\n",
              "[2312 rows x 13 columns]"
            ]
          },
          "metadata": {
            "tags": []
          },
          "execution_count": 213
        }
      ]
    },
    {
      "cell_type": "code",
      "metadata": {
        "id": "FD77ITKh2jhC",
        "colab_type": "code",
        "colab": {}
      },
      "source": [
        "#%%time\n",
        "\n",
        "## extra code\n",
        "\n",
        "#def call_number(row):\n",
        "    #try:\n",
        "        #user_call_data = users_calls[users_calls['user_id'] == row['user_id']]\n",
        "        #user_call_count = user_call_data.pivot_table(index='month', values='duration', aggfunc='count')\n",
        "        #user_call_count.columns = ['number_calls']\n",
        "        #number_call_monthly = user_call_count['number_calls'].mean()\n",
        "    #except:\n",
        "        #number_call_monthly = 0\n",
        "    #return number_call_monthly\n",
        "\n",
        "#users['number_calls_per_month'] = users.apply(call_number, axis=1)\n",
        "#users.head()"
      ],
      "execution_count": null,
      "outputs": []
    },
    {
      "cell_type": "code",
      "metadata": {
        "id": "CncJ9a5K2jhN",
        "colab_type": "code",
        "colab": {}
      },
      "source": [
        "#%%time\n",
        "\n",
        "## extra code\n",
        "\n",
        "#user_call_count = users_calls.pivot_table(index=['user_id', 'month'], values='duration', aggfunc='count')\n",
        "#user_call_count = user_call_count.groupby('user_id').mean()\n",
        "#user_call_count.columns = ['number_calls_per_month']\n",
        "\n",
        "\n",
        "#print(user_call_count.head())\n",
        "\n",
        "\n",
        "#users = users.set_index('user_id')\n",
        "#df = df.merge(user_call_count, on=['user_id', 'month'], how='left')\n",
        "#print(df.head())\n",
        "\n"
      ],
      "execution_count": null,
      "outputs": []
    },
    {
      "cell_type": "markdown",
      "metadata": {
        "id": "2X_0o_cK2jhi",
        "colab_type": "text"
      },
      "source": [
        "#### For each user, find the monthly profit from each user (subtract the free package limit from the total number of calls, text messages, and data; multiply the result by the calling plan value; add the monthly charge depending on the calling plan)"
      ]
    },
    {
      "cell_type": "code",
      "metadata": {
        "id": "DTPIs8Kl2jhj",
        "colab_type": "code",
        "colab": {},
        "outputId": "fd667a15-888d-47a3-f6c2-6ebde927518f"
      },
      "source": [
        "agg.info()"
      ],
      "execution_count": null,
      "outputs": [
        {
          "output_type": "stream",
          "text": [
            "<class 'pandas.core.frame.DataFrame'>\n",
            "Int64Index: 2312 entries, 0 to 2311\n",
            "Data columns (total 13 columns):\n",
            "user_id                      2312 non-null int64\n",
            "first_name                   2277 non-null object\n",
            "last_name                    2277 non-null object\n",
            "age                          2277 non-null float64\n",
            "city                         2277 non-null object\n",
            "reg_date                     2277 non-null datetime64[ns]\n",
            "tariff                       2277 non-null object\n",
            "churn_date                   2277 non-null object\n",
            "month                        2293 non-null float64\n",
            "number_calls_per_month       2258 non-null float64\n",
            "minutes_used_per_month       2258 non-null float64\n",
            "number_messages_per_month    1806 non-null float64\n",
            "volume_data_per_month        2277 non-null float64\n",
            "dtypes: datetime64[ns](1), float64(6), int64(1), object(5)\n",
            "memory usage: 252.9+ KB\n"
          ],
          "name": "stdout"
        }
      ]
    },
    {
      "cell_type": "code",
      "metadata": {
        "id": "Sdfr0m_w2jhp",
        "colab_type": "code",
        "colab": {}
      },
      "source": [
        "agg['plan_name']= agg['tariff']"
      ],
      "execution_count": null,
      "outputs": []
    },
    {
      "cell_type": "code",
      "metadata": {
        "id": "88kfiKHn2jhv",
        "colab_type": "code",
        "colab": {}
      },
      "source": [
        "agg_plan = agg.merge(plans, on='plan_name', how='left')"
      ],
      "execution_count": null,
      "outputs": []
    },
    {
      "cell_type": "code",
      "metadata": {
        "id": "YicPs2jw2jh-",
        "colab_type": "code",
        "colab": {},
        "outputId": "722e6fd4-eb7a-49a8-dd4c-00d94cef2e91"
      },
      "source": [
        "agg_plan.info()"
      ],
      "execution_count": null,
      "outputs": [
        {
          "output_type": "stream",
          "text": [
            "<class 'pandas.core.frame.DataFrame'>\n",
            "Int64Index: 2312 entries, 0 to 2311\n",
            "Data columns (total 21 columns):\n",
            "user_id                      2312 non-null int64\n",
            "first_name                   2277 non-null object\n",
            "last_name                    2277 non-null object\n",
            "age                          2277 non-null float64\n",
            "city                         2277 non-null object\n",
            "reg_date                     2277 non-null datetime64[ns]\n",
            "tariff                       2277 non-null object\n",
            "churn_date                   2277 non-null object\n",
            "month                        2293 non-null float64\n",
            "number_calls_per_month       2258 non-null float64\n",
            "minutes_used_per_month       2258 non-null float64\n",
            "number_messages_per_month    1806 non-null float64\n",
            "volume_data_per_month        2277 non-null float64\n",
            "plan_name                    2277 non-null object\n",
            "messages_included            2277 non-null float64\n",
            "mb_per_month_included        2277 non-null float64\n",
            "minutes_included             2277 non-null float64\n",
            "usd_monthly_pay              2277 non-null float64\n",
            "usd_per_gb                   2277 non-null float64\n",
            "usd_per_message              2277 non-null float64\n",
            "usd_per_minute               2277 non-null float64\n",
            "dtypes: datetime64[ns](1), float64(13), int64(1), object(6)\n",
            "memory usage: 397.4+ KB\n"
          ],
          "name": "stdout"
        }
      ]
    },
    {
      "cell_type": "code",
      "metadata": {
        "id": "A1zojbFm2jiE",
        "colab_type": "code",
        "colab": {}
      },
      "source": [
        "def profit(row):\n",
        "    if (row['minutes_used_per_month'] > row['minutes_included']):\n",
        "        row['monthly_callprofit_for_user'] = (row['minutes_used_per_month'] - row['minutes_included']) * row['usd_per_minute']\n",
        "    else: \n",
        "        row['monthly_callprofit_for_user'] = 0\n",
        "    \n",
        "    if (row['number_messages_per_month'] > row['messages_included']):\n",
        "        row['monthly_msgprofit_for_user'] = (row['number_messages_per_month'] - row['messages_included']) * row['usd_per_message']\n",
        "    else: \n",
        "        row['monthly_msgprofit_for_user'] = 0\n",
        "    \n",
        "    if (row['volume_data_per_month'] > row['mb_per_month_included']):\n",
        "        row['monthly_intprofit_for_user'] = (row['volume_data_per_month'] - row['mb_per_month_included']) / 1000 * row['usd_per_gb']\n",
        "    else: \n",
        "        row['monthly_intprofit_for_user'] = 0\n",
        "\n",
        "    monthly_profit = row['usd_monthly_pay'] + row['monthly_callprofit_for_user'] + row['monthly_msgprofit_for_user'] + row['monthly_intprofit_for_user'] \n",
        "    \n",
        "    return monthly_profit\n",
        "\n",
        "\n",
        "agg_plan['monthly_profit'] = agg_plan.apply(profit, axis=1)\n"
      ],
      "execution_count": null,
      "outputs": []
    },
    {
      "cell_type": "code",
      "metadata": {
        "scrolled": true,
        "id": "HY0QBkWY2jiJ",
        "colab_type": "code",
        "colab": {},
        "outputId": "2949a910-7cab-4283-dcfc-ca509713d5e7"
      },
      "source": [
        "agg_plan.head()"
      ],
      "execution_count": null,
      "outputs": [
        {
          "output_type": "execute_result",
          "data": {
            "text/html": [
              "<div>\n",
              "<style scoped>\n",
              "    .dataframe tbody tr th:only-of-type {\n",
              "        vertical-align: middle;\n",
              "    }\n",
              "\n",
              "    .dataframe tbody tr th {\n",
              "        vertical-align: top;\n",
              "    }\n",
              "\n",
              "    .dataframe thead th {\n",
              "        text-align: right;\n",
              "    }\n",
              "</style>\n",
              "<table border=\"1\" class=\"dataframe\">\n",
              "  <thead>\n",
              "    <tr style=\"text-align: right;\">\n",
              "      <th></th>\n",
              "      <th>user_id</th>\n",
              "      <th>first_name</th>\n",
              "      <th>last_name</th>\n",
              "      <th>age</th>\n",
              "      <th>city</th>\n",
              "      <th>reg_date</th>\n",
              "      <th>tariff</th>\n",
              "      <th>churn_date</th>\n",
              "      <th>month</th>\n",
              "      <th>number_calls_per_month</th>\n",
              "      <th>...</th>\n",
              "      <th>volume_data_per_month</th>\n",
              "      <th>plan_name</th>\n",
              "      <th>messages_included</th>\n",
              "      <th>mb_per_month_included</th>\n",
              "      <th>minutes_included</th>\n",
              "      <th>usd_monthly_pay</th>\n",
              "      <th>usd_per_gb</th>\n",
              "      <th>usd_per_message</th>\n",
              "      <th>usd_per_minute</th>\n",
              "      <th>monthly_profit</th>\n",
              "    </tr>\n",
              "  </thead>\n",
              "  <tbody>\n",
              "    <tr>\n",
              "      <td>0</td>\n",
              "      <td>1000</td>\n",
              "      <td>anamaria</td>\n",
              "      <td>bauer</td>\n",
              "      <td>45.0</td>\n",
              "      <td>atlanta-sandy springs-roswell, ga msa</td>\n",
              "      <td>2018-12-24</td>\n",
              "      <td>ultimate</td>\n",
              "      <td>plan still in use</td>\n",
              "      <td>12.0</td>\n",
              "      <td>124.0</td>\n",
              "      <td>...</td>\n",
              "      <td>1903.0</td>\n",
              "      <td>ultimate</td>\n",
              "      <td>1000.0</td>\n",
              "      <td>30720.0</td>\n",
              "      <td>3000.0</td>\n",
              "      <td>70.0</td>\n",
              "      <td>7.0</td>\n",
              "      <td>0.01</td>\n",
              "      <td>0.01</td>\n",
              "      <td>70.00</td>\n",
              "    </tr>\n",
              "    <tr>\n",
              "      <td>1</td>\n",
              "      <td>1001</td>\n",
              "      <td>mickey</td>\n",
              "      <td>wilkerson</td>\n",
              "      <td>28.0</td>\n",
              "      <td>seattle-tacoma-bellevue, wa msa</td>\n",
              "      <td>2018-08-13</td>\n",
              "      <td>surf</td>\n",
              "      <td>plan still in use</td>\n",
              "      <td>8.0</td>\n",
              "      <td>182.0</td>\n",
              "      <td>...</td>\n",
              "      <td>6929.0</td>\n",
              "      <td>surf</td>\n",
              "      <td>50.0</td>\n",
              "      <td>15360.0</td>\n",
              "      <td>500.0</td>\n",
              "      <td>20.0</td>\n",
              "      <td>10.0</td>\n",
              "      <td>0.03</td>\n",
              "      <td>0.03</td>\n",
              "      <td>20.00</td>\n",
              "    </tr>\n",
              "    <tr>\n",
              "      <td>2</td>\n",
              "      <td>1001</td>\n",
              "      <td>mickey</td>\n",
              "      <td>wilkerson</td>\n",
              "      <td>28.0</td>\n",
              "      <td>seattle-tacoma-bellevue, wa msa</td>\n",
              "      <td>2018-08-13</td>\n",
              "      <td>surf</td>\n",
              "      <td>plan still in use</td>\n",
              "      <td>9.0</td>\n",
              "      <td>315.0</td>\n",
              "      <td>...</td>\n",
              "      <td>13333.0</td>\n",
              "      <td>surf</td>\n",
              "      <td>50.0</td>\n",
              "      <td>15360.0</td>\n",
              "      <td>500.0</td>\n",
              "      <td>20.0</td>\n",
              "      <td>10.0</td>\n",
              "      <td>0.03</td>\n",
              "      <td>0.03</td>\n",
              "      <td>20.00</td>\n",
              "    </tr>\n",
              "    <tr>\n",
              "      <td>3</td>\n",
              "      <td>1001</td>\n",
              "      <td>mickey</td>\n",
              "      <td>wilkerson</td>\n",
              "      <td>28.0</td>\n",
              "      <td>seattle-tacoma-bellevue, wa msa</td>\n",
              "      <td>2018-08-13</td>\n",
              "      <td>surf</td>\n",
              "      <td>plan still in use</td>\n",
              "      <td>10.0</td>\n",
              "      <td>393.0</td>\n",
              "      <td>...</td>\n",
              "      <td>22356.0</td>\n",
              "      <td>surf</td>\n",
              "      <td>50.0</td>\n",
              "      <td>15360.0</td>\n",
              "      <td>500.0</td>\n",
              "      <td>20.0</td>\n",
              "      <td>10.0</td>\n",
              "      <td>0.03</td>\n",
              "      <td>0.03</td>\n",
              "      <td>90.05</td>\n",
              "    </tr>\n",
              "    <tr>\n",
              "      <td>4</td>\n",
              "      <td>1001</td>\n",
              "      <td>mickey</td>\n",
              "      <td>wilkerson</td>\n",
              "      <td>28.0</td>\n",
              "      <td>seattle-tacoma-bellevue, wa msa</td>\n",
              "      <td>2018-08-13</td>\n",
              "      <td>surf</td>\n",
              "      <td>plan still in use</td>\n",
              "      <td>11.0</td>\n",
              "      <td>426.0</td>\n",
              "      <td>...</td>\n",
              "      <td>18524.0</td>\n",
              "      <td>surf</td>\n",
              "      <td>50.0</td>\n",
              "      <td>15360.0</td>\n",
              "      <td>500.0</td>\n",
              "      <td>20.0</td>\n",
              "      <td>10.0</td>\n",
              "      <td>0.03</td>\n",
              "      <td>0.03</td>\n",
              "      <td>51.64</td>\n",
              "    </tr>\n",
              "  </tbody>\n",
              "</table>\n",
              "<p>5 rows × 22 columns</p>\n",
              "</div>"
            ],
            "text/plain": [
              "   user_id first_name  last_name   age                                   city  \\\n",
              "0     1000   anamaria      bauer  45.0  atlanta-sandy springs-roswell, ga msa   \n",
              "1     1001     mickey  wilkerson  28.0        seattle-tacoma-bellevue, wa msa   \n",
              "2     1001     mickey  wilkerson  28.0        seattle-tacoma-bellevue, wa msa   \n",
              "3     1001     mickey  wilkerson  28.0        seattle-tacoma-bellevue, wa msa   \n",
              "4     1001     mickey  wilkerson  28.0        seattle-tacoma-bellevue, wa msa   \n",
              "\n",
              "    reg_date    tariff         churn_date  month  number_calls_per_month  ...  \\\n",
              "0 2018-12-24  ultimate  plan still in use   12.0                   124.0  ...   \n",
              "1 2018-08-13      surf  plan still in use    8.0                   182.0  ...   \n",
              "2 2018-08-13      surf  plan still in use    9.0                   315.0  ...   \n",
              "3 2018-08-13      surf  plan still in use   10.0                   393.0  ...   \n",
              "4 2018-08-13      surf  plan still in use   11.0                   426.0  ...   \n",
              "\n",
              "   volume_data_per_month  plan_name  messages_included mb_per_month_included  \\\n",
              "0                 1903.0   ultimate             1000.0               30720.0   \n",
              "1                 6929.0       surf               50.0               15360.0   \n",
              "2                13333.0       surf               50.0               15360.0   \n",
              "3                22356.0       surf               50.0               15360.0   \n",
              "4                18524.0       surf               50.0               15360.0   \n",
              "\n",
              "   minutes_included  usd_monthly_pay  usd_per_gb  usd_per_message  \\\n",
              "0            3000.0             70.0         7.0             0.01   \n",
              "1             500.0             20.0        10.0             0.03   \n",
              "2             500.0             20.0        10.0             0.03   \n",
              "3             500.0             20.0        10.0             0.03   \n",
              "4             500.0             20.0        10.0             0.03   \n",
              "\n",
              "   usd_per_minute  monthly_profit  \n",
              "0            0.01           70.00  \n",
              "1            0.03           20.00  \n",
              "2            0.03           20.00  \n",
              "3            0.03           90.05  \n",
              "4            0.03           51.64  \n",
              "\n",
              "[5 rows x 22 columns]"
            ]
          },
          "metadata": {
            "tags": []
          },
          "execution_count": 224
        }
      ]
    },
    {
      "cell_type": "code",
      "metadata": {
        "id": "mdC0q8hb2jiX",
        "colab_type": "code",
        "colab": {}
      },
      "source": [
        "monthly_profit_for_user = agg_plan.pivot_table(index='user_id', values='monthly_profit', aggfunc='sum')"
      ],
      "execution_count": null,
      "outputs": []
    },
    {
      "cell_type": "code",
      "metadata": {
        "id": "Nvz47VbY2jib",
        "colab_type": "code",
        "colab": {},
        "outputId": "f4e2b8a5-2a95-4828-e02c-93779367249d"
      },
      "source": [
        "monthly_profit_for_user"
      ],
      "execution_count": null,
      "outputs": [
        {
          "output_type": "execute_result",
          "data": {
            "text/html": [
              "<div>\n",
              "<style scoped>\n",
              "    .dataframe tbody tr th:only-of-type {\n",
              "        vertical-align: middle;\n",
              "    }\n",
              "\n",
              "    .dataframe tbody tr th {\n",
              "        vertical-align: top;\n",
              "    }\n",
              "\n",
              "    .dataframe thead th {\n",
              "        text-align: right;\n",
              "    }\n",
              "</style>\n",
              "<table border=\"1\" class=\"dataframe\">\n",
              "  <thead>\n",
              "    <tr style=\"text-align: right;\">\n",
              "      <th></th>\n",
              "      <th>monthly_profit</th>\n",
              "    </tr>\n",
              "    <tr>\n",
              "      <th>user_id</th>\n",
              "      <th></th>\n",
              "    </tr>\n",
              "  </thead>\n",
              "  <tbody>\n",
              "    <tr>\n",
              "      <td>1000</td>\n",
              "      <td>70.00</td>\n",
              "    </tr>\n",
              "    <tr>\n",
              "      <td>1001</td>\n",
              "      <td>242.07</td>\n",
              "    </tr>\n",
              "    <tr>\n",
              "      <td>1002</td>\n",
              "      <td>100.04</td>\n",
              "    </tr>\n",
              "    <tr>\n",
              "      <td>1003</td>\n",
              "      <td>155.21</td>\n",
              "    </tr>\n",
              "    <tr>\n",
              "      <td>1004</td>\n",
              "      <td>592.70</td>\n",
              "    </tr>\n",
              "    <tr>\n",
              "      <td>...</td>\n",
              "      <td>...</td>\n",
              "    </tr>\n",
              "    <tr>\n",
              "      <td>1495</td>\n",
              "      <td>459.00</td>\n",
              "    </tr>\n",
              "    <tr>\n",
              "      <td>1496</td>\n",
              "      <td>121.52</td>\n",
              "    </tr>\n",
              "    <tr>\n",
              "      <td>1497</td>\n",
              "      <td>70.00</td>\n",
              "    </tr>\n",
              "    <tr>\n",
              "      <td>1498</td>\n",
              "      <td>813.73</td>\n",
              "    </tr>\n",
              "    <tr>\n",
              "      <td>1499</td>\n",
              "      <td>203.60</td>\n",
              "    </tr>\n",
              "  </tbody>\n",
              "</table>\n",
              "<p>500 rows × 1 columns</p>\n",
              "</div>"
            ],
            "text/plain": [
              "         monthly_profit\n",
              "user_id                \n",
              "1000              70.00\n",
              "1001             242.07\n",
              "1002             100.04\n",
              "1003             155.21\n",
              "1004             592.70\n",
              "...                 ...\n",
              "1495             459.00\n",
              "1496             121.52\n",
              "1497              70.00\n",
              "1498             813.73\n",
              "1499             203.60\n",
              "\n",
              "[500 rows x 1 columns]"
            ]
          },
          "metadata": {
            "tags": []
          },
          "execution_count": 229
        }
      ]
    },
    {
      "cell_type": "code",
      "metadata": {
        "id": "Pluod17U2jii",
        "colab_type": "code",
        "colab": {}
      },
      "source": [
        "users = users.merge(monthly_profit_for_user, on='user_id', how='left')"
      ],
      "execution_count": null,
      "outputs": []
    },
    {
      "cell_type": "code",
      "metadata": {
        "id": "CDBX2qFz2jix",
        "colab_type": "code",
        "colab": {},
        "outputId": "dca9e3cf-b7b5-4390-f0d9-9e25ebf2ebe5"
      },
      "source": [
        "users"
      ],
      "execution_count": null,
      "outputs": [
        {
          "output_type": "execute_result",
          "data": {
            "text/html": [
              "<div>\n",
              "<style scoped>\n",
              "    .dataframe tbody tr th:only-of-type {\n",
              "        vertical-align: middle;\n",
              "    }\n",
              "\n",
              "    .dataframe tbody tr th {\n",
              "        vertical-align: top;\n",
              "    }\n",
              "\n",
              "    .dataframe thead th {\n",
              "        text-align: right;\n",
              "    }\n",
              "</style>\n",
              "<table border=\"1\" class=\"dataframe\">\n",
              "  <thead>\n",
              "    <tr style=\"text-align: right;\">\n",
              "      <th></th>\n",
              "      <th>user_id</th>\n",
              "      <th>first_name</th>\n",
              "      <th>last_name</th>\n",
              "      <th>age</th>\n",
              "      <th>city</th>\n",
              "      <th>reg_date</th>\n",
              "      <th>tariff</th>\n",
              "      <th>churn_date</th>\n",
              "      <th>monthly_profit</th>\n",
              "    </tr>\n",
              "  </thead>\n",
              "  <tbody>\n",
              "    <tr>\n",
              "      <td>0</td>\n",
              "      <td>1000</td>\n",
              "      <td>anamaria</td>\n",
              "      <td>bauer</td>\n",
              "      <td>45</td>\n",
              "      <td>atlanta-sandy springs-roswell, ga msa</td>\n",
              "      <td>2018-12-24</td>\n",
              "      <td>ultimate</td>\n",
              "      <td>plan still in use</td>\n",
              "      <td>70.00</td>\n",
              "    </tr>\n",
              "    <tr>\n",
              "      <td>1</td>\n",
              "      <td>1001</td>\n",
              "      <td>mickey</td>\n",
              "      <td>wilkerson</td>\n",
              "      <td>28</td>\n",
              "      <td>seattle-tacoma-bellevue, wa msa</td>\n",
              "      <td>2018-08-13</td>\n",
              "      <td>surf</td>\n",
              "      <td>plan still in use</td>\n",
              "      <td>242.07</td>\n",
              "    </tr>\n",
              "    <tr>\n",
              "      <td>2</td>\n",
              "      <td>1002</td>\n",
              "      <td>carlee</td>\n",
              "      <td>hoffman</td>\n",
              "      <td>36</td>\n",
              "      <td>las vegas-henderson-paradise, nv msa</td>\n",
              "      <td>2018-10-21</td>\n",
              "      <td>surf</td>\n",
              "      <td>plan still in use</td>\n",
              "      <td>100.04</td>\n",
              "    </tr>\n",
              "    <tr>\n",
              "      <td>3</td>\n",
              "      <td>1003</td>\n",
              "      <td>reynaldo</td>\n",
              "      <td>jenkins</td>\n",
              "      <td>52</td>\n",
              "      <td>tulsa, ok msa</td>\n",
              "      <td>2018-01-28</td>\n",
              "      <td>surf</td>\n",
              "      <td>plan still in use</td>\n",
              "      <td>155.21</td>\n",
              "    </tr>\n",
              "    <tr>\n",
              "      <td>4</td>\n",
              "      <td>1004</td>\n",
              "      <td>leonila</td>\n",
              "      <td>thompson</td>\n",
              "      <td>40</td>\n",
              "      <td>seattle-tacoma-bellevue, wa msa</td>\n",
              "      <td>2018-05-23</td>\n",
              "      <td>surf</td>\n",
              "      <td>plan still in use</td>\n",
              "      <td>592.70</td>\n",
              "    </tr>\n",
              "    <tr>\n",
              "      <td>...</td>\n",
              "      <td>...</td>\n",
              "      <td>...</td>\n",
              "      <td>...</td>\n",
              "      <td>...</td>\n",
              "      <td>...</td>\n",
              "      <td>...</td>\n",
              "      <td>...</td>\n",
              "      <td>...</td>\n",
              "      <td>...</td>\n",
              "    </tr>\n",
              "    <tr>\n",
              "      <td>495</td>\n",
              "      <td>1495</td>\n",
              "      <td>fidel</td>\n",
              "      <td>sharpe</td>\n",
              "      <td>67</td>\n",
              "      <td>new york-newark-jersey city, ny-nj-pa msa</td>\n",
              "      <td>2018-09-04</td>\n",
              "      <td>surf</td>\n",
              "      <td>plan still in use</td>\n",
              "      <td>459.00</td>\n",
              "    </tr>\n",
              "    <tr>\n",
              "      <td>496</td>\n",
              "      <td>1496</td>\n",
              "      <td>ariel</td>\n",
              "      <td>shepherd</td>\n",
              "      <td>49</td>\n",
              "      <td>new orleans-metairie, la msa</td>\n",
              "      <td>2018-02-20</td>\n",
              "      <td>surf</td>\n",
              "      <td>plan still in use</td>\n",
              "      <td>121.52</td>\n",
              "    </tr>\n",
              "    <tr>\n",
              "      <td>497</td>\n",
              "      <td>1497</td>\n",
              "      <td>donte</td>\n",
              "      <td>barrera</td>\n",
              "      <td>49</td>\n",
              "      <td>los angeles-long beach-anaheim, ca msa</td>\n",
              "      <td>2018-12-10</td>\n",
              "      <td>ultimate</td>\n",
              "      <td>plan still in use</td>\n",
              "      <td>70.00</td>\n",
              "    </tr>\n",
              "    <tr>\n",
              "      <td>498</td>\n",
              "      <td>1498</td>\n",
              "      <td>scot</td>\n",
              "      <td>williamson</td>\n",
              "      <td>51</td>\n",
              "      <td>new york-newark-jersey city, ny-nj-pa msa</td>\n",
              "      <td>2018-02-04</td>\n",
              "      <td>surf</td>\n",
              "      <td>plan still in use</td>\n",
              "      <td>813.73</td>\n",
              "    </tr>\n",
              "    <tr>\n",
              "      <td>499</td>\n",
              "      <td>1499</td>\n",
              "      <td>shena</td>\n",
              "      <td>dickson</td>\n",
              "      <td>37</td>\n",
              "      <td>orlando-kissimmee-sanford, fl msa</td>\n",
              "      <td>2018-05-06</td>\n",
              "      <td>surf</td>\n",
              "      <td>plan still in use</td>\n",
              "      <td>203.60</td>\n",
              "    </tr>\n",
              "  </tbody>\n",
              "</table>\n",
              "<p>500 rows × 9 columns</p>\n",
              "</div>"
            ],
            "text/plain": [
              "     user_id first_name   last_name  age  \\\n",
              "0       1000   anamaria       bauer   45   \n",
              "1       1001     mickey   wilkerson   28   \n",
              "2       1002     carlee     hoffman   36   \n",
              "3       1003   reynaldo     jenkins   52   \n",
              "4       1004    leonila    thompson   40   \n",
              "..       ...        ...         ...  ...   \n",
              "495     1495      fidel      sharpe   67   \n",
              "496     1496      ariel    shepherd   49   \n",
              "497     1497      donte     barrera   49   \n",
              "498     1498       scot  williamson   51   \n",
              "499     1499      shena     dickson   37   \n",
              "\n",
              "                                          city   reg_date    tariff  \\\n",
              "0        atlanta-sandy springs-roswell, ga msa 2018-12-24  ultimate   \n",
              "1              seattle-tacoma-bellevue, wa msa 2018-08-13      surf   \n",
              "2         las vegas-henderson-paradise, nv msa 2018-10-21      surf   \n",
              "3                                tulsa, ok msa 2018-01-28      surf   \n",
              "4              seattle-tacoma-bellevue, wa msa 2018-05-23      surf   \n",
              "..                                         ...        ...       ...   \n",
              "495  new york-newark-jersey city, ny-nj-pa msa 2018-09-04      surf   \n",
              "496               new orleans-metairie, la msa 2018-02-20      surf   \n",
              "497     los angeles-long beach-anaheim, ca msa 2018-12-10  ultimate   \n",
              "498  new york-newark-jersey city, ny-nj-pa msa 2018-02-04      surf   \n",
              "499          orlando-kissimmee-sanford, fl msa 2018-05-06      surf   \n",
              "\n",
              "            churn_date  monthly_profit  \n",
              "0    plan still in use           70.00  \n",
              "1    plan still in use          242.07  \n",
              "2    plan still in use          100.04  \n",
              "3    plan still in use          155.21  \n",
              "4    plan still in use          592.70  \n",
              "..                 ...             ...  \n",
              "495  plan still in use          459.00  \n",
              "496  plan still in use          121.52  \n",
              "497  plan still in use           70.00  \n",
              "498  plan still in use          813.73  \n",
              "499  plan still in use          203.60  \n",
              "\n",
              "[500 rows x 9 columns]"
            ]
          },
          "metadata": {
            "tags": []
          },
          "execution_count": 231
        }
      ]
    },
    {
      "cell_type": "markdown",
      "metadata": {
        "id": "7eIi5oN92jjB",
        "colab_type": "text"
      },
      "source": [
        "## Step 3. Analyze the data"
      ]
    },
    {
      "cell_type": "markdown",
      "metadata": {
        "id": "VFuxco9k2jjC",
        "colab_type": "text"
      },
      "source": [
        "#### Describe the customers' behavior. "
      ]
    },
    {
      "cell_type": "code",
      "metadata": {
        "id": "nDujfnv12jjC",
        "colab_type": "code",
        "colab": {}
      },
      "source": [
        "monthly_profit_per_plan = users.pivot_table(index='tariff', values='monthly_profit', aggfunc='sum')"
      ],
      "execution_count": null,
      "outputs": []
    },
    {
      "cell_type": "code",
      "metadata": {
        "id": "NRlg8IOz2jjG",
        "colab_type": "code",
        "colab": {},
        "outputId": "713d347c-c3ab-4fbc-f480-34713c72bacc"
      },
      "source": [
        "monthly_profit_per_plan"
      ],
      "execution_count": null,
      "outputs": [
        {
          "output_type": "execute_result",
          "data": {
            "text/html": [
              "<div>\n",
              "<style scoped>\n",
              "    .dataframe tbody tr th:only-of-type {\n",
              "        vertical-align: middle;\n",
              "    }\n",
              "\n",
              "    .dataframe tbody tr th {\n",
              "        vertical-align: top;\n",
              "    }\n",
              "\n",
              "    .dataframe thead th {\n",
              "        text-align: right;\n",
              "    }\n",
              "</style>\n",
              "<table border=\"1\" class=\"dataframe\">\n",
              "  <thead>\n",
              "    <tr style=\"text-align: right;\">\n",
              "      <th></th>\n",
              "      <th>monthly_profit</th>\n",
              "    </tr>\n",
              "    <tr>\n",
              "      <th>tariff</th>\n",
              "      <th></th>\n",
              "    </tr>\n",
              "  </thead>\n",
              "  <tbody>\n",
              "    <tr>\n",
              "      <td>surf</td>\n",
              "      <td>89972.820</td>\n",
              "    </tr>\n",
              "    <tr>\n",
              "      <td>ultimate</td>\n",
              "      <td>51857.547</td>\n",
              "    </tr>\n",
              "  </tbody>\n",
              "</table>\n",
              "</div>"
            ],
            "text/plain": [
              "          monthly_profit\n",
              "tariff                  \n",
              "surf           89972.820\n",
              "ultimate       51857.547"
            ]
          },
          "metadata": {
            "tags": []
          },
          "execution_count": 233
        }
      ]
    },
    {
      "cell_type": "markdown",
      "metadata": {
        "id": "b64JoIG42jjK",
        "colab_type": "text"
      },
      "source": [
        "It seems that the surf plan is more profitable since the users go over the limits included in the plan and pay for additional minutes, messages, and internet."
      ]
    },
    {
      "cell_type": "code",
      "metadata": {
        "id": "ylRIgAeA2jjL",
        "colab_type": "code",
        "colab": {}
      },
      "source": [
        "surf_data = agg_plan[agg_plan['tariff'] == 'surf']"
      ],
      "execution_count": null,
      "outputs": []
    },
    {
      "cell_type": "code",
      "metadata": {
        "id": "IYPUxYVY2jjX",
        "colab_type": "code",
        "colab": {}
      },
      "source": [
        "ultimate_data = agg_plan[agg_plan['tariff'] == 'ultimate']"
      ],
      "execution_count": null,
      "outputs": []
    },
    {
      "cell_type": "markdown",
      "metadata": {
        "id": "dVvgCAcJ2jjc",
        "colab_type": "text"
      },
      "source": [
        " ##### Find the minutes the users of each plan require per month. "
      ]
    },
    {
      "cell_type": "markdown",
      "metadata": {
        "id": "vC9BE_sG2jjc",
        "colab_type": "text"
      },
      "source": [
        "Calculate the mean."
      ]
    },
    {
      "cell_type": "markdown",
      "metadata": {
        "id": "FLkN1NOs2jjd",
        "colab_type": "text"
      },
      "source": [
        "-surf"
      ]
    },
    {
      "cell_type": "code",
      "metadata": {
        "id": "Fn1RFyex2jje",
        "colab_type": "code",
        "colab": {}
      },
      "source": [
        "surf_min_mean = surf_data['minutes_used_per_month'].mean()"
      ],
      "execution_count": null,
      "outputs": []
    },
    {
      "cell_type": "code",
      "metadata": {
        "id": "RpGd2ogp2jjs",
        "colab_type": "code",
        "colab": {},
        "outputId": "0ec29b31-3554-4571-fa3c-cb55745ba203"
      },
      "source": [
        "surf_min_mean"
      ],
      "execution_count": null,
      "outputs": [
        {
          "output_type": "execute_result",
          "data": {
            "text/plain": [
              "436.51974110032364"
            ]
          },
          "metadata": {
            "tags": []
          },
          "execution_count": 237
        }
      ]
    },
    {
      "cell_type": "markdown",
      "metadata": {
        "id": "B28d4rbG2jj6",
        "colab_type": "text"
      },
      "source": [
        "-ultimate"
      ]
    },
    {
      "cell_type": "code",
      "metadata": {
        "id": "FRdo9l6V2jj9",
        "colab_type": "code",
        "colab": {}
      },
      "source": [
        "ultimate_min_mean = ultimate_data['minutes_used_per_month'].mean()"
      ],
      "execution_count": null,
      "outputs": []
    },
    {
      "cell_type": "code",
      "metadata": {
        "id": "MfYj1Rf-2jkF",
        "colab_type": "code",
        "colab": {},
        "outputId": "6790f7cd-f663-42f4-82aa-7d5e13c1c01a"
      },
      "source": [
        "ultimate_min_mean"
      ],
      "execution_count": null,
      "outputs": [
        {
          "output_type": "execute_result",
          "data": {
            "text/plain": [
              "434.67601683029454"
            ]
          },
          "metadata": {
            "tags": []
          },
          "execution_count": 239
        }
      ]
    },
    {
      "cell_type": "code",
      "metadata": {
        "id": "29kzPULr2jkJ",
        "colab_type": "code",
        "colab": {}
      },
      "source": [
        "plans['avg_call_minutes_per_month_for_plan']= [surf_min_mean, ultimate_min_mean]"
      ],
      "execution_count": null,
      "outputs": []
    },
    {
      "cell_type": "code",
      "metadata": {
        "id": "Zr_X08Q02jkM",
        "colab_type": "code",
        "colab": {},
        "outputId": "2b65f5ad-feef-4cbe-de04-f5bb7111c4ff"
      },
      "source": [
        "plans"
      ],
      "execution_count": null,
      "outputs": [
        {
          "output_type": "execute_result",
          "data": {
            "text/html": [
              "<div>\n",
              "<style scoped>\n",
              "    .dataframe tbody tr th:only-of-type {\n",
              "        vertical-align: middle;\n",
              "    }\n",
              "\n",
              "    .dataframe tbody tr th {\n",
              "        vertical-align: top;\n",
              "    }\n",
              "\n",
              "    .dataframe thead th {\n",
              "        text-align: right;\n",
              "    }\n",
              "</style>\n",
              "<table border=\"1\" class=\"dataframe\">\n",
              "  <thead>\n",
              "    <tr style=\"text-align: right;\">\n",
              "      <th></th>\n",
              "      <th>messages_included</th>\n",
              "      <th>mb_per_month_included</th>\n",
              "      <th>minutes_included</th>\n",
              "      <th>usd_monthly_pay</th>\n",
              "      <th>usd_per_gb</th>\n",
              "      <th>usd_per_message</th>\n",
              "      <th>usd_per_minute</th>\n",
              "      <th>plan_name</th>\n",
              "      <th>avg_call_minutes_per_month_for_plan</th>\n",
              "    </tr>\n",
              "  </thead>\n",
              "  <tbody>\n",
              "    <tr>\n",
              "      <td>0</td>\n",
              "      <td>50</td>\n",
              "      <td>15360</td>\n",
              "      <td>500</td>\n",
              "      <td>20</td>\n",
              "      <td>10</td>\n",
              "      <td>0.03</td>\n",
              "      <td>0.03</td>\n",
              "      <td>surf</td>\n",
              "      <td>436.519741</td>\n",
              "    </tr>\n",
              "    <tr>\n",
              "      <td>1</td>\n",
              "      <td>1000</td>\n",
              "      <td>30720</td>\n",
              "      <td>3000</td>\n",
              "      <td>70</td>\n",
              "      <td>7</td>\n",
              "      <td>0.01</td>\n",
              "      <td>0.01</td>\n",
              "      <td>ultimate</td>\n",
              "      <td>434.676017</td>\n",
              "    </tr>\n",
              "  </tbody>\n",
              "</table>\n",
              "</div>"
            ],
            "text/plain": [
              "   messages_included  mb_per_month_included  minutes_included  \\\n",
              "0                 50                  15360               500   \n",
              "1               1000                  30720              3000   \n",
              "\n",
              "   usd_monthly_pay  usd_per_gb  usd_per_message  usd_per_minute plan_name  \\\n",
              "0               20          10             0.03            0.03      surf   \n",
              "1               70           7             0.01            0.01  ultimate   \n",
              "\n",
              "   avg_call_minutes_per_month_for_plan  \n",
              "0                           436.519741  \n",
              "1                           434.676017  "
            ]
          },
          "metadata": {
            "tags": []
          },
          "execution_count": 241
        }
      ]
    },
    {
      "cell_type": "markdown",
      "metadata": {
        "id": "RuxTl1wP2jkR",
        "colab_type": "text"
      },
      "source": [
        "Calculate the dispersion."
      ]
    },
    {
      "cell_type": "code",
      "metadata": {
        "id": "9MNLwZGf2jkR",
        "colab_type": "code",
        "colab": {}
      },
      "source": [
        "import numpy as np"
      ],
      "execution_count": null,
      "outputs": []
    },
    {
      "cell_type": "markdown",
      "metadata": {
        "id": "Gl6HML0Q2jkY",
        "colab_type": "text"
      },
      "source": [
        "-surf"
      ]
    },
    {
      "cell_type": "code",
      "metadata": {
        "id": "VG3e38zH2jkZ",
        "colab_type": "code",
        "colab": {}
      },
      "source": [
        "surf_min_var = np.var(surf_data['minutes_used_per_month'])"
      ],
      "execution_count": null,
      "outputs": []
    },
    {
      "cell_type": "code",
      "metadata": {
        "id": "r2CZkHZx2jki",
        "colab_type": "code",
        "colab": {},
        "outputId": "060eac28-1197-4470-d0c9-918d15e598f7"
      },
      "source": [
        "surf_min_var"
      ],
      "execution_count": null,
      "outputs": [
        {
          "output_type": "execute_result",
          "data": {
            "text/plain": [
              "52537.03666530514"
            ]
          },
          "metadata": {
            "tags": []
          },
          "execution_count": 244
        }
      ]
    },
    {
      "cell_type": "markdown",
      "metadata": {
        "id": "rB5QwawH2jkm",
        "colab_type": "text"
      },
      "source": [
        "-ultimate"
      ]
    },
    {
      "cell_type": "code",
      "metadata": {
        "id": "Y1JGFG1u2jkn",
        "colab_type": "code",
        "colab": {}
      },
      "source": [
        "ultimate_min_var = np.var(ultimate_data['minutes_used_per_month'])"
      ],
      "execution_count": null,
      "outputs": []
    },
    {
      "cell_type": "code",
      "metadata": {
        "id": "nJ3JLxW72jkq",
        "colab_type": "code",
        "colab": {},
        "outputId": "4e190d3f-b64d-4796-ccbb-ef735d070e4c"
      },
      "source": [
        "ultimate_min_var"
      ],
      "execution_count": null,
      "outputs": [
        {
          "output_type": "execute_result",
          "data": {
            "text/plain": [
              "56494.28633925357"
            ]
          },
          "metadata": {
            "tags": []
          },
          "execution_count": 246
        }
      ]
    },
    {
      "cell_type": "markdown",
      "metadata": {
        "id": "CPTrU_Rx2jku",
        "colab_type": "text"
      },
      "source": [
        "Calculate the standard deviation. "
      ]
    },
    {
      "cell_type": "markdown",
      "metadata": {
        "id": "rjgJNCsP2jkv",
        "colab_type": "text"
      },
      "source": [
        "-surf"
      ]
    },
    {
      "cell_type": "code",
      "metadata": {
        "id": "QJ1Pb9p22jkw",
        "colab_type": "code",
        "colab": {}
      },
      "source": [
        "surf_min_std = np.sqrt(surf_min_var)"
      ],
      "execution_count": null,
      "outputs": []
    },
    {
      "cell_type": "code",
      "metadata": {
        "id": "rybJFgVP2jk2",
        "colab_type": "code",
        "colab": {},
        "outputId": "030059fc-c15c-4d45-e001-b2ec7fa24078"
      },
      "source": [
        "surf_min_std"
      ],
      "execution_count": null,
      "outputs": [
        {
          "output_type": "execute_result",
          "data": {
            "text/plain": [
              "229.20959112852398"
            ]
          },
          "metadata": {
            "tags": []
          },
          "execution_count": 248
        }
      ]
    },
    {
      "cell_type": "markdown",
      "metadata": {
        "id": "WOPSPJ8f2jk5",
        "colab_type": "text"
      },
      "source": [
        "-ultimate"
      ]
    },
    {
      "cell_type": "code",
      "metadata": {
        "id": "h7c14sLd2jk6",
        "colab_type": "code",
        "colab": {}
      },
      "source": [
        "ultimate_min_std = np.sqrt(ultimate_min_var)"
      ],
      "execution_count": null,
      "outputs": []
    },
    {
      "cell_type": "code",
      "metadata": {
        "id": "FR8GTqHo2jk_",
        "colab_type": "code",
        "colab": {},
        "outputId": "ab8faeed-80ab-46f5-a9f3-37e592deb04c"
      },
      "source": [
        "ultimate_min_std"
      ],
      "execution_count": null,
      "outputs": [
        {
          "output_type": "execute_result",
          "data": {
            "text/plain": [
              "237.68526740051342"
            ]
          },
          "metadata": {
            "tags": []
          },
          "execution_count": 250
        }
      ]
    },
    {
      "cell_type": "markdown",
      "metadata": {
        "id": "I7PLYAJy2jlG",
        "colab_type": "text"
      },
      "source": [
        " Plot histogram. Describe the distributions."
      ]
    },
    {
      "cell_type": "markdown",
      "metadata": {
        "id": "1J0Zbd3C2jlH",
        "colab_type": "text"
      },
      "source": [
        "-surf"
      ]
    },
    {
      "cell_type": "code",
      "metadata": {
        "id": "4MJr5h2v2jlI",
        "colab_type": "code",
        "colab": {},
        "outputId": "e0d9c50d-4608-4b39-81ae-30f71d1e1f72"
      },
      "source": [
        "surf_data['minutes_used_per_month'].hist(bins=[0,100, 200, 300, 400, 500, 600, 700, 800, 900, 1000, 1100, 1200, 1300, 1400, 1500, 1600])"
      ],
      "execution_count": null,
      "outputs": [
        {
          "output_type": "execute_result",
          "data": {
            "text/plain": [
              "<matplotlib.axes._subplots.AxesSubplot at 0x7f767c19c050>"
            ]
          },
          "metadata": {
            "tags": []
          },
          "execution_count": 251
        },
        {
          "output_type": "display_data",
          "data": {
            "image/png": "[encoded data removed]",
            "text/plain": [
              "<Figure size 432x288 with 1 Axes>"
            ]
          },
          "metadata": {
            "tags": [],
            "needs_background": "light"
          }
        }
      ]
    },
    {
      "cell_type": "markdown",
      "metadata": {
        "id": "v_KWioNe2jlM",
        "colab_type": "text"
      },
      "source": [
        "-ultimate"
      ]
    },
    {
      "cell_type": "code",
      "metadata": {
        "id": "vZ4phfc42jlM",
        "colab_type": "code",
        "colab": {},
        "outputId": "88e7431d-dd0f-441a-dbdc-b848d7747b99"
      },
      "source": [
        "ultimate_data['minutes_used_per_month'].hist(bins=[0,100, 200, 300, 400, 500, 600, 700, 800, 900, 1000, 1100, 1200, 1300, 1400, 1500, 1600])"
      ],
      "execution_count": null,
      "outputs": [
        {
          "output_type": "execute_result",
          "data": {
            "text/plain": [
              "<matplotlib.axes._subplots.AxesSubplot at 0x7f767c0b3250>"
            ]
          },
          "metadata": {
            "tags": []
          },
          "execution_count": 252
        },
        {
          "output_type": "display_data",
          "data": {
            "image/png": "[encoded data removed]",
            "text/plain": [
              "<Figure size 432x288 with 1 Axes>"
            ]
          },
          "metadata": {
            "tags": [],
            "needs_background": "light"
          }
        }
      ]
    },
    {
      "cell_type": "code",
      "metadata": {
        "id": "ygoaieUD2jlZ",
        "colab_type": "code",
        "colab": {},
        "outputId": "33078a59-36e7-48e8-ea64-3ae079e17bfd"
      },
      "source": [
        "surf_data['minutes_used_per_month'].mean()"
      ],
      "execution_count": null,
      "outputs": [
        {
          "output_type": "execute_result",
          "data": {
            "text/plain": [
              "436.51974110032364"
            ]
          },
          "metadata": {
            "tags": []
          },
          "execution_count": 253
        }
      ]
    },
    {
      "cell_type": "code",
      "metadata": {
        "id": "vRLRMjxQ2jld",
        "colab_type": "code",
        "colab": {},
        "outputId": "370eae0d-2a4f-4b35-9008-7724ad3b6a59"
      },
      "source": [
        "surf_data['minutes_used_per_month'].median()"
      ],
      "execution_count": null,
      "outputs": [
        {
          "output_type": "execute_result",
          "data": {
            "text/plain": [
              "430.0"
            ]
          },
          "metadata": {
            "tags": []
          },
          "execution_count": 254
        }
      ]
    },
    {
      "cell_type": "code",
      "metadata": {
        "id": "tmGMeR2b2jlh",
        "colab_type": "code",
        "colab": {},
        "outputId": "8e263a92-5550-4a98-c2dd-c5fa0dab5de2"
      },
      "source": [
        "ultimate_data['minutes_used_per_month'].mean()"
      ],
      "execution_count": null,
      "outputs": [
        {
          "output_type": "execute_result",
          "data": {
            "text/plain": [
              "434.67601683029454"
            ]
          },
          "metadata": {
            "tags": []
          },
          "execution_count": 255
        }
      ]
    },
    {
      "cell_type": "code",
      "metadata": {
        "id": "6C3XwwYe2jl3",
        "colab_type": "code",
        "colab": {},
        "outputId": "06c0e8b3-e2dc-4480-97e4-031d360a792a"
      },
      "source": [
        "ultimate_data['minutes_used_per_month'].median()"
      ],
      "execution_count": null,
      "outputs": [
        {
          "output_type": "execute_result",
          "data": {
            "text/plain": [
              "425.0"
            ]
          },
          "metadata": {
            "tags": []
          },
          "execution_count": 256
        }
      ]
    },
    {
      "cell_type": "markdown",
      "metadata": {
        "id": "OWLhCeqA2jl8",
        "colab_type": "text"
      },
      "source": [
        "The data has a normal distribution. Surf and ultimate is skewed to the right (mean > median).\n",
        "\n",
        "Surf plan users go over their monthly 500 minute limit but the ultimate plan users stay under their monthly 3000 minute limit. "
      ]
    },
    {
      "cell_type": "markdown",
      "metadata": {
        "id": "G09gUY5m2jl9",
        "colab_type": "text"
      },
      "source": [
        " ##### Find the texts the users of each plan require per month. "
      ]
    },
    {
      "cell_type": "markdown",
      "metadata": {
        "id": "0JFFDReE2jl-",
        "colab_type": "text"
      },
      "source": [
        "Calculate the mean. "
      ]
    },
    {
      "cell_type": "markdown",
      "metadata": {
        "id": "J9rO5art2jl_",
        "colab_type": "text"
      },
      "source": [
        "-surf"
      ]
    },
    {
      "cell_type": "code",
      "metadata": {
        "id": "HJ6FJK-n2jmA",
        "colab_type": "code",
        "colab": {}
      },
      "source": [
        "surf_msg_mean = surf_data['number_messages_per_month'].mean()"
      ],
      "execution_count": null,
      "outputs": []
    },
    {
      "cell_type": "code",
      "metadata": {
        "id": "alOJoA8Q2jmE",
        "colab_type": "code",
        "colab": {},
        "outputId": "1f5f7412-5748-4706-a443-99cf7cc18017"
      },
      "source": [
        "surf_msg_mean"
      ],
      "execution_count": null,
      "outputs": [
        {
          "output_type": "execute_result",
          "data": {
            "text/plain": [
              "39.98073701842546"
            ]
          },
          "metadata": {
            "tags": []
          },
          "execution_count": 258
        }
      ]
    },
    {
      "cell_type": "markdown",
      "metadata": {
        "id": "Ezrjrtf82jmJ",
        "colab_type": "text"
      },
      "source": [
        "-ultimate"
      ]
    },
    {
      "cell_type": "code",
      "metadata": {
        "id": "Zfo3Yqw_2jmK",
        "colab_type": "code",
        "colab": {}
      },
      "source": [
        "ultimate_msg_mean = ultimate_data['number_messages_per_month'].mean()"
      ],
      "execution_count": null,
      "outputs": []
    },
    {
      "cell_type": "code",
      "metadata": {
        "id": "mpKY3irh2jmN",
        "colab_type": "code",
        "colab": {},
        "outputId": "e2dcc9f3-ebee-44fd-d976-8960942568fa"
      },
      "source": [
        "ultimate_msg_mean"
      ],
      "execution_count": null,
      "outputs": [
        {
          "output_type": "execute_result",
          "data": {
            "text/plain": [
              "46.4559585492228"
            ]
          },
          "metadata": {
            "tags": []
          },
          "execution_count": 260
        }
      ]
    },
    {
      "cell_type": "code",
      "metadata": {
        "id": "T-tU_clr2jmT",
        "colab_type": "code",
        "colab": {}
      },
      "source": [
        "plans['avg_texts_per_month_for_plan']= [surf_msg_mean, ultimate_msg_mean]"
      ],
      "execution_count": null,
      "outputs": []
    },
    {
      "cell_type": "markdown",
      "metadata": {
        "id": "s5G8ioox2jmX",
        "colab_type": "text"
      },
      "source": [
        "Calculate the dispersion."
      ]
    },
    {
      "cell_type": "markdown",
      "metadata": {
        "id": "nuv7eIf92jmY",
        "colab_type": "text"
      },
      "source": [
        "-surf"
      ]
    },
    {
      "cell_type": "code",
      "metadata": {
        "id": "q2-YkK6b2jmZ",
        "colab_type": "code",
        "colab": {}
      },
      "source": [
        "surf_msg_var = np.var(surf_data['number_messages_per_month'])"
      ],
      "execution_count": null,
      "outputs": []
    },
    {
      "cell_type": "code",
      "metadata": {
        "id": "tCPVe13d2jmd",
        "colab_type": "code",
        "colab": {},
        "outputId": "d449773d-66a6-4aac-f931-9e37b9a63eb4"
      },
      "source": [
        "surf_msg_var"
      ],
      "execution_count": null,
      "outputs": [
        {
          "output_type": "execute_result",
          "data": {
            "text/plain": [
              "1100.6152068269882"
            ]
          },
          "metadata": {
            "tags": []
          },
          "execution_count": 263
        }
      ]
    },
    {
      "cell_type": "markdown",
      "metadata": {
        "id": "4lau2pyh2jmi",
        "colab_type": "text"
      },
      "source": [
        "-ultimate"
      ]
    },
    {
      "cell_type": "code",
      "metadata": {
        "id": "n8b7uxqS2jmj",
        "colab_type": "code",
        "colab": {}
      },
      "source": [
        "ultimate_msg_var = np.var(ultimate_data['number_messages_per_month'])"
      ],
      "execution_count": null,
      "outputs": []
    },
    {
      "cell_type": "code",
      "metadata": {
        "id": "ovP52jIe2jmn",
        "colab_type": "code",
        "colab": {},
        "outputId": "fc104aea-c2c9-4ab0-829e-5752b81c4c9b"
      },
      "source": [
        "ultimate_msg_var"
      ],
      "execution_count": null,
      "outputs": [
        {
          "output_type": "execute_result",
          "data": {
            "text/plain": [
              "1082.5209446338606"
            ]
          },
          "metadata": {
            "tags": []
          },
          "execution_count": 265
        }
      ]
    },
    {
      "cell_type": "markdown",
      "metadata": {
        "id": "ZUIrikxI2jmr",
        "colab_type": "text"
      },
      "source": [
        "Calculate the standard deviation. "
      ]
    },
    {
      "cell_type": "markdown",
      "metadata": {
        "id": "uek6B6E32jms",
        "colab_type": "text"
      },
      "source": [
        "-surf"
      ]
    },
    {
      "cell_type": "code",
      "metadata": {
        "id": "32gFBmby2jmv",
        "colab_type": "code",
        "colab": {}
      },
      "source": [
        "surf_msg_std = np.sqrt(surf_msg_var)"
      ],
      "execution_count": null,
      "outputs": []
    },
    {
      "cell_type": "code",
      "metadata": {
        "id": "ma8eHuWU2jmz",
        "colab_type": "code",
        "colab": {},
        "outputId": "013c425e-374d-4fb2-cff9-e543d53b7b82"
      },
      "source": [
        "surf_msg_std"
      ],
      "execution_count": null,
      "outputs": [
        {
          "output_type": "execute_result",
          "data": {
            "text/plain": [
              "33.17552119902547"
            ]
          },
          "metadata": {
            "tags": []
          },
          "execution_count": 267
        }
      ]
    },
    {
      "cell_type": "markdown",
      "metadata": {
        "id": "poxgL2Vl2jm5",
        "colab_type": "text"
      },
      "source": [
        "-ultimate"
      ]
    },
    {
      "cell_type": "code",
      "metadata": {
        "id": "_9Xyz8K62jm8",
        "colab_type": "code",
        "colab": {}
      },
      "source": [
        "ultimate_msg_std = np.sqrt(ultimate_msg_var)"
      ],
      "execution_count": null,
      "outputs": []
    },
    {
      "cell_type": "code",
      "metadata": {
        "id": "IiXllAUG2jnB",
        "colab_type": "code",
        "colab": {},
        "outputId": "9ac75df5-64d3-4bb1-ecd6-a114ab06a558"
      },
      "source": [
        "ultimate_msg_std"
      ],
      "execution_count": null,
      "outputs": [
        {
          "output_type": "execute_result",
          "data": {
            "text/plain": [
              "32.901686045457616"
            ]
          },
          "metadata": {
            "tags": []
          },
          "execution_count": 269
        }
      ]
    },
    {
      "cell_type": "markdown",
      "metadata": {
        "id": "P5qP_B3e2jnF",
        "colab_type": "text"
      },
      "source": [
        " Plot histogram. Describe the distributions."
      ]
    },
    {
      "cell_type": "markdown",
      "metadata": {
        "id": "Iok8g7dB2jnJ",
        "colab_type": "text"
      },
      "source": [
        "-surf"
      ]
    },
    {
      "cell_type": "code",
      "metadata": {
        "id": "5b8xFguB2jnK",
        "colab_type": "code",
        "colab": {},
        "outputId": "466552d5-02dc-49db-aabf-c9c717e4407a"
      },
      "source": [
        "surf_data['number_messages_per_month'].hist(bins=[0,20,40,60,80,100,120,140,160,180])"
      ],
      "execution_count": null,
      "outputs": [
        {
          "output_type": "execute_result",
          "data": {
            "text/plain": [
              "<matplotlib.axes._subplots.AxesSubplot at 0x7f767c1a85d0>"
            ]
          },
          "metadata": {
            "tags": []
          },
          "execution_count": 270
        },
        {
          "output_type": "display_data",
          "data": {
            "image/png": "[encoded data removed]",
            "text/plain": [
              "<Figure size 432x288 with 1 Axes>"
            ]
          },
          "metadata": {
            "tags": [],
            "needs_background": "light"
          }
        }
      ]
    },
    {
      "cell_type": "markdown",
      "metadata": {
        "id": "VfyMamqN2jnO",
        "colab_type": "text"
      },
      "source": [
        "-ultimate"
      ]
    },
    {
      "cell_type": "code",
      "metadata": {
        "scrolled": true,
        "id": "4kqrQxJJ2jnO",
        "colab_type": "code",
        "colab": {},
        "outputId": "0924c24c-1a82-41b3-c543-6b38d269e028"
      },
      "source": [
        "ultimate_data['number_messages_per_month'].hist(bins=[0,20,40,60,80,100,120,140,160,180])"
      ],
      "execution_count": null,
      "outputs": [
        {
          "output_type": "execute_result",
          "data": {
            "text/plain": [
              "<matplotlib.axes._subplots.AxesSubplot at 0x7f767c01ddd0>"
            ]
          },
          "metadata": {
            "tags": []
          },
          "execution_count": 271
        },
        {
          "output_type": "display_data",
          "data": {
            "image/png": "[encoded data removed]",
            "text/plain": [
              "<Figure size 432x288 with 1 Axes>"
            ]
          },
          "metadata": {
            "tags": [],
            "needs_background": "light"
          }
        }
      ]
    },
    {
      "cell_type": "code",
      "metadata": {
        "id": "ZqYShcIr2jnS",
        "colab_type": "code",
        "colab": {},
        "outputId": "c8ce69cb-38fb-4b9d-9112-e43c7bfe5d5e"
      },
      "source": [
        "surf_data['number_messages_per_month'].mean()"
      ],
      "execution_count": null,
      "outputs": [
        {
          "output_type": "execute_result",
          "data": {
            "text/plain": [
              "39.98073701842546"
            ]
          },
          "metadata": {
            "tags": []
          },
          "execution_count": 272
        }
      ]
    },
    {
      "cell_type": "code",
      "metadata": {
        "id": "fDpqTCla2jnX",
        "colab_type": "code",
        "colab": {},
        "outputId": "682ad3ee-c1bc-4651-a0f4-97c01c89e6ab"
      },
      "source": [
        "surf_data['number_messages_per_month'].median()"
      ],
      "execution_count": null,
      "outputs": [
        {
          "output_type": "execute_result",
          "data": {
            "text/plain": [
              "32.0"
            ]
          },
          "metadata": {
            "tags": []
          },
          "execution_count": 273
        }
      ]
    },
    {
      "cell_type": "code",
      "metadata": {
        "id": "LFAkyFOO2jnm",
        "colab_type": "code",
        "colab": {},
        "outputId": "92669251-bb7f-49ee-9aef-8beae545e223"
      },
      "source": [
        "ultimate_data['number_messages_per_month'].mean()"
      ],
      "execution_count": null,
      "outputs": [
        {
          "output_type": "execute_result",
          "data": {
            "text/plain": [
              "46.4559585492228"
            ]
          },
          "metadata": {
            "tags": []
          },
          "execution_count": 274
        }
      ]
    },
    {
      "cell_type": "code",
      "metadata": {
        "id": "GUkt4xft2jn7",
        "colab_type": "code",
        "colab": {},
        "outputId": "5ff4cfa6-c0b9-4262-d45c-76c176e37dd2"
      },
      "source": [
        "ultimate_data['number_messages_per_month'].median()"
      ],
      "execution_count": null,
      "outputs": [
        {
          "output_type": "execute_result",
          "data": {
            "text/plain": [
              "41.0"
            ]
          },
          "metadata": {
            "tags": []
          },
          "execution_count": 275
        }
      ]
    },
    {
      "cell_type": "markdown",
      "metadata": {
        "id": "Kc6yVvgG2joB",
        "colab_type": "text"
      },
      "source": [
        "The data has a normal distribution. Surf and ultimate is skewed to the right (mean > median).\n",
        "\n",
        "Many surf plan users go over their monthly 50 text limit, while ultimate plan users stay under their monthly 1000 text limit. "
      ]
    },
    {
      "cell_type": "markdown",
      "metadata": {
        "id": "9y9XSg-92joO",
        "colab_type": "text"
      },
      "source": [
        "##### Find the volume of data the users of each plan require per month."
      ]
    },
    {
      "cell_type": "markdown",
      "metadata": {
        "id": "trv9ncMM2joO",
        "colab_type": "text"
      },
      "source": [
        "Calculate the mean. "
      ]
    },
    {
      "cell_type": "markdown",
      "metadata": {
        "id": "Ac017tic2joP",
        "colab_type": "text"
      },
      "source": [
        "-surf"
      ]
    },
    {
      "cell_type": "code",
      "metadata": {
        "id": "SUgvVDOn2joP",
        "colab_type": "code",
        "colab": {}
      },
      "source": [
        "surf_int_mean = (surf_data['volume_data_per_month']/1000).mean()"
      ],
      "execution_count": null,
      "outputs": []
    },
    {
      "cell_type": "code",
      "metadata": {
        "id": "OGQ4l6qJ2jok",
        "colab_type": "code",
        "colab": {},
        "outputId": "24b00b94-a619-4389-8f7e-f5162bd6b25c"
      },
      "source": [
        "surf_int_mean"
      ],
      "execution_count": null,
      "outputs": [
        {
          "output_type": "execute_result",
          "data": {
            "text/plain": [
              "16.687230065359476"
            ]
          },
          "metadata": {
            "tags": []
          },
          "execution_count": 277
        }
      ]
    },
    {
      "cell_type": "markdown",
      "metadata": {
        "id": "PR6PbNaE2jop",
        "colab_type": "text"
      },
      "source": [
        "-ultimate"
      ]
    },
    {
      "cell_type": "code",
      "metadata": {
        "id": "ERRc7cpx2jop",
        "colab_type": "code",
        "colab": {}
      },
      "source": [
        "ultimate_int_mean = (ultimate_data['volume_data_per_month']/1000).mean()"
      ],
      "execution_count": null,
      "outputs": []
    },
    {
      "cell_type": "code",
      "metadata": {
        "id": "zVSblLzv2jo_",
        "colab_type": "code",
        "colab": {},
        "outputId": "1359218a-0467-4493-cf5d-a8ab2f220663"
      },
      "source": [
        "ultimate_int_mean"
      ],
      "execution_count": null,
      "outputs": [
        {
          "output_type": "execute_result",
          "data": {
            "text/plain": [
              "17.298039270687237"
            ]
          },
          "metadata": {
            "tags": []
          },
          "execution_count": 279
        }
      ]
    },
    {
      "cell_type": "code",
      "metadata": {
        "id": "dffdwy8h2jpD",
        "colab_type": "code",
        "colab": {}
      },
      "source": [
        "plans['avg_data_volume_per_month_for_plan_gb']= [surf_int_mean, ultimate_int_mean]"
      ],
      "execution_count": null,
      "outputs": []
    },
    {
      "cell_type": "markdown",
      "metadata": {
        "id": "r5wH0D4Y2jpW",
        "colab_type": "text"
      },
      "source": [
        "Calculate the dispersion."
      ]
    },
    {
      "cell_type": "markdown",
      "metadata": {
        "id": "DWG29Fpe2jpX",
        "colab_type": "text"
      },
      "source": [
        "-surf"
      ]
    },
    {
      "cell_type": "code",
      "metadata": {
        "id": "mxEns3HL2jpX",
        "colab_type": "code",
        "colab": {}
      },
      "source": [
        "surf_int_var = np.var(surf_data['volume_data_per_month']/1000)"
      ],
      "execution_count": null,
      "outputs": []
    },
    {
      "cell_type": "code",
      "metadata": {
        "id": "K6wk5-Eo2jpc",
        "colab_type": "code",
        "colab": {},
        "outputId": "02a18e0d-9db8-4bc8-b842-50f07c6c2f47"
      },
      "source": [
        "surf_int_var"
      ],
      "execution_count": null,
      "outputs": [
        {
          "output_type": "execute_result",
          "data": {
            "text/plain": [
              "59.572546625501296"
            ]
          },
          "metadata": {
            "tags": []
          },
          "execution_count": 282
        }
      ]
    },
    {
      "cell_type": "markdown",
      "metadata": {
        "id": "6Bax48Qh2jpg",
        "colab_type": "text"
      },
      "source": [
        "-ultimate"
      ]
    },
    {
      "cell_type": "code",
      "metadata": {
        "id": "TmLez3no2jpi",
        "colab_type": "code",
        "colab": {}
      },
      "source": [
        "ultimate_int_var = np.var(ultimate_data['volume_data_per_month']/1000)"
      ],
      "execution_count": null,
      "outputs": []
    },
    {
      "cell_type": "code",
      "metadata": {
        "id": "1n8bhWSP2jp3",
        "colab_type": "code",
        "colab": {},
        "outputId": "5ac70bd3-c0b1-4a87-9747-34e00032f551"
      },
      "source": [
        "ultimate_int_var"
      ],
      "execution_count": null,
      "outputs": [
        {
          "output_type": "execute_result",
          "data": {
            "text/plain": [
              "60.237521931136634"
            ]
          },
          "metadata": {
            "tags": []
          },
          "execution_count": 284
        }
      ]
    },
    {
      "cell_type": "markdown",
      "metadata": {
        "id": "Q9R0SO4F2jqC",
        "colab_type": "text"
      },
      "source": [
        "Calculate the standard deviation. "
      ]
    },
    {
      "cell_type": "markdown",
      "metadata": {
        "id": "nY8IxPlu2jqD",
        "colab_type": "text"
      },
      "source": [
        "-surf"
      ]
    },
    {
      "cell_type": "code",
      "metadata": {
        "id": "8iZoSnN92jqE",
        "colab_type": "code",
        "colab": {}
      },
      "source": [
        "surf_int_std = np.sqrt(surf_int_var)"
      ],
      "execution_count": null,
      "outputs": []
    },
    {
      "cell_type": "code",
      "metadata": {
        "id": "tXrSxWg32jqH",
        "colab_type": "code",
        "colab": {},
        "outputId": "c51c71d5-94ba-4601-a371-77662d0f6301"
      },
      "source": [
        "surf_int_std"
      ],
      "execution_count": null,
      "outputs": [
        {
          "output_type": "execute_result",
          "data": {
            "text/plain": [
              "7.718325377016785"
            ]
          },
          "metadata": {
            "tags": []
          },
          "execution_count": 286
        }
      ]
    },
    {
      "cell_type": "markdown",
      "metadata": {
        "id": "zc4SrL072jqL",
        "colab_type": "text"
      },
      "source": [
        "-ultimate"
      ]
    },
    {
      "cell_type": "code",
      "metadata": {
        "id": "svrcMlsy2jqL",
        "colab_type": "code",
        "colab": {}
      },
      "source": [
        "ultimate_int_std = np.sqrt(ultimate_int_var)"
      ],
      "execution_count": null,
      "outputs": []
    },
    {
      "cell_type": "code",
      "metadata": {
        "id": "GFNkQSbx2jqR",
        "colab_type": "code",
        "colab": {},
        "outputId": "2e22f03e-277b-4b7e-b9b0-fbc20e2a1e3c"
      },
      "source": [
        "ultimate_int_std"
      ],
      "execution_count": null,
      "outputs": [
        {
          "output_type": "execute_result",
          "data": {
            "text/plain": [
              "7.7612835234345505"
            ]
          },
          "metadata": {
            "tags": []
          },
          "execution_count": 288
        }
      ]
    },
    {
      "cell_type": "markdown",
      "metadata": {
        "id": "ip1bfop62jqV",
        "colab_type": "text"
      },
      "source": [
        " Plot histogram. Describe the distributions."
      ]
    },
    {
      "cell_type": "markdown",
      "metadata": {
        "id": "39g_P3dS2jqW",
        "colab_type": "text"
      },
      "source": [
        "-surf"
      ]
    },
    {
      "cell_type": "code",
      "metadata": {
        "id": "Pn4RPB2w2jqW",
        "colab_type": "code",
        "colab": {},
        "outputId": "f555a326-841a-4b1c-d660-b00ddf767b14"
      },
      "source": [
        "(surf_data['volume_data_per_month']/1000).hist(bins=[0,10,20,30,40,50,60,70,80])"
      ],
      "execution_count": null,
      "outputs": [
        {
          "output_type": "execute_result",
          "data": {
            "text/plain": [
              "<matplotlib.axes._subplots.AxesSubplot at 0x7f767bfbca90>"
            ]
          },
          "metadata": {
            "tags": []
          },
          "execution_count": 289
        },
        {
          "output_type": "display_data",
          "data": {
            "image/png": "[encoded data removed]",
            "text/plain": [
              "<Figure size 432x288 with 1 Axes>"
            ]
          },
          "metadata": {
            "tags": [],
            "needs_background": "light"
          }
        }
      ]
    },
    {
      "cell_type": "markdown",
      "metadata": {
        "id": "A_17wsKb2jqa",
        "colab_type": "text"
      },
      "source": [
        "-ultimate"
      ]
    },
    {
      "cell_type": "code",
      "metadata": {
        "id": "d-REdxfi2jqa",
        "colab_type": "code",
        "colab": {},
        "outputId": "b72a5425-4ec8-4087-bad5-3fe259a196d7"
      },
      "source": [
        "(ultimate_data['volume_data_per_month']/1000).hist(bins=[0,10,20,30,40,50,60,70,80])"
      ],
      "execution_count": null,
      "outputs": [
        {
          "output_type": "execute_result",
          "data": {
            "text/plain": [
              "<matplotlib.axes._subplots.AxesSubplot at 0x7f767bf94590>"
            ]
          },
          "metadata": {
            "tags": []
          },
          "execution_count": 290
        },
        {
          "output_type": "display_data",
          "data": {
            "image/png": "[encoded data removed]",
            "text/plain": [
              "<Figure size 432x288 with 1 Axes>"
            ]
          },
          "metadata": {
            "tags": [],
            "needs_background": "light"
          }
        }
      ]
    },
    {
      "cell_type": "code",
      "metadata": {
        "id": "NqB8aDzy2jqh",
        "colab_type": "code",
        "colab": {},
        "outputId": "baf244af-2803-4113-ce5c-cc387a8ed7ed"
      },
      "source": [
        "(surf_data['volume_data_per_month']/1000).mean()"
      ],
      "execution_count": null,
      "outputs": [
        {
          "output_type": "execute_result",
          "data": {
            "text/plain": [
              "16.687230065359476"
            ]
          },
          "metadata": {
            "tags": []
          },
          "execution_count": 291
        }
      ]
    },
    {
      "cell_type": "code",
      "metadata": {
        "id": "1b6TKpjE2jqm",
        "colab_type": "code",
        "colab": {},
        "outputId": "e6cb29b9-7e7d-4d80-c8d2-dd3cce5cae01"
      },
      "source": [
        "(surf_data['volume_data_per_month']/1000).median()"
      ],
      "execution_count": null,
      "outputs": [
        {
          "output_type": "execute_result",
          "data": {
            "text/plain": [
              "16.9495"
            ]
          },
          "metadata": {
            "tags": []
          },
          "execution_count": 292
        }
      ]
    },
    {
      "cell_type": "code",
      "metadata": {
        "id": "iQymq_LH2jqp",
        "colab_type": "code",
        "colab": {},
        "outputId": "255f7786-228c-4343-cc8b-55df2ee50251"
      },
      "source": [
        "(ultimate_data['volume_data_per_month']/1000).mean()"
      ],
      "execution_count": null,
      "outputs": [
        {
          "output_type": "execute_result",
          "data": {
            "text/plain": [
              "17.298039270687237"
            ]
          },
          "metadata": {
            "tags": []
          },
          "execution_count": 293
        }
      ]
    },
    {
      "cell_type": "code",
      "metadata": {
        "id": "UPfxJqpp2jqt",
        "colab_type": "code",
        "colab": {},
        "outputId": "949f418e-c513-4547-9019-df0756d7ee29"
      },
      "source": [
        "(ultimate_data['volume_data_per_month']/1000).median()"
      ],
      "execution_count": null,
      "outputs": [
        {
          "output_type": "execute_result",
          "data": {
            "text/plain": [
              "16.889"
            ]
          },
          "metadata": {
            "tags": []
          },
          "execution_count": 294
        }
      ]
    },
    {
      "cell_type": "markdown",
      "metadata": {
        "id": "PwqGEN2Q2jqw",
        "colab_type": "text"
      },
      "source": [
        "The data has a normal distribution. Surf is skewed to the left (mean < median) and ultimate is skewed to the right (mean > median).\n",
        "\n",
        "Many surf plan users go over their monthly 15GB limit, while most ultimate plan users stay under their monthly 30 GB limit."
      ]
    },
    {
      "cell_type": "code",
      "metadata": {
        "id": "dAzaZPuT2jqw",
        "colab_type": "code",
        "colab": {},
        "outputId": "e5e5b24c-7092-4f46-ea1a-199529ec8506"
      },
      "source": [
        "plans.head()"
      ],
      "execution_count": null,
      "outputs": [
        {
          "output_type": "execute_result",
          "data": {
            "text/html": [
              "<div>\n",
              "<style scoped>\n",
              "    .dataframe tbody tr th:only-of-type {\n",
              "        vertical-align: middle;\n",
              "    }\n",
              "\n",
              "    .dataframe tbody tr th {\n",
              "        vertical-align: top;\n",
              "    }\n",
              "\n",
              "    .dataframe thead th {\n",
              "        text-align: right;\n",
              "    }\n",
              "</style>\n",
              "<table border=\"1\" class=\"dataframe\">\n",
              "  <thead>\n",
              "    <tr style=\"text-align: right;\">\n",
              "      <th></th>\n",
              "      <th>messages_included</th>\n",
              "      <th>mb_per_month_included</th>\n",
              "      <th>minutes_included</th>\n",
              "      <th>usd_monthly_pay</th>\n",
              "      <th>usd_per_gb</th>\n",
              "      <th>usd_per_message</th>\n",
              "      <th>usd_per_minute</th>\n",
              "      <th>plan_name</th>\n",
              "      <th>avg_call_minutes_per_month_for_plan</th>\n",
              "      <th>avg_texts_per_month_for_plan</th>\n",
              "      <th>avg_data_volume_per_month_for_plan_gb</th>\n",
              "    </tr>\n",
              "  </thead>\n",
              "  <tbody>\n",
              "    <tr>\n",
              "      <td>0</td>\n",
              "      <td>50</td>\n",
              "      <td>15360</td>\n",
              "      <td>500</td>\n",
              "      <td>20</td>\n",
              "      <td>10</td>\n",
              "      <td>0.03</td>\n",
              "      <td>0.03</td>\n",
              "      <td>surf</td>\n",
              "      <td>436.519741</td>\n",
              "      <td>39.980737</td>\n",
              "      <td>16.687230</td>\n",
              "    </tr>\n",
              "    <tr>\n",
              "      <td>1</td>\n",
              "      <td>1000</td>\n",
              "      <td>30720</td>\n",
              "      <td>3000</td>\n",
              "      <td>70</td>\n",
              "      <td>7</td>\n",
              "      <td>0.01</td>\n",
              "      <td>0.01</td>\n",
              "      <td>ultimate</td>\n",
              "      <td>434.676017</td>\n",
              "      <td>46.455959</td>\n",
              "      <td>17.298039</td>\n",
              "    </tr>\n",
              "  </tbody>\n",
              "</table>\n",
              "</div>"
            ],
            "text/plain": [
              "   messages_included  mb_per_month_included  minutes_included  \\\n",
              "0                 50                  15360               500   \n",
              "1               1000                  30720              3000   \n",
              "\n",
              "   usd_monthly_pay  usd_per_gb  usd_per_message  usd_per_minute plan_name  \\\n",
              "0               20          10             0.03            0.03      surf   \n",
              "1               70           7             0.01            0.01  ultimate   \n",
              "\n",
              "   avg_call_minutes_per_month_for_plan  avg_texts_per_month_for_plan  \\\n",
              "0                           436.519741                     39.980737   \n",
              "1                           434.676017                     46.455959   \n",
              "\n",
              "   avg_data_volume_per_month_for_plan_gb  \n",
              "0                              16.687230  \n",
              "1                              17.298039  "
            ]
          },
          "metadata": {
            "tags": []
          },
          "execution_count": 295
        }
      ]
    },
    {
      "cell_type": "markdown",
      "metadata": {
        "id": "uIhiNYNL2jq1",
        "colab_type": "text"
      },
      "source": [
        "## Step 4. Test the hypotheses"
      ]
    },
    {
      "cell_type": "code",
      "metadata": {
        "id": "KwSb9NCj2jq2",
        "colab_type": "code",
        "colab": {}
      },
      "source": [
        "from scipy import stats as st"
      ],
      "execution_count": null,
      "outputs": []
    },
    {
      "cell_type": "markdown",
      "metadata": {
        "id": "tBMG0Ajo2jq6",
        "colab_type": "text"
      },
      "source": [
        "### The average profit from users of Ultimate and Surf calling plans differs."
      ]
    },
    {
      "cell_type": "code",
      "metadata": {
        "id": "t6Kzha012jq7",
        "colab_type": "code",
        "colab": {}
      },
      "source": [
        "avg_user_profit_surf = surf_data['monthly_profit']"
      ],
      "execution_count": null,
      "outputs": []
    },
    {
      "cell_type": "code",
      "metadata": {
        "id": "c116_St22jq_",
        "colab_type": "code",
        "colab": {}
      },
      "source": [
        "avg_user_profit_ultimate = ultimate_data['monthly_profit']"
      ],
      "execution_count": null,
      "outputs": []
    },
    {
      "cell_type": "code",
      "metadata": {
        "id": "Un48JbV82jrD",
        "colab_type": "code",
        "colab": {}
      },
      "source": [
        "alpha = 0.05 "
      ],
      "execution_count": null,
      "outputs": []
    },
    {
      "cell_type": "markdown",
      "metadata": {
        "id": "ZWzw0cGR2jrO",
        "colab_type": "text"
      },
      "source": [
        "#### (You decide what alpha value to use.)"
      ]
    },
    {
      "cell_type": "markdown",
      "metadata": {
        "id": "fxGeTt582jrP",
        "colab_type": "text"
      },
      "source": [
        "I set alpha = 0.05 because this is the conventional threshold value for the p-value. This is the significance level that I chose to test the hypotheses. I would not want to be wrong more than 5% of the time."
      ]
    },
    {
      "cell_type": "code",
      "metadata": {
        "id": "dLk400-K2jrP",
        "colab_type": "code",
        "colab": {}
      },
      "source": [
        "results = st.ttest_ind(\n",
        "        avg_user_profit_surf, \n",
        "        avg_user_profit_ultimate)"
      ],
      "execution_count": null,
      "outputs": []
    },
    {
      "cell_type": "code",
      "metadata": {
        "id": "kJEVwKbU2jrV",
        "colab_type": "code",
        "colab": {},
        "outputId": "0d18900f-cada-46c4-9d58-f80fe900f0a7"
      },
      "source": [
        "print('p-value: ', results.pvalue)"
      ],
      "execution_count": null,
      "outputs": [
        {
          "output_type": "stream",
          "text": [
            "p-value:  9.488405739637983e-13\n"
          ],
          "name": "stdout"
        }
      ]
    },
    {
      "cell_type": "code",
      "metadata": {
        "id": "YzBLW3vO2jrZ",
        "colab_type": "code",
        "colab": {},
        "outputId": "873eb94c-f572-4792-fc2c-841a4452a716"
      },
      "source": [
        "if (results.pvalue < alpha):\n",
        "        print(\"We reject the null hypothesis\")\n",
        "else:\n",
        "        print(\"We can't reject the null hypothesis\")"
      ],
      "execution_count": null,
      "outputs": [
        {
          "output_type": "stream",
          "text": [
            "We reject the null hypothesis\n"
          ],
          "name": "stdout"
        }
      ]
    },
    {
      "cell_type": "markdown",
      "metadata": {
        "id": "Pc7Nsi5R2jrn",
        "colab_type": "text"
      },
      "source": [
        "####  Explain how you formulated the null and alternative hypotheses."
      ]
    },
    {
      "cell_type": "markdown",
      "metadata": {
        "id": "wBb7uPrO2jrr",
        "colab_type": "text"
      },
      "source": [
        "Null hypothesis: The average profit from users of Ultimate and Surf calling plans is the same.\n"
      ]
    },
    {
      "cell_type": "markdown",
      "metadata": {
        "id": "va06JzYR2jrs",
        "colab_type": "text"
      },
      "source": [
        "Alternative hypothesis: The average profit from users of Ultimate and Surf calling plans differs. "
      ]
    },
    {
      "cell_type": "markdown",
      "metadata": {
        "id": "0YHNg_862jrs",
        "colab_type": "text"
      },
      "source": [
        "#### Explain what criterion you used to test the hypotheses and why."
      ]
    },
    {
      "cell_type": "markdown",
      "metadata": {
        "id": "ynWUW_CJ2jrt",
        "colab_type": "text"
      },
      "source": [
        "Since the null hypothesis was rejected, we do not reject the alternative hypothesis and we can say that the average profit from users of Ultimate and Surf calling plans differs."
      ]
    },
    {
      "cell_type": "markdown",
      "metadata": {
        "id": "JXJhs36d2jru",
        "colab_type": "text"
      },
      "source": [
        "### The average profit from users in NY-NJ area is different from that of the users from other regions."
      ]
    },
    {
      "cell_type": "code",
      "metadata": {
        "id": "tJrKrigE2jrv",
        "colab_type": "code",
        "colab": {},
        "outputId": "e39b11e0-f8d1-46a1-ac63-19405254db68"
      },
      "source": [
        "users.head()"
      ],
      "execution_count": null,
      "outputs": [
        {
          "output_type": "execute_result",
          "data": {
            "text/html": [
              "<div>\n",
              "<style scoped>\n",
              "    .dataframe tbody tr th:only-of-type {\n",
              "        vertical-align: middle;\n",
              "    }\n",
              "\n",
              "    .dataframe tbody tr th {\n",
              "        vertical-align: top;\n",
              "    }\n",
              "\n",
              "    .dataframe thead th {\n",
              "        text-align: right;\n",
              "    }\n",
              "</style>\n",
              "<table border=\"1\" class=\"dataframe\">\n",
              "  <thead>\n",
              "    <tr style=\"text-align: right;\">\n",
              "      <th></th>\n",
              "      <th>user_id</th>\n",
              "      <th>first_name</th>\n",
              "      <th>last_name</th>\n",
              "      <th>age</th>\n",
              "      <th>city</th>\n",
              "      <th>reg_date</th>\n",
              "      <th>tariff</th>\n",
              "      <th>churn_date</th>\n",
              "      <th>monthly_profit</th>\n",
              "    </tr>\n",
              "  </thead>\n",
              "  <tbody>\n",
              "    <tr>\n",
              "      <td>0</td>\n",
              "      <td>1000</td>\n",
              "      <td>anamaria</td>\n",
              "      <td>bauer</td>\n",
              "      <td>45</td>\n",
              "      <td>atlanta-sandy springs-roswell, ga msa</td>\n",
              "      <td>2018-12-24</td>\n",
              "      <td>ultimate</td>\n",
              "      <td>plan still in use</td>\n",
              "      <td>70.00</td>\n",
              "    </tr>\n",
              "    <tr>\n",
              "      <td>1</td>\n",
              "      <td>1001</td>\n",
              "      <td>mickey</td>\n",
              "      <td>wilkerson</td>\n",
              "      <td>28</td>\n",
              "      <td>seattle-tacoma-bellevue, wa msa</td>\n",
              "      <td>2018-08-13</td>\n",
              "      <td>surf</td>\n",
              "      <td>plan still in use</td>\n",
              "      <td>242.07</td>\n",
              "    </tr>\n",
              "    <tr>\n",
              "      <td>2</td>\n",
              "      <td>1002</td>\n",
              "      <td>carlee</td>\n",
              "      <td>hoffman</td>\n",
              "      <td>36</td>\n",
              "      <td>las vegas-henderson-paradise, nv msa</td>\n",
              "      <td>2018-10-21</td>\n",
              "      <td>surf</td>\n",
              "      <td>plan still in use</td>\n",
              "      <td>100.04</td>\n",
              "    </tr>\n",
              "    <tr>\n",
              "      <td>3</td>\n",
              "      <td>1003</td>\n",
              "      <td>reynaldo</td>\n",
              "      <td>jenkins</td>\n",
              "      <td>52</td>\n",
              "      <td>tulsa, ok msa</td>\n",
              "      <td>2018-01-28</td>\n",
              "      <td>surf</td>\n",
              "      <td>plan still in use</td>\n",
              "      <td>155.21</td>\n",
              "    </tr>\n",
              "    <tr>\n",
              "      <td>4</td>\n",
              "      <td>1004</td>\n",
              "      <td>leonila</td>\n",
              "      <td>thompson</td>\n",
              "      <td>40</td>\n",
              "      <td>seattle-tacoma-bellevue, wa msa</td>\n",
              "      <td>2018-05-23</td>\n",
              "      <td>surf</td>\n",
              "      <td>plan still in use</td>\n",
              "      <td>592.70</td>\n",
              "    </tr>\n",
              "  </tbody>\n",
              "</table>\n",
              "</div>"
            ],
            "text/plain": [
              "   user_id first_name  last_name  age                                   city  \\\n",
              "0     1000   anamaria      bauer   45  atlanta-sandy springs-roswell, ga msa   \n",
              "1     1001     mickey  wilkerson   28        seattle-tacoma-bellevue, wa msa   \n",
              "2     1002     carlee    hoffman   36   las vegas-henderson-paradise, nv msa   \n",
              "3     1003   reynaldo    jenkins   52                          tulsa, ok msa   \n",
              "4     1004    leonila   thompson   40        seattle-tacoma-bellevue, wa msa   \n",
              "\n",
              "    reg_date    tariff         churn_date  monthly_profit  \n",
              "0 2018-12-24  ultimate  plan still in use           70.00  \n",
              "1 2018-08-13      surf  plan still in use          242.07  \n",
              "2 2018-10-21      surf  plan still in use          100.04  \n",
              "3 2018-01-28      surf  plan still in use          155.21  \n",
              "4 2018-05-23      surf  plan still in use          592.70  "
            ]
          },
          "metadata": {
            "tags": []
          },
          "execution_count": 303
        }
      ]
    },
    {
      "cell_type": "code",
      "metadata": {
        "id": "V3fzzH_x2jrz",
        "colab_type": "code",
        "colab": {},
        "outputId": "d93afe5f-2e21-4516-d3a5-b3a07c82afcf"
      },
      "source": [
        "users['city'].unique()"
      ],
      "execution_count": null,
      "outputs": [
        {
          "output_type": "execute_result",
          "data": {
            "text/plain": [
              "array(['atlanta-sandy springs-roswell, ga msa',\n",
              "       'seattle-tacoma-bellevue, wa msa',\n",
              "       'las vegas-henderson-paradise, nv msa', 'tulsa, ok msa',\n",
              "       'dallas-fort worth-arlington, tx msa',\n",
              "       'san francisco-oakland-berkeley, ca msa',\n",
              "       'grand rapids-kentwood, mi msa',\n",
              "       'orlando-kissimmee-sanford, fl msa',\n",
              "       'san jose-sunnyvale-santa clara, ca msa',\n",
              "       'cleveland-elyria, oh msa',\n",
              "       'chicago-naperville-elgin, il-in-wi msa', 'knoxville, tn msa',\n",
              "       'new york-newark-jersey city, ny-nj-pa msa', 'pittsburgh, pa msa',\n",
              "       'fresno, ca msa',\n",
              "       'washington-arlington-alexandria, dc-va-md-wv msa',\n",
              "       'indianapolis-carmel-anderson, in msa', 'jacksonville, fl msa',\n",
              "       'los angeles-long beach-anaheim, ca msa',\n",
              "       'omaha-council bluffs, ne-ia msa',\n",
              "       'houston-the woodlands-sugar land, tx msa',\n",
              "       'philadelphia-camden-wilmington, pa-nj-de-md msa',\n",
              "       'tampa-st. petersburg-clearwater, fl msa',\n",
              "       'birmingham-hoover, al msa', 'oklahoma city, ok msa',\n",
              "       'charlotte-concord-gastonia, nc-sc msa',\n",
              "       'denver-aurora-lakewood, co msa',\n",
              "       'nashville-davidson–murfreesboro–franklin, tn msa',\n",
              "       'columbus, oh msa', 'albuquerque, nm msa',\n",
              "       'boston-cambridge-newton, ma-nh msa',\n",
              "       'miami-fort lauderdale-west palm beach, fl msa',\n",
              "       'san diego-chula vista-carlsbad, ca msa',\n",
              "       'phoenix-mesa-chandler, az msa',\n",
              "       'portland-vancouver-hillsboro, or-wa msa',\n",
              "       'cincinnati, oh-ky-in msa', 'columbia, sc msa',\n",
              "       'san antonio-new braunfels, tx msa', 'buffalo-cheektowaga, ny msa',\n",
              "       'memphis, tn-ms-ar msa',\n",
              "       'riverside-san bernardino-ontario, ca msa',\n",
              "       'louisville/jefferson county, ky-in msa',\n",
              "       'albany-schenectady-troy, ny msa', 'providence-warwick, ri-ma msa',\n",
              "       'salt lake city, ut msa', 'urban honolulu, hi msa',\n",
              "       'el paso, tx msa', 'new haven-milford, ct msa',\n",
              "       'north port-sarasota-bradenton, fl msa', 'baton rouge, la msa',\n",
              "       'new orleans-metairie, la msa',\n",
              "       'bridgeport-stamford-norwalk, ct msa',\n",
              "       'virginia beach-norfolk-newport news, va-nc msa',\n",
              "       'baltimore-columbia-towson, md msa', 'milwaukee-waukesha, wi msa',\n",
              "       'oxnard-thousand oaks-ventura, ca msa',\n",
              "       'sacramento–roseville–folsom, ca msa',\n",
              "       'austin-round rock-georgetown, tx msa', 'richmond, va msa',\n",
              "       'st. louis, mo-il msa',\n",
              "       'minneapolis-st. paul-bloomington, mn-wi msa',\n",
              "       'dayton-kettering, oh msa', 'bakersfield, ca msa',\n",
              "       'detroit-warren-dearborn, mi msa', 'kansas city, mo-ks msa',\n",
              "       'charleston-north charleston, sc msa', 'rochester, ny msa',\n",
              "       'raleigh-cary, nc msa', 'colorado springs, co msa',\n",
              "       'greensboro-high point, nc msa', 'tucson, az msa',\n",
              "       'stockton, ca msa', 'cape coral-fort myers, fl msa'], dtype=object)"
            ]
          },
          "metadata": {
            "tags": []
          },
          "execution_count": 304
        }
      ]
    },
    {
      "cell_type": "code",
      "metadata": {
        "id": "Nx6ITFSU2jr5",
        "colab_type": "code",
        "colab": {}
      },
      "source": [
        "subset_data = users[users['city'].str.contains('ny') | users['city'].str.contains('nj')]"
      ],
      "execution_count": null,
      "outputs": []
    },
    {
      "cell_type": "code",
      "metadata": {
        "id": "rtUmPxjj2jr9",
        "colab_type": "code",
        "colab": {},
        "outputId": "f7d0b8c8-173f-49b1-e106-612199b5ef3c"
      },
      "source": [
        "subset_data['city'].unique()"
      ],
      "execution_count": null,
      "outputs": [
        {
          "output_type": "execute_result",
          "data": {
            "text/plain": [
              "array(['san jose-sunnyvale-santa clara, ca msa',\n",
              "       'new york-newark-jersey city, ny-nj-pa msa',\n",
              "       'philadelphia-camden-wilmington, pa-nj-de-md msa',\n",
              "       'buffalo-cheektowaga, ny msa', 'albany-schenectady-troy, ny msa',\n",
              "       'rochester, ny msa'], dtype=object)"
            ]
          },
          "metadata": {
            "tags": []
          },
          "execution_count": 306
        }
      ]
    },
    {
      "cell_type": "code",
      "metadata": {
        "id": "DtuBKI8a2jsM",
        "colab_type": "code",
        "colab": {}
      },
      "source": [
        "nynj_data = subset_data[subset_data['city'] != 'san jose-sunnyvale-santa clara, ca msa']"
      ],
      "execution_count": null,
      "outputs": []
    },
    {
      "cell_type": "code",
      "metadata": {
        "scrolled": true,
        "id": "kNP0YSwe2jsP",
        "colab_type": "code",
        "colab": {},
        "outputId": "5f1280d1-7c9d-4dad-8229-53286bbc5ad5"
      },
      "source": [
        "nynj_data['city'].unique()"
      ],
      "execution_count": null,
      "outputs": [
        {
          "output_type": "execute_result",
          "data": {
            "text/plain": [
              "array(['new york-newark-jersey city, ny-nj-pa msa',\n",
              "       'philadelphia-camden-wilmington, pa-nj-de-md msa',\n",
              "       'buffalo-cheektowaga, ny msa', 'albany-schenectady-troy, ny msa',\n",
              "       'rochester, ny msa'], dtype=object)"
            ]
          },
          "metadata": {
            "tags": []
          },
          "execution_count": 308
        }
      ]
    },
    {
      "cell_type": "code",
      "metadata": {
        "id": "a5WZb6XC2jsU",
        "colab_type": "code",
        "colab": {}
      },
      "source": [
        "not_nynj = users[(~users['city'].str.contains('ny') & ~users['city'].str.contains('nj'))]"
      ],
      "execution_count": null,
      "outputs": []
    },
    {
      "cell_type": "code",
      "metadata": {
        "id": "XrzWmhFh2jsb",
        "colab_type": "code",
        "colab": {}
      },
      "source": [
        "ca_data = users[users['city'] == 'san jose-sunnyvale-santa clara, ca msa']"
      ],
      "execution_count": null,
      "outputs": []
    },
    {
      "cell_type": "code",
      "metadata": {
        "id": "QAQdQTO52jse",
        "colab_type": "code",
        "colab": {}
      },
      "source": [
        "not_nynj_data = not_nynj.append(ca_data)"
      ],
      "execution_count": null,
      "outputs": []
    },
    {
      "cell_type": "code",
      "metadata": {
        "scrolled": true,
        "id": "F9QFN2mE2jsh",
        "colab_type": "code",
        "colab": {},
        "outputId": "004581a2-40de-44ea-99f5-07651c8ecea3"
      },
      "source": [
        "not_nynj_data['city'].unique()"
      ],
      "execution_count": null,
      "outputs": [
        {
          "output_type": "execute_result",
          "data": {
            "text/plain": [
              "array(['atlanta-sandy springs-roswell, ga msa',\n",
              "       'seattle-tacoma-bellevue, wa msa',\n",
              "       'las vegas-henderson-paradise, nv msa', 'tulsa, ok msa',\n",
              "       'dallas-fort worth-arlington, tx msa',\n",
              "       'san francisco-oakland-berkeley, ca msa',\n",
              "       'grand rapids-kentwood, mi msa',\n",
              "       'orlando-kissimmee-sanford, fl msa', 'cleveland-elyria, oh msa',\n",
              "       'chicago-naperville-elgin, il-in-wi msa', 'knoxville, tn msa',\n",
              "       'pittsburgh, pa msa', 'fresno, ca msa',\n",
              "       'washington-arlington-alexandria, dc-va-md-wv msa',\n",
              "       'indianapolis-carmel-anderson, in msa', 'jacksonville, fl msa',\n",
              "       'los angeles-long beach-anaheim, ca msa',\n",
              "       'omaha-council bluffs, ne-ia msa',\n",
              "       'houston-the woodlands-sugar land, tx msa',\n",
              "       'tampa-st. petersburg-clearwater, fl msa',\n",
              "       'birmingham-hoover, al msa', 'oklahoma city, ok msa',\n",
              "       'charlotte-concord-gastonia, nc-sc msa',\n",
              "       'denver-aurora-lakewood, co msa',\n",
              "       'nashville-davidson–murfreesboro–franklin, tn msa',\n",
              "       'columbus, oh msa', 'albuquerque, nm msa',\n",
              "       'boston-cambridge-newton, ma-nh msa',\n",
              "       'miami-fort lauderdale-west palm beach, fl msa',\n",
              "       'san diego-chula vista-carlsbad, ca msa',\n",
              "       'phoenix-mesa-chandler, az msa',\n",
              "       'portland-vancouver-hillsboro, or-wa msa',\n",
              "       'cincinnati, oh-ky-in msa', 'columbia, sc msa',\n",
              "       'san antonio-new braunfels, tx msa', 'memphis, tn-ms-ar msa',\n",
              "       'riverside-san bernardino-ontario, ca msa',\n",
              "       'louisville/jefferson county, ky-in msa',\n",
              "       'providence-warwick, ri-ma msa', 'salt lake city, ut msa',\n",
              "       'urban honolulu, hi msa', 'el paso, tx msa',\n",
              "       'new haven-milford, ct msa',\n",
              "       'north port-sarasota-bradenton, fl msa', 'baton rouge, la msa',\n",
              "       'new orleans-metairie, la msa',\n",
              "       'bridgeport-stamford-norwalk, ct msa',\n",
              "       'virginia beach-norfolk-newport news, va-nc msa',\n",
              "       'baltimore-columbia-towson, md msa', 'milwaukee-waukesha, wi msa',\n",
              "       'oxnard-thousand oaks-ventura, ca msa',\n",
              "       'sacramento–roseville–folsom, ca msa',\n",
              "       'austin-round rock-georgetown, tx msa', 'richmond, va msa',\n",
              "       'st. louis, mo-il msa',\n",
              "       'minneapolis-st. paul-bloomington, mn-wi msa',\n",
              "       'dayton-kettering, oh msa', 'bakersfield, ca msa',\n",
              "       'detroit-warren-dearborn, mi msa', 'kansas city, mo-ks msa',\n",
              "       'charleston-north charleston, sc msa', 'raleigh-cary, nc msa',\n",
              "       'colorado springs, co msa', 'greensboro-high point, nc msa',\n",
              "       'tucson, az msa', 'stockton, ca msa',\n",
              "       'cape coral-fort myers, fl msa',\n",
              "       'san jose-sunnyvale-santa clara, ca msa'], dtype=object)"
            ]
          },
          "metadata": {
            "tags": []
          },
          "execution_count": 312
        }
      ]
    },
    {
      "cell_type": "code",
      "metadata": {
        "id": "zaJAgzV02jsx",
        "colab_type": "code",
        "colab": {},
        "outputId": "b0b98562-0cbd-4c17-cf38-9f6987ee0b7a"
      },
      "source": [
        "not_nynj_data"
      ],
      "execution_count": null,
      "outputs": [
        {
          "output_type": "execute_result",
          "data": {
            "text/html": [
              "<div>\n",
              "<style scoped>\n",
              "    .dataframe tbody tr th:only-of-type {\n",
              "        vertical-align: middle;\n",
              "    }\n",
              "\n",
              "    .dataframe tbody tr th {\n",
              "        vertical-align: top;\n",
              "    }\n",
              "\n",
              "    .dataframe thead th {\n",
              "        text-align: right;\n",
              "    }\n",
              "</style>\n",
              "<table border=\"1\" class=\"dataframe\">\n",
              "  <thead>\n",
              "    <tr style=\"text-align: right;\">\n",
              "      <th></th>\n",
              "      <th>user_id</th>\n",
              "      <th>first_name</th>\n",
              "      <th>last_name</th>\n",
              "      <th>age</th>\n",
              "      <th>city</th>\n",
              "      <th>reg_date</th>\n",
              "      <th>tariff</th>\n",
              "      <th>churn_date</th>\n",
              "      <th>monthly_profit</th>\n",
              "    </tr>\n",
              "  </thead>\n",
              "  <tbody>\n",
              "    <tr>\n",
              "      <td>0</td>\n",
              "      <td>1000</td>\n",
              "      <td>anamaria</td>\n",
              "      <td>bauer</td>\n",
              "      <td>45</td>\n",
              "      <td>atlanta-sandy springs-roswell, ga msa</td>\n",
              "      <td>2018-12-24</td>\n",
              "      <td>ultimate</td>\n",
              "      <td>plan still in use</td>\n",
              "      <td>70.00</td>\n",
              "    </tr>\n",
              "    <tr>\n",
              "      <td>1</td>\n",
              "      <td>1001</td>\n",
              "      <td>mickey</td>\n",
              "      <td>wilkerson</td>\n",
              "      <td>28</td>\n",
              "      <td>seattle-tacoma-bellevue, wa msa</td>\n",
              "      <td>2018-08-13</td>\n",
              "      <td>surf</td>\n",
              "      <td>plan still in use</td>\n",
              "      <td>242.07</td>\n",
              "    </tr>\n",
              "    <tr>\n",
              "      <td>2</td>\n",
              "      <td>1002</td>\n",
              "      <td>carlee</td>\n",
              "      <td>hoffman</td>\n",
              "      <td>36</td>\n",
              "      <td>las vegas-henderson-paradise, nv msa</td>\n",
              "      <td>2018-10-21</td>\n",
              "      <td>surf</td>\n",
              "      <td>plan still in use</td>\n",
              "      <td>100.04</td>\n",
              "    </tr>\n",
              "    <tr>\n",
              "      <td>3</td>\n",
              "      <td>1003</td>\n",
              "      <td>reynaldo</td>\n",
              "      <td>jenkins</td>\n",
              "      <td>52</td>\n",
              "      <td>tulsa, ok msa</td>\n",
              "      <td>2018-01-28</td>\n",
              "      <td>surf</td>\n",
              "      <td>plan still in use</td>\n",
              "      <td>155.21</td>\n",
              "    </tr>\n",
              "    <tr>\n",
              "      <td>4</td>\n",
              "      <td>1004</td>\n",
              "      <td>leonila</td>\n",
              "      <td>thompson</td>\n",
              "      <td>40</td>\n",
              "      <td>seattle-tacoma-bellevue, wa msa</td>\n",
              "      <td>2018-05-23</td>\n",
              "      <td>surf</td>\n",
              "      <td>plan still in use</td>\n",
              "      <td>592.70</td>\n",
              "    </tr>\n",
              "    <tr>\n",
              "      <td>...</td>\n",
              "      <td>...</td>\n",
              "      <td>...</td>\n",
              "      <td>...</td>\n",
              "      <td>...</td>\n",
              "      <td>...</td>\n",
              "      <td>...</td>\n",
              "      <td>...</td>\n",
              "      <td>...</td>\n",
              "      <td>...</td>\n",
              "    </tr>\n",
              "    <tr>\n",
              "      <td>9</td>\n",
              "      <td>1009</td>\n",
              "      <td>gerry</td>\n",
              "      <td>little</td>\n",
              "      <td>19</td>\n",
              "      <td>san jose-sunnyvale-santa clara, ca msa</td>\n",
              "      <td>2018-04-22</td>\n",
              "      <td>surf</td>\n",
              "      <td>plan still in use</td>\n",
              "      <td>863.95</td>\n",
              "    </tr>\n",
              "    <tr>\n",
              "      <td>145</td>\n",
              "      <td>1145</td>\n",
              "      <td>venice</td>\n",
              "      <td>brooks</td>\n",
              "      <td>29</td>\n",
              "      <td>san jose-sunnyvale-santa clara, ca msa</td>\n",
              "      <td>2018-04-12</td>\n",
              "      <td>surf</td>\n",
              "      <td>plan still in use</td>\n",
              "      <td>359.25</td>\n",
              "    </tr>\n",
              "    <tr>\n",
              "      <td>194</td>\n",
              "      <td>1194</td>\n",
              "      <td>robert</td>\n",
              "      <td>mclean</td>\n",
              "      <td>40</td>\n",
              "      <td>san jose-sunnyvale-santa clara, ca msa</td>\n",
              "      <td>2018-05-31</td>\n",
              "      <td>surf</td>\n",
              "      <td>plan still in use</td>\n",
              "      <td>20.00</td>\n",
              "    </tr>\n",
              "    <tr>\n",
              "      <td>231</td>\n",
              "      <td>1231</td>\n",
              "      <td>gaylord</td>\n",
              "      <td>witt</td>\n",
              "      <td>57</td>\n",
              "      <td>san jose-sunnyvale-santa clara, ca msa</td>\n",
              "      <td>2018-01-19</td>\n",
              "      <td>ultimate</td>\n",
              "      <td>plan still in use</td>\n",
              "      <td>490.00</td>\n",
              "    </tr>\n",
              "    <tr>\n",
              "      <td>380</td>\n",
              "      <td>1380</td>\n",
              "      <td>lajuana</td>\n",
              "      <td>kelley</td>\n",
              "      <td>35</td>\n",
              "      <td>san jose-sunnyvale-santa clara, ca msa</td>\n",
              "      <td>2018-09-04</td>\n",
              "      <td>ultimate</td>\n",
              "      <td>plan still in use</td>\n",
              "      <td>280.00</td>\n",
              "    </tr>\n",
              "  </tbody>\n",
              "</table>\n",
              "<p>397 rows × 9 columns</p>\n",
              "</div>"
            ],
            "text/plain": [
              "     user_id first_name  last_name  age  \\\n",
              "0       1000   anamaria      bauer   45   \n",
              "1       1001     mickey  wilkerson   28   \n",
              "2       1002     carlee    hoffman   36   \n",
              "3       1003   reynaldo    jenkins   52   \n",
              "4       1004    leonila   thompson   40   \n",
              "..       ...        ...        ...  ...   \n",
              "9       1009      gerry     little   19   \n",
              "145     1145     venice     brooks   29   \n",
              "194     1194     robert     mclean   40   \n",
              "231     1231    gaylord       witt   57   \n",
              "380     1380    lajuana     kelley   35   \n",
              "\n",
              "                                       city   reg_date    tariff  \\\n",
              "0     atlanta-sandy springs-roswell, ga msa 2018-12-24  ultimate   \n",
              "1           seattle-tacoma-bellevue, wa msa 2018-08-13      surf   \n",
              "2      las vegas-henderson-paradise, nv msa 2018-10-21      surf   \n",
              "3                             tulsa, ok msa 2018-01-28      surf   \n",
              "4           seattle-tacoma-bellevue, wa msa 2018-05-23      surf   \n",
              "..                                      ...        ...       ...   \n",
              "9    san jose-sunnyvale-santa clara, ca msa 2018-04-22      surf   \n",
              "145  san jose-sunnyvale-santa clara, ca msa 2018-04-12      surf   \n",
              "194  san jose-sunnyvale-santa clara, ca msa 2018-05-31      surf   \n",
              "231  san jose-sunnyvale-santa clara, ca msa 2018-01-19  ultimate   \n",
              "380  san jose-sunnyvale-santa clara, ca msa 2018-09-04  ultimate   \n",
              "\n",
              "            churn_date  monthly_profit  \n",
              "0    plan still in use           70.00  \n",
              "1    plan still in use          242.07  \n",
              "2    plan still in use          100.04  \n",
              "3    plan still in use          155.21  \n",
              "4    plan still in use          592.70  \n",
              "..                 ...             ...  \n",
              "9    plan still in use          863.95  \n",
              "145  plan still in use          359.25  \n",
              "194  plan still in use           20.00  \n",
              "231  plan still in use          490.00  \n",
              "380  plan still in use          280.00  \n",
              "\n",
              "[397 rows x 9 columns]"
            ]
          },
          "metadata": {
            "tags": []
          },
          "execution_count": 313
        }
      ]
    },
    {
      "cell_type": "code",
      "metadata": {
        "id": "xZt3piDn2js1",
        "colab_type": "code",
        "colab": {}
      },
      "source": [
        "avg_user_profit_nynj = nynj_data['monthly_profit']"
      ],
      "execution_count": null,
      "outputs": []
    },
    {
      "cell_type": "code",
      "metadata": {
        "id": "Nz_VSYhZ2js8",
        "colab_type": "code",
        "colab": {}
      },
      "source": [
        "avg_user_profit_other = not_nynj_data['monthly_profit']"
      ],
      "execution_count": null,
      "outputs": []
    },
    {
      "cell_type": "code",
      "metadata": {
        "id": "3CxKRmXn2jtK",
        "colab_type": "code",
        "colab": {}
      },
      "source": [
        "alpha = 0.05 "
      ],
      "execution_count": null,
      "outputs": []
    },
    {
      "cell_type": "markdown",
      "metadata": {
        "id": "A8Zn9cOb2jtO",
        "colab_type": "text"
      },
      "source": [
        "#### (You decide what alpha value to use.)"
      ]
    },
    {
      "cell_type": "markdown",
      "metadata": {
        "id": "Hc3UV7FA2jtP",
        "colab_type": "text"
      },
      "source": [
        "I set alpha = 0.05 because this is the conventional threshold value for the p-value. This is the significance level that I chose to test the hypotheses. I would not want to be wrong more than 5% of the time."
      ]
    },
    {
      "cell_type": "code",
      "metadata": {
        "id": "IkTDhTXp2jtP",
        "colab_type": "code",
        "colab": {}
      },
      "source": [
        "results = st.ttest_ind(\n",
        "        avg_user_profit_nynj, \n",
        "        avg_user_profit_other)"
      ],
      "execution_count": null,
      "outputs": []
    },
    {
      "cell_type": "code",
      "metadata": {
        "id": "am5GJVsz2jtV",
        "colab_type": "code",
        "colab": {},
        "outputId": "16944bd8-ef05-4904-a64c-fa68e9f46a43"
      },
      "source": [
        "print('p-value: ', results.pvalue)"
      ],
      "execution_count": null,
      "outputs": [
        {
          "output_type": "stream",
          "text": [
            "p-value:  0.7530154237529141\n"
          ],
          "name": "stdout"
        }
      ]
    },
    {
      "cell_type": "code",
      "metadata": {
        "id": "PiPaVbn82jte",
        "colab_type": "code",
        "colab": {},
        "outputId": "42537e83-25b7-4fe0-cc45-db263af8ecaf"
      },
      "source": [
        "if (results.pvalue < alpha):\n",
        "        print(\"We reject the null hypothesis\")\n",
        "else:\n",
        "        print(\"We can't reject the null hypothesis\")"
      ],
      "execution_count": null,
      "outputs": [
        {
          "output_type": "stream",
          "text": [
            "We can't reject the null hypothesis\n"
          ],
          "name": "stdout"
        }
      ]
    },
    {
      "cell_type": "markdown",
      "metadata": {
        "id": "1MYyTQCl2jtj",
        "colab_type": "text"
      },
      "source": [
        "####  Explain how you formulated the null and alternative hypotheses."
      ]
    },
    {
      "cell_type": "markdown",
      "metadata": {
        "id": "8TvctPz62jtj",
        "colab_type": "text"
      },
      "source": [
        "Null hypothesis: The average profit from users in NY-NJ area is the same as that of the users from other regions.\n"
      ]
    },
    {
      "cell_type": "markdown",
      "metadata": {
        "id": "ExpNRPwV2jtk",
        "colab_type": "text"
      },
      "source": [
        "Alternative hypothesis: The average profit from users in NY-NJ area is different from that of the users from other regions."
      ]
    },
    {
      "cell_type": "markdown",
      "metadata": {
        "id": "RCln93vD2jtk",
        "colab_type": "text"
      },
      "source": [
        "#### Explain what criterion you used to test the hypotheses and why."
      ]
    },
    {
      "cell_type": "markdown",
      "metadata": {
        "id": "odsA1irN2jtl",
        "colab_type": "text"
      },
      "source": [
        "Since the null hypothesis was not rejected, we can say that the average profit from users in NY-NJ area is not different from that of the users from other regions."
      ]
    },
    {
      "cell_type": "markdown",
      "metadata": {
        "id": "mv4YRebY2jtl",
        "colab_type": "text"
      },
      "source": [
        "## Step 5. Write an overall conclusion"
      ]
    },
    {
      "cell_type": "markdown",
      "metadata": {
        "id": "vw2L9upF2jtm",
        "colab_type": "text"
      },
      "source": [
        "The surf plan is more profitable. I suggest to advertise this plan more in order to maximize profit. It seems that the surf plan is more profitable since the users go over the limits included in the plan and pay for additional minutes, messages, and internet. Thus, even though the monthly fee for the ultimate plan is more expensive, the surf users pay more through additional fees in addition to their cheaper monthly fee."
      ]
    }
  ]
}