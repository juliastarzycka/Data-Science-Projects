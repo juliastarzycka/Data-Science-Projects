{
 "cells": [
  {
   "cell_type": "markdown",
   "metadata": {},
   "source": [
    "# Research on apartment sales ads\n",
    "\n",
    "You will have the data from a real estate agency. It is an archive of sales ads for realty in St. Petersburg, Russia, and the surrounding areas collected over the past few years. You’ll need to learn how to determine the market value of real estate properties. Your task is to define the parameters. This will make it possible to build an automated system that is capable of detecting anomalies and fraudulent activity.\n",
    "\n",
    "There are two different types of data available for every apartment for sale. The first type is a user’s input. The second type is received automatically based upon the map data. For example, the distance from the downtown area, airport, the nearest park or body of water. "
   ]
  },
  {
   "cell_type": "markdown",
   "metadata": {},
   "source": [
    "### Step 1. Open the data file and study the general information. "
   ]
  },
  {
   "cell_type": "code",
   "execution_count": 162,
   "metadata": {},
   "outputs": [],
   "source": [
    "import pandas as pd\n",
    "data = pd.read_csv('/datasets/real_estate_data_eng.csv',sep='\\t')"
   ]
  },
  {
   "cell_type": "code",
   "execution_count": 163,
   "metadata": {
    "scrolled": false
   },
   "outputs": [
    {
     "name": "stdout",
     "output_type": "stream",
     "text": [
      "   total_images  last_price  total_area first_day_exposition  rooms  \\\n",
      "0            20  13000000.0       108.0  2019-03-07T00:00:00      3   \n",
      "1             7   3350000.0        40.4  2018-12-04T00:00:00      1   \n",
      "2            10   5196000.0        56.0  2015-08-20T00:00:00      2   \n",
      "3             0  64900000.0       159.0  2015-07-24T00:00:00      3   \n",
      "4             2  10000000.0       100.0  2018-06-19T00:00:00      2   \n",
      "\n",
      "   ceiling_height  floors_total  living_area  floor is_apartment  ...  \\\n",
      "0            2.70          16.0         51.0      8          NaN  ...   \n",
      "1             NaN          11.0         18.6      1          NaN  ...   \n",
      "2             NaN           5.0         34.3      4          NaN  ...   \n",
      "3             NaN          14.0          NaN      9          NaN  ...   \n",
      "4            3.03          14.0         32.0     13          NaN  ...   \n",
      "\n",
      "   kitchen_area  balcony     locality_name  airports_nearest  \\\n",
      "0          25.0      NaN   Saint Peterburg           18863.0   \n",
      "1          11.0      2.0  Shushary village           12817.0   \n",
      "2           8.3      0.0   Saint Peterburg           21741.0   \n",
      "3           NaN      0.0   Saint Peterburg           28098.0   \n",
      "4          41.0      NaN   Saint Peterburg           31856.0   \n",
      "\n",
      "  cityCenters_nearest  parks_around3000  parks_nearest  ponds_around3000  \\\n",
      "0             16028.0               1.0          482.0               2.0   \n",
      "1             18603.0               0.0            NaN               0.0   \n",
      "2             13933.0               1.0           90.0               2.0   \n",
      "3              6800.0               2.0           84.0               3.0   \n",
      "4              8098.0               2.0          112.0               1.0   \n",
      "\n",
      "   ponds_nearest  days_exposition  \n",
      "0          755.0              NaN  \n",
      "1            NaN             81.0  \n",
      "2          574.0            558.0  \n",
      "3          234.0            424.0  \n",
      "4           48.0            121.0  \n",
      "\n",
      "[5 rows x 22 columns]\n"
     ]
    }
   ],
   "source": [
    "print(data.head())"
   ]
  },
  {
   "cell_type": "code",
   "execution_count": 164,
   "metadata": {},
   "outputs": [
    {
     "name": "stdout",
     "output_type": "stream",
     "text": [
      "0        False\n",
      "1        False\n",
      "2        False\n",
      "3        False\n",
      "4        False\n",
      "         ...  \n",
      "23694    False\n",
      "23695    False\n",
      "23696    False\n",
      "23697    False\n",
      "23698    False\n",
      "Name: studio, Length: 23699, dtype: bool\n"
     ]
    }
   ],
   "source": [
    "print(data['studio'])"
   ]
  },
  {
   "cell_type": "code",
   "execution_count": 165,
   "metadata": {},
   "outputs": [
    {
     "name": "stdout",
     "output_type": "stream",
     "text": [
      "0        False\n",
      "1        False\n",
      "2        False\n",
      "3        False\n",
      "4        False\n",
      "         ...  \n",
      "23694    False\n",
      "23695    False\n",
      "23696    False\n",
      "23697    False\n",
      "23698    False\n",
      "Name: open_plan, Length: 23699, dtype: bool\n"
     ]
    }
   ],
   "source": [
    "print(data['open_plan'])"
   ]
  },
  {
   "cell_type": "code",
   "execution_count": 166,
   "metadata": {},
   "outputs": [
    {
     "name": "stdout",
     "output_type": "stream",
     "text": [
      "<class 'pandas.core.frame.DataFrame'>\n",
      "RangeIndex: 23699 entries, 0 to 23698\n",
      "Data columns (total 22 columns):\n",
      "total_images            23699 non-null int64\n",
      "last_price              23699 non-null float64\n",
      "total_area              23699 non-null float64\n",
      "first_day_exposition    23699 non-null object\n",
      "rooms                   23699 non-null int64\n",
      "ceiling_height          14504 non-null float64\n",
      "floors_total            23613 non-null float64\n",
      "living_area             21796 non-null float64\n",
      "floor                   23699 non-null int64\n",
      "is_apartment            2775 non-null object\n",
      "studio                  23699 non-null bool\n",
      "open_plan               23699 non-null bool\n",
      "kitchen_area            21421 non-null float64\n",
      "balcony                 12180 non-null float64\n",
      "locality_name           23650 non-null object\n",
      "airports_nearest        18157 non-null float64\n",
      "cityCenters_nearest     18180 non-null float64\n",
      "parks_around3000        18181 non-null float64\n",
      "parks_nearest           8079 non-null float64\n",
      "ponds_around3000        18181 non-null float64\n",
      "ponds_nearest           9110 non-null float64\n",
      "days_exposition         20518 non-null float64\n",
      "dtypes: bool(2), float64(14), int64(3), object(3)\n",
      "memory usage: 3.7+ MB\n"
     ]
    }
   ],
   "source": [
    "data.info()"
   ]
  },
  {
   "cell_type": "markdown",
   "metadata": {},
   "source": [
    "### Conclusion"
   ]
  },
  {
   "cell_type": "markdown",
   "metadata": {},
   "source": [
    "### There are 23699 rows. There are some missing values in 'ceiling_height', 'floors_total', 'living_area', 'is_apartment', 'kitchen_area', 'balcony', 'locality_name', 'airports_nearest', 'cityCenters_nearest', 'parks_around3000', 'parks_nearest', 'ponds_around3000', 'ponds_nearest', and 'days_exposition'. "
   ]
  },
  {
   "cell_type": "markdown",
   "metadata": {},
   "source": [
    "### Step 2. Data preprocessing"
   ]
  },
  {
   "cell_type": "code",
   "execution_count": 167,
   "metadata": {},
   "outputs": [],
   "source": [
    "data['ceiling_height'] = data['ceiling_height'].fillna(-1)"
   ]
  },
  {
   "cell_type": "code",
   "execution_count": 168,
   "metadata": {},
   "outputs": [],
   "source": [
    "data['floors_total'] = data['floors_total'].fillna(-1)"
   ]
  },
  {
   "cell_type": "code",
   "execution_count": 169,
   "metadata": {},
   "outputs": [],
   "source": [
    "data['floor'] = data['floor'].fillna(-1)"
   ]
  },
  {
   "cell_type": "code",
   "execution_count": 170,
   "metadata": {},
   "outputs": [],
   "source": [
    "data['living_area'] = data['living_area'].fillna(-1)"
   ]
  },
  {
   "cell_type": "code",
   "execution_count": 171,
   "metadata": {},
   "outputs": [],
   "source": [
    "data['is_apartment'] = data['is_apartment'].fillna(False)"
   ]
  },
  {
   "cell_type": "code",
   "execution_count": 172,
   "metadata": {},
   "outputs": [],
   "source": [
    "data['kitchen_area'] = data['kitchen_area'].fillna(-1)"
   ]
  },
  {
   "cell_type": "code",
   "execution_count": 173,
   "metadata": {},
   "outputs": [],
   "source": [
    "data['balcony'] = data['balcony'].fillna(0)"
   ]
  },
  {
   "cell_type": "code",
   "execution_count": 174,
   "metadata": {},
   "outputs": [],
   "source": [
    "data['locality_name'] = data['locality_name'].fillna('unknown')"
   ]
  },
  {
   "cell_type": "code",
   "execution_count": 175,
   "metadata": {},
   "outputs": [],
   "source": [
    "data['airports_nearest'] = data['airports_nearest'].fillna(0)"
   ]
  },
  {
   "cell_type": "code",
   "execution_count": 176,
   "metadata": {},
   "outputs": [],
   "source": [
    "data['cityCenters_nearest'] = data['cityCenters_nearest'].fillna(0)"
   ]
  },
  {
   "cell_type": "code",
   "execution_count": 177,
   "metadata": {},
   "outputs": [],
   "source": [
    "data['parks_around3000'] = data['parks_around3000'].fillna(0)"
   ]
  },
  {
   "cell_type": "code",
   "execution_count": 178,
   "metadata": {},
   "outputs": [],
   "source": [
    "data['parks_nearest'] = data['parks_nearest'].fillna(0)"
   ]
  },
  {
   "cell_type": "code",
   "execution_count": 179,
   "metadata": {},
   "outputs": [],
   "source": [
    "data['ponds_around3000'] = data['ponds_around3000'].fillna(0)"
   ]
  },
  {
   "cell_type": "code",
   "execution_count": 180,
   "metadata": {},
   "outputs": [],
   "source": [
    "data['ponds_nearest'] = data['ponds_nearest'].fillna(0)"
   ]
  },
  {
   "cell_type": "code",
   "execution_count": 181,
   "metadata": {},
   "outputs": [],
   "source": [
    "data['days_exposition'] = data['days_exposition'].fillna(-1)"
   ]
  },
  {
   "cell_type": "code",
   "execution_count": 182,
   "metadata": {},
   "outputs": [
    {
     "name": "stdout",
     "output_type": "stream",
     "text": [
      "<class 'pandas.core.frame.DataFrame'>\n",
      "RangeIndex: 23699 entries, 0 to 23698\n",
      "Data columns (total 22 columns):\n",
      "total_images            23699 non-null int64\n",
      "last_price              23699 non-null float64\n",
      "total_area              23699 non-null float64\n",
      "first_day_exposition    23699 non-null object\n",
      "rooms                   23699 non-null int64\n",
      "ceiling_height          23699 non-null float64\n",
      "floors_total            23699 non-null float64\n",
      "living_area             23699 non-null float64\n",
      "floor                   23699 non-null int64\n",
      "is_apartment            23699 non-null bool\n",
      "studio                  23699 non-null bool\n",
      "open_plan               23699 non-null bool\n",
      "kitchen_area            23699 non-null float64\n",
      "balcony                 23699 non-null float64\n",
      "locality_name           23699 non-null object\n",
      "airports_nearest        23699 non-null float64\n",
      "cityCenters_nearest     23699 non-null float64\n",
      "parks_around3000        23699 non-null float64\n",
      "parks_nearest           23699 non-null float64\n",
      "ponds_around3000        23699 non-null float64\n",
      "ponds_nearest           23699 non-null float64\n",
      "days_exposition         23699 non-null float64\n",
      "dtypes: bool(3), float64(14), int64(3), object(2)\n",
      "memory usage: 3.5+ MB\n"
     ]
    }
   ],
   "source": [
    "data.info()"
   ]
  },
  {
   "cell_type": "markdown",
   "metadata": {},
   "source": [
    "### For most columns ('ceiling_height', 'floors_total', 'floor', 'living_area', 'kitchen_area','days_exposition' ), I replaced missing values with -1 because then I can change to the int data type and also chose to ignore these values in future calculations by doing, for example, data[data.floors_total != -1].mean(). I could not replace them with a string 'unknown' because then the data type would not allow calculations. For 'is_apartment', I replaced missing values with False, since it is probably not an apartment if it is not specified in the advertisement. For 'balcony', 'airports_nearest', 'cityCenters_nearest', 'parks_around3000', 'parks_nearest', 'ponds_around3000', and 'ponds_nearest', I replaced missing values with 0 since this means there are no parks/ponds/balconies, etc. for that house. Also, for 'locality_name', I replaced missing values with 'unknown', since all of the data types in this column are also strings of city names. "
   ]
  },
  {
   "cell_type": "code",
   "execution_count": 183,
   "metadata": {},
   "outputs": [],
   "source": [
    "data['last_price'] = data['last_price'].astype('int')"
   ]
  },
  {
   "cell_type": "code",
   "execution_count": 184,
   "metadata": {},
   "outputs": [],
   "source": [
    "#data['total_area'] = data['total_area'].astype('int')"
   ]
  },
  {
   "cell_type": "code",
   "execution_count": 185,
   "metadata": {},
   "outputs": [],
   "source": [
    "data['datetime_ad_published']=pd.to_datetime(data['first_day_exposition'], format='%Y-%m-%dT%H:%M:%S')"
   ]
  },
  {
   "cell_type": "code",
   "execution_count": 186,
   "metadata": {},
   "outputs": [
    {
     "name": "stdout",
     "output_type": "stream",
     "text": [
      "0   2019-03-07\n",
      "1   2018-12-04\n",
      "2   2015-08-20\n",
      "3   2015-07-24\n",
      "4   2018-06-19\n",
      "Name: datetime_ad_published, dtype: datetime64[ns]\n"
     ]
    }
   ],
   "source": [
    "print(data['datetime_ad_published'].head())"
   ]
  },
  {
   "cell_type": "code",
   "execution_count": 187,
   "metadata": {},
   "outputs": [],
   "source": [
    "#data['ceiling_height'] = data['ceiling_height'].astype('int')"
   ]
  },
  {
   "cell_type": "code",
   "execution_count": 188,
   "metadata": {},
   "outputs": [],
   "source": [
    "data['floors_total'] = data['floors_total'].astype('int')"
   ]
  },
  {
   "cell_type": "code",
   "execution_count": 189,
   "metadata": {},
   "outputs": [],
   "source": [
    "#data['living_area'] = data['living_area'].astype('int')"
   ]
  },
  {
   "cell_type": "code",
   "execution_count": 190,
   "metadata": {},
   "outputs": [],
   "source": [
    "#data['kitchen_area'] = data['kitchen_area'].astype('int')"
   ]
  },
  {
   "cell_type": "code",
   "execution_count": 191,
   "metadata": {},
   "outputs": [],
   "source": [
    "data['balcony'] = data['balcony'].astype('int')"
   ]
  },
  {
   "cell_type": "code",
   "execution_count": 192,
   "metadata": {},
   "outputs": [],
   "source": [
    "data['airports_nearest'] = data['airports_nearest'].astype('int')"
   ]
  },
  {
   "cell_type": "code",
   "execution_count": 193,
   "metadata": {},
   "outputs": [],
   "source": [
    "data['cityCenters_nearest'] = data['cityCenters_nearest'].astype('int')"
   ]
  },
  {
   "cell_type": "code",
   "execution_count": 194,
   "metadata": {},
   "outputs": [],
   "source": [
    "data['parks_around3000'] = data['parks_around3000'].astype('int')"
   ]
  },
  {
   "cell_type": "code",
   "execution_count": 195,
   "metadata": {},
   "outputs": [],
   "source": [
    "data['parks_nearest'] = data['parks_nearest'].astype('int')"
   ]
  },
  {
   "cell_type": "code",
   "execution_count": 196,
   "metadata": {},
   "outputs": [],
   "source": [
    "data['ponds_around3000'] = data['ponds_around3000'].astype('int')"
   ]
  },
  {
   "cell_type": "code",
   "execution_count": 197,
   "metadata": {},
   "outputs": [],
   "source": [
    "data['ponds_nearest'] = data['ponds_nearest'].astype('int')"
   ]
  },
  {
   "cell_type": "code",
   "execution_count": 198,
   "metadata": {},
   "outputs": [],
   "source": [
    "data['days_exposition'] = data['days_exposition'].astype('int')"
   ]
  },
  {
   "cell_type": "code",
   "execution_count": 199,
   "metadata": {},
   "outputs": [
    {
     "name": "stdout",
     "output_type": "stream",
     "text": [
      "<class 'pandas.core.frame.DataFrame'>\n",
      "RangeIndex: 23699 entries, 0 to 23698\n",
      "Data columns (total 23 columns):\n",
      "total_images             23699 non-null int64\n",
      "last_price               23699 non-null int64\n",
      "total_area               23699 non-null float64\n",
      "first_day_exposition     23699 non-null object\n",
      "rooms                    23699 non-null int64\n",
      "ceiling_height           23699 non-null float64\n",
      "floors_total             23699 non-null int64\n",
      "living_area              23699 non-null float64\n",
      "floor                    23699 non-null int64\n",
      "is_apartment             23699 non-null bool\n",
      "studio                   23699 non-null bool\n",
      "open_plan                23699 non-null bool\n",
      "kitchen_area             23699 non-null float64\n",
      "balcony                  23699 non-null int64\n",
      "locality_name            23699 non-null object\n",
      "airports_nearest         23699 non-null int64\n",
      "cityCenters_nearest      23699 non-null int64\n",
      "parks_around3000         23699 non-null int64\n",
      "parks_nearest            23699 non-null int64\n",
      "ponds_around3000         23699 non-null int64\n",
      "ponds_nearest            23699 non-null int64\n",
      "days_exposition          23699 non-null int64\n",
      "datetime_ad_published    23699 non-null datetime64[ns]\n",
      "dtypes: bool(3), datetime64[ns](1), float64(4), int64(13), object(2)\n",
      "memory usage: 3.7+ MB\n"
     ]
    }
   ],
   "source": [
    "data.info()"
   ]
  },
  {
   "cell_type": "code",
   "execution_count": 200,
   "metadata": {},
   "outputs": [
    {
     "name": "stdout",
     "output_type": "stream",
     "text": [
      "   total_images  last_price  total_area first_day_exposition  rooms  \\\n",
      "0            20    13000000       108.0  2019-03-07T00:00:00      3   \n",
      "1             7     3350000        40.4  2018-12-04T00:00:00      1   \n",
      "2            10     5196000        56.0  2015-08-20T00:00:00      2   \n",
      "3             0    64900000       159.0  2015-07-24T00:00:00      3   \n",
      "4             2    10000000       100.0  2018-06-19T00:00:00      2   \n",
      "\n",
      "   ceiling_height  floors_total  living_area  floor  is_apartment  ...  \\\n",
      "0            2.70            16         51.0      8         False  ...   \n",
      "1           -1.00            11         18.6      1         False  ...   \n",
      "2           -1.00             5         34.3      4         False  ...   \n",
      "3           -1.00            14         -1.0      9         False  ...   \n",
      "4            3.03            14         32.0     13         False  ...   \n",
      "\n",
      "   balcony     locality_name  airports_nearest  cityCenters_nearest  \\\n",
      "0        0   Saint Peterburg             18863                16028   \n",
      "1        2  Shushary village             12817                18603   \n",
      "2        0   Saint Peterburg             21741                13933   \n",
      "3        0   Saint Peterburg             28098                 6800   \n",
      "4        0   Saint Peterburg             31856                 8098   \n",
      "\n",
      "  parks_around3000  parks_nearest  ponds_around3000  ponds_nearest  \\\n",
      "0                1            482                 2            755   \n",
      "1                0              0                 0              0   \n",
      "2                1             90                 2            574   \n",
      "3                2             84                 3            234   \n",
      "4                2            112                 1             48   \n",
      "\n",
      "   days_exposition  datetime_ad_published  \n",
      "0               -1             2019-03-07  \n",
      "1               81             2018-12-04  \n",
      "2              558             2015-08-20  \n",
      "3              424             2015-07-24  \n",
      "4              121             2018-06-19  \n",
      "\n",
      "[5 rows x 23 columns]\n"
     ]
    }
   ],
   "source": [
    "print(data.head())"
   ]
  },
  {
   "cell_type": "markdown",
   "metadata": {},
   "source": [
    "### Most columns with float data types needed to be changed to int to allow easy calculations since they did not include decimal values. However, 'ceiling_height', 'kitchen_area', 'living_area', and 'total_area' included decimal values so I left them in the float data type. Also, I changed the string that contained the publication date of the advertisement to datetime and saved that to a new column called 'datetime_ad_published'. "
   ]
  },
  {
   "cell_type": "markdown",
   "metadata": {},
   "source": [
    "### Step 3. Make calculations and add them to the table"
   ]
  },
  {
   "cell_type": "code",
   "execution_count": 201,
   "metadata": {},
   "outputs": [],
   "source": [
    "data['price_per_square_meter'] = data['last_price'] / data['total_area'][data['total_area'] != -1]"
   ]
  },
  {
   "cell_type": "code",
   "execution_count": 202,
   "metadata": {},
   "outputs": [],
   "source": [
    "data['day_of_week']= data['datetime_ad_published'].dt.weekday\n",
    "data['month']= data['datetime_ad_published'].dt.month\n",
    "data['year']= data['datetime_ad_published'].dt.year"
   ]
  },
  {
   "cell_type": "code",
   "execution_count": 203,
   "metadata": {},
   "outputs": [
    {
     "name": "stdout",
     "output_type": "stream",
     "text": [
      "0\n",
      "6\n"
     ]
    }
   ],
   "source": [
    "print(data['day_of_week'].min())\n",
    "print(data['day_of_week'].max())"
   ]
  },
  {
   "cell_type": "code",
   "execution_count": 204,
   "metadata": {},
   "outputs": [
    {
     "name": "stdout",
     "output_type": "stream",
     "text": [
      "1\n",
      "12\n"
     ]
    }
   ],
   "source": [
    "print(data['month'].min())\n",
    "print(data['month'].max())"
   ]
  },
  {
   "cell_type": "code",
   "execution_count": 205,
   "metadata": {},
   "outputs": [
    {
     "name": "stdout",
     "output_type": "stream",
     "text": [
      "2014\n",
      "2019\n"
     ]
    }
   ],
   "source": [
    "print(data['year'].min())\n",
    "print(data['year'].max())"
   ]
  },
  {
   "cell_type": "code",
   "execution_count": 206,
   "metadata": {},
   "outputs": [],
   "source": [
    "def floor_compare(row):\n",
    "    floor = row['floor']\n",
    "    floors_total = row['floors_total']\n",
    "\n",
    "    if floor == 1: \n",
    "        return 'first'\n",
    "    if floor == floors_total:\n",
    "        return 'last'\n",
    "    else:\n",
    "        return 'other'\n",
    "\n",
    "data['floor_comparison_to_total'] = data.apply(floor_compare, axis=1)\n"
   ]
  },
  {
   "cell_type": "code",
   "execution_count": 207,
   "metadata": {},
   "outputs": [],
   "source": [
    "data['area_ratio_living_total'] = data['living_area'][data['living_area'] != -1] / data['total_area'][data['total_area'] != -1]"
   ]
  },
  {
   "cell_type": "code",
   "execution_count": 208,
   "metadata": {},
   "outputs": [],
   "source": [
    "data['area_ratio_living_total'] = data['area_ratio_living_total'].fillna(-1)"
   ]
  },
  {
   "cell_type": "code",
   "execution_count": 209,
   "metadata": {},
   "outputs": [],
   "source": [
    "data['area_ratio_kitchen_total'] = data['kitchen_area'][data['kitchen_area'] != -1] / data['total_area'][data['total_area'] != -1]"
   ]
  },
  {
   "cell_type": "code",
   "execution_count": 210,
   "metadata": {},
   "outputs": [],
   "source": [
    "data['area_ratio_kitchen_total'] = data['area_ratio_kitchen_total'].fillna(-1)"
   ]
  },
  {
   "cell_type": "code",
   "execution_count": 211,
   "metadata": {},
   "outputs": [
    {
     "name": "stdout",
     "output_type": "stream",
     "text": [
      "   total_images  last_price  total_area first_day_exposition  rooms  \\\n",
      "0            20    13000000       108.0  2019-03-07T00:00:00      3   \n",
      "1             7     3350000        40.4  2018-12-04T00:00:00      1   \n",
      "2            10     5196000        56.0  2015-08-20T00:00:00      2   \n",
      "3             0    64900000       159.0  2015-07-24T00:00:00      3   \n",
      "4             2    10000000       100.0  2018-06-19T00:00:00      2   \n",
      "\n",
      "   ceiling_height  floors_total  living_area  floor  is_apartment  ...  \\\n",
      "0            2.70            16         51.0      8         False  ...   \n",
      "1           -1.00            11         18.6      1         False  ...   \n",
      "2           -1.00             5         34.3      4         False  ...   \n",
      "3           -1.00            14         -1.0      9         False  ...   \n",
      "4            3.03            14         32.0     13         False  ...   \n",
      "\n",
      "   ponds_nearest  days_exposition  datetime_ad_published  \\\n",
      "0            755               -1             2019-03-07   \n",
      "1              0               81             2018-12-04   \n",
      "2            574              558             2015-08-20   \n",
      "3            234              424             2015-07-24   \n",
      "4             48              121             2018-06-19   \n",
      "\n",
      "   price_per_square_meter day_of_week  month  year  floor_comparison_to_total  \\\n",
      "0           120370.370370           3      3  2019                      other   \n",
      "1            82920.792079           1     12  2018                      first   \n",
      "2            92785.714286           3      8  2015                      other   \n",
      "3           408176.100629           4      7  2015                      other   \n",
      "4           100000.000000           1      6  2018                      other   \n",
      "\n",
      "   area_ratio_living_total  area_ratio_kitchen_total  \n",
      "0                 0.472222                  0.231481  \n",
      "1                 0.460396                  0.272277  \n",
      "2                 0.612500                  0.148214  \n",
      "3                -1.000000                 -1.000000  \n",
      "4                 0.320000                  0.410000  \n",
      "\n",
      "[5 rows x 30 columns]\n"
     ]
    }
   ],
   "source": [
    "print(data.head())"
   ]
  },
  {
   "cell_type": "code",
   "execution_count": 212,
   "metadata": {},
   "outputs": [
    {
     "name": "stdout",
     "output_type": "stream",
     "text": [
      "<class 'pandas.core.frame.DataFrame'>\n",
      "RangeIndex: 23699 entries, 0 to 23698\n",
      "Data columns (total 30 columns):\n",
      "total_images                 23699 non-null int64\n",
      "last_price                   23699 non-null int64\n",
      "total_area                   23699 non-null float64\n",
      "first_day_exposition         23699 non-null object\n",
      "rooms                        23699 non-null int64\n",
      "ceiling_height               23699 non-null float64\n",
      "floors_total                 23699 non-null int64\n",
      "living_area                  23699 non-null float64\n",
      "floor                        23699 non-null int64\n",
      "is_apartment                 23699 non-null bool\n",
      "studio                       23699 non-null bool\n",
      "open_plan                    23699 non-null bool\n",
      "kitchen_area                 23699 non-null float64\n",
      "balcony                      23699 non-null int64\n",
      "locality_name                23699 non-null object\n",
      "airports_nearest             23699 non-null int64\n",
      "cityCenters_nearest          23699 non-null int64\n",
      "parks_around3000             23699 non-null int64\n",
      "parks_nearest                23699 non-null int64\n",
      "ponds_around3000             23699 non-null int64\n",
      "ponds_nearest                23699 non-null int64\n",
      "days_exposition              23699 non-null int64\n",
      "datetime_ad_published        23699 non-null datetime64[ns]\n",
      "price_per_square_meter       23699 non-null float64\n",
      "day_of_week                  23699 non-null int64\n",
      "month                        23699 non-null int64\n",
      "year                         23699 non-null int64\n",
      "floor_comparison_to_total    23699 non-null object\n",
      "area_ratio_living_total      23699 non-null float64\n",
      "area_ratio_kitchen_total     23699 non-null float64\n",
      "dtypes: bool(3), datetime64[ns](1), float64(7), int64(16), object(3)\n",
      "memory usage: 4.9+ MB\n",
      "None\n"
     ]
    }
   ],
   "source": [
    "print(data.info())"
   ]
  },
  {
   "cell_type": "code",
   "execution_count": 213,
   "metadata": {},
   "outputs": [
    {
     "name": "stdout",
     "output_type": "stream",
     "text": [
      "   total_images  last_price  total_area first_day_exposition  rooms  \\\n",
      "0            20    13000000       108.0  2019-03-07T00:00:00      3   \n",
      "1             7     3350000        40.4  2018-12-04T00:00:00      1   \n",
      "2            10     5196000        56.0  2015-08-20T00:00:00      2   \n",
      "3             0    64900000       159.0  2015-07-24T00:00:00      3   \n",
      "4             2    10000000       100.0  2018-06-19T00:00:00      2   \n",
      "\n",
      "   ceiling_height  floors_total  living_area  floor  is_apartment  ...  \\\n",
      "0            2.70            16         51.0      8         False  ...   \n",
      "1           -1.00            11         18.6      1         False  ...   \n",
      "2           -1.00             5         34.3      4         False  ...   \n",
      "3           -1.00            14         -1.0      9         False  ...   \n",
      "4            3.03            14         32.0     13         False  ...   \n",
      "\n",
      "   ponds_nearest  days_exposition  datetime_ad_published  \\\n",
      "0            755               -1             2019-03-07   \n",
      "1              0               81             2018-12-04   \n",
      "2            574              558             2015-08-20   \n",
      "3            234              424             2015-07-24   \n",
      "4             48              121             2018-06-19   \n",
      "\n",
      "   price_per_square_meter day_of_week  month  year  floor_comparison_to_total  \\\n",
      "0           120370.370370           3      3  2019                      other   \n",
      "1            82920.792079           1     12  2018                      first   \n",
      "2            92785.714286           3      8  2015                      other   \n",
      "3           408176.100629           4      7  2015                      other   \n",
      "4           100000.000000           1      6  2018                      other   \n",
      "\n",
      "   area_ratio_living_total  area_ratio_kitchen_total  \n",
      "0                 0.472222                  0.231481  \n",
      "1                 0.460396                  0.272277  \n",
      "2                 0.612500                  0.148214  \n",
      "3                -1.000000                 -1.000000  \n",
      "4                 0.320000                  0.410000  \n",
      "\n",
      "[5 rows x 30 columns]\n"
     ]
    }
   ],
   "source": [
    "print(data.head())"
   ]
  },
  {
   "cell_type": "code",
   "execution_count": 214,
   "metadata": {},
   "outputs": [
    {
     "name": "stdout",
     "output_type": "stream",
     "text": [
      "<class 'pandas.core.frame.DataFrame'>\n",
      "RangeIndex: 23699 entries, 0 to 23698\n",
      "Data columns (total 30 columns):\n",
      "total_images                 23699 non-null int64\n",
      "last_price                   23699 non-null int64\n",
      "total_area                   23699 non-null float64\n",
      "first_day_exposition         23699 non-null object\n",
      "rooms                        23699 non-null int64\n",
      "ceiling_height               23699 non-null float64\n",
      "floors_total                 23699 non-null int64\n",
      "living_area                  23699 non-null float64\n",
      "floor                        23699 non-null int64\n",
      "is_apartment                 23699 non-null bool\n",
      "studio                       23699 non-null bool\n",
      "open_plan                    23699 non-null bool\n",
      "kitchen_area                 23699 non-null float64\n",
      "balcony                      23699 non-null int64\n",
      "locality_name                23699 non-null object\n",
      "airports_nearest             23699 non-null int64\n",
      "cityCenters_nearest          23699 non-null int64\n",
      "parks_around3000             23699 non-null int64\n",
      "parks_nearest                23699 non-null int64\n",
      "ponds_around3000             23699 non-null int64\n",
      "ponds_nearest                23699 non-null int64\n",
      "days_exposition              23699 non-null int64\n",
      "datetime_ad_published        23699 non-null datetime64[ns]\n",
      "price_per_square_meter       23699 non-null float64\n",
      "day_of_week                  23699 non-null int64\n",
      "month                        23699 non-null int64\n",
      "year                         23699 non-null int64\n",
      "floor_comparison_to_total    23699 non-null object\n",
      "area_ratio_living_total      23699 non-null float64\n",
      "area_ratio_kitchen_total     23699 non-null float64\n",
      "dtypes: bool(3), datetime64[ns](1), float64(7), int64(16), object(3)\n",
      "memory usage: 4.9+ MB\n"
     ]
    }
   ],
   "source": [
    "data.info()"
   ]
  },
  {
   "cell_type": "markdown",
   "metadata": {},
   "source": [
    "### I created a new column 'price_per_square_meter', which shows the price per square meter. When changing data types, I changed the string that contained the publication date of the advertisement to datetime and saved that to a new column called 'datetime_ad_published', which shows the day of the week, month, and year that the ad was published. From this, I created 'day_of_week', 'month', and 'year' columns.  I added a 'floor_comparison_to_total' column, which says which floor the apartment is on (first, last, or other).  I also added the 'area_ratio_living_total' column (which shows the ratio between the living space and the total area) and the 'area_ratio_kitchen_total' column (which shows the ratio between the kitchen space and the total area)."
   ]
  },
  {
   "cell_type": "markdown",
   "metadata": {},
   "source": [
    "### Step 4. Conduct exploratory data analysis and follow the instructions below:"
   ]
  },
  {
   "cell_type": "code",
   "execution_count": 216,
   "metadata": {},
   "outputs": [],
   "source": [
    "import matplotlib.pyplot as plt"
   ]
  },
  {
   "cell_type": "markdown",
   "metadata": {},
   "source": [
    "## total_area"
   ]
  },
  {
   "cell_type": "code",
   "execution_count": 217,
   "metadata": {},
   "outputs": [
    {
     "data": {
      "text/plain": [
       "count    23699.000000\n",
       "mean        60.348651\n",
       "std         35.654083\n",
       "min         12.000000\n",
       "25%         40.000000\n",
       "50%         52.000000\n",
       "75%         69.900000\n",
       "max        900.000000\n",
       "Name: total_area, dtype: float64"
      ]
     },
     "execution_count": 217,
     "metadata": {},
     "output_type": "execute_result"
    }
   ],
   "source": [
    "data['total_area'].describe()"
   ]
  },
  {
   "cell_type": "code",
   "execution_count": 218,
   "metadata": {},
   "outputs": [
    {
     "data": {
      "text/plain": [
       "<matplotlib.axes._subplots.AxesSubplot at 0x7f1be1566b10>"
      ]
     },
     "execution_count": 218,
     "metadata": {},
     "output_type": "execute_result"
    },
    {
     "data": {
      "image/png": "[encoded data removed]",
      "text/plain": [
       "<Figure size 432x288 with 1 Axes>"
      ]
     },
     "metadata": {
      "needs_background": "light"
     },
     "output_type": "display_data"
    }
   ],
   "source": [
    "data.boxplot(column='total_area')"
   ]
  },
  {
   "cell_type": "code",
   "execution_count": 219,
   "metadata": {},
   "outputs": [
    {
     "name": "stdout",
     "output_type": "stream",
     "text": [
      "12.0\n",
      "900.0\n",
      "2182\n"
     ]
    }
   ],
   "source": [
    "print(data['total_area'].min())\n",
    "print(data['total_area'].max())\n",
    "print(len(data['total_area'].unique()))"
   ]
  },
  {
   "cell_type": "code",
   "execution_count": 220,
   "metadata": {},
   "outputs": [
    {
     "data": {
      "text/plain": [
       "<matplotlib.axes._subplots.AxesSubplot at 0x7f1be0e2cfd0>"
      ]
     },
     "execution_count": 220,
     "metadata": {},
     "output_type": "execute_result"
    },
    {
     "data": {
      "image/png": "[encoded data removed]",
      "text/plain": [
       "<Figure size 432x288 with 1 Axes>"
      ]
     },
     "metadata": {
      "needs_background": "light"
     },
     "output_type": "display_data"
    }
   ],
   "source": [
    "data['total_area'].plot(kind='hist', label='total_area', xlim=(0,150), bins=300, grid=True)"
   ]
  },
  {
   "cell_type": "markdown",
   "metadata": {},
   "source": [
    "### total_area has a lot of outliers above about 80."
   ]
  },
  {
   "cell_type": "code",
   "execution_count": null,
   "metadata": {},
   "outputs": [],
   "source": []
  },
  {
   "cell_type": "markdown",
   "metadata": {},
   "source": [
    "## last_price"
   ]
  },
  {
   "cell_type": "code",
   "execution_count": 221,
   "metadata": {},
   "outputs": [
    {
     "data": {
      "text/plain": [
       "count    2.369900e+04\n",
       "mean     6.541549e+06\n",
       "std      1.088701e+07\n",
       "min      1.219000e+04\n",
       "25%      3.400000e+06\n",
       "50%      4.650000e+06\n",
       "75%      6.800000e+06\n",
       "max      7.630000e+08\n",
       "Name: last_price, dtype: float64"
      ]
     },
     "execution_count": 221,
     "metadata": {},
     "output_type": "execute_result"
    }
   ],
   "source": [
    "data['last_price'].describe()"
   ]
  },
  {
   "cell_type": "code",
   "execution_count": 222,
   "metadata": {},
   "outputs": [
    {
     "data": {
      "text/plain": [
       "<matplotlib.axes._subplots.AxesSubplot at 0x7f1be1165850>"
      ]
     },
     "execution_count": 222,
     "metadata": {},
     "output_type": "execute_result"
    },
    {
     "data": {
      "image/png": "[encoded data removed]",
      "text/plain": [
       "<Figure size 432x288 with 1 Axes>"
      ]
     },
     "metadata": {
      "needs_background": "light"
     },
     "output_type": "display_data"
    }
   ],
   "source": [
    "data.boxplot(column='last_price')"
   ]
  },
  {
   "cell_type": "code",
   "execution_count": 223,
   "metadata": {},
   "outputs": [
    {
     "name": "stdout",
     "output_type": "stream",
     "text": [
      "12190\n",
      "763000000\n",
      "2978\n"
     ]
    }
   ],
   "source": [
    "print(data['last_price'].min())\n",
    "print(data['last_price'].max())\n",
    "print(len(data['last_price'].unique()))"
   ]
  },
  {
   "cell_type": "code",
   "execution_count": 224,
   "metadata": {},
   "outputs": [
    {
     "data": {
      "text/plain": [
       "<matplotlib.axes._subplots.AxesSubplot at 0x7f1be10ebe90>"
      ]
     },
     "execution_count": 224,
     "metadata": {},
     "output_type": "execute_result"
    },
    {
     "data": {
      "image/png": "[encoded data removed]",
      "text/plain": [
       "<Figure size 432x288 with 1 Axes>"
      ]
     },
     "metadata": {
      "needs_background": "light"
     },
     "output_type": "display_data"
    }
   ],
   "source": [
    "data['last_price'].plot(kind='hist', label='last_price', xlim=(0,1.7e+07), bins=len(data['last_price'].unique()), grid=True)"
   ]
  },
  {
   "cell_type": "markdown",
   "metadata": {},
   "source": [
    "### last_price has a lot of outliers above about 0.8e+7."
   ]
  },
  {
   "cell_type": "markdown",
   "metadata": {},
   "source": [
    "## rooms"
   ]
  },
  {
   "cell_type": "code",
   "execution_count": 225,
   "metadata": {},
   "outputs": [
    {
     "data": {
      "text/plain": [
       "count    23699.000000\n",
       "mean         2.070636\n",
       "std          1.078405\n",
       "min          0.000000\n",
       "25%          1.000000\n",
       "50%          2.000000\n",
       "75%          3.000000\n",
       "max         19.000000\n",
       "Name: rooms, dtype: float64"
      ]
     },
     "execution_count": 225,
     "metadata": {},
     "output_type": "execute_result"
    }
   ],
   "source": [
    "data['rooms'].describe()"
   ]
  },
  {
   "cell_type": "code",
   "execution_count": 226,
   "metadata": {},
   "outputs": [
    {
     "data": {
      "text/plain": [
       "<matplotlib.axes._subplots.AxesSubplot at 0x7f1bdaf08550>"
      ]
     },
     "execution_count": 226,
     "metadata": {},
     "output_type": "execute_result"
    },
    {
     "data": {
      "image/png": "[encoded data removed]",
      "text/plain": [
       "<Figure size 432x288 with 1 Axes>"
      ]
     },
     "metadata": {
      "needs_background": "light"
     },
     "output_type": "display_data"
    }
   ],
   "source": [
    "data.boxplot(column='rooms')"
   ]
  },
  {
   "cell_type": "code",
   "execution_count": 227,
   "metadata": {},
   "outputs": [
    {
     "name": "stdout",
     "output_type": "stream",
     "text": [
      "0\n",
      "19\n",
      "17\n"
     ]
    }
   ],
   "source": [
    "print(data['rooms'].min())\n",
    "print(data['rooms'].max())\n",
    "print(len(data['rooms'].unique()))"
   ]
  },
  {
   "cell_type": "code",
   "execution_count": 228,
   "metadata": {},
   "outputs": [
    {
     "data": {
      "text/plain": [
       "<matplotlib.axes._subplots.AxesSubplot at 0x7f1bdaf2ab50>"
      ]
     },
     "execution_count": 228,
     "metadata": {},
     "output_type": "execute_result"
    },
    {
     "data": {
      "image/png": "[encoded data removed]",
      "text/plain": [
       "<Figure size 432x288 with 1 Axes>"
      ]
     },
     "metadata": {
      "needs_background": "light"
     },
     "output_type": "display_data"
    }
   ],
   "source": [
    "data['rooms'].plot(kind='hist', label='rooms', xlim=(0,9), bins=21, grid=True)"
   ]
  },
  {
   "cell_type": "markdown",
   "metadata": {},
   "source": [
    "### Most houses have between 1 and 3 rooms."
   ]
  },
  {
   "cell_type": "markdown",
   "metadata": {},
   "source": [
    "## ceiling_height"
   ]
  },
  {
   "cell_type": "code",
   "execution_count": 229,
   "metadata": {},
   "outputs": [
    {
     "data": {
      "text/plain": [
       "count    14504.000000\n",
       "mean         2.771499\n",
       "std          1.261056\n",
       "min          1.000000\n",
       "25%          2.520000\n",
       "50%          2.650000\n",
       "75%          2.800000\n",
       "max        100.000000\n",
       "Name: ceiling_height, dtype: float64"
      ]
     },
     "execution_count": 229,
     "metadata": {},
     "output_type": "execute_result"
    }
   ],
   "source": [
    "data['ceiling_height'][data['ceiling_height'] != -1].describe()"
   ]
  },
  {
   "cell_type": "code",
   "execution_count": 230,
   "metadata": {},
   "outputs": [
    {
     "data": {
      "text/plain": [
       "<matplotlib.axes._subplots.AxesSubplot at 0x7f1bdad0d390>"
      ]
     },
     "execution_count": 230,
     "metadata": {},
     "output_type": "execute_result"
    },
    {
     "data": {
      "image/png": "[encoded data removed]",
      "text/plain": [
       "<Figure size 432x288 with 1 Axes>"
      ]
     },
     "metadata": {
      "needs_background": "light"
     },
     "output_type": "display_data"
    }
   ],
   "source": [
    "data[data['ceiling_height'] != -1].boxplot(column='ceiling_height')"
   ]
  },
  {
   "cell_type": "code",
   "execution_count": 231,
   "metadata": {},
   "outputs": [
    {
     "name": "stdout",
     "output_type": "stream",
     "text": [
      "1.0\n",
      "100.0\n",
      "183\n"
     ]
    }
   ],
   "source": [
    "print(data['ceiling_height'][data['ceiling_height'] != -1].min())\n",
    "print(data['ceiling_height'][data['ceiling_height'] != -1].max())\n",
    "print(len(data['ceiling_height'][data['ceiling_height'] != -1].unique()))"
   ]
  },
  {
   "cell_type": "code",
   "execution_count": 232,
   "metadata": {},
   "outputs": [
    {
     "data": {
      "text/plain": [
       "<matplotlib.axes._subplots.AxesSubplot at 0x7f1bdaf11410>"
      ]
     },
     "execution_count": 232,
     "metadata": {},
     "output_type": "execute_result"
    },
    {
     "data": {
      "image/png": "[encoded data removed]",
      "text/plain": [
       "<Figure size 432x288 with 1 Axes>"
      ]
     },
     "metadata": {
      "needs_background": "light"
     },
     "output_type": "display_data"
    }
   ],
   "source": [
    "data['ceiling_height'][data['ceiling_height'] != -1].plot(kind='hist', label='ceiling_height', xlim=(2,5) ,bins=400,  grid=True)"
   ]
  },
  {
   "cell_type": "markdown",
   "metadata": {},
   "source": [
    "### ceiling_height is between 2.25 and 3 for most of the homes."
   ]
  },
  {
   "cell_type": "markdown",
   "metadata": {},
   "source": [
    "### In all of these, there are a lot of outliers that can create noise in the data."
   ]
  },
  {
   "cell_type": "markdown",
   "metadata": {},
   "source": [
    "## Examine the time it's taken to sell the apartment and create a histogram. Calculate the mean and median and explain the average time it usually takes to complete a sale. When can a sale be considered extra quick or taken an extra slow?"
   ]
  },
  {
   "cell_type": "code",
   "execution_count": 233,
   "metadata": {},
   "outputs": [
    {
     "data": {
      "text/plain": [
       "<matplotlib.axes._subplots.AxesSubplot at 0x7f1bda7cf1d0>"
      ]
     },
     "execution_count": 233,
     "metadata": {},
     "output_type": "execute_result"
    },
    {
     "data": {
      "image/png": "[encoded data removed]",
      "text/plain": [
       "<Figure size 432x288 with 1 Axes>"
      ]
     },
     "metadata": {
      "needs_background": "light"
     },
     "output_type": "display_data"
    }
   ],
   "source": [
    "data['days_exposition'][data['days_exposition'] != -1].plot(kind='hist', label='days_exposition' , xlim=(-1,600), bins= 90, grid=True)"
   ]
  },
  {
   "cell_type": "markdown",
   "metadata": {},
   "source": [
    "### There are less homes with higher prices represented in the data, compared to homes with lower prices, which make up the bulk of the data."
   ]
  },
  {
   "cell_type": "code",
   "execution_count": 234,
   "metadata": {},
   "outputs": [
    {
     "name": "stdout",
     "output_type": "stream",
     "text": [
      "180.88863436982163\n"
     ]
    }
   ],
   "source": [
    "print(data['days_exposition'][data['days_exposition'] != -1].mean())"
   ]
  },
  {
   "cell_type": "code",
   "execution_count": 235,
   "metadata": {},
   "outputs": [
    {
     "name": "stdout",
     "output_type": "stream",
     "text": [
      "95.0\n"
     ]
    }
   ],
   "source": [
    "print(data['days_exposition'][data['days_exposition'] != -1].median())"
   ]
  },
  {
   "cell_type": "markdown",
   "metadata": {},
   "source": [
    "### Since the mean (180.89) is so much higher than the median (95), there are outliers that are much higher than the rest of the data as the histogram shows and this skews the data."
   ]
  },
  {
   "cell_type": "code",
   "execution_count": 236,
   "metadata": {},
   "outputs": [
    {
     "data": {
      "text/plain": [
       "count    20518.000000\n",
       "mean       180.888634\n",
       "std        219.727988\n",
       "min          1.000000\n",
       "25%         45.000000\n",
       "50%         95.000000\n",
       "75%        232.000000\n",
       "max       1580.000000\n",
       "Name: days_exposition, dtype: float64"
      ]
     },
     "execution_count": 236,
     "metadata": {},
     "output_type": "execute_result"
    }
   ],
   "source": [
    "data['days_exposition'][data['days_exposition'] != -1].describe()"
   ]
  },
  {
   "cell_type": "markdown",
   "metadata": {},
   "source": [
    "### A sale can be considered extra quick if it takes less than 45 days (fastest 25% of data) and can be considered extra slow if it takes more than 232 days (slowest 25% of data). "
   ]
  },
  {
   "cell_type": "markdown",
   "metadata": {},
   "source": [
    "<div class=\"alert alert-success\" role=\"alert\">\n",
    "Great\n",
    "</div>"
   ]
  },
  {
   "cell_type": "markdown",
   "metadata": {},
   "source": [
    "# Remove rare and outlying values and describe the specific details you've discovered."
   ]
  },
  {
   "cell_type": "markdown",
   "metadata": {},
   "source": [
    "## last_price"
   ]
  },
  {
   "cell_type": "code",
   "execution_count": 237,
   "metadata": {},
   "outputs": [
    {
     "data": {
      "text/plain": [
       "<matplotlib.axes._subplots.AxesSubplot at 0x7f1bdac957d0>"
      ]
     },
     "execution_count": 237,
     "metadata": {},
     "output_type": "execute_result"
    },
    {
     "data": {
      "image/png": "[encoded data removed]",
      "text/plain": [
       "<Figure size 432x288 with 1 Axes>"
      ]
     },
     "metadata": {
      "needs_background": "light"
     },
     "output_type": "display_data"
    }
   ],
   "source": [
    "data['last_price'].hist(bins=40)"
   ]
  },
  {
   "cell_type": "code",
   "execution_count": 238,
   "metadata": {},
   "outputs": [],
   "source": [
    "data = data[data['last_price'] <= 2e+8]"
   ]
  },
  {
   "cell_type": "code",
   "execution_count": 239,
   "metadata": {},
   "outputs": [
    {
     "data": {
      "text/plain": [
       "<matplotlib.axes._subplots.AxesSubplot at 0x7f1bda5b6610>"
      ]
     },
     "execution_count": 239,
     "metadata": {},
     "output_type": "execute_result"
    },
    {
     "data": {
      "image/png": "[encoded data removed]",
      "text/plain": [
       "<Figure size 432x288 with 1 Axes>"
      ]
     },
     "metadata": {
      "needs_background": "light"
     },
     "output_type": "display_data"
    }
   ],
   "source": [
    "data['last_price'].hist(bins=40)"
   ]
  },
  {
   "cell_type": "markdown",
   "metadata": {},
   "source": [
    "## cityCenters_nearest"
   ]
  },
  {
   "cell_type": "code",
   "execution_count": 240,
   "metadata": {
    "scrolled": true
   },
   "outputs": [
    {
     "data": {
      "text/plain": [
       "<matplotlib.axes._subplots.AxesSubplot at 0x7f1bda48a050>"
      ]
     },
     "execution_count": 240,
     "metadata": {},
     "output_type": "execute_result"
    },
    {
     "data": {
      "image/png": "[encoded data removed]",
      "text/plain": [
       "<Figure size 432x288 with 1 Axes>"
      ]
     },
     "metadata": {
      "needs_background": "light"
     },
     "output_type": "display_data"
    }
   ],
   "source": [
    "data['cityCenters_nearest'].hist()"
   ]
  },
  {
   "cell_type": "code",
   "execution_count": 241,
   "metadata": {},
   "outputs": [],
   "source": [
    "data = data[data['cityCenters_nearest'] <= 55000]"
   ]
  },
  {
   "cell_type": "code",
   "execution_count": 242,
   "metadata": {},
   "outputs": [],
   "source": [
    "data = data[data['cityCenters_nearest'] >= 0]"
   ]
  },
  {
   "cell_type": "code",
   "execution_count": 243,
   "metadata": {
    "scrolled": true
   },
   "outputs": [
    {
     "data": {
      "text/plain": [
       "<matplotlib.axes._subplots.AxesSubplot at 0x7f1bda474e50>"
      ]
     },
     "execution_count": 243,
     "metadata": {},
     "output_type": "execute_result"
    },
    {
     "data": {
      "image/png": "[encoded data removed]",
      "text/plain": [
       "<Figure size 432x288 with 1 Axes>"
      ]
     },
     "metadata": {
      "needs_background": "light"
     },
     "output_type": "display_data"
    }
   ],
   "source": [
    "data['cityCenters_nearest'].hist()"
   ]
  },
  {
   "cell_type": "markdown",
   "metadata": {},
   "source": [
    "## price_per_square_meter"
   ]
  },
  {
   "cell_type": "code",
   "execution_count": 244,
   "metadata": {
    "scrolled": false
   },
   "outputs": [
    {
     "data": {
      "text/plain": [
       "<matplotlib.axes._subplots.AxesSubplot at 0x7f1bda3eb550>"
      ]
     },
     "execution_count": 244,
     "metadata": {},
     "output_type": "execute_result"
    },
    {
     "data": {
      "image/png": "[encoded data removed]",
      "text/plain": [
       "<Figure size 432x288 with 1 Axes>"
      ]
     },
     "metadata": {
      "needs_background": "light"
     },
     "output_type": "display_data"
    }
   ],
   "source": [
    "data['price_per_square_meter'].hist()"
   ]
  },
  {
   "cell_type": "code",
   "execution_count": 245,
   "metadata": {},
   "outputs": [],
   "source": [
    "data = data[data['price_per_square_meter'] <= 240000]"
   ]
  },
  {
   "cell_type": "code",
   "execution_count": 246,
   "metadata": {
    "scrolled": false
   },
   "outputs": [
    {
     "data": {
      "text/plain": [
       "<matplotlib.axes._subplots.AxesSubplot at 0x7f1bda3b4e90>"
      ]
     },
     "execution_count": 246,
     "metadata": {},
     "output_type": "execute_result"
    },
    {
     "data": {
      "image/png": "[encoded data removed]",
      "text/plain": [
       "<Figure size 432x288 with 1 Axes>"
      ]
     },
     "metadata": {
      "needs_background": "light"
     },
     "output_type": "display_data"
    }
   ],
   "source": [
    "data['price_per_square_meter'].hist()"
   ]
  },
  {
   "cell_type": "markdown",
   "metadata": {},
   "source": [
    "## day_of_week"
   ]
  },
  {
   "cell_type": "code",
   "execution_count": 247,
   "metadata": {
    "scrolled": false
   },
   "outputs": [
    {
     "data": {
      "text/plain": [
       "<matplotlib.axes._subplots.AxesSubplot at 0x7f1bda2459d0>"
      ]
     },
     "execution_count": 247,
     "metadata": {},
     "output_type": "execute_result"
    },
    {
     "data": {
      "image/png": "[encoded data removed]",
      "text/plain": [
       "<Figure size 432x288 with 1 Axes>"
      ]
     },
     "metadata": {
      "needs_background": "light"
     },
     "output_type": "display_data"
    }
   ],
   "source": [
    "data['day_of_week'].hist()"
   ]
  },
  {
   "cell_type": "markdown",
   "metadata": {},
   "source": [
    "## year"
   ]
  },
  {
   "cell_type": "code",
   "execution_count": 248,
   "metadata": {
    "scrolled": false
   },
   "outputs": [
    {
     "data": {
      "text/plain": [
       "<matplotlib.axes._subplots.AxesSubplot at 0x7f1bda3ace50>"
      ]
     },
     "execution_count": 248,
     "metadata": {},
     "output_type": "execute_result"
    },
    {
     "data": {
      "image/png": "[encoded data removed]",
      "text/plain": [
       "<Figure size 432x288 with 1 Axes>"
      ]
     },
     "metadata": {
      "needs_background": "light"
     },
     "output_type": "display_data"
    }
   ],
   "source": [
    "data['year'].hist()"
   ]
  },
  {
   "cell_type": "code",
   "execution_count": 249,
   "metadata": {},
   "outputs": [],
   "source": [
    "data = data[data['year'] >= 2015]"
   ]
  },
  {
   "cell_type": "code",
   "execution_count": 250,
   "metadata": {
    "scrolled": false
   },
   "outputs": [
    {
     "data": {
      "text/plain": [
       "<matplotlib.axes._subplots.AxesSubplot at 0x7f1bda235f50>"
      ]
     },
     "execution_count": 250,
     "metadata": {},
     "output_type": "execute_result"
    },
    {
     "data": {
      "image/png": "[encoded data removed]",
      "text/plain": [
       "<Figure size 432x288 with 1 Axes>"
      ]
     },
     "metadata": {
      "needs_background": "light"
     },
     "output_type": "display_data"
    }
   ],
   "source": [
    "data['year'].hist()"
   ]
  },
  {
   "cell_type": "code",
   "execution_count": 251,
   "metadata": {},
   "outputs": [
    {
     "name": "stdout",
     "output_type": "stream",
     "text": [
      "<class 'pandas.core.frame.DataFrame'>\n",
      "Int64Index: 23253 entries, 0 to 23698\n",
      "Data columns (total 30 columns):\n",
      "total_images                 23253 non-null int64\n",
      "last_price                   23253 non-null int64\n",
      "total_area                   23253 non-null float64\n",
      "first_day_exposition         23253 non-null object\n",
      "rooms                        23253 non-null int64\n",
      "ceiling_height               23253 non-null float64\n",
      "floors_total                 23253 non-null int64\n",
      "living_area                  23253 non-null float64\n",
      "floor                        23253 non-null int64\n",
      "is_apartment                 23253 non-null bool\n",
      "studio                       23253 non-null bool\n",
      "open_plan                    23253 non-null bool\n",
      "kitchen_area                 23253 non-null float64\n",
      "balcony                      23253 non-null int64\n",
      "locality_name                23253 non-null object\n",
      "airports_nearest             23253 non-null int64\n",
      "cityCenters_nearest          23253 non-null int64\n",
      "parks_around3000             23253 non-null int64\n",
      "parks_nearest                23253 non-null int64\n",
      "ponds_around3000             23253 non-null int64\n",
      "ponds_nearest                23253 non-null int64\n",
      "days_exposition              23253 non-null int64\n",
      "datetime_ad_published        23253 non-null datetime64[ns]\n",
      "price_per_square_meter       23253 non-null float64\n",
      "day_of_week                  23253 non-null int64\n",
      "month                        23253 non-null int64\n",
      "year                         23253 non-null int64\n",
      "floor_comparison_to_total    23253 non-null object\n",
      "area_ratio_living_total      23253 non-null float64\n",
      "area_ratio_kitchen_total     23253 non-null float64\n",
      "dtypes: bool(3), datetime64[ns](1), float64(7), int64(16), object(3)\n",
      "memory usage: 5.0+ MB\n"
     ]
    }
   ],
   "source": [
    "data.info()"
   ]
  },
  {
   "cell_type": "code",
   "execution_count": 252,
   "metadata": {},
   "outputs": [
    {
     "name": "stdout",
     "output_type": "stream",
     "text": [
      "1.881935946664416 % of data was deleted.\n"
     ]
    }
   ],
   "source": [
    "print((23699-23253)/23699 *100, '% of data was deleted.')"
   ]
  },
  {
   "cell_type": "markdown",
   "metadata": {},
   "source": [
    "### I deleted about 2% of data."
   ]
  },
  {
   "cell_type": "markdown",
   "metadata": {},
   "source": [
    "## In each factor, I used histograms to identity which values occur as outliers or considerably less frequently than other values in this data set, and I removed them from 'data'."
   ]
  },
  {
   "cell_type": "markdown",
   "metadata": {},
   "source": [
    "# Which factors have had the biggest influence on an apartment’s value? Examine whether the value depends on price per meter, number of rooms, floor (top or bottom), or the proximity to the downtown area. Also study the correlation to the ad posting date: day of the week, month, and year.  \n",
    " "
   ]
  },
  {
   "cell_type": "code",
   "execution_count": 253,
   "metadata": {
    "scrolled": true
   },
   "outputs": [
    {
     "data": {
      "text/html": [
       "<div>\n",
       "<style scoped>\n",
       "    .dataframe tbody tr th:only-of-type {\n",
       "        vertical-align: middle;\n",
       "    }\n",
       "\n",
       "    .dataframe tbody tr th {\n",
       "        vertical-align: top;\n",
       "    }\n",
       "\n",
       "    .dataframe thead th {\n",
       "        text-align: right;\n",
       "    }\n",
       "</style>\n",
       "<table border=\"1\" class=\"dataframe\">\n",
       "  <thead>\n",
       "    <tr style=\"text-align: right;\">\n",
       "      <th></th>\n",
       "      <th>total_images</th>\n",
       "      <th>last_price</th>\n",
       "      <th>total_area</th>\n",
       "      <th>rooms</th>\n",
       "      <th>ceiling_height</th>\n",
       "      <th>floors_total</th>\n",
       "      <th>living_area</th>\n",
       "      <th>floor</th>\n",
       "      <th>is_apartment</th>\n",
       "      <th>studio</th>\n",
       "      <th>...</th>\n",
       "      <th>parks_nearest</th>\n",
       "      <th>ponds_around3000</th>\n",
       "      <th>ponds_nearest</th>\n",
       "      <th>days_exposition</th>\n",
       "      <th>price_per_square_meter</th>\n",
       "      <th>day_of_week</th>\n",
       "      <th>month</th>\n",
       "      <th>year</th>\n",
       "      <th>area_ratio_living_total</th>\n",
       "      <th>area_ratio_kitchen_total</th>\n",
       "    </tr>\n",
       "  </thead>\n",
       "  <tbody>\n",
       "    <tr>\n",
       "      <td>total_images</td>\n",
       "      <td>1.000000</td>\n",
       "      <td>0.147093</td>\n",
       "      <td>0.108852</td>\n",
       "      <td>0.093369</td>\n",
       "      <td>0.095399</td>\n",
       "      <td>0.017981</td>\n",
       "      <td>0.124310</td>\n",
       "      <td>0.032886</td>\n",
       "      <td>0.016817</td>\n",
       "      <td>-0.029444</td>\n",
       "      <td>...</td>\n",
       "      <td>0.030109</td>\n",
       "      <td>0.007221</td>\n",
       "      <td>0.009036</td>\n",
       "      <td>-0.052274</td>\n",
       "      <td>0.149856</td>\n",
       "      <td>-0.010724</td>\n",
       "      <td>0.007698</td>\n",
       "      <td>0.141851</td>\n",
       "      <td>0.093476</td>\n",
       "      <td>0.095446</td>\n",
       "    </tr>\n",
       "    <tr>\n",
       "      <td>last_price</td>\n",
       "      <td>0.147093</td>\n",
       "      <td>1.000000</td>\n",
       "      <td>0.842968</td>\n",
       "      <td>0.537066</td>\n",
       "      <td>0.108219</td>\n",
       "      <td>0.040381</td>\n",
       "      <td>0.622152</td>\n",
       "      <td>0.060604</td>\n",
       "      <td>0.035310</td>\n",
       "      <td>-0.045066</td>\n",
       "      <td>...</td>\n",
       "      <td>0.197139</td>\n",
       "      <td>0.256782</td>\n",
       "      <td>0.145586</td>\n",
       "      <td>0.059492</td>\n",
       "      <td>0.580980</td>\n",
       "      <td>-0.011602</td>\n",
       "      <td>-0.001828</td>\n",
       "      <td>-0.020504</td>\n",
       "      <td>-0.009742</td>\n",
       "      <td>0.002712</td>\n",
       "    </tr>\n",
       "    <tr>\n",
       "      <td>total_area</td>\n",
       "      <td>0.108852</td>\n",
       "      <td>0.842968</td>\n",
       "      <td>1.000000</td>\n",
       "      <td>0.769212</td>\n",
       "      <td>0.091631</td>\n",
       "      <td>-0.069798</td>\n",
       "      <td>0.782878</td>\n",
       "      <td>-0.027299</td>\n",
       "      <td>0.030963</td>\n",
       "      <td>-0.076769</td>\n",
       "      <td>...</td>\n",
       "      <td>0.119199</td>\n",
       "      <td>0.176455</td>\n",
       "      <td>0.083479</td>\n",
       "      <td>0.085409</td>\n",
       "      <td>0.169118</td>\n",
       "      <td>-0.008632</td>\n",
       "      <td>-0.001332</td>\n",
       "      <td>-0.059424</td>\n",
       "      <td>0.012305</td>\n",
       "      <td>-0.019960</td>\n",
       "    </tr>\n",
       "    <tr>\n",
       "      <td>rooms</td>\n",
       "      <td>0.093369</td>\n",
       "      <td>0.537066</td>\n",
       "      <td>0.769212</td>\n",
       "      <td>1.000000</td>\n",
       "      <td>0.094877</td>\n",
       "      <td>-0.225940</td>\n",
       "      <td>0.744911</td>\n",
       "      <td>-0.154720</td>\n",
       "      <td>0.002410</td>\n",
       "      <td>-0.149179</td>\n",
       "      <td>...</td>\n",
       "      <td>0.082187</td>\n",
       "      <td>0.109646</td>\n",
       "      <td>0.054309</td>\n",
       "      <td>0.072013</td>\n",
       "      <td>-0.041085</td>\n",
       "      <td>-0.005771</td>\n",
       "      <td>-0.009233</td>\n",
       "      <td>-0.042971</td>\n",
       "      <td>0.112865</td>\n",
       "      <td>-0.035790</td>\n",
       "    </tr>\n",
       "    <tr>\n",
       "      <td>ceiling_height</td>\n",
       "      <td>0.095399</td>\n",
       "      <td>0.108219</td>\n",
       "      <td>0.091631</td>\n",
       "      <td>0.094877</td>\n",
       "      <td>1.000000</td>\n",
       "      <td>-0.089800</td>\n",
       "      <td>0.142085</td>\n",
       "      <td>-0.068056</td>\n",
       "      <td>0.055089</td>\n",
       "      <td>-0.013587</td>\n",
       "      <td>...</td>\n",
       "      <td>0.037727</td>\n",
       "      <td>0.057416</td>\n",
       "      <td>0.028647</td>\n",
       "      <td>0.014940</td>\n",
       "      <td>0.096785</td>\n",
       "      <td>-0.046570</td>\n",
       "      <td>-0.025967</td>\n",
       "      <td>0.156419</td>\n",
       "      <td>0.122845</td>\n",
       "      <td>0.102429</td>\n",
       "    </tr>\n",
       "    <tr>\n",
       "      <td>floors_total</td>\n",
       "      <td>0.017981</td>\n",
       "      <td>0.040381</td>\n",
       "      <td>-0.069798</td>\n",
       "      <td>-0.225940</td>\n",
       "      <td>-0.089800</td>\n",
       "      <td>1.000000</td>\n",
       "      <td>-0.147924</td>\n",
       "      <td>0.665035</td>\n",
       "      <td>-0.023335</td>\n",
       "      <td>0.066608</td>\n",
       "      <td>...</td>\n",
       "      <td>-0.061100</td>\n",
       "      <td>-0.042596</td>\n",
       "      <td>0.018375</td>\n",
       "      <td>-0.023040</td>\n",
       "      <td>0.272850</td>\n",
       "      <td>0.010964</td>\n",
       "      <td>0.017188</td>\n",
       "      <td>0.004970</td>\n",
       "      <td>-0.087926</td>\n",
       "      <td>0.032582</td>\n",
       "    </tr>\n",
       "    <tr>\n",
       "      <td>living_area</td>\n",
       "      <td>0.124310</td>\n",
       "      <td>0.622152</td>\n",
       "      <td>0.782878</td>\n",
       "      <td>0.744911</td>\n",
       "      <td>0.142085</td>\n",
       "      <td>-0.147924</td>\n",
       "      <td>1.000000</td>\n",
       "      <td>-0.089564</td>\n",
       "      <td>0.017661</td>\n",
       "      <td>-0.048930</td>\n",
       "      <td>...</td>\n",
       "      <td>0.097166</td>\n",
       "      <td>0.142487</td>\n",
       "      <td>0.074452</td>\n",
       "      <td>0.094634</td>\n",
       "      <td>0.080766</td>\n",
       "      <td>-0.022049</td>\n",
       "      <td>0.000831</td>\n",
       "      <td>-0.076802</td>\n",
       "      <td>0.509953</td>\n",
       "      <td>0.226367</td>\n",
       "    </tr>\n",
       "    <tr>\n",
       "      <td>floor</td>\n",
       "      <td>0.032886</td>\n",
       "      <td>0.060604</td>\n",
       "      <td>-0.027299</td>\n",
       "      <td>-0.154720</td>\n",
       "      <td>-0.068056</td>\n",
       "      <td>0.665035</td>\n",
       "      <td>-0.089564</td>\n",
       "      <td>1.000000</td>\n",
       "      <td>-0.012694</td>\n",
       "      <td>0.036940</td>\n",
       "      <td>...</td>\n",
       "      <td>-0.038396</td>\n",
       "      <td>-0.026119</td>\n",
       "      <td>0.015188</td>\n",
       "      <td>-0.020539</td>\n",
       "      <td>0.215584</td>\n",
       "      <td>0.011096</td>\n",
       "      <td>0.018831</td>\n",
       "      <td>0.003072</td>\n",
       "      <td>-0.061171</td>\n",
       "      <td>0.023600</td>\n",
       "    </tr>\n",
       "    <tr>\n",
       "      <td>is_apartment</td>\n",
       "      <td>0.016817</td>\n",
       "      <td>0.035310</td>\n",
       "      <td>0.030963</td>\n",
       "      <td>0.002410</td>\n",
       "      <td>0.055089</td>\n",
       "      <td>-0.023335</td>\n",
       "      <td>0.017661</td>\n",
       "      <td>-0.012694</td>\n",
       "      <td>1.000000</td>\n",
       "      <td>-0.003497</td>\n",
       "      <td>...</td>\n",
       "      <td>-0.012467</td>\n",
       "      <td>0.011081</td>\n",
       "      <td>0.015221</td>\n",
       "      <td>-0.001742</td>\n",
       "      <td>0.019936</td>\n",
       "      <td>-0.007236</td>\n",
       "      <td>-0.001240</td>\n",
       "      <td>0.018495</td>\n",
       "      <td>-0.012208</td>\n",
       "      <td>-0.033814</td>\n",
       "    </tr>\n",
       "    <tr>\n",
       "      <td>studio</td>\n",
       "      <td>-0.029444</td>\n",
       "      <td>-0.045066</td>\n",
       "      <td>-0.076769</td>\n",
       "      <td>-0.149179</td>\n",
       "      <td>-0.013587</td>\n",
       "      <td>0.066608</td>\n",
       "      <td>-0.048930</td>\n",
       "      <td>0.036940</td>\n",
       "      <td>-0.003497</td>\n",
       "      <td>1.000000</td>\n",
       "      <td>...</td>\n",
       "      <td>-0.022938</td>\n",
       "      <td>-0.008455</td>\n",
       "      <td>-0.004494</td>\n",
       "      <td>-0.016926</td>\n",
       "      <td>0.032643</td>\n",
       "      <td>-0.000891</td>\n",
       "      <td>0.001643</td>\n",
       "      <td>0.010625</td>\n",
       "      <td>0.023703</td>\n",
       "      <td>-0.241938</td>\n",
       "    </tr>\n",
       "    <tr>\n",
       "      <td>open_plan</td>\n",
       "      <td>-0.023778</td>\n",
       "      <td>-0.019121</td>\n",
       "      <td>-0.038988</td>\n",
       "      <td>-0.091430</td>\n",
       "      <td>-0.028547</td>\n",
       "      <td>0.051135</td>\n",
       "      <td>-0.028641</td>\n",
       "      <td>0.036311</td>\n",
       "      <td>-0.002323</td>\n",
       "      <td>-0.004284</td>\n",
       "      <td>...</td>\n",
       "      <td>-0.012430</td>\n",
       "      <td>-0.005517</td>\n",
       "      <td>-0.003357</td>\n",
       "      <td>-0.016571</td>\n",
       "      <td>0.013412</td>\n",
       "      <td>0.010552</td>\n",
       "      <td>0.027302</td>\n",
       "      <td>-0.022265</td>\n",
       "      <td>0.017800</td>\n",
       "      <td>-0.160733</td>\n",
       "    </tr>\n",
       "    <tr>\n",
       "      <td>kitchen_area</td>\n",
       "      <td>0.136981</td>\n",
       "      <td>0.486772</td>\n",
       "      <td>0.482230</td>\n",
       "      <td>0.237833</td>\n",
       "      <td>0.089049</td>\n",
       "      <td>0.134163</td>\n",
       "      <td>0.454589</td>\n",
       "      <td>0.108729</td>\n",
       "      <td>0.000837</td>\n",
       "      <td>-0.135771</td>\n",
       "      <td>...</td>\n",
       "      <td>0.074637</td>\n",
       "      <td>0.133397</td>\n",
       "      <td>0.058028</td>\n",
       "      <td>0.070976</td>\n",
       "      <td>0.266071</td>\n",
       "      <td>-0.024663</td>\n",
       "      <td>0.007587</td>\n",
       "      <td>-0.041535</td>\n",
       "      <td>0.263035</td>\n",
       "      <td>0.611874</td>\n",
       "    </tr>\n",
       "    <tr>\n",
       "      <td>balcony</td>\n",
       "      <td>0.049684</td>\n",
       "      <td>0.018169</td>\n",
       "      <td>0.011570</td>\n",
       "      <td>-0.015872</td>\n",
       "      <td>0.112001</td>\n",
       "      <td>0.175278</td>\n",
       "      <td>0.023916</td>\n",
       "      <td>0.166919</td>\n",
       "      <td>0.031005</td>\n",
       "      <td>0.029237</td>\n",
       "      <td>...</td>\n",
       "      <td>-0.028187</td>\n",
       "      <td>-0.040058</td>\n",
       "      <td>-0.020505</td>\n",
       "      <td>-0.026969</td>\n",
       "      <td>0.037256</td>\n",
       "      <td>-0.002070</td>\n",
       "      <td>0.007607</td>\n",
       "      <td>0.005613</td>\n",
       "      <td>0.069329</td>\n",
       "      <td>0.109762</td>\n",
       "    </tr>\n",
       "    <tr>\n",
       "      <td>airports_nearest</td>\n",
       "      <td>0.040212</td>\n",
       "      <td>0.205811</td>\n",
       "      <td>0.091258</td>\n",
       "      <td>0.046037</td>\n",
       "      <td>0.060890</td>\n",
       "      <td>0.164596</td>\n",
       "      <td>0.073384</td>\n",
       "      <td>0.111650</td>\n",
       "      <td>0.014803</td>\n",
       "      <td>-0.032001</td>\n",
       "      <td>...</td>\n",
       "      <td>0.193032</td>\n",
       "      <td>0.241820</td>\n",
       "      <td>0.223732</td>\n",
       "      <td>0.004238</td>\n",
       "      <td>0.394488</td>\n",
       "      <td>-0.004114</td>\n",
       "      <td>0.004795</td>\n",
       "      <td>-0.025849</td>\n",
       "      <td>0.034196</td>\n",
       "      <td>0.048522</td>\n",
       "    </tr>\n",
       "    <tr>\n",
       "      <td>cityCenters_nearest</td>\n",
       "      <td>0.005144</td>\n",
       "      <td>-0.021697</td>\n",
       "      <td>-0.063222</td>\n",
       "      <td>-0.053014</td>\n",
       "      <td>0.021212</td>\n",
       "      <td>0.096803</td>\n",
       "      <td>-0.042640</td>\n",
       "      <td>0.064017</td>\n",
       "      <td>0.015066</td>\n",
       "      <td>-0.022570</td>\n",
       "      <td>...</td>\n",
       "      <td>0.077867</td>\n",
       "      <td>0.193970</td>\n",
       "      <td>0.204628</td>\n",
       "      <td>-0.017165</td>\n",
       "      <td>0.125122</td>\n",
       "      <td>0.002157</td>\n",
       "      <td>-0.003600</td>\n",
       "      <td>-0.010782</td>\n",
       "      <td>0.044866</td>\n",
       "      <td>0.042024</td>\n",
       "    </tr>\n",
       "    <tr>\n",
       "      <td>parks_around3000</td>\n",
       "      <td>0.031379</td>\n",
       "      <td>0.257169</td>\n",
       "      <td>0.180792</td>\n",
       "      <td>0.147168</td>\n",
       "      <td>0.085224</td>\n",
       "      <td>-0.153090</td>\n",
       "      <td>0.178493</td>\n",
       "      <td>-0.102483</td>\n",
       "      <td>0.014745</td>\n",
       "      <td>-0.031442</td>\n",
       "      <td>...</td>\n",
       "      <td>0.588493</td>\n",
       "      <td>0.382690</td>\n",
       "      <td>0.191375</td>\n",
       "      <td>0.040008</td>\n",
       "      <td>0.292039</td>\n",
       "      <td>-0.011235</td>\n",
       "      <td>-0.002904</td>\n",
       "      <td>-0.040680</td>\n",
       "      <td>0.038271</td>\n",
       "      <td>0.006376</td>\n",
       "    </tr>\n",
       "    <tr>\n",
       "      <td>parks_nearest</td>\n",
       "      <td>0.030109</td>\n",
       "      <td>0.197139</td>\n",
       "      <td>0.119199</td>\n",
       "      <td>0.082187</td>\n",
       "      <td>0.037727</td>\n",
       "      <td>-0.061100</td>\n",
       "      <td>0.097166</td>\n",
       "      <td>-0.038396</td>\n",
       "      <td>-0.012467</td>\n",
       "      <td>-0.022938</td>\n",
       "      <td>...</td>\n",
       "      <td>1.000000</td>\n",
       "      <td>0.298183</td>\n",
       "      <td>0.182467</td>\n",
       "      <td>0.022793</td>\n",
       "      <td>0.273980</td>\n",
       "      <td>-0.007497</td>\n",
       "      <td>0.003302</td>\n",
       "      <td>-0.028028</td>\n",
       "      <td>0.010828</td>\n",
       "      <td>0.004965</td>\n",
       "    </tr>\n",
       "    <tr>\n",
       "      <td>ponds_around3000</td>\n",
       "      <td>0.007221</td>\n",
       "      <td>0.256782</td>\n",
       "      <td>0.176455</td>\n",
       "      <td>0.109646</td>\n",
       "      <td>0.057416</td>\n",
       "      <td>-0.042596</td>\n",
       "      <td>0.142487</td>\n",
       "      <td>-0.026119</td>\n",
       "      <td>0.011081</td>\n",
       "      <td>-0.008455</td>\n",
       "      <td>...</td>\n",
       "      <td>0.298183</td>\n",
       "      <td>1.000000</td>\n",
       "      <td>0.603715</td>\n",
       "      <td>0.049895</td>\n",
       "      <td>0.306328</td>\n",
       "      <td>-0.000181</td>\n",
       "      <td>-0.007642</td>\n",
       "      <td>-0.042311</td>\n",
       "      <td>0.009660</td>\n",
       "      <td>0.013413</td>\n",
       "    </tr>\n",
       "    <tr>\n",
       "      <td>ponds_nearest</td>\n",
       "      <td>0.009036</td>\n",
       "      <td>0.145586</td>\n",
       "      <td>0.083479</td>\n",
       "      <td>0.054309</td>\n",
       "      <td>0.028647</td>\n",
       "      <td>0.018375</td>\n",
       "      <td>0.074452</td>\n",
       "      <td>0.015188</td>\n",
       "      <td>0.015221</td>\n",
       "      <td>-0.004494</td>\n",
       "      <td>...</td>\n",
       "      <td>0.182467</td>\n",
       "      <td>0.603715</td>\n",
       "      <td>1.000000</td>\n",
       "      <td>0.007794</td>\n",
       "      <td>0.231099</td>\n",
       "      <td>-0.006332</td>\n",
       "      <td>0.004721</td>\n",
       "      <td>-0.017790</td>\n",
       "      <td>0.013261</td>\n",
       "      <td>0.005003</td>\n",
       "    </tr>\n",
       "    <tr>\n",
       "      <td>days_exposition</td>\n",
       "      <td>-0.052274</td>\n",
       "      <td>0.059492</td>\n",
       "      <td>0.085409</td>\n",
       "      <td>0.072013</td>\n",
       "      <td>0.014940</td>\n",
       "      <td>-0.023040</td>\n",
       "      <td>0.094634</td>\n",
       "      <td>-0.020539</td>\n",
       "      <td>-0.001742</td>\n",
       "      <td>-0.016926</td>\n",
       "      <td>...</td>\n",
       "      <td>0.022793</td>\n",
       "      <td>0.049895</td>\n",
       "      <td>0.007794</td>\n",
       "      <td>1.000000</td>\n",
       "      <td>-0.004696</td>\n",
       "      <td>-0.013257</td>\n",
       "      <td>-0.015094</td>\n",
       "      <td>-0.598327</td>\n",
       "      <td>0.047416</td>\n",
       "      <td>0.041175</td>\n",
       "    </tr>\n",
       "    <tr>\n",
       "      <td>price_per_square_meter</td>\n",
       "      <td>0.149856</td>\n",
       "      <td>0.580980</td>\n",
       "      <td>0.169118</td>\n",
       "      <td>-0.041085</td>\n",
       "      <td>0.096785</td>\n",
       "      <td>0.272850</td>\n",
       "      <td>0.080766</td>\n",
       "      <td>0.215584</td>\n",
       "      <td>0.019936</td>\n",
       "      <td>0.032643</td>\n",
       "      <td>...</td>\n",
       "      <td>0.273980</td>\n",
       "      <td>0.306328</td>\n",
       "      <td>0.231099</td>\n",
       "      <td>-0.004696</td>\n",
       "      <td>1.000000</td>\n",
       "      <td>-0.013541</td>\n",
       "      <td>-0.004926</td>\n",
       "      <td>0.056135</td>\n",
       "      <td>-0.019757</td>\n",
       "      <td>0.049121</td>\n",
       "    </tr>\n",
       "    <tr>\n",
       "      <td>day_of_week</td>\n",
       "      <td>-0.010724</td>\n",
       "      <td>-0.011602</td>\n",
       "      <td>-0.008632</td>\n",
       "      <td>-0.005771</td>\n",
       "      <td>-0.046570</td>\n",
       "      <td>0.010964</td>\n",
       "      <td>-0.022049</td>\n",
       "      <td>0.011096</td>\n",
       "      <td>-0.007236</td>\n",
       "      <td>-0.000891</td>\n",
       "      <td>...</td>\n",
       "      <td>-0.007497</td>\n",
       "      <td>-0.000181</td>\n",
       "      <td>-0.006332</td>\n",
       "      <td>-0.013257</td>\n",
       "      <td>-0.013541</td>\n",
       "      <td>1.000000</td>\n",
       "      <td>0.013039</td>\n",
       "      <td>-0.006854</td>\n",
       "      <td>-0.031583</td>\n",
       "      <td>-0.031097</td>\n",
       "    </tr>\n",
       "    <tr>\n",
       "      <td>month</td>\n",
       "      <td>0.007698</td>\n",
       "      <td>-0.001828</td>\n",
       "      <td>-0.001332</td>\n",
       "      <td>-0.009233</td>\n",
       "      <td>-0.025967</td>\n",
       "      <td>0.017188</td>\n",
       "      <td>0.000831</td>\n",
       "      <td>0.018831</td>\n",
       "      <td>-0.001240</td>\n",
       "      <td>0.001643</td>\n",
       "      <td>...</td>\n",
       "      <td>0.003302</td>\n",
       "      <td>-0.007642</td>\n",
       "      <td>0.004721</td>\n",
       "      <td>-0.015094</td>\n",
       "      <td>-0.004926</td>\n",
       "      <td>0.013039</td>\n",
       "      <td>1.000000</td>\n",
       "      <td>-0.250790</td>\n",
       "      <td>0.016139</td>\n",
       "      <td>0.014855</td>\n",
       "    </tr>\n",
       "    <tr>\n",
       "      <td>year</td>\n",
       "      <td>0.141851</td>\n",
       "      <td>-0.020504</td>\n",
       "      <td>-0.059424</td>\n",
       "      <td>-0.042971</td>\n",
       "      <td>0.156419</td>\n",
       "      <td>0.004970</td>\n",
       "      <td>-0.076802</td>\n",
       "      <td>0.003072</td>\n",
       "      <td>0.018495</td>\n",
       "      <td>0.010625</td>\n",
       "      <td>...</td>\n",
       "      <td>-0.028028</td>\n",
       "      <td>-0.042311</td>\n",
       "      <td>-0.017790</td>\n",
       "      <td>-0.598327</td>\n",
       "      <td>0.056135</td>\n",
       "      <td>-0.006854</td>\n",
       "      <td>-0.250790</td>\n",
       "      <td>1.000000</td>\n",
       "      <td>-0.058428</td>\n",
       "      <td>-0.017013</td>\n",
       "    </tr>\n",
       "    <tr>\n",
       "      <td>area_ratio_living_total</td>\n",
       "      <td>0.093476</td>\n",
       "      <td>-0.009742</td>\n",
       "      <td>0.012305</td>\n",
       "      <td>0.112865</td>\n",
       "      <td>0.122845</td>\n",
       "      <td>-0.087926</td>\n",
       "      <td>0.509953</td>\n",
       "      <td>-0.061171</td>\n",
       "      <td>-0.012208</td>\n",
       "      <td>0.023703</td>\n",
       "      <td>...</td>\n",
       "      <td>0.010828</td>\n",
       "      <td>0.009660</td>\n",
       "      <td>0.013261</td>\n",
       "      <td>0.047416</td>\n",
       "      <td>-0.019757</td>\n",
       "      <td>-0.031583</td>\n",
       "      <td>0.016139</td>\n",
       "      <td>-0.058428</td>\n",
       "      <td>1.000000</td>\n",
       "      <td>0.593956</td>\n",
       "    </tr>\n",
       "    <tr>\n",
       "      <td>area_ratio_kitchen_total</td>\n",
       "      <td>0.095446</td>\n",
       "      <td>0.002712</td>\n",
       "      <td>-0.019960</td>\n",
       "      <td>-0.035790</td>\n",
       "      <td>0.102429</td>\n",
       "      <td>0.032582</td>\n",
       "      <td>0.226367</td>\n",
       "      <td>0.023600</td>\n",
       "      <td>-0.033814</td>\n",
       "      <td>-0.241938</td>\n",
       "      <td>...</td>\n",
       "      <td>0.004965</td>\n",
       "      <td>0.013413</td>\n",
       "      <td>0.005003</td>\n",
       "      <td>0.041175</td>\n",
       "      <td>0.049121</td>\n",
       "      <td>-0.031097</td>\n",
       "      <td>0.014855</td>\n",
       "      <td>-0.017013</td>\n",
       "      <td>0.593956</td>\n",
       "      <td>1.000000</td>\n",
       "    </tr>\n",
       "  </tbody>\n",
       "</table>\n",
       "<p>26 rows × 26 columns</p>\n",
       "</div>"
      ],
      "text/plain": [
       "                          total_images  last_price  total_area     rooms  \\\n",
       "total_images                  1.000000    0.147093    0.108852  0.093369   \n",
       "last_price                    0.147093    1.000000    0.842968  0.537066   \n",
       "total_area                    0.108852    0.842968    1.000000  0.769212   \n",
       "rooms                         0.093369    0.537066    0.769212  1.000000   \n",
       "ceiling_height                0.095399    0.108219    0.091631  0.094877   \n",
       "floors_total                  0.017981    0.040381   -0.069798 -0.225940   \n",
       "living_area                   0.124310    0.622152    0.782878  0.744911   \n",
       "floor                         0.032886    0.060604   -0.027299 -0.154720   \n",
       "is_apartment                  0.016817    0.035310    0.030963  0.002410   \n",
       "studio                       -0.029444   -0.045066   -0.076769 -0.149179   \n",
       "open_plan                    -0.023778   -0.019121   -0.038988 -0.091430   \n",
       "kitchen_area                  0.136981    0.486772    0.482230  0.237833   \n",
       "balcony                       0.049684    0.018169    0.011570 -0.015872   \n",
       "airports_nearest              0.040212    0.205811    0.091258  0.046037   \n",
       "cityCenters_nearest           0.005144   -0.021697   -0.063222 -0.053014   \n",
       "parks_around3000              0.031379    0.257169    0.180792  0.147168   \n",
       "parks_nearest                 0.030109    0.197139    0.119199  0.082187   \n",
       "ponds_around3000              0.007221    0.256782    0.176455  0.109646   \n",
       "ponds_nearest                 0.009036    0.145586    0.083479  0.054309   \n",
       "days_exposition              -0.052274    0.059492    0.085409  0.072013   \n",
       "price_per_square_meter        0.149856    0.580980    0.169118 -0.041085   \n",
       "day_of_week                  -0.010724   -0.011602   -0.008632 -0.005771   \n",
       "month                         0.007698   -0.001828   -0.001332 -0.009233   \n",
       "year                          0.141851   -0.020504   -0.059424 -0.042971   \n",
       "area_ratio_living_total       0.093476   -0.009742    0.012305  0.112865   \n",
       "area_ratio_kitchen_total      0.095446    0.002712   -0.019960 -0.035790   \n",
       "\n",
       "                          ceiling_height  floors_total  living_area     floor  \\\n",
       "total_images                    0.095399      0.017981     0.124310  0.032886   \n",
       "last_price                      0.108219      0.040381     0.622152  0.060604   \n",
       "total_area                      0.091631     -0.069798     0.782878 -0.027299   \n",
       "rooms                           0.094877     -0.225940     0.744911 -0.154720   \n",
       "ceiling_height                  1.000000     -0.089800     0.142085 -0.068056   \n",
       "floors_total                   -0.089800      1.000000    -0.147924  0.665035   \n",
       "living_area                     0.142085     -0.147924     1.000000 -0.089564   \n",
       "floor                          -0.068056      0.665035    -0.089564  1.000000   \n",
       "is_apartment                    0.055089     -0.023335     0.017661 -0.012694   \n",
       "studio                         -0.013587      0.066608    -0.048930  0.036940   \n",
       "open_plan                      -0.028547      0.051135    -0.028641  0.036311   \n",
       "kitchen_area                    0.089049      0.134163     0.454589  0.108729   \n",
       "balcony                         0.112001      0.175278     0.023916  0.166919   \n",
       "airports_nearest                0.060890      0.164596     0.073384  0.111650   \n",
       "cityCenters_nearest             0.021212      0.096803    -0.042640  0.064017   \n",
       "parks_around3000                0.085224     -0.153090     0.178493 -0.102483   \n",
       "parks_nearest                   0.037727     -0.061100     0.097166 -0.038396   \n",
       "ponds_around3000                0.057416     -0.042596     0.142487 -0.026119   \n",
       "ponds_nearest                   0.028647      0.018375     0.074452  0.015188   \n",
       "days_exposition                 0.014940     -0.023040     0.094634 -0.020539   \n",
       "price_per_square_meter          0.096785      0.272850     0.080766  0.215584   \n",
       "day_of_week                    -0.046570      0.010964    -0.022049  0.011096   \n",
       "month                          -0.025967      0.017188     0.000831  0.018831   \n",
       "year                            0.156419      0.004970    -0.076802  0.003072   \n",
       "area_ratio_living_total         0.122845     -0.087926     0.509953 -0.061171   \n",
       "area_ratio_kitchen_total        0.102429      0.032582     0.226367  0.023600   \n",
       "\n",
       "                          is_apartment    studio  ...  parks_nearest  \\\n",
       "total_images                  0.016817 -0.029444  ...       0.030109   \n",
       "last_price                    0.035310 -0.045066  ...       0.197139   \n",
       "total_area                    0.030963 -0.076769  ...       0.119199   \n",
       "rooms                         0.002410 -0.149179  ...       0.082187   \n",
       "ceiling_height                0.055089 -0.013587  ...       0.037727   \n",
       "floors_total                 -0.023335  0.066608  ...      -0.061100   \n",
       "living_area                   0.017661 -0.048930  ...       0.097166   \n",
       "floor                        -0.012694  0.036940  ...      -0.038396   \n",
       "is_apartment                  1.000000 -0.003497  ...      -0.012467   \n",
       "studio                       -0.003497  1.000000  ...      -0.022938   \n",
       "open_plan                    -0.002323 -0.004284  ...      -0.012430   \n",
       "kitchen_area                  0.000837 -0.135771  ...       0.074637   \n",
       "balcony                       0.031005  0.029237  ...      -0.028187   \n",
       "airports_nearest              0.014803 -0.032001  ...       0.193032   \n",
       "cityCenters_nearest           0.015066 -0.022570  ...       0.077867   \n",
       "parks_around3000              0.014745 -0.031442  ...       0.588493   \n",
       "parks_nearest                -0.012467 -0.022938  ...       1.000000   \n",
       "ponds_around3000              0.011081 -0.008455  ...       0.298183   \n",
       "ponds_nearest                 0.015221 -0.004494  ...       0.182467   \n",
       "days_exposition              -0.001742 -0.016926  ...       0.022793   \n",
       "price_per_square_meter        0.019936  0.032643  ...       0.273980   \n",
       "day_of_week                  -0.007236 -0.000891  ...      -0.007497   \n",
       "month                        -0.001240  0.001643  ...       0.003302   \n",
       "year                          0.018495  0.010625  ...      -0.028028   \n",
       "area_ratio_living_total      -0.012208  0.023703  ...       0.010828   \n",
       "area_ratio_kitchen_total     -0.033814 -0.241938  ...       0.004965   \n",
       "\n",
       "                          ponds_around3000  ponds_nearest  days_exposition  \\\n",
       "total_images                      0.007221       0.009036        -0.052274   \n",
       "last_price                        0.256782       0.145586         0.059492   \n",
       "total_area                        0.176455       0.083479         0.085409   \n",
       "rooms                             0.109646       0.054309         0.072013   \n",
       "ceiling_height                    0.057416       0.028647         0.014940   \n",
       "floors_total                     -0.042596       0.018375        -0.023040   \n",
       "living_area                       0.142487       0.074452         0.094634   \n",
       "floor                            -0.026119       0.015188        -0.020539   \n",
       "is_apartment                      0.011081       0.015221        -0.001742   \n",
       "studio                           -0.008455      -0.004494        -0.016926   \n",
       "open_plan                        -0.005517      -0.003357        -0.016571   \n",
       "kitchen_area                      0.133397       0.058028         0.070976   \n",
       "balcony                          -0.040058      -0.020505        -0.026969   \n",
       "airports_nearest                  0.241820       0.223732         0.004238   \n",
       "cityCenters_nearest               0.193970       0.204628        -0.017165   \n",
       "parks_around3000                  0.382690       0.191375         0.040008   \n",
       "parks_nearest                     0.298183       0.182467         0.022793   \n",
       "ponds_around3000                  1.000000       0.603715         0.049895   \n",
       "ponds_nearest                     0.603715       1.000000         0.007794   \n",
       "days_exposition                   0.049895       0.007794         1.000000   \n",
       "price_per_square_meter            0.306328       0.231099        -0.004696   \n",
       "day_of_week                      -0.000181      -0.006332        -0.013257   \n",
       "month                            -0.007642       0.004721        -0.015094   \n",
       "year                             -0.042311      -0.017790        -0.598327   \n",
       "area_ratio_living_total           0.009660       0.013261         0.047416   \n",
       "area_ratio_kitchen_total          0.013413       0.005003         0.041175   \n",
       "\n",
       "                          price_per_square_meter  day_of_week     month  \\\n",
       "total_images                            0.149856    -0.010724  0.007698   \n",
       "last_price                              0.580980    -0.011602 -0.001828   \n",
       "total_area                              0.169118    -0.008632 -0.001332   \n",
       "rooms                                  -0.041085    -0.005771 -0.009233   \n",
       "ceiling_height                          0.096785    -0.046570 -0.025967   \n",
       "floors_total                            0.272850     0.010964  0.017188   \n",
       "living_area                             0.080766    -0.022049  0.000831   \n",
       "floor                                   0.215584     0.011096  0.018831   \n",
       "is_apartment                            0.019936    -0.007236 -0.001240   \n",
       "studio                                  0.032643    -0.000891  0.001643   \n",
       "open_plan                               0.013412     0.010552  0.027302   \n",
       "kitchen_area                            0.266071    -0.024663  0.007587   \n",
       "balcony                                 0.037256    -0.002070  0.007607   \n",
       "airports_nearest                        0.394488    -0.004114  0.004795   \n",
       "cityCenters_nearest                     0.125122     0.002157 -0.003600   \n",
       "parks_around3000                        0.292039    -0.011235 -0.002904   \n",
       "parks_nearest                           0.273980    -0.007497  0.003302   \n",
       "ponds_around3000                        0.306328    -0.000181 -0.007642   \n",
       "ponds_nearest                           0.231099    -0.006332  0.004721   \n",
       "days_exposition                        -0.004696    -0.013257 -0.015094   \n",
       "price_per_square_meter                  1.000000    -0.013541 -0.004926   \n",
       "day_of_week                            -0.013541     1.000000  0.013039   \n",
       "month                                  -0.004926     0.013039  1.000000   \n",
       "year                                    0.056135    -0.006854 -0.250790   \n",
       "area_ratio_living_total                -0.019757    -0.031583  0.016139   \n",
       "area_ratio_kitchen_total                0.049121    -0.031097  0.014855   \n",
       "\n",
       "                              year  area_ratio_living_total  \\\n",
       "total_images              0.141851                 0.093476   \n",
       "last_price               -0.020504                -0.009742   \n",
       "total_area               -0.059424                 0.012305   \n",
       "rooms                    -0.042971                 0.112865   \n",
       "ceiling_height            0.156419                 0.122845   \n",
       "floors_total              0.004970                -0.087926   \n",
       "living_area              -0.076802                 0.509953   \n",
       "floor                     0.003072                -0.061171   \n",
       "is_apartment              0.018495                -0.012208   \n",
       "studio                    0.010625                 0.023703   \n",
       "open_plan                -0.022265                 0.017800   \n",
       "kitchen_area             -0.041535                 0.263035   \n",
       "balcony                   0.005613                 0.069329   \n",
       "airports_nearest         -0.025849                 0.034196   \n",
       "cityCenters_nearest      -0.010782                 0.044866   \n",
       "parks_around3000         -0.040680                 0.038271   \n",
       "parks_nearest            -0.028028                 0.010828   \n",
       "ponds_around3000         -0.042311                 0.009660   \n",
       "ponds_nearest            -0.017790                 0.013261   \n",
       "days_exposition          -0.598327                 0.047416   \n",
       "price_per_square_meter    0.056135                -0.019757   \n",
       "day_of_week              -0.006854                -0.031583   \n",
       "month                    -0.250790                 0.016139   \n",
       "year                      1.000000                -0.058428   \n",
       "area_ratio_living_total  -0.058428                 1.000000   \n",
       "area_ratio_kitchen_total -0.017013                 0.593956   \n",
       "\n",
       "                          area_ratio_kitchen_total  \n",
       "total_images                              0.095446  \n",
       "last_price                                0.002712  \n",
       "total_area                               -0.019960  \n",
       "rooms                                    -0.035790  \n",
       "ceiling_height                            0.102429  \n",
       "floors_total                              0.032582  \n",
       "living_area                               0.226367  \n",
       "floor                                     0.023600  \n",
       "is_apartment                             -0.033814  \n",
       "studio                                   -0.241938  \n",
       "open_plan                                -0.160733  \n",
       "kitchen_area                              0.611874  \n",
       "balcony                                   0.109762  \n",
       "airports_nearest                          0.048522  \n",
       "cityCenters_nearest                       0.042024  \n",
       "parks_around3000                          0.006376  \n",
       "parks_nearest                             0.004965  \n",
       "ponds_around3000                          0.013413  \n",
       "ponds_nearest                             0.005003  \n",
       "days_exposition                           0.041175  \n",
       "price_per_square_meter                    0.049121  \n",
       "day_of_week                              -0.031097  \n",
       "month                                     0.014855  \n",
       "year                                     -0.017013  \n",
       "area_ratio_living_total                   0.593956  \n",
       "area_ratio_kitchen_total                  1.000000  \n",
       "\n",
       "[26 rows x 26 columns]"
      ]
     },
     "execution_count": 253,
     "metadata": {},
     "output_type": "execute_result"
    }
   ],
   "source": [
    "data.corr()"
   ]
  },
  {
   "cell_type": "markdown",
   "metadata": {},
   "source": [
    "### Total area, rooms, living_area, and price per square meter seem to impact price the most."
   ]
  },
  {
   "cell_type": "markdown",
   "metadata": {},
   "source": [
    "## price_per_square_meter"
   ]
  },
  {
   "cell_type": "code",
   "execution_count": 255,
   "metadata": {
    "scrolled": true
   },
   "outputs": [
    {
     "data": {
      "text/plain": [
       "<matplotlib.axes._subplots.AxesSubplot at 0x7f1bda086250>"
      ]
     },
     "execution_count": 255,
     "metadata": {},
     "output_type": "execute_result"
    },
    {
     "data": {
      "image/png": "[encoded data removed]",
      "text/plain": [
       "<Figure size 432x288 with 1 Axes>"
      ]
     },
     "metadata": {
      "needs_background": "light"
     },
     "output_type": "display_data"
    }
   ],
   "source": [
    "data.pivot_table(index=['price_per_square_meter'], values='last_price', aggfunc=['median', 'mean']).plot( ylim=(0,0.4e+8),style='o', grid=True)"
   ]
  },
  {
   "cell_type": "markdown",
   "metadata": {},
   "source": [
    "### As price per square meter increases, the price increases. This makes sense."
   ]
  },
  {
   "cell_type": "markdown",
   "metadata": {},
   "source": [
    "## rooms"
   ]
  },
  {
   "cell_type": "code",
   "execution_count": 256,
   "metadata": {},
   "outputs": [
    {
     "data": {
      "text/plain": [
       "<matplotlib.axes._subplots.AxesSubplot at 0x7f1bda1f2c90>"
      ]
     },
     "execution_count": 256,
     "metadata": {},
     "output_type": "execute_result"
    },
    {
     "data": {
      "image/png": "[encoded data removed]",
      "text/plain": [
       "<Figure size 432x288 with 1 Axes>"
      ]
     },
     "metadata": {
      "needs_background": "light"
     },
     "output_type": "display_data"
    }
   ],
   "source": [
    "data.pivot_table(index=['rooms'], values='last_price', aggfunc=['median', 'mean']).plot(xlim=(0,11),style='o-', grid=True)"
   ]
  },
  {
   "cell_type": "markdown",
   "metadata": {},
   "source": [
    "### A number of rooms increases from 0 to 7 rooms, price increases. There are some outliers starting at 7 rooms, since not many people have so many rooms."
   ]
  },
  {
   "cell_type": "markdown",
   "metadata": {},
   "source": [
    "## floor rank"
   ]
  },
  {
   "cell_type": "code",
   "execution_count": 257,
   "metadata": {},
   "outputs": [
    {
     "data": {
      "text/html": [
       "<div>\n",
       "<style scoped>\n",
       "    .dataframe tbody tr th:only-of-type {\n",
       "        vertical-align: middle;\n",
       "    }\n",
       "\n",
       "    .dataframe tbody tr th {\n",
       "        vertical-align: top;\n",
       "    }\n",
       "\n",
       "    .dataframe thead tr th {\n",
       "        text-align: left;\n",
       "    }\n",
       "\n",
       "    .dataframe thead tr:last-of-type th {\n",
       "        text-align: right;\n",
       "    }\n",
       "</style>\n",
       "<table border=\"1\" class=\"dataframe\">\n",
       "  <thead>\n",
       "    <tr>\n",
       "      <th></th>\n",
       "      <th>median</th>\n",
       "      <th>mean</th>\n",
       "      <th>count</th>\n",
       "    </tr>\n",
       "    <tr>\n",
       "      <th></th>\n",
       "      <th>last_price</th>\n",
       "      <th>last_price</th>\n",
       "      <th>last_price</th>\n",
       "    </tr>\n",
       "    <tr>\n",
       "      <th>floor_comparison_to_total</th>\n",
       "      <th></th>\n",
       "      <th></th>\n",
       "      <th></th>\n",
       "    </tr>\n",
       "  </thead>\n",
       "  <tbody>\n",
       "    <tr>\n",
       "      <td>first</td>\n",
       "      <td>3900000</td>\n",
       "      <td>4.591491e+06</td>\n",
       "      <td>2879</td>\n",
       "    </tr>\n",
       "    <tr>\n",
       "      <td>last</td>\n",
       "      <td>4287500</td>\n",
       "      <td>5.943886e+06</td>\n",
       "      <td>3264</td>\n",
       "    </tr>\n",
       "    <tr>\n",
       "      <td>other</td>\n",
       "      <td>4800000</td>\n",
       "      <td>6.044114e+06</td>\n",
       "      <td>17110</td>\n",
       "    </tr>\n",
       "  </tbody>\n",
       "</table>\n",
       "</div>"
      ],
      "text/plain": [
       "                              median          mean      count\n",
       "                          last_price    last_price last_price\n",
       "floor_comparison_to_total                                    \n",
       "first                        3900000  4.591491e+06       2879\n",
       "last                         4287500  5.943886e+06       3264\n",
       "other                        4800000  6.044114e+06      17110"
      ]
     },
     "execution_count": 257,
     "metadata": {},
     "output_type": "execute_result"
    }
   ],
   "source": [
    "data.pivot_table(index=['floor_comparison_to_total'], values='last_price', aggfunc=['median', 'mean', 'count'])"
   ]
  },
  {
   "cell_type": "code",
   "execution_count": 258,
   "metadata": {},
   "outputs": [
    {
     "data": {
      "text/plain": [
       "<matplotlib.axes._subplots.AxesSubplot at 0x7f1bda01ca90>"
      ]
     },
     "execution_count": 258,
     "metadata": {},
     "output_type": "execute_result"
    },
    {
     "data": {
      "image/png": "[encoded data removed]",
      "text/plain": [
       "<Figure size 432x288 with 1 Axes>"
      ]
     },
     "metadata": {
      "needs_background": "light"
     },
     "output_type": "display_data"
    }
   ],
   "source": [
    "data.pivot_table(index=['floor_comparison_to_total'], values='last_price', aggfunc=['median', 'mean']).plot( style='o-', grid=True)"
   ]
  },
  {
   "cell_type": "markdown",
   "metadata": {},
   "source": [
    "### It seems that if some lives on the first floor, it costs less than if someone lives on the last floor."
   ]
  },
  {
   "cell_type": "markdown",
   "metadata": {},
   "source": [
    "## cityCenters_nearest"
   ]
  },
  {
   "cell_type": "code",
   "execution_count": 259,
   "metadata": {},
   "outputs": [],
   "source": [
    "data['cityCenters_nearest_km'] = data['cityCenters_nearest']/1000"
   ]
  },
  {
   "cell_type": "code",
   "execution_count": 260,
   "metadata": {},
   "outputs": [],
   "source": [
    "data['cityCenters_nearest_km'] = data['cityCenters_nearest_km'].round()"
   ]
  },
  {
   "cell_type": "code",
   "execution_count": 261,
   "metadata": {},
   "outputs": [
    {
     "data": {
      "text/plain": [
       "<matplotlib.axes._subplots.AxesSubplot at 0x7f1bd987c6d0>"
      ]
     },
     "execution_count": 261,
     "metadata": {},
     "output_type": "execute_result"
    },
    {
     "data": {
      "image/png": "[encoded data removed]",
      "text/plain": [
       "<Figure size 432x288 with 1 Axes>"
      ]
     },
     "metadata": {
      "needs_background": "light"
     },
     "output_type": "display_data"
    }
   ],
   "source": [
    "data.pivot_table(index=['cityCenters_nearest_km'], values='last_price', aggfunc=['mean']).plot(kind='bar', grid=True)"
   ]
  },
  {
   "cell_type": "markdown",
   "metadata": {},
   "source": [
    "### It seems that homes between about 1 and 8 km away from the city center (downtown area) are more expensive than homes that are farther away from the city. "
   ]
  },
  {
   "cell_type": "markdown",
   "metadata": {},
   "source": [
    "## day_of_week"
   ]
  },
  {
   "cell_type": "code",
   "execution_count": 262,
   "metadata": {},
   "outputs": [
    {
     "data": {
      "text/plain": [
       "<matplotlib.axes._subplots.AxesSubplot at 0x7f1bd9f20390>"
      ]
     },
     "execution_count": 262,
     "metadata": {},
     "output_type": "execute_result"
    },
    {
     "data": {
      "image/png": "[encoded data removed]",
      "text/plain": [
       "<Figure size 432x288 with 1 Axes>"
      ]
     },
     "metadata": {
      "needs_background": "light"
     },
     "output_type": "display_data"
    }
   ],
   "source": [
    "data.pivot_table(index=['day_of_week'], values='last_price', aggfunc=['median', 'mean']).plot(style='o-', grid=True)"
   ]
  },
  {
   "cell_type": "markdown",
   "metadata": {},
   "source": [
    "### The day of the week of the publication date does not show much effect on price. It seems pretty constant."
   ]
  },
  {
   "cell_type": "markdown",
   "metadata": {},
   "source": [
    "## month"
   ]
  },
  {
   "cell_type": "code",
   "execution_count": 263,
   "metadata": {},
   "outputs": [
    {
     "data": {
      "text/plain": [
       "<matplotlib.axes._subplots.AxesSubplot at 0x7f1bd9d53a90>"
      ]
     },
     "execution_count": 263,
     "metadata": {},
     "output_type": "execute_result"
    },
    {
     "data": {
      "image/png": "[encoded data removed]",
      "text/plain": [
       "<Figure size 432x288 with 1 Axes>"
      ]
     },
     "metadata": {
      "needs_background": "light"
     },
     "output_type": "display_data"
    }
   ],
   "source": [
    "data.pivot_table(index=['month'], values='last_price', aggfunc=['median', 'mean']).plot(style='o-', grid=True)"
   ]
  },
  {
   "cell_type": "markdown",
   "metadata": {},
   "source": [
    "### It seems like price is pretty constant depending on month. However, in June, the price is the lowest."
   ]
  },
  {
   "cell_type": "markdown",
   "metadata": {},
   "source": [
    "## year"
   ]
  },
  {
   "cell_type": "code",
   "execution_count": 264,
   "metadata": {},
   "outputs": [
    {
     "data": {
      "text/plain": [
       "<matplotlib.axes._subplots.AxesSubplot at 0x7f1bd9dc8f50>"
      ]
     },
     "execution_count": 264,
     "metadata": {},
     "output_type": "execute_result"
    },
    {
     "data": {
      "image/png": "[encoded data removed]",
      "text/plain": [
       "<Figure size 432x288 with 1 Axes>"
      ]
     },
     "metadata": {
      "needs_background": "light"
     },
     "output_type": "display_data"
    }
   ],
   "source": [
    "data.pivot_table(index=['year'], values='last_price', aggfunc=['median', 'mean']).plot(style='o-', grid=True)"
   ]
  },
  {
   "cell_type": "markdown",
   "metadata": {},
   "source": [
    "### Prices have decreased from 2015 to 2016, stayed pretty constant from 2016 to 2017, and increased from 2017 to 2019."
   ]
  },
  {
   "cell_type": "markdown",
   "metadata": {},
   "source": [
    "### The factor with the largest influence on a home's value is the price per square meter. However, the number of rooms, whether the home is on first or last floor, the distance to the city center, and the year also play a part."
   ]
  },
  {
   "cell_type": "markdown",
   "metadata": {},
   "source": [
    "# Select the 10 places with the largest number of ads and then calculate the average price per square meter in these localities. Select the locations with the highest and lowest housing prices. You can find this data by name in the ’locality_name’ column."
   ]
  },
  {
   "cell_type": "code",
   "execution_count": 265,
   "metadata": {},
   "outputs": [
    {
     "data": {
      "text/html": [
       "<div>\n",
       "<style scoped>\n",
       "    .dataframe tbody tr th:only-of-type {\n",
       "        vertical-align: middle;\n",
       "    }\n",
       "\n",
       "    .dataframe tbody tr th {\n",
       "        vertical-align: top;\n",
       "    }\n",
       "\n",
       "    .dataframe thead th {\n",
       "        text-align: right;\n",
       "    }\n",
       "</style>\n",
       "<table border=\"1\" class=\"dataframe\">\n",
       "  <thead>\n",
       "    <tr style=\"text-align: right;\">\n",
       "      <th></th>\n",
       "      <th>total_images</th>\n",
       "      <th>last_price</th>\n",
       "      <th>total_area</th>\n",
       "      <th>first_day_exposition</th>\n",
       "      <th>rooms</th>\n",
       "      <th>ceiling_height</th>\n",
       "      <th>floors_total</th>\n",
       "      <th>living_area</th>\n",
       "      <th>floor</th>\n",
       "      <th>is_apartment</th>\n",
       "      <th>...</th>\n",
       "      <th>days_exposition</th>\n",
       "      <th>datetime_ad_published</th>\n",
       "      <th>price_per_square_meter</th>\n",
       "      <th>day_of_week</th>\n",
       "      <th>month</th>\n",
       "      <th>year</th>\n",
       "      <th>floor_comparison_to_total</th>\n",
       "      <th>area_ratio_living_total</th>\n",
       "      <th>area_ratio_kitchen_total</th>\n",
       "      <th>cityCenters_nearest_km</th>\n",
       "    </tr>\n",
       "  </thead>\n",
       "  <tbody>\n",
       "    <tr>\n",
       "      <td>0</td>\n",
       "      <td>20</td>\n",
       "      <td>13000000</td>\n",
       "      <td>108.0</td>\n",
       "      <td>2019-03-07T00:00:00</td>\n",
       "      <td>3</td>\n",
       "      <td>2.70</td>\n",
       "      <td>16</td>\n",
       "      <td>51.0</td>\n",
       "      <td>8</td>\n",
       "      <td>False</td>\n",
       "      <td>...</td>\n",
       "      <td>-1</td>\n",
       "      <td>2019-03-07</td>\n",
       "      <td>120370.370370</td>\n",
       "      <td>3</td>\n",
       "      <td>3</td>\n",
       "      <td>2019</td>\n",
       "      <td>other</td>\n",
       "      <td>0.472222</td>\n",
       "      <td>0.231481</td>\n",
       "      <td>16.0</td>\n",
       "    </tr>\n",
       "    <tr>\n",
       "      <td>1</td>\n",
       "      <td>7</td>\n",
       "      <td>3350000</td>\n",
       "      <td>40.4</td>\n",
       "      <td>2018-12-04T00:00:00</td>\n",
       "      <td>1</td>\n",
       "      <td>-1.00</td>\n",
       "      <td>11</td>\n",
       "      <td>18.6</td>\n",
       "      <td>1</td>\n",
       "      <td>False</td>\n",
       "      <td>...</td>\n",
       "      <td>81</td>\n",
       "      <td>2018-12-04</td>\n",
       "      <td>82920.792079</td>\n",
       "      <td>1</td>\n",
       "      <td>12</td>\n",
       "      <td>2018</td>\n",
       "      <td>first</td>\n",
       "      <td>0.460396</td>\n",
       "      <td>0.272277</td>\n",
       "      <td>19.0</td>\n",
       "    </tr>\n",
       "    <tr>\n",
       "      <td>2</td>\n",
       "      <td>10</td>\n",
       "      <td>5196000</td>\n",
       "      <td>56.0</td>\n",
       "      <td>2015-08-20T00:00:00</td>\n",
       "      <td>2</td>\n",
       "      <td>-1.00</td>\n",
       "      <td>5</td>\n",
       "      <td>34.3</td>\n",
       "      <td>4</td>\n",
       "      <td>False</td>\n",
       "      <td>...</td>\n",
       "      <td>558</td>\n",
       "      <td>2015-08-20</td>\n",
       "      <td>92785.714286</td>\n",
       "      <td>3</td>\n",
       "      <td>8</td>\n",
       "      <td>2015</td>\n",
       "      <td>other</td>\n",
       "      <td>0.612500</td>\n",
       "      <td>0.148214</td>\n",
       "      <td>14.0</td>\n",
       "    </tr>\n",
       "    <tr>\n",
       "      <td>4</td>\n",
       "      <td>2</td>\n",
       "      <td>10000000</td>\n",
       "      <td>100.0</td>\n",
       "      <td>2018-06-19T00:00:00</td>\n",
       "      <td>2</td>\n",
       "      <td>3.03</td>\n",
       "      <td>14</td>\n",
       "      <td>32.0</td>\n",
       "      <td>13</td>\n",
       "      <td>False</td>\n",
       "      <td>...</td>\n",
       "      <td>121</td>\n",
       "      <td>2018-06-19</td>\n",
       "      <td>100000.000000</td>\n",
       "      <td>1</td>\n",
       "      <td>6</td>\n",
       "      <td>2018</td>\n",
       "      <td>other</td>\n",
       "      <td>0.320000</td>\n",
       "      <td>0.410000</td>\n",
       "      <td>8.0</td>\n",
       "    </tr>\n",
       "    <tr>\n",
       "      <td>5</td>\n",
       "      <td>10</td>\n",
       "      <td>2890000</td>\n",
       "      <td>30.4</td>\n",
       "      <td>2018-09-10T00:00:00</td>\n",
       "      <td>1</td>\n",
       "      <td>-1.00</td>\n",
       "      <td>12</td>\n",
       "      <td>14.4</td>\n",
       "      <td>5</td>\n",
       "      <td>False</td>\n",
       "      <td>...</td>\n",
       "      <td>55</td>\n",
       "      <td>2018-09-10</td>\n",
       "      <td>95065.789474</td>\n",
       "      <td>0</td>\n",
       "      <td>9</td>\n",
       "      <td>2018</td>\n",
       "      <td>other</td>\n",
       "      <td>0.473684</td>\n",
       "      <td>0.299342</td>\n",
       "      <td>0.0</td>\n",
       "    </tr>\n",
       "  </tbody>\n",
       "</table>\n",
       "<p>5 rows × 31 columns</p>\n",
       "</div>"
      ],
      "text/plain": [
       "   total_images  last_price  total_area first_day_exposition  rooms  \\\n",
       "0            20    13000000       108.0  2019-03-07T00:00:00      3   \n",
       "1             7     3350000        40.4  2018-12-04T00:00:00      1   \n",
       "2            10     5196000        56.0  2015-08-20T00:00:00      2   \n",
       "4             2    10000000       100.0  2018-06-19T00:00:00      2   \n",
       "5            10     2890000        30.4  2018-09-10T00:00:00      1   \n",
       "\n",
       "   ceiling_height  floors_total  living_area  floor  is_apartment  ...  \\\n",
       "0            2.70            16         51.0      8         False  ...   \n",
       "1           -1.00            11         18.6      1         False  ...   \n",
       "2           -1.00             5         34.3      4         False  ...   \n",
       "4            3.03            14         32.0     13         False  ...   \n",
       "5           -1.00            12         14.4      5         False  ...   \n",
       "\n",
       "   days_exposition  datetime_ad_published  price_per_square_meter  \\\n",
       "0               -1             2019-03-07           120370.370370   \n",
       "1               81             2018-12-04            82920.792079   \n",
       "2              558             2015-08-20            92785.714286   \n",
       "4              121             2018-06-19           100000.000000   \n",
       "5               55             2018-09-10            95065.789474   \n",
       "\n",
       "   day_of_week month  year  floor_comparison_to_total  \\\n",
       "0            3     3  2019                      other   \n",
       "1            1    12  2018                      first   \n",
       "2            3     8  2015                      other   \n",
       "4            1     6  2018                      other   \n",
       "5            0     9  2018                      other   \n",
       "\n",
       "   area_ratio_living_total  area_ratio_kitchen_total  cityCenters_nearest_km  \n",
       "0                 0.472222                  0.231481                    16.0  \n",
       "1                 0.460396                  0.272277                    19.0  \n",
       "2                 0.612500                  0.148214                    14.0  \n",
       "4                 0.320000                  0.410000                     8.0  \n",
       "5                 0.473684                  0.299342                     0.0  \n",
       "\n",
       "[5 rows x 31 columns]"
      ]
     },
     "execution_count": 265,
     "metadata": {},
     "output_type": "execute_result"
    }
   ],
   "source": [
    "data.head()"
   ]
  },
  {
   "cell_type": "code",
   "execution_count": 266,
   "metadata": {},
   "outputs": [],
   "source": [
    "data['locality_name'] = data['locality_name'].str.lower()"
   ]
  },
  {
   "cell_type": "code",
   "execution_count": 267,
   "metadata": {},
   "outputs": [
    {
     "data": {
      "text/plain": [
       "saint peterburg      15327\n",
       "murino village         554\n",
       "shushary village       440\n",
       "vsevolozhsk            393\n",
       "pushkin                364\n",
       "kolpino                334\n",
       "pargolovo village      326\n",
       "gatchina               307\n",
       "kudrovo village        298\n",
       "vyborg                 237\n",
       "Name: locality_name, dtype: int64"
      ]
     },
     "execution_count": 267,
     "metadata": {},
     "output_type": "execute_result"
    }
   ],
   "source": [
    "data['locality_name'].value_counts().sort_values(ascending=False).head(10)"
   ]
  },
  {
   "cell_type": "code",
   "execution_count": 268,
   "metadata": {},
   "outputs": [
    {
     "data": {
      "text/plain": [
       "109706.71671919581"
      ]
     },
     "execution_count": 268,
     "metadata": {},
     "output_type": "execute_result"
    }
   ],
   "source": [
    "data.query('locality_name == \"saint peterburg\"')['price_per_square_meter'].mean()"
   ]
  },
  {
   "cell_type": "code",
   "execution_count": 269,
   "metadata": {},
   "outputs": [],
   "source": [
    "top10 = {'locality_name':  ['saint peterberg', 'vsevolozhsk','shushary village', 'kolpino', 'pushkin', 'gatchina', 'murino village', 'novoye devyatkino village', 'pargolovo village', 'krasnoye selo'],\n",
    "        'average_price_per_square_meter_in_locality': [data.query('locality_name == \"saint peterburg\"')['price_per_square_meter'].mean(), \n",
    "                                                      data.query('locality_name == \"vsevolozhsk\"')['price_per_square_meter'].mean(), \n",
    "                                                      data.query('locality_name == \"shushary village\"')['price_per_square_meter'].mean(), \n",
    "                                                      data.query('locality_name == \"kolpino\"')['price_per_square_meter'].mean(), \n",
    "                                                      data.query('locality_name == \"pushkin\"')['price_per_square_meter'].mean(), \n",
    "                                                      data.query('locality_name == \"gatchina\"')['price_per_square_meter'].mean(), \n",
    "                                                      data.query('locality_name == \"murino village\"')['price_per_square_meter'].mean(), \n",
    "                                                      data.query('locality_name == \"novoye devyatkino village\"')['price_per_square_meter'].mean(), \n",
    "                                                      data.query('locality_name == \"pargolovo village\"')['price_per_square_meter'].mean(), \n",
    "                                                      data.query('locality_name == \"krasnoye selo\"')['price_per_square_meter'].mean()]\n",
    "        }\n",
    "top10_data = pd.DataFrame (top10, columns = ['locality_name','average_price_per_square_meter_in_locality'])"
   ]
  },
  {
   "cell_type": "code",
   "execution_count": 278,
   "metadata": {},
   "outputs": [
    {
     "name": "stdout",
     "output_type": "stream",
     "text": [
      "               locality_name  average_price_per_square_meter_in_locality\n",
      "0            saint peterberg                               109706.716719\n",
      "4                    pushkin                               102607.563462\n",
      "8          pargolovo village                                90135.075586\n",
      "6             murino village                                85764.068370\n",
      "2           shushary village                                78677.364217\n",
      "7  novoye devyatkino village                                76206.001423\n",
      "3                    kolpino                                75399.668554\n",
      "9              krasnoye selo                                72148.588289\n",
      "5                   gatchina                                68746.146763\n",
      "1                vsevolozhsk                                67285.063663\n"
     ]
    }
   ],
   "source": [
    "print(top10_data.sort_values(by='average_price_per_square_meter_in_locality', ascending=False))"
   ]
  },
  {
   "cell_type": "markdown",
   "metadata": {},
   "source": [
    "<div class=\"alert alert-warning\" role=\"alert\">\n",
    "Use .groupby() or .pivot_table() in such tasks. Next code helps automate the process.\n",
    "</div>\n",
    "\n",
    "``\n",
    "data.pivot_table(index='locality_name', values='price_per_square_meter', aggfunc=('count', 'mean')) \\\n",
    ".sort_values('count', ascending=False).head(10)\n",
    "``\n",
    "\n",
    "---"
   ]
  },
  {
   "cell_type": "markdown",
   "metadata": {},
   "source": [
    "### The location with the highest prices is Saint Peterberg. The location with the lowest prices is Vsevolozhsk."
   ]
  },
  {
   "cell_type": "markdown",
   "metadata": {},
   "source": [
    "# Thoroughly look at apartment offers: each apartment has information about the distance to the downtown area. Select apartments in Saint Petersburg (‘locality_name’). Your task is to pinpoint which area is considered to be downtown. Create a column with the distance to the downtown area in km and round to the nearest whole number. Next, calculate the average price for each kilometer. Build a graph to display how prices are affected by the distance to the downtown area. Define the turning point where the graph significantly changes. This will indicate downtown."
   ]
  },
  {
   "cell_type": "code",
   "execution_count": 280,
   "metadata": {},
   "outputs": [],
   "source": [
    "saint_petersburg_data = data.query('locality_name == \"saint peterburg\"')"
   ]
  },
  {
   "cell_type": "code",
   "execution_count": 281,
   "metadata": {},
   "outputs": [
    {
     "data": {
      "text/plain": [
       "<matplotlib.axes._subplots.AxesSubplot at 0x7f1bd9c588d0>"
      ]
     },
     "execution_count": 281,
     "metadata": {},
     "output_type": "execute_result"
    },
    {
     "data": {
      "image/png": "[encoded data removed]",
      "text/plain": [
       "<Figure size 432x288 with 1 Axes>"
      ]
     },
     "metadata": {
      "needs_background": "light"
     },
     "output_type": "display_data"
    }
   ],
   "source": [
    "saint_petersburg_data['cityCenters_nearest'].hist()"
   ]
  },
  {
   "cell_type": "code",
   "execution_count": 282,
   "metadata": {},
   "outputs": [
    {
     "name": "stderr",
     "output_type": "stream",
     "text": [
      "/opt/conda/lib/python3.7/site-packages/ipykernel_launcher.py:1: SettingWithCopyWarning: \n",
      "A value is trying to be set on a copy of a slice from a DataFrame.\n",
      "Try using .loc[row_indexer,col_indexer] = value instead\n",
      "\n",
      "See the caveats in the documentation: http://pandas.pydata.org/pandas-docs/stable/user_guide/indexing.html#returning-a-view-versus-a-copy\n",
      "  \"\"\"Entry point for launching an IPython kernel.\n"
     ]
    }
   ],
   "source": [
    "saint_petersburg_data['cityCenters_nearest_km'] = saint_petersburg_data['cityCenters_nearest']/1000"
   ]
  },
  {
   "cell_type": "code",
   "execution_count": 283,
   "metadata": {},
   "outputs": [
    {
     "name": "stderr",
     "output_type": "stream",
     "text": [
      "/opt/conda/lib/python3.7/site-packages/ipykernel_launcher.py:1: SettingWithCopyWarning: \n",
      "A value is trying to be set on a copy of a slice from a DataFrame.\n",
      "Try using .loc[row_indexer,col_indexer] = value instead\n",
      "\n",
      "See the caveats in the documentation: http://pandas.pydata.org/pandas-docs/stable/user_guide/indexing.html#returning-a-view-versus-a-copy\n",
      "  \"\"\"Entry point for launching an IPython kernel.\n"
     ]
    }
   ],
   "source": [
    "saint_petersburg_data['cityCenters_nearest_km'] = saint_petersburg_data['cityCenters_nearest_km'].round()"
   ]
  },
  {
   "cell_type": "code",
   "execution_count": 284,
   "metadata": {},
   "outputs": [
    {
     "data": {
      "text/plain": [
       "<matplotlib.axes._subplots.AxesSubplot at 0x7f1bd99cdc10>"
      ]
     },
     "execution_count": 284,
     "metadata": {},
     "output_type": "execute_result"
    },
    {
     "data": {
      "image/png": "[encoded data removed]",
      "text/plain": [
       "<Figure size 432x288 with 1 Axes>"
      ]
     },
     "metadata": {
      "needs_background": "light"
     },
     "output_type": "display_data"
    }
   ],
   "source": [
    "saint_petersburg_data.pivot_table(index=['cityCenters_nearest_km'], values='last_price', aggfunc=['mean']).plot( kind='bar', grid=True)"
   ]
  },
  {
   "cell_type": "markdown",
   "metadata": {},
   "source": [
    "### There is a drop in price after 8km so downtown is considered 8 miles around city center."
   ]
  },
  {
   "cell_type": "code",
   "execution_count": 285,
   "metadata": {},
   "outputs": [],
   "source": [
    "distance_downtown_km = (data['cityCenters_nearest'] - 8000)/1000"
   ]
  },
  {
   "cell_type": "code",
   "execution_count": 286,
   "metadata": {},
   "outputs": [],
   "source": [
    "distance_downtown_km_rounded= distance_downtown_km.round()"
   ]
  },
  {
   "cell_type": "code",
   "execution_count": 287,
   "metadata": {},
   "outputs": [
    {
     "name": "stderr",
     "output_type": "stream",
     "text": [
      "/opt/conda/lib/python3.7/site-packages/ipykernel_launcher.py:1: SettingWithCopyWarning: \n",
      "A value is trying to be set on a copy of a slice from a DataFrame.\n",
      "Try using .loc[row_indexer,col_indexer] = value instead\n",
      "\n",
      "See the caveats in the documentation: http://pandas.pydata.org/pandas-docs/stable/user_guide/indexing.html#returning-a-view-versus-a-copy\n",
      "  \"\"\"Entry point for launching an IPython kernel.\n"
     ]
    }
   ],
   "source": [
    "saint_petersburg_data['distance_to_downtown_km'] = distance_downtown_km.round()"
   ]
  },
  {
   "cell_type": "code",
   "execution_count": 288,
   "metadata": {},
   "outputs": [
    {
     "name": "stdout",
     "output_type": "stream",
     "text": [
      "   total_images  last_price  total_area first_day_exposition  rooms  \\\n",
      "0            20    13000000       108.0  2019-03-07T00:00:00      3   \n",
      "2            10     5196000        56.0  2015-08-20T00:00:00      2   \n",
      "4             2    10000000       100.0  2018-06-19T00:00:00      2   \n",
      "7             5     7915000        71.6  2019-04-18T00:00:00      2   \n",
      "9            18     5400000        61.0  2017-02-26T00:00:00      3   \n",
      "\n",
      "   ceiling_height  floors_total  living_area  floor  is_apartment  ...  \\\n",
      "0            2.70            16         51.0      8         False  ...   \n",
      "2           -1.00             5         34.3      4         False  ...   \n",
      "4            3.03            14         32.0     13         False  ...   \n",
      "7           -1.00            24         -1.0     22         False  ...   \n",
      "9            2.50             9         43.6      7         False  ...   \n",
      "\n",
      "   datetime_ad_published  price_per_square_meter  day_of_week  month  year  \\\n",
      "0             2019-03-07           120370.370370            3      3  2019   \n",
      "2             2015-08-20            92785.714286            3      8  2015   \n",
      "4             2018-06-19           100000.000000            1      6  2018   \n",
      "7             2019-04-18           110544.692737            3      4  2019   \n",
      "9             2017-02-26            88524.590164            6      2  2017   \n",
      "\n",
      "   floor_comparison_to_total  area_ratio_living_total  \\\n",
      "0                      other                 0.472222   \n",
      "2                      other                 0.612500   \n",
      "4                      other                 0.320000   \n",
      "7                      other                -1.000000   \n",
      "9                      other                 0.714754   \n",
      "\n",
      "   area_ratio_kitchen_total  cityCenters_nearest_km  distance_to_downtown_km  \n",
      "0                  0.231481                    16.0                      8.0  \n",
      "2                  0.148214                    14.0                      6.0  \n",
      "4                  0.410000                     8.0                      0.0  \n",
      "7                  0.263966                    12.0                      4.0  \n",
      "9                  0.106557                    15.0                      7.0  \n",
      "\n",
      "[5 rows x 32 columns]\n"
     ]
    }
   ],
   "source": [
    "print(saint_petersburg_data.head())"
   ]
  },
  {
   "cell_type": "code",
   "execution_count": 289,
   "metadata": {},
   "outputs": [
    {
     "data": {
      "text/html": [
       "<div>\n",
       "<style scoped>\n",
       "    .dataframe tbody tr th:only-of-type {\n",
       "        vertical-align: middle;\n",
       "    }\n",
       "\n",
       "    .dataframe tbody tr th {\n",
       "        vertical-align: top;\n",
       "    }\n",
       "\n",
       "    .dataframe thead tr th {\n",
       "        text-align: left;\n",
       "    }\n",
       "\n",
       "    .dataframe thead tr:last-of-type th {\n",
       "        text-align: right;\n",
       "    }\n",
       "</style>\n",
       "<table border=\"1\" class=\"dataframe\">\n",
       "  <thead>\n",
       "    <tr>\n",
       "      <th></th>\n",
       "      <th>mean</th>\n",
       "    </tr>\n",
       "    <tr>\n",
       "      <th></th>\n",
       "      <th>last_price</th>\n",
       "    </tr>\n",
       "    <tr>\n",
       "      <th>distance_to_downtown_km</th>\n",
       "      <th></th>\n",
       "    </tr>\n",
       "  </thead>\n",
       "  <tbody>\n",
       "    <tr>\n",
       "      <td>-8.0</td>\n",
       "      <td>1.062751e+07</td>\n",
       "    </tr>\n",
       "    <tr>\n",
       "      <td>-7.0</td>\n",
       "      <td>1.288025e+07</td>\n",
       "    </tr>\n",
       "    <tr>\n",
       "      <td>-6.0</td>\n",
       "      <td>1.156471e+07</td>\n",
       "    </tr>\n",
       "    <tr>\n",
       "      <td>-5.0</td>\n",
       "      <td>1.025761e+07</td>\n",
       "    </tr>\n",
       "    <tr>\n",
       "      <td>-4.0</td>\n",
       "      <td>1.073761e+07</td>\n",
       "    </tr>\n",
       "    <tr>\n",
       "      <td>-3.0</td>\n",
       "      <td>1.179904e+07</td>\n",
       "    </tr>\n",
       "    <tr>\n",
       "      <td>-2.0</td>\n",
       "      <td>1.116790e+07</td>\n",
       "    </tr>\n",
       "    <tr>\n",
       "      <td>-1.0</td>\n",
       "      <td>9.908654e+06</td>\n",
       "    </tr>\n",
       "    <tr>\n",
       "      <td>0.0</td>\n",
       "      <td>9.085616e+06</td>\n",
       "    </tr>\n",
       "    <tr>\n",
       "      <td>1.0</td>\n",
       "      <td>6.701743e+06</td>\n",
       "    </tr>\n",
       "    <tr>\n",
       "      <td>2.0</td>\n",
       "      <td>6.419853e+06</td>\n",
       "    </tr>\n",
       "    <tr>\n",
       "      <td>3.0</td>\n",
       "      <td>6.020730e+06</td>\n",
       "    </tr>\n",
       "    <tr>\n",
       "      <td>4.0</td>\n",
       "      <td>5.806005e+06</td>\n",
       "    </tr>\n",
       "    <tr>\n",
       "      <td>5.0</td>\n",
       "      <td>6.068984e+06</td>\n",
       "    </tr>\n",
       "    <tr>\n",
       "      <td>6.0</td>\n",
       "      <td>5.628481e+06</td>\n",
       "    </tr>\n",
       "    <tr>\n",
       "      <td>7.0</td>\n",
       "      <td>5.842188e+06</td>\n",
       "    </tr>\n",
       "    <tr>\n",
       "      <td>8.0</td>\n",
       "      <td>5.352090e+06</td>\n",
       "    </tr>\n",
       "    <tr>\n",
       "      <td>9.0</td>\n",
       "      <td>5.273804e+06</td>\n",
       "    </tr>\n",
       "    <tr>\n",
       "      <td>10.0</td>\n",
       "      <td>5.095913e+06</td>\n",
       "    </tr>\n",
       "    <tr>\n",
       "      <td>11.0</td>\n",
       "      <td>5.037675e+06</td>\n",
       "    </tr>\n",
       "    <tr>\n",
       "      <td>12.0</td>\n",
       "      <td>5.951465e+06</td>\n",
       "    </tr>\n",
       "    <tr>\n",
       "      <td>13.0</td>\n",
       "      <td>5.423991e+06</td>\n",
       "    </tr>\n",
       "    <tr>\n",
       "      <td>14.0</td>\n",
       "      <td>5.425602e+06</td>\n",
       "    </tr>\n",
       "    <tr>\n",
       "      <td>15.0</td>\n",
       "      <td>4.985376e+06</td>\n",
       "    </tr>\n",
       "    <tr>\n",
       "      <td>16.0</td>\n",
       "      <td>3.854430e+06</td>\n",
       "    </tr>\n",
       "    <tr>\n",
       "      <td>17.0</td>\n",
       "      <td>4.052840e+06</td>\n",
       "    </tr>\n",
       "    <tr>\n",
       "      <td>18.0</td>\n",
       "      <td>3.973013e+06</td>\n",
       "    </tr>\n",
       "    <tr>\n",
       "      <td>19.0</td>\n",
       "      <td>8.300000e+06</td>\n",
       "    </tr>\n",
       "    <tr>\n",
       "      <td>20.0</td>\n",
       "      <td>5.026429e+06</td>\n",
       "    </tr>\n",
       "    <tr>\n",
       "      <td>21.0</td>\n",
       "      <td>4.236667e+06</td>\n",
       "    </tr>\n",
       "  </tbody>\n",
       "</table>\n",
       "</div>"
      ],
      "text/plain": [
       "                                 mean\n",
       "                           last_price\n",
       "distance_to_downtown_km              \n",
       "-8.0                     1.062751e+07\n",
       "-7.0                     1.288025e+07\n",
       "-6.0                     1.156471e+07\n",
       "-5.0                     1.025761e+07\n",
       "-4.0                     1.073761e+07\n",
       "-3.0                     1.179904e+07\n",
       "-2.0                     1.116790e+07\n",
       "-1.0                     9.908654e+06\n",
       " 0.0                     9.085616e+06\n",
       " 1.0                     6.701743e+06\n",
       " 2.0                     6.419853e+06\n",
       " 3.0                     6.020730e+06\n",
       " 4.0                     5.806005e+06\n",
       " 5.0                     6.068984e+06\n",
       " 6.0                     5.628481e+06\n",
       " 7.0                     5.842188e+06\n",
       " 8.0                     5.352090e+06\n",
       " 9.0                     5.273804e+06\n",
       " 10.0                    5.095913e+06\n",
       " 11.0                    5.037675e+06\n",
       " 12.0                    5.951465e+06\n",
       " 13.0                    5.423991e+06\n",
       " 14.0                    5.425602e+06\n",
       " 15.0                    4.985376e+06\n",
       " 16.0                    3.854430e+06\n",
       " 17.0                    4.052840e+06\n",
       " 18.0                    3.973013e+06\n",
       " 19.0                    8.300000e+06\n",
       " 20.0                    5.026429e+06\n",
       " 21.0                    4.236667e+06"
      ]
     },
     "execution_count": 289,
     "metadata": {},
     "output_type": "execute_result"
    }
   ],
   "source": [
    "saint_petersburg_data.pivot_table(index=['distance_to_downtown_km'], values='last_price', aggfunc=['mean'])"
   ]
  },
  {
   "cell_type": "code",
   "execution_count": 290,
   "metadata": {},
   "outputs": [
    {
     "data": {
      "text/plain": [
       "<matplotlib.axes._subplots.AxesSubplot at 0x7f1bd98e8690>"
      ]
     },
     "execution_count": 290,
     "metadata": {},
     "output_type": "execute_result"
    },
    {
     "data": {
      "image/png": "[encoded data removed]",
      "text/plain": [
       "<Figure size 432x288 with 1 Axes>"
      ]
     },
     "metadata": {
      "needs_background": "light"
     },
     "output_type": "display_data"
    }
   ],
   "source": [
    "saint_petersburg_data.pivot_table(index=['distance_to_downtown_km'], values='last_price', aggfunc=['mean']).plot( kind='bar', grid=True)"
   ]
  },
  {
   "cell_type": "markdown",
   "metadata": {},
   "source": [
    "### The graph significantly changes after 8 km from the center so this 8km radius indicates downtown."
   ]
  },
  {
   "cell_type": "markdown",
   "metadata": {},
   "source": [
    "<div class=\"alert alert-success\" role=\"alert\">\n",
    "Agree, looks reasonable\n",
    "</div>"
   ]
  },
  {
   "cell_type": "markdown",
   "metadata": {},
   "source": [
    "# Select a segment of apartments in the downtown. Analyze this area and examine the following parameters: square area, price, number of rooms, ceiling height. "
   ]
  },
  {
   "cell_type": "code",
   "execution_count": 291,
   "metadata": {},
   "outputs": [],
   "source": [
    "saint_petersburg_downtown_data = saint_petersburg_data.query('cityCenters_nearest_km <= 8')"
   ]
  },
  {
   "cell_type": "markdown",
   "metadata": {},
   "source": [
    "## total_area"
   ]
  },
  {
   "cell_type": "code",
   "execution_count": 292,
   "metadata": {},
   "outputs": [
    {
     "data": {
      "text/plain": [
       "count    3872.00000\n",
       "mean       86.04836\n",
       "std        53.23416\n",
       "min        12.00000\n",
       "25%        53.07500\n",
       "50%        73.85000\n",
       "75%       101.02500\n",
       "max       631.20000\n",
       "Name: total_area, dtype: float64"
      ]
     },
     "execution_count": 292,
     "metadata": {},
     "output_type": "execute_result"
    }
   ],
   "source": [
    "saint_petersburg_downtown_data['total_area'].describe()"
   ]
  },
  {
   "cell_type": "code",
   "execution_count": 293,
   "metadata": {},
   "outputs": [
    {
     "data": {
      "text/plain": [
       "<matplotlib.axes._subplots.AxesSubplot at 0x7f1bd9821310>"
      ]
     },
     "execution_count": 293,
     "metadata": {},
     "output_type": "execute_result"
    },
    {
     "data": {
      "image/png": "[encoded data removed]",
      "text/plain": [
       "<Figure size 432x288 with 1 Axes>"
      ]
     },
     "metadata": {
      "needs_background": "light"
     },
     "output_type": "display_data"
    }
   ],
   "source": [
    "saint_petersburg_downtown_data.boxplot(column='total_area')"
   ]
  },
  {
   "cell_type": "code",
   "execution_count": 294,
   "metadata": {},
   "outputs": [
    {
     "name": "stdout",
     "output_type": "stream",
     "text": [
      "12.0\n",
      "631.2\n",
      "1183\n"
     ]
    }
   ],
   "source": [
    "print(saint_petersburg_downtown_data['total_area'].min())\n",
    "print(saint_petersburg_downtown_data['total_area'].max())\n",
    "print(len(saint_petersburg_downtown_data['total_area'].unique()))"
   ]
  },
  {
   "cell_type": "code",
   "execution_count": 295,
   "metadata": {},
   "outputs": [
    {
     "data": {
      "text/plain": [
       "<matplotlib.axes._subplots.AxesSubplot at 0x7f1bd9720e10>"
      ]
     },
     "execution_count": 295,
     "metadata": {},
     "output_type": "execute_result"
    },
    {
     "data": {
      "image/png": "[encoded data removed]",
      "text/plain": [
       "<Figure size 432x288 with 1 Axes>"
      ]
     },
     "metadata": {
      "needs_background": "light"
     },
     "output_type": "display_data"
    }
   ],
   "source": [
    "saint_petersburg_downtown_data['total_area'].plot(kind='hist', label='total_area', bins=20, grid=True)"
   ]
  },
  {
   "cell_type": "markdown",
   "metadata": {},
   "source": [
    "### Most of the homes in the sample had a total_area between about 40 and 200 sq.m."
   ]
  },
  {
   "cell_type": "markdown",
   "metadata": {},
   "source": [
    "## last_price"
   ]
  },
  {
   "cell_type": "code",
   "execution_count": 296,
   "metadata": {},
   "outputs": [
    {
     "data": {
      "text/plain": [
       "count    3.872000e+03\n",
       "mean     1.081709e+07\n",
       "std      8.543704e+06\n",
       "min      1.600000e+06\n",
       "25%      6.260500e+06\n",
       "50%      8.500000e+06\n",
       "75%      1.250000e+07\n",
       "max      1.400000e+08\n",
       "Name: last_price, dtype: float64"
      ]
     },
     "execution_count": 296,
     "metadata": {},
     "output_type": "execute_result"
    }
   ],
   "source": [
    "saint_petersburg_downtown_data['last_price'].describe()"
   ]
  },
  {
   "cell_type": "code",
   "execution_count": 297,
   "metadata": {},
   "outputs": [
    {
     "data": {
      "text/plain": [
       "<matplotlib.axes._subplots.AxesSubplot at 0x7f1bd96b9350>"
      ]
     },
     "execution_count": 297,
     "metadata": {},
     "output_type": "execute_result"
    },
    {
     "data": {
      "image/png": "[encoded data removed]",
      "text/plain": [
       "<Figure size 432x288 with 1 Axes>"
      ]
     },
     "metadata": {
      "needs_background": "light"
     },
     "output_type": "display_data"
    }
   ],
   "source": [
    "saint_petersburg_downtown_data.boxplot(column='last_price')"
   ]
  },
  {
   "cell_type": "code",
   "execution_count": 298,
   "metadata": {},
   "outputs": [
    {
     "name": "stdout",
     "output_type": "stream",
     "text": [
      "1600000\n",
      "140000000\n",
      "1173\n"
     ]
    }
   ],
   "source": [
    "print(saint_petersburg_downtown_data['last_price'].min())\n",
    "print(saint_petersburg_downtown_data['last_price'].max())\n",
    "print(len(saint_petersburg_downtown_data['last_price'].unique()))"
   ]
  },
  {
   "cell_type": "code",
   "execution_count": 299,
   "metadata": {},
   "outputs": [
    {
     "data": {
      "text/plain": [
       "<matplotlib.axes._subplots.AxesSubplot at 0x7f1bd963e9d0>"
      ]
     },
     "execution_count": 299,
     "metadata": {},
     "output_type": "execute_result"
    },
    {
     "data": {
      "image/png": "[encoded data removed]",
      "text/plain": [
       "<Figure size 432x288 with 1 Axes>"
      ]
     },
     "metadata": {
      "needs_background": "light"
     },
     "output_type": "display_data"
    }
   ],
   "source": [
    "saint_petersburg_downtown_data['last_price'].plot(kind='hist', label='last_price', bins=20, grid=True)"
   ]
  },
  {
   "cell_type": "markdown",
   "metadata": {},
   "source": [
    "### last_price in Saint Petersburg ranges from about 0.3e+7 to 0.3e+8."
   ]
  },
  {
   "cell_type": "markdown",
   "metadata": {},
   "source": [
    "## rooms"
   ]
  },
  {
   "cell_type": "code",
   "execution_count": 300,
   "metadata": {},
   "outputs": [
    {
     "data": {
      "text/plain": [
       "count    3872.000000\n",
       "mean        2.718492\n",
       "std         1.424511\n",
       "min         0.000000\n",
       "25%         2.000000\n",
       "50%         3.000000\n",
       "75%         3.000000\n",
       "max        19.000000\n",
       "Name: rooms, dtype: float64"
      ]
     },
     "execution_count": 300,
     "metadata": {},
     "output_type": "execute_result"
    }
   ],
   "source": [
    "saint_petersburg_downtown_data['rooms'].describe()"
   ]
  },
  {
   "cell_type": "code",
   "execution_count": 301,
   "metadata": {},
   "outputs": [
    {
     "data": {
      "text/plain": [
       "<matplotlib.axes._subplots.AxesSubplot at 0x7f1bd9571950>"
      ]
     },
     "execution_count": 301,
     "metadata": {},
     "output_type": "execute_result"
    },
    {
     "data": {
      "image/png": "[encoded data removed]",
      "text/plain": [
       "<Figure size 432x288 with 1 Axes>"
      ]
     },
     "metadata": {
      "needs_background": "light"
     },
     "output_type": "display_data"
    }
   ],
   "source": [
    "saint_petersburg_downtown_data.boxplot(column='rooms')"
   ]
  },
  {
   "cell_type": "code",
   "execution_count": 302,
   "metadata": {},
   "outputs": [
    {
     "name": "stdout",
     "output_type": "stream",
     "text": [
      "0\n",
      "19\n",
      "16\n"
     ]
    }
   ],
   "source": [
    "print(saint_petersburg_downtown_data['rooms'].min())\n",
    "print(saint_petersburg_downtown_data['rooms'].max())\n",
    "print(len(saint_petersburg_downtown_data['rooms'].unique()))"
   ]
  },
  {
   "cell_type": "code",
   "execution_count": 303,
   "metadata": {},
   "outputs": [
    {
     "data": {
      "text/plain": [
       "<matplotlib.axes._subplots.AxesSubplot at 0x7f1bd94d9c50>"
      ]
     },
     "execution_count": 303,
     "metadata": {},
     "output_type": "execute_result"
    },
    {
     "data": {
      "image/png": "[encoded data removed]",
      "text/plain": [
       "<Figure size 432x288 with 1 Axes>"
      ]
     },
     "metadata": {
      "needs_background": "light"
     },
     "output_type": "display_data"
    }
   ],
   "source": [
    "saint_petersburg_downtown_data['rooms'].plot(kind='hist', label='rooms', bins=10, grid=True)"
   ]
  },
  {
   "cell_type": "markdown",
   "metadata": {},
   "source": [
    "### Most houses have between 1 and 7 rooms."
   ]
  },
  {
   "cell_type": "markdown",
   "metadata": {},
   "source": [
    "## ceiling_height"
   ]
  },
  {
   "cell_type": "code",
   "execution_count": 304,
   "metadata": {},
   "outputs": [
    {
     "data": {
      "text/plain": [
       "count    2525.000000\n",
       "mean        3.079889\n",
       "std         1.027169\n",
       "min         2.000000\n",
       "25%         2.800000\n",
       "50%         3.000000\n",
       "75%         3.200000\n",
       "max        32.000000\n",
       "Name: ceiling_height, dtype: float64"
      ]
     },
     "execution_count": 304,
     "metadata": {},
     "output_type": "execute_result"
    }
   ],
   "source": [
    "saint_petersburg_downtown_data['ceiling_height'][saint_petersburg_downtown_data['ceiling_height'] != -1].describe()"
   ]
  },
  {
   "cell_type": "code",
   "execution_count": 305,
   "metadata": {},
   "outputs": [
    {
     "data": {
      "text/plain": [
       "<matplotlib.axes._subplots.AxesSubplot at 0x7f1bd9475350>"
      ]
     },
     "execution_count": 305,
     "metadata": {},
     "output_type": "execute_result"
    },
    {
     "data": {
      "image/png": "[encoded data removed]",
      "text/plain": [
       "<Figure size 432x288 with 1 Axes>"
      ]
     },
     "metadata": {
      "needs_background": "light"
     },
     "output_type": "display_data"
    }
   ],
   "source": [
    "saint_petersburg_downtown_data[saint_petersburg_downtown_data['ceiling_height'] != -1].boxplot(column='ceiling_height')"
   ]
  },
  {
   "cell_type": "code",
   "execution_count": 306,
   "metadata": {},
   "outputs": [
    {
     "name": "stdout",
     "output_type": "stream",
     "text": [
      "2.0\n",
      "32.0\n",
      "148\n"
     ]
    }
   ],
   "source": [
    "print(saint_petersburg_downtown_data['ceiling_height'][saint_petersburg_downtown_data['ceiling_height'] != -1].min())\n",
    "print(saint_petersburg_downtown_data['ceiling_height'][saint_petersburg_downtown_data['ceiling_height'] != -1].max())\n",
    "print(len(saint_petersburg_downtown_data['ceiling_height'][saint_petersburg_downtown_data['ceiling_height'] != -1].unique()))"
   ]
  },
  {
   "cell_type": "code",
   "execution_count": 307,
   "metadata": {},
   "outputs": [
    {
     "data": {
      "text/plain": [
       "<matplotlib.axes._subplots.AxesSubplot at 0x7f1bd94f3e10>"
      ]
     },
     "execution_count": 307,
     "metadata": {},
     "output_type": "execute_result"
    },
    {
     "data": {
      "image/png": "[encoded data removed]",
      "text/plain": [
       "<Figure size 432x288 with 1 Axes>"
      ]
     },
     "metadata": {
      "needs_background": "light"
     },
     "output_type": "display_data"
    }
   ],
   "source": [
    "saint_petersburg_downtown_data['ceiling_height'][saint_petersburg_downtown_data['ceiling_height'] != -1].plot(kind='hist', label='ceiling_height' , bins=10, grid=True)"
   ]
  },
  {
   "cell_type": "markdown",
   "metadata": {},
   "source": [
    "### ceiling_height is most commonly under 5m in Saint Petersburg."
   ]
  },
  {
   "cell_type": "markdown",
   "metadata": {},
   "source": [
    "# Also identify the factors that affect an apartment’s price (number of rooms, floor, distance to the downtown area, and ad publication date). Draw your conclusions. Are they different from the overall conclusions about the entire city?"
   ]
  },
  {
   "cell_type": "code",
   "execution_count": 308,
   "metadata": {
    "scrolled": true
   },
   "outputs": [
    {
     "data": {
      "text/html": [
       "<div>\n",
       "<style scoped>\n",
       "    .dataframe tbody tr th:only-of-type {\n",
       "        vertical-align: middle;\n",
       "    }\n",
       "\n",
       "    .dataframe tbody tr th {\n",
       "        vertical-align: top;\n",
       "    }\n",
       "\n",
       "    .dataframe thead th {\n",
       "        text-align: right;\n",
       "    }\n",
       "</style>\n",
       "<table border=\"1\" class=\"dataframe\">\n",
       "  <thead>\n",
       "    <tr style=\"text-align: right;\">\n",
       "      <th></th>\n",
       "      <th>total_images</th>\n",
       "      <th>last_price</th>\n",
       "      <th>total_area</th>\n",
       "      <th>rooms</th>\n",
       "      <th>ceiling_height</th>\n",
       "      <th>floors_total</th>\n",
       "      <th>living_area</th>\n",
       "      <th>floor</th>\n",
       "      <th>is_apartment</th>\n",
       "      <th>studio</th>\n",
       "      <th>...</th>\n",
       "      <th>ponds_nearest</th>\n",
       "      <th>days_exposition</th>\n",
       "      <th>price_per_square_meter</th>\n",
       "      <th>day_of_week</th>\n",
       "      <th>month</th>\n",
       "      <th>year</th>\n",
       "      <th>area_ratio_living_total</th>\n",
       "      <th>area_ratio_kitchen_total</th>\n",
       "      <th>cityCenters_nearest_km</th>\n",
       "      <th>distance_to_downtown_km</th>\n",
       "    </tr>\n",
       "  </thead>\n",
       "  <tbody>\n",
       "    <tr>\n",
       "      <td>total_images</td>\n",
       "      <td>1.000000</td>\n",
       "      <td>0.144298</td>\n",
       "      <td>0.072828</td>\n",
       "      <td>0.042330</td>\n",
       "      <td>0.080531</td>\n",
       "      <td>-0.056451</td>\n",
       "      <td>0.075804</td>\n",
       "      <td>-0.000806</td>\n",
       "      <td>0.015641</td>\n",
       "      <td>-0.021367</td>\n",
       "      <td>...</td>\n",
       "      <td>-0.001981</td>\n",
       "      <td>-0.072824</td>\n",
       "      <td>0.168972</td>\n",
       "      <td>0.005569</td>\n",
       "      <td>-0.005701</td>\n",
       "      <td>0.150895</td>\n",
       "      <td>0.064284</td>\n",
       "      <td>0.085029</td>\n",
       "      <td>-0.025189</td>\n",
       "      <td>-0.025189</td>\n",
       "    </tr>\n",
       "    <tr>\n",
       "      <td>last_price</td>\n",
       "      <td>0.144298</td>\n",
       "      <td>1.000000</td>\n",
       "      <td>0.854980</td>\n",
       "      <td>0.530861</td>\n",
       "      <td>0.082087</td>\n",
       "      <td>0.052090</td>\n",
       "      <td>0.600441</td>\n",
       "      <td>0.140883</td>\n",
       "      <td>0.064328</td>\n",
       "      <td>-0.044575</td>\n",
       "      <td>...</td>\n",
       "      <td>-0.027734</td>\n",
       "      <td>0.042398</td>\n",
       "      <td>0.442455</td>\n",
       "      <td>-0.006942</td>\n",
       "      <td>-0.008744</td>\n",
       "      <td>-0.011734</td>\n",
       "      <td>-0.071730</td>\n",
       "      <td>-0.044780</td>\n",
       "      <td>-0.074247</td>\n",
       "      <td>-0.074247</td>\n",
       "    </tr>\n",
       "    <tr>\n",
       "      <td>total_area</td>\n",
       "      <td>0.072828</td>\n",
       "      <td>0.854980</td>\n",
       "      <td>1.000000</td>\n",
       "      <td>0.758561</td>\n",
       "      <td>0.088370</td>\n",
       "      <td>-0.047160</td>\n",
       "      <td>0.770223</td>\n",
       "      <td>0.056943</td>\n",
       "      <td>0.048018</td>\n",
       "      <td>-0.061256</td>\n",
       "      <td>...</td>\n",
       "      <td>-0.045782</td>\n",
       "      <td>0.072163</td>\n",
       "      <td>0.014352</td>\n",
       "      <td>-0.003664</td>\n",
       "      <td>-0.010041</td>\n",
       "      <td>-0.059897</td>\n",
       "      <td>-0.021830</td>\n",
       "      <td>-0.070354</td>\n",
       "      <td>-0.130617</td>\n",
       "      <td>-0.130617</td>\n",
       "    </tr>\n",
       "    <tr>\n",
       "      <td>rooms</td>\n",
       "      <td>0.042330</td>\n",
       "      <td>0.530861</td>\n",
       "      <td>0.758561</td>\n",
       "      <td>1.000000</td>\n",
       "      <td>0.095576</td>\n",
       "      <td>-0.205934</td>\n",
       "      <td>0.755643</td>\n",
       "      <td>-0.080843</td>\n",
       "      <td>0.009540</td>\n",
       "      <td>-0.127771</td>\n",
       "      <td>...</td>\n",
       "      <td>-0.054615</td>\n",
       "      <td>0.076517</td>\n",
       "      <td>-0.198801</td>\n",
       "      <td>-0.019356</td>\n",
       "      <td>-0.021289</td>\n",
       "      <td>-0.053657</td>\n",
       "      <td>0.129036</td>\n",
       "      <td>-0.054179</td>\n",
       "      <td>-0.187982</td>\n",
       "      <td>-0.187982</td>\n",
       "    </tr>\n",
       "    <tr>\n",
       "      <td>ceiling_height</td>\n",
       "      <td>0.080531</td>\n",
       "      <td>0.082087</td>\n",
       "      <td>0.088370</td>\n",
       "      <td>0.095576</td>\n",
       "      <td>1.000000</td>\n",
       "      <td>-0.145511</td>\n",
       "      <td>0.141927</td>\n",
       "      <td>-0.090170</td>\n",
       "      <td>0.072991</td>\n",
       "      <td>0.026847</td>\n",
       "      <td>...</td>\n",
       "      <td>-0.056485</td>\n",
       "      <td>0.006701</td>\n",
       "      <td>0.018939</td>\n",
       "      <td>-0.077719</td>\n",
       "      <td>-0.034894</td>\n",
       "      <td>0.141614</td>\n",
       "      <td>0.118773</td>\n",
       "      <td>0.087330</td>\n",
       "      <td>-0.053030</td>\n",
       "      <td>-0.053030</td>\n",
       "    </tr>\n",
       "    <tr>\n",
       "      <td>floors_total</td>\n",
       "      <td>-0.056451</td>\n",
       "      <td>0.052090</td>\n",
       "      <td>-0.047160</td>\n",
       "      <td>-0.205934</td>\n",
       "      <td>-0.145511</td>\n",
       "      <td>1.000000</td>\n",
       "      <td>-0.155079</td>\n",
       "      <td>0.675566</td>\n",
       "      <td>-0.010863</td>\n",
       "      <td>0.016589</td>\n",
       "      <td>...</td>\n",
       "      <td>0.077493</td>\n",
       "      <td>0.010090</td>\n",
       "      <td>0.240400</td>\n",
       "      <td>0.031777</td>\n",
       "      <td>0.010111</td>\n",
       "      <td>-0.025803</td>\n",
       "      <td>-0.152667</td>\n",
       "      <td>0.009258</td>\n",
       "      <td>0.381077</td>\n",
       "      <td>0.381077</td>\n",
       "    </tr>\n",
       "    <tr>\n",
       "      <td>living_area</td>\n",
       "      <td>0.075804</td>\n",
       "      <td>0.600441</td>\n",
       "      <td>0.770223</td>\n",
       "      <td>0.755643</td>\n",
       "      <td>0.141927</td>\n",
       "      <td>-0.155079</td>\n",
       "      <td>1.000000</td>\n",
       "      <td>-0.041869</td>\n",
       "      <td>0.050173</td>\n",
       "      <td>-0.040347</td>\n",
       "      <td>...</td>\n",
       "      <td>-0.040730</td>\n",
       "      <td>0.087072</td>\n",
       "      <td>-0.093943</td>\n",
       "      <td>-0.032616</td>\n",
       "      <td>-0.010093</td>\n",
       "      <td>-0.084753</td>\n",
       "      <td>0.482004</td>\n",
       "      <td>0.171661</td>\n",
       "      <td>-0.139201</td>\n",
       "      <td>-0.139201</td>\n",
       "    </tr>\n",
       "    <tr>\n",
       "      <td>floor</td>\n",
       "      <td>-0.000806</td>\n",
       "      <td>0.140883</td>\n",
       "      <td>0.056943</td>\n",
       "      <td>-0.080843</td>\n",
       "      <td>-0.090170</td>\n",
       "      <td>0.675566</td>\n",
       "      <td>-0.041869</td>\n",
       "      <td>1.000000</td>\n",
       "      <td>-0.006731</td>\n",
       "      <td>-0.019832</td>\n",
       "      <td>...</td>\n",
       "      <td>0.041739</td>\n",
       "      <td>0.002500</td>\n",
       "      <td>0.223584</td>\n",
       "      <td>0.031993</td>\n",
       "      <td>0.006377</td>\n",
       "      <td>-0.018181</td>\n",
       "      <td>-0.108133</td>\n",
       "      <td>0.005858</td>\n",
       "      <td>0.246814</td>\n",
       "      <td>0.246814</td>\n",
       "    </tr>\n",
       "    <tr>\n",
       "      <td>is_apartment</td>\n",
       "      <td>0.015641</td>\n",
       "      <td>0.064328</td>\n",
       "      <td>0.048018</td>\n",
       "      <td>0.009540</td>\n",
       "      <td>0.072991</td>\n",
       "      <td>-0.010863</td>\n",
       "      <td>0.050173</td>\n",
       "      <td>-0.006731</td>\n",
       "      <td>1.000000</td>\n",
       "      <td>-0.003299</td>\n",
       "      <td>...</td>\n",
       "      <td>-0.005693</td>\n",
       "      <td>0.012214</td>\n",
       "      <td>0.024028</td>\n",
       "      <td>-0.030246</td>\n",
       "      <td>0.005506</td>\n",
       "      <td>0.004106</td>\n",
       "      <td>0.003073</td>\n",
       "      <td>-0.039914</td>\n",
       "      <td>-0.004435</td>\n",
       "      <td>-0.004435</td>\n",
       "    </tr>\n",
       "    <tr>\n",
       "      <td>studio</td>\n",
       "      <td>-0.021367</td>\n",
       "      <td>-0.044575</td>\n",
       "      <td>-0.061256</td>\n",
       "      <td>-0.127771</td>\n",
       "      <td>0.026847</td>\n",
       "      <td>0.016589</td>\n",
       "      <td>-0.040347</td>\n",
       "      <td>-0.019832</td>\n",
       "      <td>-0.003299</td>\n",
       "      <td>1.000000</td>\n",
       "      <td>...</td>\n",
       "      <td>0.022078</td>\n",
       "      <td>-0.022843</td>\n",
       "      <td>0.024256</td>\n",
       "      <td>0.007717</td>\n",
       "      <td>0.013328</td>\n",
       "      <td>0.016302</td>\n",
       "      <td>0.020873</td>\n",
       "      <td>-0.207556</td>\n",
       "      <td>0.019754</td>\n",
       "      <td>0.019754</td>\n",
       "    </tr>\n",
       "    <tr>\n",
       "      <td>open_plan</td>\n",
       "      <td>-0.035209</td>\n",
       "      <td>0.012566</td>\n",
       "      <td>-0.003557</td>\n",
       "      <td>-0.058892</td>\n",
       "      <td>-0.012288</td>\n",
       "      <td>0.020848</td>\n",
       "      <td>-0.026360</td>\n",
       "      <td>0.003943</td>\n",
       "      <td>-0.002196</td>\n",
       "      <td>-0.003110</td>\n",
       "      <td>...</td>\n",
       "      <td>0.010794</td>\n",
       "      <td>-0.019842</td>\n",
       "      <td>0.012463</td>\n",
       "      <td>0.009161</td>\n",
       "      <td>0.011452</td>\n",
       "      <td>-0.010096</td>\n",
       "      <td>0.005954</td>\n",
       "      <td>-0.138191</td>\n",
       "      <td>0.011914</td>\n",
       "      <td>0.011914</td>\n",
       "    </tr>\n",
       "    <tr>\n",
       "      <td>kitchen_area</td>\n",
       "      <td>0.147555</td>\n",
       "      <td>0.443677</td>\n",
       "      <td>0.441967</td>\n",
       "      <td>0.260002</td>\n",
       "      <td>0.082086</td>\n",
       "      <td>0.072895</td>\n",
       "      <td>0.425256</td>\n",
       "      <td>0.103374</td>\n",
       "      <td>-0.000960</td>\n",
       "      <td>-0.106440</td>\n",
       "      <td>...</td>\n",
       "      <td>-0.015772</td>\n",
       "      <td>0.081477</td>\n",
       "      <td>0.177793</td>\n",
       "      <td>-0.012308</td>\n",
       "      <td>-0.018557</td>\n",
       "      <td>-0.048417</td>\n",
       "      <td>0.214730</td>\n",
       "      <td>0.575615</td>\n",
       "      <td>-0.051622</td>\n",
       "      <td>-0.051622</td>\n",
       "    </tr>\n",
       "    <tr>\n",
       "      <td>balcony</td>\n",
       "      <td>0.024933</td>\n",
       "      <td>0.057960</td>\n",
       "      <td>-0.008869</td>\n",
       "      <td>-0.090756</td>\n",
       "      <td>0.031623</td>\n",
       "      <td>0.337546</td>\n",
       "      <td>-0.052077</td>\n",
       "      <td>0.271879</td>\n",
       "      <td>0.007001</td>\n",
       "      <td>0.009912</td>\n",
       "      <td>...</td>\n",
       "      <td>0.038564</td>\n",
       "      <td>-0.002366</td>\n",
       "      <td>0.179123</td>\n",
       "      <td>0.027395</td>\n",
       "      <td>0.009815</td>\n",
       "      <td>-0.025585</td>\n",
       "      <td>-0.042632</td>\n",
       "      <td>0.100543</td>\n",
       "      <td>0.153988</td>\n",
       "      <td>0.153988</td>\n",
       "    </tr>\n",
       "    <tr>\n",
       "      <td>airports_nearest</td>\n",
       "      <td>-0.040831</td>\n",
       "      <td>0.028157</td>\n",
       "      <td>-0.016966</td>\n",
       "      <td>-0.044307</td>\n",
       "      <td>0.013298</td>\n",
       "      <td>0.157106</td>\n",
       "      <td>-0.037723</td>\n",
       "      <td>0.076587</td>\n",
       "      <td>-0.030552</td>\n",
       "      <td>0.005078</td>\n",
       "      <td>...</td>\n",
       "      <td>0.164448</td>\n",
       "      <td>0.013206</td>\n",
       "      <td>0.090050</td>\n",
       "      <td>-0.007107</td>\n",
       "      <td>-0.025077</td>\n",
       "      <td>-0.024098</td>\n",
       "      <td>-0.016722</td>\n",
       "      <td>0.025968</td>\n",
       "      <td>0.427447</td>\n",
       "      <td>0.427447</td>\n",
       "    </tr>\n",
       "    <tr>\n",
       "      <td>cityCenters_nearest</td>\n",
       "      <td>-0.030876</td>\n",
       "      <td>-0.082666</td>\n",
       "      <td>-0.139831</td>\n",
       "      <td>-0.197353</td>\n",
       "      <td>-0.056653</td>\n",
       "      <td>0.393247</td>\n",
       "      <td>-0.150309</td>\n",
       "      <td>0.254238</td>\n",
       "      <td>-0.004029</td>\n",
       "      <td>0.023339</td>\n",
       "      <td>...</td>\n",
       "      <td>0.078314</td>\n",
       "      <td>-0.037519</td>\n",
       "      <td>0.022934</td>\n",
       "      <td>0.024090</td>\n",
       "      <td>0.005513</td>\n",
       "      <td>0.016223</td>\n",
       "      <td>-0.028977</td>\n",
       "      <td>0.019235</td>\n",
       "      <td>0.990456</td>\n",
       "      <td>0.990456</td>\n",
       "    </tr>\n",
       "    <tr>\n",
       "      <td>parks_around3000</td>\n",
       "      <td>0.027938</td>\n",
       "      <td>0.088303</td>\n",
       "      <td>0.096261</td>\n",
       "      <td>0.114923</td>\n",
       "      <td>0.088076</td>\n",
       "      <td>-0.236112</td>\n",
       "      <td>0.122365</td>\n",
       "      <td>-0.163038</td>\n",
       "      <td>0.068662</td>\n",
       "      <td>-0.033605</td>\n",
       "      <td>...</td>\n",
       "      <td>-0.049305</td>\n",
       "      <td>0.015090</td>\n",
       "      <td>0.022032</td>\n",
       "      <td>-0.013865</td>\n",
       "      <td>-0.017722</td>\n",
       "      <td>-0.023861</td>\n",
       "      <td>0.026676</td>\n",
       "      <td>-0.028855</td>\n",
       "      <td>-0.195950</td>\n",
       "      <td>-0.195950</td>\n",
       "    </tr>\n",
       "    <tr>\n",
       "      <td>parks_nearest</td>\n",
       "      <td>-0.005478</td>\n",
       "      <td>0.020328</td>\n",
       "      <td>0.009401</td>\n",
       "      <td>0.005426</td>\n",
       "      <td>-0.011537</td>\n",
       "      <td>-0.038255</td>\n",
       "      <td>-0.009386</td>\n",
       "      <td>-0.033434</td>\n",
       "      <td>-0.006733</td>\n",
       "      <td>-0.028170</td>\n",
       "      <td>...</td>\n",
       "      <td>0.029387</td>\n",
       "      <td>0.007270</td>\n",
       "      <td>0.050273</td>\n",
       "      <td>0.006944</td>\n",
       "      <td>0.025194</td>\n",
       "      <td>-0.024824</td>\n",
       "      <td>-0.056461</td>\n",
       "      <td>-0.038243</td>\n",
       "      <td>0.013030</td>\n",
       "      <td>0.013030</td>\n",
       "    </tr>\n",
       "    <tr>\n",
       "      <td>ponds_around3000</td>\n",
       "      <td>-0.017536</td>\n",
       "      <td>0.033003</td>\n",
       "      <td>0.001141</td>\n",
       "      <td>-0.014214</td>\n",
       "      <td>0.025090</td>\n",
       "      <td>-0.000024</td>\n",
       "      <td>-0.008059</td>\n",
       "      <td>-0.021051</td>\n",
       "      <td>0.020176</td>\n",
       "      <td>0.000041</td>\n",
       "      <td>...</td>\n",
       "      <td>0.360145</td>\n",
       "      <td>0.024042</td>\n",
       "      <td>0.077235</td>\n",
       "      <td>0.037023</td>\n",
       "      <td>-0.018414</td>\n",
       "      <td>-0.039700</td>\n",
       "      <td>-0.032935</td>\n",
       "      <td>0.012224</td>\n",
       "      <td>-0.186903</td>\n",
       "      <td>-0.186903</td>\n",
       "    </tr>\n",
       "    <tr>\n",
       "      <td>ponds_nearest</td>\n",
       "      <td>-0.001981</td>\n",
       "      <td>-0.027734</td>\n",
       "      <td>-0.045782</td>\n",
       "      <td>-0.054615</td>\n",
       "      <td>-0.056485</td>\n",
       "      <td>0.077493</td>\n",
       "      <td>-0.040730</td>\n",
       "      <td>0.041739</td>\n",
       "      <td>-0.005693</td>\n",
       "      <td>0.022078</td>\n",
       "      <td>...</td>\n",
       "      <td>1.000000</td>\n",
       "      <td>-0.002411</td>\n",
       "      <td>0.040990</td>\n",
       "      <td>0.003649</td>\n",
       "      <td>0.021948</td>\n",
       "      <td>-0.010266</td>\n",
       "      <td>-0.025771</td>\n",
       "      <td>-0.018047</td>\n",
       "      <td>0.075887</td>\n",
       "      <td>0.075887</td>\n",
       "    </tr>\n",
       "    <tr>\n",
       "      <td>days_exposition</td>\n",
       "      <td>-0.072824</td>\n",
       "      <td>0.042398</td>\n",
       "      <td>0.072163</td>\n",
       "      <td>0.076517</td>\n",
       "      <td>0.006701</td>\n",
       "      <td>0.010090</td>\n",
       "      <td>0.087072</td>\n",
       "      <td>0.002500</td>\n",
       "      <td>0.012214</td>\n",
       "      <td>-0.022843</td>\n",
       "      <td>...</td>\n",
       "      <td>-0.002411</td>\n",
       "      <td>1.000000</td>\n",
       "      <td>-0.026984</td>\n",
       "      <td>-0.033719</td>\n",
       "      <td>-0.012608</td>\n",
       "      <td>-0.631459</td>\n",
       "      <td>0.032379</td>\n",
       "      <td>0.046216</td>\n",
       "      <td>-0.041560</td>\n",
       "      <td>-0.041560</td>\n",
       "    </tr>\n",
       "    <tr>\n",
       "      <td>price_per_square_meter</td>\n",
       "      <td>0.168972</td>\n",
       "      <td>0.442455</td>\n",
       "      <td>0.014352</td>\n",
       "      <td>-0.198801</td>\n",
       "      <td>0.018939</td>\n",
       "      <td>0.240400</td>\n",
       "      <td>-0.093943</td>\n",
       "      <td>0.223584</td>\n",
       "      <td>0.024028</td>\n",
       "      <td>0.024256</td>\n",
       "      <td>...</td>\n",
       "      <td>0.040990</td>\n",
       "      <td>-0.026984</td>\n",
       "      <td>1.000000</td>\n",
       "      <td>-0.000934</td>\n",
       "      <td>-0.023887</td>\n",
       "      <td>0.091607</td>\n",
       "      <td>-0.131916</td>\n",
       "      <td>0.033782</td>\n",
       "      <td>0.023095</td>\n",
       "      <td>0.023095</td>\n",
       "    </tr>\n",
       "    <tr>\n",
       "      <td>day_of_week</td>\n",
       "      <td>0.005569</td>\n",
       "      <td>-0.006942</td>\n",
       "      <td>-0.003664</td>\n",
       "      <td>-0.019356</td>\n",
       "      <td>-0.077719</td>\n",
       "      <td>0.031777</td>\n",
       "      <td>-0.032616</td>\n",
       "      <td>0.031993</td>\n",
       "      <td>-0.030246</td>\n",
       "      <td>0.007717</td>\n",
       "      <td>...</td>\n",
       "      <td>0.003649</td>\n",
       "      <td>-0.033719</td>\n",
       "      <td>-0.000934</td>\n",
       "      <td>1.000000</td>\n",
       "      <td>0.037178</td>\n",
       "      <td>0.004019</td>\n",
       "      <td>-0.038147</td>\n",
       "      <td>-0.019379</td>\n",
       "      <td>0.024718</td>\n",
       "      <td>0.024718</td>\n",
       "    </tr>\n",
       "    <tr>\n",
       "      <td>month</td>\n",
       "      <td>-0.005701</td>\n",
       "      <td>-0.008744</td>\n",
       "      <td>-0.010041</td>\n",
       "      <td>-0.021289</td>\n",
       "      <td>-0.034894</td>\n",
       "      <td>0.010111</td>\n",
       "      <td>-0.010093</td>\n",
       "      <td>0.006377</td>\n",
       "      <td>0.005506</td>\n",
       "      <td>0.013328</td>\n",
       "      <td>...</td>\n",
       "      <td>0.021948</td>\n",
       "      <td>-0.012608</td>\n",
       "      <td>-0.023887</td>\n",
       "      <td>0.037178</td>\n",
       "      <td>1.000000</td>\n",
       "      <td>-0.220856</td>\n",
       "      <td>-0.003707</td>\n",
       "      <td>0.011551</td>\n",
       "      <td>0.006037</td>\n",
       "      <td>0.006037</td>\n",
       "    </tr>\n",
       "    <tr>\n",
       "      <td>year</td>\n",
       "      <td>0.150895</td>\n",
       "      <td>-0.011734</td>\n",
       "      <td>-0.059897</td>\n",
       "      <td>-0.053657</td>\n",
       "      <td>0.141614</td>\n",
       "      <td>-0.025803</td>\n",
       "      <td>-0.084753</td>\n",
       "      <td>-0.018181</td>\n",
       "      <td>0.004106</td>\n",
       "      <td>0.016302</td>\n",
       "      <td>...</td>\n",
       "      <td>-0.010266</td>\n",
       "      <td>-0.631459</td>\n",
       "      <td>0.091607</td>\n",
       "      <td>0.004019</td>\n",
       "      <td>-0.220856</td>\n",
       "      <td>1.000000</td>\n",
       "      <td>-0.058157</td>\n",
       "      <td>-0.034967</td>\n",
       "      <td>0.019602</td>\n",
       "      <td>0.019602</td>\n",
       "    </tr>\n",
       "    <tr>\n",
       "      <td>area_ratio_living_total</td>\n",
       "      <td>0.064284</td>\n",
       "      <td>-0.071730</td>\n",
       "      <td>-0.021830</td>\n",
       "      <td>0.129036</td>\n",
       "      <td>0.118773</td>\n",
       "      <td>-0.152667</td>\n",
       "      <td>0.482004</td>\n",
       "      <td>-0.108133</td>\n",
       "      <td>0.003073</td>\n",
       "      <td>0.020873</td>\n",
       "      <td>...</td>\n",
       "      <td>-0.025771</td>\n",
       "      <td>0.032379</td>\n",
       "      <td>-0.131916</td>\n",
       "      <td>-0.038147</td>\n",
       "      <td>-0.003707</td>\n",
       "      <td>-0.058157</td>\n",
       "      <td>1.000000</td>\n",
       "      <td>0.568679</td>\n",
       "      <td>-0.022584</td>\n",
       "      <td>-0.022584</td>\n",
       "    </tr>\n",
       "    <tr>\n",
       "      <td>area_ratio_kitchen_total</td>\n",
       "      <td>0.085029</td>\n",
       "      <td>-0.044780</td>\n",
       "      <td>-0.070354</td>\n",
       "      <td>-0.054179</td>\n",
       "      <td>0.087330</td>\n",
       "      <td>0.009258</td>\n",
       "      <td>0.171661</td>\n",
       "      <td>0.005858</td>\n",
       "      <td>-0.039914</td>\n",
       "      <td>-0.207556</td>\n",
       "      <td>...</td>\n",
       "      <td>-0.018047</td>\n",
       "      <td>0.046216</td>\n",
       "      <td>0.033782</td>\n",
       "      <td>-0.019379</td>\n",
       "      <td>0.011551</td>\n",
       "      <td>-0.034967</td>\n",
       "      <td>0.568679</td>\n",
       "      <td>1.000000</td>\n",
       "      <td>0.024358</td>\n",
       "      <td>0.024358</td>\n",
       "    </tr>\n",
       "    <tr>\n",
       "      <td>cityCenters_nearest_km</td>\n",
       "      <td>-0.025189</td>\n",
       "      <td>-0.074247</td>\n",
       "      <td>-0.130617</td>\n",
       "      <td>-0.187982</td>\n",
       "      <td>-0.053030</td>\n",
       "      <td>0.381077</td>\n",
       "      <td>-0.139201</td>\n",
       "      <td>0.246814</td>\n",
       "      <td>-0.004435</td>\n",
       "      <td>0.019754</td>\n",
       "      <td>...</td>\n",
       "      <td>0.075887</td>\n",
       "      <td>-0.041560</td>\n",
       "      <td>0.023095</td>\n",
       "      <td>0.024718</td>\n",
       "      <td>0.006037</td>\n",
       "      <td>0.019602</td>\n",
       "      <td>-0.022584</td>\n",
       "      <td>0.024358</td>\n",
       "      <td>1.000000</td>\n",
       "      <td>1.000000</td>\n",
       "    </tr>\n",
       "    <tr>\n",
       "      <td>distance_to_downtown_km</td>\n",
       "      <td>-0.025189</td>\n",
       "      <td>-0.074247</td>\n",
       "      <td>-0.130617</td>\n",
       "      <td>-0.187982</td>\n",
       "      <td>-0.053030</td>\n",
       "      <td>0.381077</td>\n",
       "      <td>-0.139201</td>\n",
       "      <td>0.246814</td>\n",
       "      <td>-0.004435</td>\n",
       "      <td>0.019754</td>\n",
       "      <td>...</td>\n",
       "      <td>0.075887</td>\n",
       "      <td>-0.041560</td>\n",
       "      <td>0.023095</td>\n",
       "      <td>0.024718</td>\n",
       "      <td>0.006037</td>\n",
       "      <td>0.019602</td>\n",
       "      <td>-0.022584</td>\n",
       "      <td>0.024358</td>\n",
       "      <td>1.000000</td>\n",
       "      <td>1.000000</td>\n",
       "    </tr>\n",
       "  </tbody>\n",
       "</table>\n",
       "<p>28 rows × 28 columns</p>\n",
       "</div>"
      ],
      "text/plain": [
       "                          total_images  last_price  total_area     rooms  \\\n",
       "total_images                  1.000000    0.144298    0.072828  0.042330   \n",
       "last_price                    0.144298    1.000000    0.854980  0.530861   \n",
       "total_area                    0.072828    0.854980    1.000000  0.758561   \n",
       "rooms                         0.042330    0.530861    0.758561  1.000000   \n",
       "ceiling_height                0.080531    0.082087    0.088370  0.095576   \n",
       "floors_total                 -0.056451    0.052090   -0.047160 -0.205934   \n",
       "living_area                   0.075804    0.600441    0.770223  0.755643   \n",
       "floor                        -0.000806    0.140883    0.056943 -0.080843   \n",
       "is_apartment                  0.015641    0.064328    0.048018  0.009540   \n",
       "studio                       -0.021367   -0.044575   -0.061256 -0.127771   \n",
       "open_plan                    -0.035209    0.012566   -0.003557 -0.058892   \n",
       "kitchen_area                  0.147555    0.443677    0.441967  0.260002   \n",
       "balcony                       0.024933    0.057960   -0.008869 -0.090756   \n",
       "airports_nearest             -0.040831    0.028157   -0.016966 -0.044307   \n",
       "cityCenters_nearest          -0.030876   -0.082666   -0.139831 -0.197353   \n",
       "parks_around3000              0.027938    0.088303    0.096261  0.114923   \n",
       "parks_nearest                -0.005478    0.020328    0.009401  0.005426   \n",
       "ponds_around3000             -0.017536    0.033003    0.001141 -0.014214   \n",
       "ponds_nearest                -0.001981   -0.027734   -0.045782 -0.054615   \n",
       "days_exposition              -0.072824    0.042398    0.072163  0.076517   \n",
       "price_per_square_meter        0.168972    0.442455    0.014352 -0.198801   \n",
       "day_of_week                   0.005569   -0.006942   -0.003664 -0.019356   \n",
       "month                        -0.005701   -0.008744   -0.010041 -0.021289   \n",
       "year                          0.150895   -0.011734   -0.059897 -0.053657   \n",
       "area_ratio_living_total       0.064284   -0.071730   -0.021830  0.129036   \n",
       "area_ratio_kitchen_total      0.085029   -0.044780   -0.070354 -0.054179   \n",
       "cityCenters_nearest_km       -0.025189   -0.074247   -0.130617 -0.187982   \n",
       "distance_to_downtown_km      -0.025189   -0.074247   -0.130617 -0.187982   \n",
       "\n",
       "                          ceiling_height  floors_total  living_area     floor  \\\n",
       "total_images                    0.080531     -0.056451     0.075804 -0.000806   \n",
       "last_price                      0.082087      0.052090     0.600441  0.140883   \n",
       "total_area                      0.088370     -0.047160     0.770223  0.056943   \n",
       "rooms                           0.095576     -0.205934     0.755643 -0.080843   \n",
       "ceiling_height                  1.000000     -0.145511     0.141927 -0.090170   \n",
       "floors_total                   -0.145511      1.000000    -0.155079  0.675566   \n",
       "living_area                     0.141927     -0.155079     1.000000 -0.041869   \n",
       "floor                          -0.090170      0.675566    -0.041869  1.000000   \n",
       "is_apartment                    0.072991     -0.010863     0.050173 -0.006731   \n",
       "studio                          0.026847      0.016589    -0.040347 -0.019832   \n",
       "open_plan                      -0.012288      0.020848    -0.026360  0.003943   \n",
       "kitchen_area                    0.082086      0.072895     0.425256  0.103374   \n",
       "balcony                         0.031623      0.337546    -0.052077  0.271879   \n",
       "airports_nearest                0.013298      0.157106    -0.037723  0.076587   \n",
       "cityCenters_nearest            -0.056653      0.393247    -0.150309  0.254238   \n",
       "parks_around3000                0.088076     -0.236112     0.122365 -0.163038   \n",
       "parks_nearest                  -0.011537     -0.038255    -0.009386 -0.033434   \n",
       "ponds_around3000                0.025090     -0.000024    -0.008059 -0.021051   \n",
       "ponds_nearest                  -0.056485      0.077493    -0.040730  0.041739   \n",
       "days_exposition                 0.006701      0.010090     0.087072  0.002500   \n",
       "price_per_square_meter          0.018939      0.240400    -0.093943  0.223584   \n",
       "day_of_week                    -0.077719      0.031777    -0.032616  0.031993   \n",
       "month                          -0.034894      0.010111    -0.010093  0.006377   \n",
       "year                            0.141614     -0.025803    -0.084753 -0.018181   \n",
       "area_ratio_living_total         0.118773     -0.152667     0.482004 -0.108133   \n",
       "area_ratio_kitchen_total        0.087330      0.009258     0.171661  0.005858   \n",
       "cityCenters_nearest_km         -0.053030      0.381077    -0.139201  0.246814   \n",
       "distance_to_downtown_km        -0.053030      0.381077    -0.139201  0.246814   \n",
       "\n",
       "                          is_apartment    studio  ...  ponds_nearest  \\\n",
       "total_images                  0.015641 -0.021367  ...      -0.001981   \n",
       "last_price                    0.064328 -0.044575  ...      -0.027734   \n",
       "total_area                    0.048018 -0.061256  ...      -0.045782   \n",
       "rooms                         0.009540 -0.127771  ...      -0.054615   \n",
       "ceiling_height                0.072991  0.026847  ...      -0.056485   \n",
       "floors_total                 -0.010863  0.016589  ...       0.077493   \n",
       "living_area                   0.050173 -0.040347  ...      -0.040730   \n",
       "floor                        -0.006731 -0.019832  ...       0.041739   \n",
       "is_apartment                  1.000000 -0.003299  ...      -0.005693   \n",
       "studio                       -0.003299  1.000000  ...       0.022078   \n",
       "open_plan                    -0.002196 -0.003110  ...       0.010794   \n",
       "kitchen_area                 -0.000960 -0.106440  ...      -0.015772   \n",
       "balcony                       0.007001  0.009912  ...       0.038564   \n",
       "airports_nearest             -0.030552  0.005078  ...       0.164448   \n",
       "cityCenters_nearest          -0.004029  0.023339  ...       0.078314   \n",
       "parks_around3000              0.068662 -0.033605  ...      -0.049305   \n",
       "parks_nearest                -0.006733 -0.028170  ...       0.029387   \n",
       "ponds_around3000              0.020176  0.000041  ...       0.360145   \n",
       "ponds_nearest                -0.005693  0.022078  ...       1.000000   \n",
       "days_exposition               0.012214 -0.022843  ...      -0.002411   \n",
       "price_per_square_meter        0.024028  0.024256  ...       0.040990   \n",
       "day_of_week                  -0.030246  0.007717  ...       0.003649   \n",
       "month                         0.005506  0.013328  ...       0.021948   \n",
       "year                          0.004106  0.016302  ...      -0.010266   \n",
       "area_ratio_living_total       0.003073  0.020873  ...      -0.025771   \n",
       "area_ratio_kitchen_total     -0.039914 -0.207556  ...      -0.018047   \n",
       "cityCenters_nearest_km       -0.004435  0.019754  ...       0.075887   \n",
       "distance_to_downtown_km      -0.004435  0.019754  ...       0.075887   \n",
       "\n",
       "                          days_exposition  price_per_square_meter  \\\n",
       "total_images                    -0.072824                0.168972   \n",
       "last_price                       0.042398                0.442455   \n",
       "total_area                       0.072163                0.014352   \n",
       "rooms                            0.076517               -0.198801   \n",
       "ceiling_height                   0.006701                0.018939   \n",
       "floors_total                     0.010090                0.240400   \n",
       "living_area                      0.087072               -0.093943   \n",
       "floor                            0.002500                0.223584   \n",
       "is_apartment                     0.012214                0.024028   \n",
       "studio                          -0.022843                0.024256   \n",
       "open_plan                       -0.019842                0.012463   \n",
       "kitchen_area                     0.081477                0.177793   \n",
       "balcony                         -0.002366                0.179123   \n",
       "airports_nearest                 0.013206                0.090050   \n",
       "cityCenters_nearest             -0.037519                0.022934   \n",
       "parks_around3000                 0.015090                0.022032   \n",
       "parks_nearest                    0.007270                0.050273   \n",
       "ponds_around3000                 0.024042                0.077235   \n",
       "ponds_nearest                   -0.002411                0.040990   \n",
       "days_exposition                  1.000000               -0.026984   \n",
       "price_per_square_meter          -0.026984                1.000000   \n",
       "day_of_week                     -0.033719               -0.000934   \n",
       "month                           -0.012608               -0.023887   \n",
       "year                            -0.631459                0.091607   \n",
       "area_ratio_living_total          0.032379               -0.131916   \n",
       "area_ratio_kitchen_total         0.046216                0.033782   \n",
       "cityCenters_nearest_km          -0.041560                0.023095   \n",
       "distance_to_downtown_km         -0.041560                0.023095   \n",
       "\n",
       "                          day_of_week     month      year  \\\n",
       "total_images                 0.005569 -0.005701  0.150895   \n",
       "last_price                  -0.006942 -0.008744 -0.011734   \n",
       "total_area                  -0.003664 -0.010041 -0.059897   \n",
       "rooms                       -0.019356 -0.021289 -0.053657   \n",
       "ceiling_height              -0.077719 -0.034894  0.141614   \n",
       "floors_total                 0.031777  0.010111 -0.025803   \n",
       "living_area                 -0.032616 -0.010093 -0.084753   \n",
       "floor                        0.031993  0.006377 -0.018181   \n",
       "is_apartment                -0.030246  0.005506  0.004106   \n",
       "studio                       0.007717  0.013328  0.016302   \n",
       "open_plan                    0.009161  0.011452 -0.010096   \n",
       "kitchen_area                -0.012308 -0.018557 -0.048417   \n",
       "balcony                      0.027395  0.009815 -0.025585   \n",
       "airports_nearest            -0.007107 -0.025077 -0.024098   \n",
       "cityCenters_nearest          0.024090  0.005513  0.016223   \n",
       "parks_around3000            -0.013865 -0.017722 -0.023861   \n",
       "parks_nearest                0.006944  0.025194 -0.024824   \n",
       "ponds_around3000             0.037023 -0.018414 -0.039700   \n",
       "ponds_nearest                0.003649  0.021948 -0.010266   \n",
       "days_exposition             -0.033719 -0.012608 -0.631459   \n",
       "price_per_square_meter      -0.000934 -0.023887  0.091607   \n",
       "day_of_week                  1.000000  0.037178  0.004019   \n",
       "month                        0.037178  1.000000 -0.220856   \n",
       "year                         0.004019 -0.220856  1.000000   \n",
       "area_ratio_living_total     -0.038147 -0.003707 -0.058157   \n",
       "area_ratio_kitchen_total    -0.019379  0.011551 -0.034967   \n",
       "cityCenters_nearest_km       0.024718  0.006037  0.019602   \n",
       "distance_to_downtown_km      0.024718  0.006037  0.019602   \n",
       "\n",
       "                          area_ratio_living_total  area_ratio_kitchen_total  \\\n",
       "total_images                             0.064284                  0.085029   \n",
       "last_price                              -0.071730                 -0.044780   \n",
       "total_area                              -0.021830                 -0.070354   \n",
       "rooms                                    0.129036                 -0.054179   \n",
       "ceiling_height                           0.118773                  0.087330   \n",
       "floors_total                            -0.152667                  0.009258   \n",
       "living_area                              0.482004                  0.171661   \n",
       "floor                                   -0.108133                  0.005858   \n",
       "is_apartment                             0.003073                 -0.039914   \n",
       "studio                                   0.020873                 -0.207556   \n",
       "open_plan                                0.005954                 -0.138191   \n",
       "kitchen_area                             0.214730                  0.575615   \n",
       "balcony                                 -0.042632                  0.100543   \n",
       "airports_nearest                        -0.016722                  0.025968   \n",
       "cityCenters_nearest                     -0.028977                  0.019235   \n",
       "parks_around3000                         0.026676                 -0.028855   \n",
       "parks_nearest                           -0.056461                 -0.038243   \n",
       "ponds_around3000                        -0.032935                  0.012224   \n",
       "ponds_nearest                           -0.025771                 -0.018047   \n",
       "days_exposition                          0.032379                  0.046216   \n",
       "price_per_square_meter                  -0.131916                  0.033782   \n",
       "day_of_week                             -0.038147                 -0.019379   \n",
       "month                                   -0.003707                  0.011551   \n",
       "year                                    -0.058157                 -0.034967   \n",
       "area_ratio_living_total                  1.000000                  0.568679   \n",
       "area_ratio_kitchen_total                 0.568679                  1.000000   \n",
       "cityCenters_nearest_km                  -0.022584                  0.024358   \n",
       "distance_to_downtown_km                 -0.022584                  0.024358   \n",
       "\n",
       "                          cityCenters_nearest_km  distance_to_downtown_km  \n",
       "total_images                           -0.025189                -0.025189  \n",
       "last_price                             -0.074247                -0.074247  \n",
       "total_area                             -0.130617                -0.130617  \n",
       "rooms                                  -0.187982                -0.187982  \n",
       "ceiling_height                         -0.053030                -0.053030  \n",
       "floors_total                            0.381077                 0.381077  \n",
       "living_area                            -0.139201                -0.139201  \n",
       "floor                                   0.246814                 0.246814  \n",
       "is_apartment                           -0.004435                -0.004435  \n",
       "studio                                  0.019754                 0.019754  \n",
       "open_plan                               0.011914                 0.011914  \n",
       "kitchen_area                           -0.051622                -0.051622  \n",
       "balcony                                 0.153988                 0.153988  \n",
       "airports_nearest                        0.427447                 0.427447  \n",
       "cityCenters_nearest                     0.990456                 0.990456  \n",
       "parks_around3000                       -0.195950                -0.195950  \n",
       "parks_nearest                           0.013030                 0.013030  \n",
       "ponds_around3000                       -0.186903                -0.186903  \n",
       "ponds_nearest                           0.075887                 0.075887  \n",
       "days_exposition                        -0.041560                -0.041560  \n",
       "price_per_square_meter                  0.023095                 0.023095  \n",
       "day_of_week                             0.024718                 0.024718  \n",
       "month                                   0.006037                 0.006037  \n",
       "year                                    0.019602                 0.019602  \n",
       "area_ratio_living_total                -0.022584                -0.022584  \n",
       "area_ratio_kitchen_total                0.024358                 0.024358  \n",
       "cityCenters_nearest_km                  1.000000                 1.000000  \n",
       "distance_to_downtown_km                 1.000000                 1.000000  \n",
       "\n",
       "[28 rows x 28 columns]"
      ]
     },
     "execution_count": 308,
     "metadata": {},
     "output_type": "execute_result"
    }
   ],
   "source": [
    "saint_petersburg_downtown_data.corr()"
   ]
  },
  {
   "cell_type": "markdown",
   "metadata": {},
   "source": [
    "### total_area, living_area, and rooms seem to have the most affect on price."
   ]
  },
  {
   "cell_type": "markdown",
   "metadata": {},
   "source": [
    "## rooms"
   ]
  },
  {
   "cell_type": "code",
   "execution_count": 309,
   "metadata": {},
   "outputs": [
    {
     "data": {
      "text/plain": [
       "<matplotlib.axes._subplots.AxesSubplot at 0x7f1bd9314cd0>"
      ]
     },
     "execution_count": 309,
     "metadata": {},
     "output_type": "execute_result"
    },
    {
     "data": {
      "image/png": "[encoded data removed]",
      "text/plain": [
       "<Figure size 432x288 with 1 Axes>"
      ]
     },
     "metadata": {
      "needs_background": "light"
     },
     "output_type": "display_data"
    }
   ],
   "source": [
    "saint_petersburg_downtown_data.pivot_table(index=['rooms'], values='last_price', aggfunc=['median', 'mean']).plot(style='o-', grid=True)"
   ]
  },
  {
   "cell_type": "markdown",
   "metadata": {},
   "source": [
    "### A number of rooms increases, price increases, just as in general data. We also have outliers here above 7 rooms, since not so many people have homes with that many rooms.\n"
   ]
  },
  {
   "cell_type": "markdown",
   "metadata": {},
   "source": [
    "## floor rank"
   ]
  },
  {
   "cell_type": "code",
   "execution_count": 310,
   "metadata": {},
   "outputs": [
    {
     "data": {
      "text/html": [
       "<div>\n",
       "<style scoped>\n",
       "    .dataframe tbody tr th:only-of-type {\n",
       "        vertical-align: middle;\n",
       "    }\n",
       "\n",
       "    .dataframe tbody tr th {\n",
       "        vertical-align: top;\n",
       "    }\n",
       "\n",
       "    .dataframe thead tr th {\n",
       "        text-align: left;\n",
       "    }\n",
       "\n",
       "    .dataframe thead tr:last-of-type th {\n",
       "        text-align: right;\n",
       "    }\n",
       "</style>\n",
       "<table border=\"1\" class=\"dataframe\">\n",
       "  <thead>\n",
       "    <tr>\n",
       "      <th></th>\n",
       "      <th>median</th>\n",
       "      <th>mean</th>\n",
       "      <th>count</th>\n",
       "    </tr>\n",
       "    <tr>\n",
       "      <th></th>\n",
       "      <th>last_price</th>\n",
       "      <th>last_price</th>\n",
       "      <th>last_price</th>\n",
       "    </tr>\n",
       "    <tr>\n",
       "      <th>floor_comparison_to_total</th>\n",
       "      <th></th>\n",
       "      <th></th>\n",
       "      <th></th>\n",
       "    </tr>\n",
       "  </thead>\n",
       "  <tbody>\n",
       "    <tr>\n",
       "      <td>first</td>\n",
       "      <td>6300000</td>\n",
       "      <td>7.757380e+06</td>\n",
       "      <td>423</td>\n",
       "    </tr>\n",
       "    <tr>\n",
       "      <td>last</td>\n",
       "      <td>8700000</td>\n",
       "      <td>1.203300e+07</td>\n",
       "      <td>647</td>\n",
       "    </tr>\n",
       "    <tr>\n",
       "      <td>other</td>\n",
       "      <td>8900000</td>\n",
       "      <td>1.099824e+07</td>\n",
       "      <td>2802</td>\n",
       "    </tr>\n",
       "  </tbody>\n",
       "</table>\n",
       "</div>"
      ],
      "text/plain": [
       "                              median          mean      count\n",
       "                          last_price    last_price last_price\n",
       "floor_comparison_to_total                                    \n",
       "first                        6300000  7.757380e+06        423\n",
       "last                         8700000  1.203300e+07        647\n",
       "other                        8900000  1.099824e+07       2802"
      ]
     },
     "execution_count": 310,
     "metadata": {},
     "output_type": "execute_result"
    }
   ],
   "source": [
    "saint_petersburg_downtown_data.pivot_table(index=['floor_comparison_to_total'], values='last_price', aggfunc=['median', 'mean', 'count'])"
   ]
  },
  {
   "cell_type": "code",
   "execution_count": 311,
   "metadata": {},
   "outputs": [
    {
     "data": {
      "text/plain": [
       "<matplotlib.axes._subplots.AxesSubplot at 0x7f1bd9203f50>"
      ]
     },
     "execution_count": 311,
     "metadata": {},
     "output_type": "execute_result"
    },
    {
     "data": {
      "image/png": "[encoded data removed]",
      "text/plain": [
       "<Figure size 432x288 with 1 Axes>"
      ]
     },
     "metadata": {
      "needs_background": "light"
     },
     "output_type": "display_data"
    }
   ],
   "source": [
    "saint_petersburg_downtown_data.pivot_table(index=['floor_comparison_to_total'], values='last_price', aggfunc=['median', 'mean']).plot( style='o-', grid=True)"
   ]
  },
  {
   "cell_type": "markdown",
   "metadata": {},
   "source": [
    "### It seems that if some lives on the first floor, it costs less than if someone lives on the last floor, just as in the general data."
   ]
  },
  {
   "cell_type": "markdown",
   "metadata": {},
   "source": [
    "## cityCenters_nearest"
   ]
  },
  {
   "cell_type": "code",
   "execution_count": 312,
   "metadata": {},
   "outputs": [
    {
     "name": "stderr",
     "output_type": "stream",
     "text": [
      "/opt/conda/lib/python3.7/site-packages/ipykernel_launcher.py:1: SettingWithCopyWarning: \n",
      "A value is trying to be set on a copy of a slice from a DataFrame.\n",
      "Try using .loc[row_indexer,col_indexer] = value instead\n",
      "\n",
      "See the caveats in the documentation: http://pandas.pydata.org/pandas-docs/stable/user_guide/indexing.html#returning-a-view-versus-a-copy\n",
      "  \"\"\"Entry point for launching an IPython kernel.\n"
     ]
    }
   ],
   "source": [
    "saint_petersburg_downtown_data['cityCenters_nearest_km'] = saint_petersburg_downtown_data['cityCenters_nearest']/1000"
   ]
  },
  {
   "cell_type": "code",
   "execution_count": 313,
   "metadata": {},
   "outputs": [
    {
     "name": "stderr",
     "output_type": "stream",
     "text": [
      "/opt/conda/lib/python3.7/site-packages/ipykernel_launcher.py:1: SettingWithCopyWarning: \n",
      "A value is trying to be set on a copy of a slice from a DataFrame.\n",
      "Try using .loc[row_indexer,col_indexer] = value instead\n",
      "\n",
      "See the caveats in the documentation: http://pandas.pydata.org/pandas-docs/stable/user_guide/indexing.html#returning-a-view-versus-a-copy\n",
      "  \"\"\"Entry point for launching an IPython kernel.\n"
     ]
    }
   ],
   "source": [
    "saint_petersburg_downtown_data['cityCenters_nearest_km'] = saint_petersburg_downtown_data['cityCenters_nearest_km'].round()"
   ]
  },
  {
   "cell_type": "code",
   "execution_count": 314,
   "metadata": {},
   "outputs": [
    {
     "data": {
      "text/plain": [
       "<matplotlib.axes._subplots.AxesSubplot at 0x7f1bd923b810>"
      ]
     },
     "execution_count": 314,
     "metadata": {},
     "output_type": "execute_result"
    },
    {
     "data": {
      "image/png": "[encoded data removed]",
      "text/plain": [
       "<Figure size 432x288 with 1 Axes>"
      ]
     },
     "metadata": {
      "needs_background": "light"
     },
     "output_type": "display_data"
    }
   ],
   "source": [
    "saint_petersburg_downtown_data.pivot_table(index=['cityCenters_nearest_km'], values='last_price', aggfunc=['mean']).plot(kind='bar', grid=True)"
   ]
  },
  {
   "cell_type": "markdown",
   "metadata": {},
   "source": [
    "### It seems that the price of homes inside downtown Saint Petersburg is pretty constant. However, homes near the edge of downtown seem to be slightly cheaper."
   ]
  },
  {
   "cell_type": "markdown",
   "metadata": {},
   "source": [
    "## day_of_week"
   ]
  },
  {
   "cell_type": "code",
   "execution_count": 315,
   "metadata": {},
   "outputs": [
    {
     "data": {
      "text/plain": [
       "<matplotlib.axes._subplots.AxesSubplot at 0x7f1bd924cc90>"
      ]
     },
     "execution_count": 315,
     "metadata": {},
     "output_type": "execute_result"
    },
    {
     "data": {
      "image/png": "[encoded data removed]",
      "text/plain": [
       "<Figure size 432x288 with 1 Axes>"
      ]
     },
     "metadata": {
      "needs_background": "light"
     },
     "output_type": "display_data"
    }
   ],
   "source": [
    "saint_petersburg_downtown_data.pivot_table(index=['day_of_week'], values='last_price', aggfunc=['median', 'mean']).plot(style='o-', grid=True)"
   ]
  },
  {
   "cell_type": "markdown",
   "metadata": {},
   "source": [
    "### It is unlikely that this factor plays a big role and there is no positive nor negative trend. It seems pretty random and not connected."
   ]
  },
  {
   "cell_type": "markdown",
   "metadata": {},
   "source": [
    "## month"
   ]
  },
  {
   "cell_type": "code",
   "execution_count": 316,
   "metadata": {},
   "outputs": [
    {
     "data": {
      "text/plain": [
       "<matplotlib.axes._subplots.AxesSubplot at 0x7f1bd91bcb90>"
      ]
     },
     "execution_count": 316,
     "metadata": {},
     "output_type": "execute_result"
    },
    {
     "data": {
      "image/png": "[encoded data removed]",
      "text/plain": [
       "<Figure size 432x288 with 1 Axes>"
      ]
     },
     "metadata": {
      "needs_background": "light"
     },
     "output_type": "display_data"
    }
   ],
   "source": [
    "saint_petersburg_downtown_data.pivot_table(index=['month'], values='last_price', aggfunc=['median', 'mean']).plot(style='o-', grid=True)"
   ]
  },
  {
   "cell_type": "markdown",
   "metadata": {},
   "source": [
    "### Mostly, this seems pretty constant. However, if the advertisement is published in December, the price is lowest. This could be because of lower supply and demand in December when compared to others. There is not a clear increasing or decreasing trend as the year goes on."
   ]
  },
  {
   "cell_type": "markdown",
   "metadata": {},
   "source": [
    "## year"
   ]
  },
  {
   "cell_type": "code",
   "execution_count": 317,
   "metadata": {},
   "outputs": [
    {
     "data": {
      "text/plain": [
       "<matplotlib.axes._subplots.AxesSubplot at 0x7f1bd908c2d0>"
      ]
     },
     "execution_count": 317,
     "metadata": {},
     "output_type": "execute_result"
    },
    {
     "data": {
      "image/png": "[encoded data removed]",
      "text/plain": [
       "<Figure size 432x288 with 1 Axes>"
      ]
     },
     "metadata": {
      "needs_background": "light"
     },
     "output_type": "display_data"
    }
   ],
   "source": [
    "saint_petersburg_downtown_data.pivot_table(index=['year'], values='last_price', aggfunc=['median', 'mean']).plot(style='o-', grid=True)"
   ]
  },
  {
   "cell_type": "markdown",
   "metadata": {},
   "source": [
    "### Prices have decreased from 2015 to 2018. However, they have been increasing since then. In the general data, this was slightly different. In the general data, prices have been increasing from 2017 to 2019."
   ]
  },
  {
   "cell_type": "markdown",
   "metadata": {},
   "source": [
    "### The factors with the largest influence on a home's value in Saint Petersburg is the number of rooms. It also matters whether the home is on first or last floor and the year. However, unlike in the rest of the data, the distance to the city center is no longer as big of a factor."
   ]
  },
  {
   "cell_type": "markdown",
   "metadata": {},
   "source": [
    "### Step 5. Overall conclusion"
   ]
  },
  {
   "cell_type": "markdown",
   "metadata": {},
   "source": [
    "## The factors that impact price are different for the general data and for specifically Saint Petersburg downtown. In Saint Petersburg downtown, the number of rooms becomes more important. This could be because there are smaller houses in downtown so splitting the home up into more rooms matters. In the general data, the distance to the city center made a difference in price. In the Saint Petersburg downtown data, t"
   ]
  },
  {
   "cell_type": "markdown",
   "metadata": {},
   "source": [
    "- [x]  file opened\n",
    "- [X]  files explored (first rows printed, info() method)\n",
    "- [X]  missing values determined\n",
    "- [X]  missing values filled in\n",
    "- [X]  clarification of the discovered missing values provided\n",
    "- [X]  data types converted\n",
    "- [X]  explanation of which columns had the data types changed and why\n",
    "- [X]  calculated and added to the table: the price per square meter\n",
    "- [x]  calculated and added to the table: the day of the week, month, and year that the ad was published\n",
    "- [X]  calculated and added to the table: which floor the apartment is on (first, last, or other)\n",
    "- [X]  calculated and added to the table: the ratio between the living space and the total area, as well as between the kitchen space and the total area\n",
    "- [X]  the following parameters investigated: square area, price, number of rooms, and ceiling height\n",
    "- [X]  histograms for each parameter created\n",
    "- [X]  task completed: \"Examine the time it's taken to sell the apartment and create a histogram. Calculate the mean and median and explain the average time it usually takes to complete a sale. When can a sale be considered extra quick or taken an extra slow?\"\n",
    "- [X]  task completed: \"Remove rare and outlying values and describe the specific details you've discovered.\"\n",
    "- [X]  task completed: \"Which factors have had the biggest influence on an apartment’s value? Examine whether the value depends on price per meter, number of rooms, floor (top or bottom), or the proximity to the downtown area. Also study the correlation to the ad posting date: day of the week, month, and year. \"Select the 10 places with the largest number of ads and then calculate the average price per square meter in these localities. Select the locations with the highest and lowest housing prices. You can find this data by name in the ’*locality_name’* column. \"\n",
    "- [X]  task completed: \"Thoroughly look at apartment offers: each apartment has information about the distance to the downtown area. Select apartments in Saint Petersburg (*‘locality_name’*). Your task is to pinpoint which area is considered to be downtown. Create a column with the distance to the downtown area in km and round to the nearest whole number. Next, calculate the average price for each kilometer. Build a graph to display how prices are affected by the distance to the downtown area. Define the turning point where the graph significantly changes. This will indicate downtown. \"\n",
    "- [X]  task completed: \"Select a segment of apartments in the downtown. Analyze this area and examine the following parameters: square area, price, number of rooms, ceiling height. Also identify the factors that affect an apartment’s price (number of rooms, floor, distance to the downtown area, and ad publication date). Draw your conclusions. Are they different from the overall conclusions about the entire city?\"\n",
    "- [X]  each stage has a conclusion\n",
    "- [X]  overall conclusion drawn"
   ]
  },
  {
   "cell_type": "code",
   "execution_count": null,
   "metadata": {},
   "outputs": [],
   "source": []
  }
 ],
 "metadata": {
  "kernelspec": {
   "display_name": "Python 3",
   "language": "python",
   "name": "python3"
  },
  "language_info": {
   "codemirror_mode": {
    "name": "ipython",
    "version": 3
   },
   "file_extension": ".py",
   "mimetype": "text/x-python",
   "name": "python",
   "nbconvert_exporter": "python",
   "pygments_lexer": "ipython3",
   "version": "3.7.6"
  }
 },
 "nbformat": 4,
 "nbformat_minor": 2
}
