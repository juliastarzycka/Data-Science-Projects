{
  "nbformat": 4,
  "nbformat_minor": 0,
  "metadata": {
    "kernelspec": {
      "display_name": "Python 3",
      "language": "python",
      "name": "python3"
    },
    "language_info": {
      "codemirror_mode": {
        "name": "ipython",
        "version": 3
      },
      "file_extension": ".py",
      "mimetype": "text/x-python",
      "name": "python",
      "nbconvert_exporter": "python",
      "pygments_lexer": "ipython3",
      "version": "3.7.4"
    },
    "colab": {
      "name": "Video Game Platforms Success.ipynb",
      "provenance": []
    }
  },
  "cells": [
    {
      "cell_type": "markdown",
      "metadata": {
        "id": "VjPJ5Xfi5Uce",
        "colab_type": "text"
      },
      "source": [
        "# Integrated Project: Video Game Success"
      ]
    },
    {
      "cell_type": "markdown",
      "metadata": {
        "id": "5ELeKHIq5Uch",
        "colab_type": "text"
      },
      "source": [
        "Project description: \n",
        "You work for the online store Ice, which sells video games all over the world. User and expert reviews, genres, platforms (e.g. Xbox or PlayStation), and historical data on game sales are available from open sources. You need to identify patterns that determine whether a game succeeds or not. This will allow you to spot potential big winners and plan advertising campaigns.\n",
        "In front of you is data going back to 2016. Let’s imagine that it’s December 2016 and you’re planning a campaign for 2017.\n",
        "(The important thing is to get experience working with data. It doesn't really matter whether you're forecasting 2017 sales based on data from 2016 or 2027 sales based on data from 2026.)\n",
        "The dataset contains the abbreviation ESRB. The Entertainment Software Rating Board evaluates a game's content and assigns an age rating such as Teen or Mature.\n"
      ]
    },
    {
      "cell_type": "markdown",
      "metadata": {
        "id": "lg2r10-C5Ucj",
        "colab_type": "text"
      },
      "source": [
        "Data description\n",
        "—Name\n",
        "—Platform\n",
        "—Year_of_Release\n",
        "—Genre\n",
        "—NA_sales (North American sales in USD million)\n",
        "—EU_sales (sales in Europe in USD million)\n",
        "—JP_sales (sales in Japan in USD million)\n",
        "—Other_sales (sales in other countries in USD million)\n",
        "—Critic_Score (maximum of 100)\n",
        "—User_Score (maximum of 10)\n",
        "—Rating (ESRB)\n",
        "Data for 2016 may be incomplete.\n",
        "\n",
        "\n",
        "---\n",
        "\n",
        "\n",
        "\n",
        "---\n",
        "\n"
      ]
    },
    {
      "cell_type": "markdown",
      "metadata": {
        "id": "KFYLpWCi5Ucl",
        "colab_type": "text"
      },
      "source": [
        "## Step 1. Open the data file and study the general information\n"
      ]
    },
    {
      "cell_type": "code",
      "metadata": {
        "id": "FzmZNh-N5Ucm",
        "colab_type": "code",
        "colab": {}
      },
      "source": [
        "import pandas as pd\n",
        "import matplotlib.pyplot as plt\n",
        "from scipy import stats as st\n",
        "import numpy as np"
      ],
      "execution_count": null,
      "outputs": []
    },
    {
      "cell_type": "code",
      "metadata": {
        "id": "wqY9zLvX5Ucx",
        "colab_type": "code",
        "colab": {}
      },
      "source": [
        "df = pd.read_csv('https://code.s3.yandex.net/datasets/games.csv')"
      ],
      "execution_count": null,
      "outputs": []
    },
    {
      "cell_type": "code",
      "metadata": {
        "id": "Dg36EYWQ5Uc6",
        "colab_type": "code",
        "colab": {},
        "outputId": "e2db8a6e-c1db-4b5a-f69b-2ea2b9a29b0f"
      },
      "source": [
        "print(df.head())"
      ],
      "execution_count": null,
      "outputs": [
        {
          "output_type": "stream",
          "text": [
            "                       Name Platform  Year_of_Release         Genre  NA_sales  \\\n",
            "0                Wii Sports      Wii           2006.0        Sports     41.36   \n",
            "1         Super Mario Bros.      NES           1985.0      Platform     29.08   \n",
            "2            Mario Kart Wii      Wii           2008.0        Racing     15.68   \n",
            "3         Wii Sports Resort      Wii           2009.0        Sports     15.61   \n",
            "4  Pokemon Red/Pokemon Blue       GB           1996.0  Role-Playing     11.27   \n",
            "\n",
            "   EU_sales  JP_sales  Other_sales  Critic_Score User_Score Rating  \n",
            "0     28.96      3.77         8.45          76.0          8      E  \n",
            "1      3.58      6.81         0.77           NaN        NaN    NaN  \n",
            "2     12.76      3.79         3.29          82.0        8.3      E  \n",
            "3     10.93      3.28         2.95          80.0          8      E  \n",
            "4      8.89     10.22         1.00           NaN        NaN    NaN  \n"
          ],
          "name": "stdout"
        }
      ]
    },
    {
      "cell_type": "code",
      "metadata": {
        "id": "OmScO47u5UdE",
        "colab_type": "code",
        "colab": {},
        "outputId": "871e24bf-abb3-45a2-af36-41296f28493b"
      },
      "source": [
        "df.info()"
      ],
      "execution_count": null,
      "outputs": [
        {
          "output_type": "stream",
          "text": [
            "<class 'pandas.core.frame.DataFrame'>\n",
            "RangeIndex: 16715 entries, 0 to 16714\n",
            "Data columns (total 11 columns):\n",
            "Name               16713 non-null object\n",
            "Platform           16715 non-null object\n",
            "Year_of_Release    16446 non-null float64\n",
            "Genre              16713 non-null object\n",
            "NA_sales           16715 non-null float64\n",
            "EU_sales           16715 non-null float64\n",
            "JP_sales           16715 non-null float64\n",
            "Other_sales        16715 non-null float64\n",
            "Critic_Score       8137 non-null float64\n",
            "User_Score         10014 non-null object\n",
            "Rating             9949 non-null object\n",
            "dtypes: float64(6), object(5)\n",
            "memory usage: 1.4+ MB\n"
          ],
          "name": "stdout"
        }
      ]
    },
    {
      "cell_type": "markdown",
      "metadata": {
        "id": "i6WS0-zu5UdO",
        "colab_type": "text"
      },
      "source": [
        "## Step 2. Prepare the data"
      ]
    },
    {
      "cell_type": "markdown",
      "metadata": {
        "id": "nWDmeocg5UdQ",
        "colab_type": "text"
      },
      "source": [
        "#### Replace the column names (make them lowercase)."
      ]
    },
    {
      "cell_type": "code",
      "metadata": {
        "id": "SAe9R_HM5UdR",
        "colab_type": "code",
        "colab": {}
      },
      "source": [
        "df.columns = df.columns.str.lower()"
      ],
      "execution_count": null,
      "outputs": []
    },
    {
      "cell_type": "markdown",
      "metadata": {
        "id": "zLA6PIeo5Udc",
        "colab_type": "text"
      },
      "source": [
        "#### Convert the data to the required types.\n",
        "#### Describe the columns where the data types have been changed and why.\n",
        "#### If necessary, decide how to deal with missing values:\n",
        "#### Explain why you filled in the missing values as you did or why you decided to leave them blank.\n",
        "#### Why do you think the values are missing? Give possible reasons.\n",
        "#### Pay attention to the abbreviation TBD (to be determined). Specify how you intend to handle such cases.\n"
      ]
    },
    {
      "cell_type": "code",
      "metadata": {
        "id": "2KSB71SN5Ude",
        "colab_type": "code",
        "colab": {},
        "outputId": "8d960070-f413-418e-99b2-b109e08f9f64"
      },
      "source": [
        "df.info()"
      ],
      "execution_count": null,
      "outputs": [
        {
          "output_type": "stream",
          "text": [
            "<class 'pandas.core.frame.DataFrame'>\n",
            "RangeIndex: 16715 entries, 0 to 16714\n",
            "Data columns (total 11 columns):\n",
            "name               16713 non-null object\n",
            "platform           16715 non-null object\n",
            "year_of_release    16446 non-null float64\n",
            "genre              16713 non-null object\n",
            "na_sales           16715 non-null float64\n",
            "eu_sales           16715 non-null float64\n",
            "jp_sales           16715 non-null float64\n",
            "other_sales        16715 non-null float64\n",
            "critic_score       8137 non-null float64\n",
            "user_score         10014 non-null object\n",
            "rating             9949 non-null object\n",
            "dtypes: float64(6), object(5)\n",
            "memory usage: 1.4+ MB\n"
          ],
          "name": "stdout"
        }
      ]
    },
    {
      "cell_type": "code",
      "metadata": {
        "id": "6-c_jjq55Udo",
        "colab_type": "code",
        "colab": {}
      },
      "source": [
        "null_name_data = df[df['name'].isnull()]"
      ],
      "execution_count": null,
      "outputs": []
    },
    {
      "cell_type": "code",
      "metadata": {
        "id": "nACbz6ES5UeC",
        "colab_type": "code",
        "colab": {},
        "outputId": "665d12f0-5852-47fb-adb4-6d71604ffc35"
      },
      "source": [
        "print(null_name_data)"
      ],
      "execution_count": null,
      "outputs": [
        {
          "output_type": "stream",
          "text": [
            "      name platform  year_of_release genre  na_sales  eu_sales  jp_sales  \\\n",
            "659    NaN      GEN           1993.0   NaN      1.78      0.53      0.00   \n",
            "14244  NaN      GEN           1993.0   NaN      0.00      0.00      0.03   \n",
            "\n",
            "       other_sales  critic_score user_score rating  \n",
            "659           0.08           NaN        NaN    NaN  \n",
            "14244         0.00           NaN        NaN    NaN  \n"
          ],
          "name": "stdout"
        }
      ]
    },
    {
      "cell_type": "code",
      "metadata": {
        "id": "Ux6IVMZ25UeL",
        "colab_type": "code",
        "colab": {},
        "outputId": "2fd3c52d-dcd2-42a4-cdba-c626f9e7d0f9"
      },
      "source": [
        "null_name_data.info()"
      ],
      "execution_count": null,
      "outputs": [
        {
          "output_type": "stream",
          "text": [
            "<class 'pandas.core.frame.DataFrame'>\n",
            "Int64Index: 2 entries, 659 to 14244\n",
            "Data columns (total 11 columns):\n",
            "name               0 non-null object\n",
            "platform           2 non-null object\n",
            "year_of_release    2 non-null float64\n",
            "genre              0 non-null object\n",
            "na_sales           2 non-null float64\n",
            "eu_sales           2 non-null float64\n",
            "jp_sales           2 non-null float64\n",
            "other_sales        2 non-null float64\n",
            "critic_score       0 non-null float64\n",
            "user_score         0 non-null object\n",
            "rating             0 non-null object\n",
            "dtypes: float64(6), object(5)\n",
            "memory usage: 192.0+ bytes\n"
          ],
          "name": "stdout"
        }
      ]
    },
    {
      "cell_type": "code",
      "metadata": {
        "id": "8s7lUfLd5UeU",
        "colab_type": "code",
        "colab": {}
      },
      "source": [
        "df['name'] = df['name'].fillna('unknown name')"
      ],
      "execution_count": null,
      "outputs": []
    },
    {
      "cell_type": "markdown",
      "metadata": {
        "id": "mbUa9fXr5Ueb",
        "colab_type": "text"
      },
      "source": [
        "I filled in the missing values in name with unknown name, since the rest of the data could be important about sales, platform, or year of release. (The missing values might have occurred because these games were deleted from the store and the system no longer remembers their name.)"
      ]
    },
    {
      "cell_type": "code",
      "metadata": {
        "id": "MViq1nC_5Uee",
        "colab_type": "code",
        "colab": {},
        "outputId": "fc19b8d7-52fb-4657-f94c-1003bfa6c9cd"
      },
      "source": [
        "print(df['year_of_release'].head())"
      ],
      "execution_count": null,
      "outputs": [
        {
          "output_type": "stream",
          "text": [
            "0    2006.0\n",
            "1    1985.0\n",
            "2    2008.0\n",
            "3    2009.0\n",
            "4    1996.0\n",
            "Name: year_of_release, dtype: float64\n"
          ],
          "name": "stdout"
        }
      ]
    },
    {
      "cell_type": "code",
      "metadata": {
        "id": "dICdKNuI5Uem",
        "colab_type": "code",
        "colab": {}
      },
      "source": [
        "df['year_of_release'] = df['year_of_release'].fillna(-1)"
      ],
      "execution_count": null,
      "outputs": []
    },
    {
      "cell_type": "code",
      "metadata": {
        "id": "vBCbWfQm5Ueu",
        "colab_type": "code",
        "colab": {}
      },
      "source": [
        "df['year_of_release'] = df['year_of_release'].astype(int)"
      ],
      "execution_count": null,
      "outputs": []
    },
    {
      "cell_type": "markdown",
      "metadata": {
        "id": "JhvC1QjZ5Ue6",
        "colab_type": "text"
      },
      "source": [
        "Year of release had a decimal so I changed it to int type, since a decimal in a year does not make sense. In order to change the data type, I had to fill missing values, so I assigned them to the -1 value. (The missing values might have happened because the movies were not released yet, or no one typed it into the system.)"
      ]
    },
    {
      "cell_type": "code",
      "metadata": {
        "id": "7ev3aRQS5Ue8",
        "colab_type": "code",
        "colab": {},
        "outputId": "3ddc795b-22e8-44ea-964e-769f2661d305"
      },
      "source": [
        "df['critic_score'].unique()"
      ],
      "execution_count": null,
      "outputs": [
        {
          "output_type": "execute_result",
          "data": {
            "text/plain": [
              "array([76., nan, 82., 80., 89., 58., 87., 91., 61., 97., 95., 77., 88.,\n",
              "       83., 94., 93., 85., 86., 98., 96., 90., 84., 73., 74., 78., 92.,\n",
              "       71., 72., 68., 62., 49., 67., 81., 66., 56., 79., 70., 59., 64.,\n",
              "       75., 60., 63., 69., 50., 25., 42., 44., 55., 48., 57., 29., 47.,\n",
              "       65., 54., 20., 53., 37., 38., 33., 52., 30., 32., 43., 45., 51.,\n",
              "       40., 46., 39., 34., 35., 41., 36., 28., 31., 27., 26., 19., 23.,\n",
              "       24., 21., 17., 22., 13.])"
            ]
          },
          "metadata": {
            "tags": []
          },
          "execution_count": 14
        }
      ]
    },
    {
      "cell_type": "code",
      "metadata": {
        "id": "HRLWNlf65UfJ",
        "colab_type": "code",
        "colab": {}
      },
      "source": [
        "df['critic_score'] = df['critic_score'].fillna(-1)"
      ],
      "execution_count": null,
      "outputs": []
    },
    {
      "cell_type": "code",
      "metadata": {
        "id": "hATur60k5UfU",
        "colab_type": "code",
        "colab": {}
      },
      "source": [
        "df['critic_score'] = df['critic_score'].astype(int)"
      ],
      "execution_count": null,
      "outputs": []
    },
    {
      "cell_type": "markdown",
      "metadata": {
        "id": "DJIQ7Yid5Ufj",
        "colab_type": "text"
      },
      "source": [
        "In order to change the data type to int since the numbers do not need decimals, I first had to fill in missing values, so I filled them with -1. (The missing values might mean that the critics did not give a score yet, or no one typed it into the database.)"
      ]
    },
    {
      "cell_type": "code",
      "metadata": {
        "id": "hVhh790D5Ufl",
        "colab_type": "code",
        "colab": {},
        "outputId": "f4c59f61-2941-4798-8e16-641e23c1e2df"
      },
      "source": [
        "df['user_score'].unique()"
      ],
      "execution_count": null,
      "outputs": [
        {
          "output_type": "execute_result",
          "data": {
            "text/plain": [
              "array(['8', nan, '8.3', '8.5', '6.6', '8.4', '8.6', '7.7', '6.3', '7.4',\n",
              "       '8.2', '9', '7.9', '8.1', '8.7', '7.1', '3.4', '5.3', '4.8', '3.2',\n",
              "       '8.9', '6.4', '7.8', '7.5', '2.6', '7.2', '9.2', '7', '7.3', '4.3',\n",
              "       '7.6', '5.7', '5', '9.1', '6.5', 'tbd', '8.8', '6.9', '9.4', '6.8',\n",
              "       '6.1', '6.7', '5.4', '4', '4.9', '4.5', '9.3', '6.2', '4.2', '6',\n",
              "       '3.7', '4.1', '5.8', '5.6', '5.5', '4.4', '4.6', '5.9', '3.9',\n",
              "       '3.1', '2.9', '5.2', '3.3', '4.7', '5.1', '3.5', '2.5', '1.9', '3',\n",
              "       '2.7', '2.2', '2', '9.5', '2.1', '3.6', '2.8', '1.8', '3.8', '0',\n",
              "       '1.6', '9.6', '2.4', '1.7', '1.1', '0.3', '1.5', '0.7', '1.2',\n",
              "       '2.3', '0.5', '1.3', '0.2', '0.6', '1.4', '0.9', '1', '9.7'],\n",
              "      dtype=object)"
            ]
          },
          "metadata": {
            "tags": []
          },
          "execution_count": 17
        }
      ]
    },
    {
      "cell_type": "code",
      "metadata": {
        "id": "BU8JLgTk5Uft",
        "colab_type": "code",
        "colab": {}
      },
      "source": [
        "df['user_score'] = df['user_score'].replace('tbd', -0.5)"
      ],
      "execution_count": null,
      "outputs": []
    },
    {
      "cell_type": "code",
      "metadata": {
        "id": "nRDvS2iC5Uf0",
        "colab_type": "code",
        "colab": {}
      },
      "source": [
        "df['user_score'] = df['user_score'].fillna(-1)"
      ],
      "execution_count": null,
      "outputs": []
    },
    {
      "cell_type": "code",
      "metadata": {
        "id": "M98DyjgP5Uf7",
        "colab_type": "code",
        "colab": {}
      },
      "source": [
        "df['user_score'] = df['user_score'].astype(float)"
      ],
      "execution_count": null,
      "outputs": []
    },
    {
      "cell_type": "markdown",
      "metadata": {
        "id": "R2YIJBwh5UgD",
        "colab_type": "text"
      },
      "source": [
        "In order to change from string type to float type in order to later do calculations, I had to replace 'tbd' with -0.5 and the NaN values with -1. Later on, I will handle the tbd cases by considering that the values with -0.5 mean that the user_store was not determined yet. (The missing values might mean that no one typed it into the database or that the users were not given the opportunity to give it a score.)"
      ]
    },
    {
      "cell_type": "code",
      "metadata": {
        "id": "7lfWFRxQ5UgG",
        "colab_type": "code",
        "colab": {},
        "outputId": "2c653637-8931-4e2d-918a-61f7a7bc5018"
      },
      "source": [
        "df['rating'].unique()"
      ],
      "execution_count": null,
      "outputs": [
        {
          "output_type": "execute_result",
          "data": {
            "text/plain": [
              "array(['E', nan, 'M', 'T', 'E10+', 'K-A', 'AO', 'EC', 'RP'], dtype=object)"
            ]
          },
          "metadata": {
            "tags": []
          },
          "execution_count": 21
        }
      ]
    },
    {
      "cell_type": "code",
      "metadata": {
        "id": "BOczwaMp5UgO",
        "colab_type": "code",
        "colab": {}
      },
      "source": [
        "df['rating'] = df['rating'].fillna('unknown rating')"
      ],
      "execution_count": null,
      "outputs": []
    },
    {
      "cell_type": "markdown",
      "metadata": {
        "id": "39bRyAxv5UgV",
        "colab_type": "text"
      },
      "source": [
        "I just needed to replace the missing values with 'unknown rating' to make analysis easier. (The missing values could mean that the game is not rated.)"
      ]
    },
    {
      "cell_type": "code",
      "metadata": {
        "scrolled": false,
        "id": "9Nei8_v15UgX",
        "colab_type": "code",
        "colab": {},
        "outputId": "7b95ccbe-4e2b-4eb8-c2b5-adb6f3477a88"
      },
      "source": [
        "df['genre'].unique()"
      ],
      "execution_count": null,
      "outputs": [
        {
          "output_type": "execute_result",
          "data": {
            "text/plain": [
              "array(['Sports', 'Platform', 'Racing', 'Role-Playing', 'Puzzle', 'Misc',\n",
              "       'Shooter', 'Simulation', 'Action', 'Fighting', 'Adventure',\n",
              "       'Strategy', nan], dtype=object)"
            ]
          },
          "metadata": {
            "tags": []
          },
          "execution_count": 23
        }
      ]
    },
    {
      "cell_type": "code",
      "metadata": {
        "id": "ON0nFEui5Ugi",
        "colab_type": "code",
        "colab": {}
      },
      "source": [
        "null_genre_data = df[df['genre'].isnull()]"
      ],
      "execution_count": null,
      "outputs": []
    },
    {
      "cell_type": "code",
      "metadata": {
        "id": "p1zqgKiA5Ugs",
        "colab_type": "code",
        "colab": {},
        "outputId": "3a094abc-3b6d-4842-e2cf-5feec774aced"
      },
      "source": [
        "print(null_genre_data)"
      ],
      "execution_count": null,
      "outputs": [
        {
          "output_type": "stream",
          "text": [
            "               name platform  year_of_release genre  na_sales  eu_sales  \\\n",
            "659    unknown name      GEN             1993   NaN      1.78      0.53   \n",
            "14244  unknown name      GEN             1993   NaN      0.00      0.00   \n",
            "\n",
            "       jp_sales  other_sales  critic_score  user_score          rating  \n",
            "659        0.00         0.08            -1        -1.0  unknown rating  \n",
            "14244      0.03         0.00            -1        -1.0  unknown rating  \n"
          ],
          "name": "stdout"
        }
      ]
    },
    {
      "cell_type": "code",
      "metadata": {
        "id": "J7gAodVI5Ug1",
        "colab_type": "code",
        "colab": {}
      },
      "source": [
        "df['genre'] = df['genre'].fillna('Misc')"
      ],
      "execution_count": null,
      "outputs": []
    },
    {
      "cell_type": "markdown",
      "metadata": {
        "id": "s9NvUcql5Ug9",
        "colab_type": "text"
      },
      "source": [
        "There were few missing values in the genre column. I decided to group them in with the miscellaneous genre category. (The missing values could mean anything, so they fit in the Misc. category well.)"
      ]
    },
    {
      "cell_type": "code",
      "metadata": {
        "id": "vSkgGQTX5Ug-",
        "colab_type": "code",
        "colab": {},
        "outputId": "bf03214d-a116-4104-f037-59595f7a2195"
      },
      "source": [
        "df.info()"
      ],
      "execution_count": null,
      "outputs": [
        {
          "output_type": "stream",
          "text": [
            "<class 'pandas.core.frame.DataFrame'>\n",
            "RangeIndex: 16715 entries, 0 to 16714\n",
            "Data columns (total 11 columns):\n",
            "name               16715 non-null object\n",
            "platform           16715 non-null object\n",
            "year_of_release    16715 non-null int64\n",
            "genre              16715 non-null object\n",
            "na_sales           16715 non-null float64\n",
            "eu_sales           16715 non-null float64\n",
            "jp_sales           16715 non-null float64\n",
            "other_sales        16715 non-null float64\n",
            "critic_score       16715 non-null int64\n",
            "user_score         16715 non-null float64\n",
            "rating             16715 non-null object\n",
            "dtypes: float64(5), int64(2), object(4)\n",
            "memory usage: 1.4+ MB\n"
          ],
          "name": "stdout"
        }
      ]
    },
    {
      "cell_type": "markdown",
      "metadata": {
        "id": "kzH98KHj5UhN",
        "colab_type": "text"
      },
      "source": [
        "#### Calculate the total sales (the sum of sales in all regions) for each game and put these values in a separate column.\n"
      ]
    },
    {
      "cell_type": "code",
      "metadata": {
        "id": "k4_SwfNV5UhS",
        "colab_type": "code",
        "colab": {}
      },
      "source": [
        "df['total_sales'] = df['na_sales'] + df['eu_sales'] + df['jp_sales'] + df['other_sales']"
      ],
      "execution_count": null,
      "outputs": []
    },
    {
      "cell_type": "code",
      "metadata": {
        "id": "aZ1ZBxZA5Uhc",
        "colab_type": "code",
        "colab": {},
        "outputId": "24746cb5-703e-406b-e3d8-ffeb9c9b7db7"
      },
      "source": [
        "df.info()"
      ],
      "execution_count": null,
      "outputs": [
        {
          "output_type": "stream",
          "text": [
            "<class 'pandas.core.frame.DataFrame'>\n",
            "RangeIndex: 16715 entries, 0 to 16714\n",
            "Data columns (total 12 columns):\n",
            "name               16715 non-null object\n",
            "platform           16715 non-null object\n",
            "year_of_release    16715 non-null int64\n",
            "genre              16715 non-null object\n",
            "na_sales           16715 non-null float64\n",
            "eu_sales           16715 non-null float64\n",
            "jp_sales           16715 non-null float64\n",
            "other_sales        16715 non-null float64\n",
            "critic_score       16715 non-null int64\n",
            "user_score         16715 non-null float64\n",
            "rating             16715 non-null object\n",
            "total_sales        16715 non-null float64\n",
            "dtypes: float64(6), int64(2), object(4)\n",
            "memory usage: 1.5+ MB\n"
          ],
          "name": "stdout"
        }
      ]
    },
    {
      "cell_type": "markdown",
      "metadata": {
        "id": "FAHmyGGO5Uhq",
        "colab_type": "text"
      },
      "source": [
        "## Step 3. Analyze the data"
      ]
    },
    {
      "cell_type": "markdown",
      "metadata": {
        "id": "mfXKL7l_5Uhr",
        "colab_type": "text"
      },
      "source": [
        "#### Look at how many games were released in different years. Is the data for every period significant?\n"
      ]
    },
    {
      "cell_type": "code",
      "metadata": {
        "scrolled": false,
        "id": "Rjim5a-d5Uhu",
        "colab_type": "code",
        "colab": {},
        "outputId": "5e05c02d-16f7-4264-b0a0-dfb15717d55a"
      },
      "source": [
        "df['year_of_release'].hist()"
      ],
      "execution_count": null,
      "outputs": [
        {
          "output_type": "execute_result",
          "data": {
            "text/plain": [
              "<matplotlib.axes._subplots.AxesSubplot at 0x7f8ce6bba250>"
            ]
          },
          "metadata": {
            "tags": []
          },
          "execution_count": 30
        },
        {
          "output_type": "display_data",
          "data": {
            "image/png": "[encoded data removed]",
            "text/plain": [
              "<Figure size 432x288 with 1 Axes>"
            ]
          },
          "metadata": {
            "tags": [],
            "needs_background": "light"
          }
        }
      ]
    },
    {
      "cell_type": "code",
      "metadata": {
        "id": "5CO430PX5Uh1",
        "colab_type": "code",
        "colab": {},
        "outputId": "7fb133f0-ec8e-4f5a-8ab4-ce327088b7f3"
      },
      "source": [
        "df['year_of_release'].hist(range=(1970, 2025))"
      ],
      "execution_count": null,
      "outputs": [
        {
          "output_type": "execute_result",
          "data": {
            "text/plain": [
              "<matplotlib.axes._subplots.AxesSubplot at 0x7f8ce6b92210>"
            ]
          },
          "metadata": {
            "tags": []
          },
          "execution_count": 31
        },
        {
          "output_type": "display_data",
          "data": {
            "image/png": "[encoded data removed]",
            "text/plain": [
              "<Figure size 432x288 with 1 Axes>"
            ]
          },
          "metadata": {
            "tags": [],
            "needs_background": "light"
          }
        }
      ]
    },
    {
      "cell_type": "code",
      "metadata": {
        "id": "rr8hd6345UiD",
        "colab_type": "code",
        "colab": {}
      },
      "source": [
        "games_per_year = df.pivot_table(index='year_of_release', values='name', aggfunc='count')"
      ],
      "execution_count": null,
      "outputs": []
    },
    {
      "cell_type": "code",
      "metadata": {
        "id": "86rh0dxC5UiT",
        "colab_type": "code",
        "colab": {},
        "outputId": "976580c9-bba6-4986-d2cb-965dcbaed9b1"
      },
      "source": [
        "print(games_per_year)"
      ],
      "execution_count": null,
      "outputs": [
        {
          "output_type": "stream",
          "text": [
            "                 name\n",
            "year_of_release      \n",
            "-1                269\n",
            " 1980               9\n",
            " 1981              46\n",
            " 1982              36\n",
            " 1983              17\n",
            " 1984              14\n",
            " 1985              14\n",
            " 1986              21\n",
            " 1987              16\n",
            " 1988              15\n",
            " 1989              17\n",
            " 1990              16\n",
            " 1991              41\n",
            " 1992              43\n",
            " 1993              62\n",
            " 1994             121\n",
            " 1995             219\n",
            " 1996             263\n",
            " 1997             289\n",
            " 1998             379\n",
            " 1999             338\n",
            " 2000             350\n",
            " 2001             482\n",
            " 2002             829\n",
            " 2003             775\n",
            " 2004             762\n",
            " 2005             939\n",
            " 2006            1006\n",
            " 2007            1197\n",
            " 2008            1427\n",
            " 2009            1426\n",
            " 2010            1255\n",
            " 2011            1136\n",
            " 2012             653\n",
            " 2013             544\n",
            " 2014             581\n",
            " 2015             606\n",
            " 2016             502\n"
          ],
          "name": "stdout"
        }
      ]
    },
    {
      "cell_type": "markdown",
      "metadata": {
        "id": "BAq0Lzlz5Uik",
        "colab_type": "text"
      },
      "source": [
        "The data for every period is not significant. It is most significant between 2002 and 2012 (about 700 and above games)."
      ]
    },
    {
      "cell_type": "markdown",
      "metadata": {
        "id": "qDvoEjFt5Uin",
        "colab_type": "text"
      },
      "source": [
        "#### Look at how sales varied from platform to platform. \n",
        "\n"
      ]
    },
    {
      "cell_type": "code",
      "metadata": {
        "id": "xbmEomgz5Uiq",
        "colab_type": "code",
        "colab": {}
      },
      "source": [
        "sales_per_platform = df.pivot_table(index='platform', values='total_sales', aggfunc='sum').sort_values(by='total_sales', ascending=False)"
      ],
      "execution_count": null,
      "outputs": []
    },
    {
      "cell_type": "code",
      "metadata": {
        "id": "e9KL9iyC5Uix",
        "colab_type": "code",
        "colab": {},
        "outputId": "c73acdca-1c66-4467-87aa-fef9a05538bd"
      },
      "source": [
        "print(sales_per_platform)"
      ],
      "execution_count": null,
      "outputs": [
        {
          "output_type": "stream",
          "text": [
            "          total_sales\n",
            "platform             \n",
            "PS2           1255.77\n",
            "X360           971.42\n",
            "PS3            939.65\n",
            "Wii            907.51\n",
            "DS             806.12\n",
            "PS             730.86\n",
            "GBA            317.85\n",
            "PS4            314.14\n",
            "PSP            294.05\n",
            "PC             259.52\n",
            "3DS            259.00\n",
            "XB             257.74\n",
            "GB             255.46\n",
            "NES            251.05\n",
            "N64            218.68\n",
            "SNES           200.04\n",
            "GC             198.93\n",
            "XOne           159.32\n",
            "2600            96.98\n",
            "WiiU            82.19\n",
            "PSV             54.07\n",
            "SAT             33.59\n",
            "GEN             30.77\n",
            "DC              15.95\n",
            "SCD              1.86\n",
            "NG               1.44\n",
            "WS               1.42\n",
            "TG16             0.16\n",
            "3DO              0.10\n",
            "GG               0.04\n",
            "PCFX             0.03\n"
          ],
          "name": "stdout"
        }
      ]
    },
    {
      "cell_type": "markdown",
      "metadata": {
        "id": "1oWluZvE5Ui9",
        "colab_type": "text"
      },
      "source": [
        "#### Choose the platforms with the greatest total sales and build a distribution based on data for each year. \n"
      ]
    },
    {
      "cell_type": "code",
      "metadata": {
        "id": "cqcIIF8H5Ui_",
        "colab_type": "code",
        "colab": {}
      },
      "source": [
        "top5_sales_per_platform = sales_per_platform.head()"
      ],
      "execution_count": null,
      "outputs": []
    },
    {
      "cell_type": "code",
      "metadata": {
        "id": "uFBWoJb85Ujd",
        "colab_type": "code",
        "colab": {},
        "outputId": "b77d020a-4dde-490d-a4e4-ebaaf46f4bb2"
      },
      "source": [
        "print(top5_sales_per_platform)"
      ],
      "execution_count": null,
      "outputs": [
        {
          "output_type": "stream",
          "text": [
            "          total_sales\n",
            "platform             \n",
            "PS2           1255.77\n",
            "X360           971.42\n",
            "PS3            939.65\n",
            "Wii            907.51\n",
            "DS             806.12\n"
          ],
          "name": "stdout"
        }
      ]
    },
    {
      "cell_type": "markdown",
      "metadata": {
        "id": "3kp_Gxt-5Ujm",
        "colab_type": "text"
      },
      "source": [
        "PS2"
      ]
    },
    {
      "cell_type": "code",
      "metadata": {
        "id": "MnQarj3k5Ujn",
        "colab_type": "code",
        "colab": {}
      },
      "source": [
        "PS2 = df[df['platform'] == 'PS2']"
      ],
      "execution_count": null,
      "outputs": []
    },
    {
      "cell_type": "code",
      "metadata": {
        "id": "dnXKTfE65Ujx",
        "colab_type": "code",
        "colab": {}
      },
      "source": [
        "PS2_sales_per_year = PS2.pivot_table(index='year_of_release', values='total_sales', aggfunc='sum')"
      ],
      "execution_count": null,
      "outputs": []
    },
    {
      "cell_type": "code",
      "metadata": {
        "id": "l6BGbMKM5Uj-",
        "colab_type": "code",
        "colab": {},
        "outputId": "78df981e-6d4a-47f4-db6b-8ae23b4f91f6"
      },
      "source": [
        "print(PS2_sales_per_year)"
      ],
      "execution_count": null,
      "outputs": [
        {
          "output_type": "stream",
          "text": [
            "                 total_sales\n",
            "year_of_release             \n",
            "-1                     22.21\n",
            " 2000                  39.17\n",
            " 2001                 166.43\n",
            " 2002                 205.38\n",
            " 2003                 184.31\n",
            " 2004                 211.81\n",
            " 2005                 160.66\n",
            " 2006                 103.42\n",
            " 2007                  75.99\n",
            " 2008                  53.90\n",
            " 2009                  26.40\n",
            " 2010                   5.64\n",
            " 2011                   0.45\n"
          ],
          "name": "stdout"
        }
      ]
    },
    {
      "cell_type": "code",
      "metadata": {
        "id": "l443Bv0E5UkP",
        "colab_type": "code",
        "colab": {},
        "outputId": "72b68684-fe1e-4363-d687-98ef029dd544"
      },
      "source": [
        "PS2_sales_per_year.plot(style='o-', xlim=(2000, 2011), grid=True)"
      ],
      "execution_count": null,
      "outputs": [
        {
          "output_type": "execute_result",
          "data": {
            "text/plain": [
              "<matplotlib.axes._subplots.AxesSubplot at 0x7f8ce6398310>"
            ]
          },
          "metadata": {
            "tags": []
          },
          "execution_count": 41
        },
        {
          "output_type": "display_data",
          "data": {
            "image/png": "[encoded data removed]",
            "text/plain": [
              "<Figure size 432x288 with 1 Axes>"
            ]
          },
          "metadata": {
            "tags": [],
            "needs_background": "light"
          }
        }
      ]
    },
    {
      "cell_type": "markdown",
      "metadata": {
        "id": "RfIXoHOA5Ukb",
        "colab_type": "text"
      },
      "source": [
        "X360"
      ]
    },
    {
      "cell_type": "code",
      "metadata": {
        "id": "Lyx860PK5Ukd",
        "colab_type": "code",
        "colab": {}
      },
      "source": [
        "X360 = df[df['platform'] == 'X360']"
      ],
      "execution_count": null,
      "outputs": []
    },
    {
      "cell_type": "code",
      "metadata": {
        "id": "29e0RdGy5Ukl",
        "colab_type": "code",
        "colab": {}
      },
      "source": [
        "X360_sales_per_year = X360.pivot_table(index='year_of_release', values='total_sales', aggfunc='sum')"
      ],
      "execution_count": null,
      "outputs": []
    },
    {
      "cell_type": "code",
      "metadata": {
        "id": "HGAQDlbx5Ukq",
        "colab_type": "code",
        "colab": {},
        "outputId": "7b32e040-07c1-4aff-cd34-b914d8982770"
      },
      "source": [
        "print(X360_sales_per_year)"
      ],
      "execution_count": null,
      "outputs": [
        {
          "output_type": "stream",
          "text": [
            "                 total_sales\n",
            "year_of_release             \n",
            "-1                     10.18\n",
            " 2005                   8.25\n",
            " 2006                  51.62\n",
            " 2007                  95.41\n",
            " 2008                 135.26\n",
            " 2009                 120.29\n",
            " 2010                 170.03\n",
            " 2011                 143.84\n",
            " 2012                  99.74\n",
            " 2013                  88.58\n",
            " 2014                  34.74\n",
            " 2015                  11.96\n",
            " 2016                   1.52\n"
          ],
          "name": "stdout"
        }
      ]
    },
    {
      "cell_type": "code",
      "metadata": {
        "id": "ha-p8yHW5Uky",
        "colab_type": "code",
        "colab": {},
        "outputId": "1a0aa6c0-dccb-49a5-813d-f6de7b25a341"
      },
      "source": [
        "X360_sales_per_year.plot(style='o-', xlim=(2005, 2016), grid=True)"
      ],
      "execution_count": null,
      "outputs": [
        {
          "output_type": "execute_result",
          "data": {
            "text/plain": [
              "<matplotlib.axes._subplots.AxesSubplot at 0x7f8d2e762bd0>"
            ]
          },
          "metadata": {
            "tags": []
          },
          "execution_count": 45
        },
        {
          "output_type": "display_data",
          "data": {
            "image/png": "[encoded data removed]",
            "text/plain": [
              "<Figure size 432x288 with 1 Axes>"
            ]
          },
          "metadata": {
            "tags": [],
            "needs_background": "light"
          }
        }
      ]
    },
    {
      "cell_type": "markdown",
      "metadata": {
        "id": "kSTTxfwi5Uk5",
        "colab_type": "text"
      },
      "source": [
        "PS3"
      ]
    },
    {
      "cell_type": "code",
      "metadata": {
        "id": "p4Pki_aw5Uk6",
        "colab_type": "code",
        "colab": {}
      },
      "source": [
        "PS3 = df[df['platform'] == 'PS3']"
      ],
      "execution_count": null,
      "outputs": []
    },
    {
      "cell_type": "code",
      "metadata": {
        "id": "B3yj8ZLv5UlE",
        "colab_type": "code",
        "colab": {}
      },
      "source": [
        "PS3_sales_per_year = PS3.pivot_table(index='year_of_release', values='total_sales', aggfunc='sum')"
      ],
      "execution_count": null,
      "outputs": []
    },
    {
      "cell_type": "code",
      "metadata": {
        "id": "9CETp4d_5UlQ",
        "colab_type": "code",
        "colab": {},
        "outputId": "e6d2ec00-f500-40e4-cc08-a18306c7cffe"
      },
      "source": [
        "print(PS3_sales_per_year)"
      ],
      "execution_count": null,
      "outputs": [
        {
          "output_type": "stream",
          "text": [
            "                 total_sales\n",
            "year_of_release             \n",
            "-1                      8.31\n",
            " 2006                  20.96\n",
            " 2007                  73.19\n",
            " 2008                 118.52\n",
            " 2009                 130.93\n",
            " 2010                 142.17\n",
            " 2011                 156.78\n",
            " 2012                 107.36\n",
            " 2013                 113.25\n",
            " 2014                  47.76\n",
            " 2015                  16.82\n",
            " 2016                   3.60\n"
          ],
          "name": "stdout"
        }
      ]
    },
    {
      "cell_type": "code",
      "metadata": {
        "id": "O1tUm18G5Ula",
        "colab_type": "code",
        "colab": {},
        "outputId": "e551a4f4-c418-4fa9-d4d9-a7dc8b0b0eb4"
      },
      "source": [
        "PS3_sales_per_year.plot(style='o-', xlim=(2006, 2016), grid=True)"
      ],
      "execution_count": null,
      "outputs": [
        {
          "output_type": "execute_result",
          "data": {
            "text/plain": [
              "<matplotlib.axes._subplots.AxesSubplot at 0x7f8ce64303d0>"
            ]
          },
          "metadata": {
            "tags": []
          },
          "execution_count": 49
        },
        {
          "output_type": "display_data",
          "data": {
            "image/png": "[encoded data removed]",
            "text/plain": [
              "<Figure size 432x288 with 1 Axes>"
            ]
          },
          "metadata": {
            "tags": [],
            "needs_background": "light"
          }
        }
      ]
    },
    {
      "cell_type": "markdown",
      "metadata": {
        "id": "WYAjlpSM5Ulm",
        "colab_type": "text"
      },
      "source": [
        "Wii"
      ]
    },
    {
      "cell_type": "code",
      "metadata": {
        "id": "wPomIaTY5Uln",
        "colab_type": "code",
        "colab": {}
      },
      "source": [
        "Wii = df[df['platform'] == 'Wii']"
      ],
      "execution_count": null,
      "outputs": []
    },
    {
      "cell_type": "code",
      "metadata": {
        "id": "NLG7FMv85Ulu",
        "colab_type": "code",
        "colab": {}
      },
      "source": [
        "Wii_sales_per_year = Wii.pivot_table(index='year_of_release', values='total_sales', aggfunc='sum')"
      ],
      "execution_count": null,
      "outputs": []
    },
    {
      "cell_type": "code",
      "metadata": {
        "id": "fyy5Ij4f5Ul8",
        "colab_type": "code",
        "colab": {},
        "outputId": "95a4ae0c-221a-48e0-9fe7-48a154563940"
      },
      "source": [
        "print(Wii_sales_per_year)"
      ],
      "execution_count": null,
      "outputs": [
        {
          "output_type": "stream",
          "text": [
            "                 total_sales\n",
            "year_of_release             \n",
            "-1                     16.33\n",
            " 2006                 137.15\n",
            " 2007                 152.77\n",
            " 2008                 171.32\n",
            " 2009                 206.97\n",
            " 2010                 127.95\n",
            " 2011                  59.65\n",
            " 2012                  21.71\n",
            " 2013                   8.59\n",
            " 2014                   3.75\n",
            " 2015                   1.14\n",
            " 2016                   0.18\n"
          ],
          "name": "stdout"
        }
      ]
    },
    {
      "cell_type": "code",
      "metadata": {
        "id": "T0nj1zCq5UmF",
        "colab_type": "code",
        "colab": {},
        "outputId": "72f4199a-7bef-4a52-b756-5e6766987b30"
      },
      "source": [
        "Wii_sales_per_year.plot(style='o-', xlim=(2006, 2016), grid=True)"
      ],
      "execution_count": null,
      "outputs": [
        {
          "output_type": "execute_result",
          "data": {
            "text/plain": [
              "<matplotlib.axes._subplots.AxesSubplot at 0x7f8ce620f3d0>"
            ]
          },
          "metadata": {
            "tags": []
          },
          "execution_count": 53
        },
        {
          "output_type": "display_data",
          "data": {
            "image/png": "[encoded data removed]",
            "text/plain": [
              "<Figure size 432x288 with 1 Axes>"
            ]
          },
          "metadata": {
            "tags": [],
            "needs_background": "light"
          }
        }
      ]
    },
    {
      "cell_type": "markdown",
      "metadata": {
        "id": "DEi2hsNg5UmL",
        "colab_type": "text"
      },
      "source": [
        "DS"
      ]
    },
    {
      "cell_type": "code",
      "metadata": {
        "id": "gcC3PYuA5UmM",
        "colab_type": "code",
        "colab": {}
      },
      "source": [
        "DS = df[df['platform'] == 'DS']"
      ],
      "execution_count": null,
      "outputs": []
    },
    {
      "cell_type": "code",
      "metadata": {
        "id": "kXy_thEE5Umu",
        "colab_type": "code",
        "colab": {}
      },
      "source": [
        "DS_sales_per_year = DS.pivot_table(index='year_of_release', values='total_sales', aggfunc='sum')"
      ],
      "execution_count": null,
      "outputs": []
    },
    {
      "cell_type": "code",
      "metadata": {
        "id": "bMLpDHGp5Um1",
        "colab_type": "code",
        "colab": {},
        "outputId": "a5845443-7d9e-4b31-9c71-80a1543d0035"
      },
      "source": [
        "print(DS_sales_per_year)"
      ],
      "execution_count": null,
      "outputs": [
        {
          "output_type": "stream",
          "text": [
            "                 total_sales\n",
            "year_of_release             \n",
            "-1                      3.34\n",
            " 1985                   0.02\n",
            " 2004                  17.27\n",
            " 2005                 130.14\n",
            " 2006                 119.81\n",
            " 2007                 146.94\n",
            " 2008                 145.31\n",
            " 2009                 119.54\n",
            " 2010                  85.02\n",
            " 2011                  26.18\n",
            " 2012                  11.01\n",
            " 2013                   1.54\n"
          ],
          "name": "stdout"
        }
      ]
    },
    {
      "cell_type": "code",
      "metadata": {
        "id": "pZlcgZb35UnA",
        "colab_type": "code",
        "colab": {},
        "outputId": "731a0769-27f1-4f4e-d0ee-dbc998f35020"
      },
      "source": [
        "DS_sales_per_year.plot(style='o-', xlim=(2004, 2013), grid=True)"
      ],
      "execution_count": null,
      "outputs": [
        {
          "output_type": "execute_result",
          "data": {
            "text/plain": [
              "<matplotlib.axes._subplots.AxesSubplot at 0x7f8ce61893d0>"
            ]
          },
          "metadata": {
            "tags": []
          },
          "execution_count": 57
        },
        {
          "output_type": "display_data",
          "data": {
            "image/png": "[encoded data removed]",
            "text/plain": [
              "<Figure size 432x288 with 1 Axes>"
            ]
          },
          "metadata": {
            "tags": [],
            "needs_background": "light"
          }
        }
      ]
    },
    {
      "cell_type": "markdown",
      "metadata": {
        "id": "xbumI4uL5UnJ",
        "colab_type": "text"
      },
      "source": [
        "#### Find platforms that used to be popular but now have zero sales. How long does it generally take for new platforms to appear and old ones to fade?"
      ]
    },
    {
      "cell_type": "markdown",
      "metadata": {
        "id": "lKJam_4Q5UnK",
        "colab_type": "text"
      },
      "source": [
        "From the above graphs, it can be seen that it takes about 10 years for a popular platform to gain popularity and then fade away."
      ]
    },
    {
      "cell_type": "markdown",
      "metadata": {
        "id": "IDOc0ble5UnL",
        "colab_type": "text"
      },
      "source": [
        "#### Determine what period you should take data for. To do so, look at your answers to the previous questions. The data should allow you to build a prognosis for 2017.\n"
      ]
    },
    {
      "cell_type": "markdown",
      "metadata": {
        "id": "tRWEO-mT5UnM",
        "colab_type": "text"
      },
      "source": [
        "I should take data for the period from 1995 to 2016. This will allow many periods of platform popularity rises and falls, and it will also allow there to be well represented data for each year (more than 200 games a year). However, as technology developed and games became more popular, the years after 2000 have a drastically larger number of games represented."
      ]
    },
    {
      "cell_type": "markdown",
      "metadata": {
        "id": "7ejpUsi85UnN",
        "colab_type": "text"
      },
      "source": [
        "#### Work only with the data that you've decided is relevant. Disregard the data for previous years."
      ]
    },
    {
      "cell_type": "code",
      "metadata": {
        "id": "dC0TFgZP5UnO",
        "colab_type": "code",
        "colab": {}
      },
      "source": [
        "relevant_df = df[df['year_of_release'] > 1995]"
      ],
      "execution_count": null,
      "outputs": []
    },
    {
      "cell_type": "code",
      "metadata": {
        "id": "j4V4H1JT5Unh",
        "colab_type": "code",
        "colab": {},
        "outputId": "1b012972-c91e-4627-98ce-faa6f44b0734"
      },
      "source": [
        "relevant_df.info()"
      ],
      "execution_count": null,
      "outputs": [
        {
          "output_type": "stream",
          "text": [
            "<class 'pandas.core.frame.DataFrame'>\n",
            "Int64Index: 15739 entries, 0 to 16714\n",
            "Data columns (total 12 columns):\n",
            "name               15739 non-null object\n",
            "platform           15739 non-null object\n",
            "year_of_release    15739 non-null int64\n",
            "genre              15739 non-null object\n",
            "na_sales           15739 non-null float64\n",
            "eu_sales           15739 non-null float64\n",
            "jp_sales           15739 non-null float64\n",
            "other_sales        15739 non-null float64\n",
            "critic_score       15739 non-null int64\n",
            "user_score         15739 non-null float64\n",
            "rating             15739 non-null object\n",
            "total_sales        15739 non-null float64\n",
            "dtypes: float64(6), int64(2), object(4)\n",
            "memory usage: 1.6+ MB\n"
          ],
          "name": "stdout"
        }
      ]
    },
    {
      "cell_type": "code",
      "metadata": {
        "id": "z3jBW8FB5Unr",
        "colab_type": "code",
        "colab": {}
      },
      "source": [
        "share_of_data_removed = (16715-15739) / 16715 * 100"
      ],
      "execution_count": null,
      "outputs": []
    },
    {
      "cell_type": "code",
      "metadata": {
        "id": "Qw63ioF15Uny",
        "colab_type": "code",
        "colab": {},
        "outputId": "1744ad8e-9d2a-44be-88aa-b8b5b2746c0d"
      },
      "source": [
        "print(share_of_data_removed, '%')"
      ],
      "execution_count": null,
      "outputs": [
        {
          "output_type": "stream",
          "text": [
            "5.8390667065510025 %\n"
          ],
          "name": "stdout"
        }
      ]
    },
    {
      "cell_type": "markdown",
      "metadata": {
        "id": "z69UBSEH5Un6",
        "colab_type": "text"
      },
      "source": [
        "Limiting to these years only gets rid of 5 percent of the data."
      ]
    },
    {
      "cell_type": "markdown",
      "metadata": {
        "id": "mBv8D2ok5Un8",
        "colab_type": "text"
      },
      "source": [
        "#### Which platforms are leading in sales? "
      ]
    },
    {
      "cell_type": "code",
      "metadata": {
        "id": "veh2y5XP5Un-",
        "colab_type": "code",
        "colab": {}
      },
      "source": [
        "relevant_sales_per_platform = relevant_df.pivot_table(index='platform', values='total_sales', aggfunc='sum').sort_values(by='total_sales', ascending=False)"
      ],
      "execution_count": null,
      "outputs": []
    },
    {
      "cell_type": "code",
      "metadata": {
        "id": "hLSJFWX85UoL",
        "colab_type": "code",
        "colab": {},
        "outputId": "3b65fe67-4d19-4b59-bf3f-4eeb7eccafec"
      },
      "source": [
        "print(relevant_sales_per_platform)"
      ],
      "execution_count": null,
      "outputs": [
        {
          "output_type": "stream",
          "text": [
            "          total_sales\n",
            "platform             \n",
            "PS2           1233.56\n",
            "X360           961.24\n",
            "PS3            931.34\n",
            "Wii            891.18\n",
            "DS             802.76\n",
            "PS             685.59\n",
            "PS4            314.14\n",
            "GBA            312.88\n",
            "PSP            289.53\n",
            "3DS            257.81\n",
            "XB             251.57\n",
            "PC             235.57\n",
            "N64            218.01\n",
            "GC             196.73\n",
            "XOne           159.32\n",
            "GB             136.30\n",
            "WiiU            82.19\n",
            "PSV             53.81\n",
            "SAT             18.37\n",
            "SNES            17.39\n",
            "DC              15.95\n",
            "WS               1.42\n",
            "NG               0.10\n",
            "PCFX             0.03\n"
          ],
          "name": "stdout"
        }
      ]
    },
    {
      "cell_type": "markdown",
      "metadata": {
        "id": "wg7Q3tdm5UoT",
        "colab_type": "text"
      },
      "source": [
        "PS2, X360, PS3, Wii, DS, and PS are leading in sales."
      ]
    },
    {
      "cell_type": "markdown",
      "metadata": {
        "id": "hs0ItpCr5UoU",
        "colab_type": "text"
      },
      "source": [
        "#### Which ones are growing or shrinking? \n"
      ]
    },
    {
      "cell_type": "markdown",
      "metadata": {
        "id": "Z2fA3a1f5Uog",
        "colab_type": "text"
      },
      "source": [
        "PS2"
      ]
    },
    {
      "cell_type": "code",
      "metadata": {
        "id": "lOat1Pzx5Uoh",
        "colab_type": "code",
        "colab": {}
      },
      "source": [
        "relevant_PS2 = relevant_df[relevant_df['platform'] == 'PS2']"
      ],
      "execution_count": null,
      "outputs": []
    },
    {
      "cell_type": "code",
      "metadata": {
        "id": "PEQ3NSTF5Uom",
        "colab_type": "code",
        "colab": {}
      },
      "source": [
        "relevant_PS2_sales_per_year = relevant_PS2.pivot_table(index='year_of_release', values='total_sales', aggfunc='sum')"
      ],
      "execution_count": null,
      "outputs": []
    },
    {
      "cell_type": "code",
      "metadata": {
        "id": "GnsOGJAW5Uo0",
        "colab_type": "code",
        "colab": {},
        "outputId": "6c98b509-d976-433d-a561-e1f97a2a0475"
      },
      "source": [
        "print(relevant_PS2_sales_per_year)"
      ],
      "execution_count": null,
      "outputs": [
        {
          "output_type": "stream",
          "text": [
            "                 total_sales\n",
            "year_of_release             \n",
            "2000                   39.17\n",
            "2001                  166.43\n",
            "2002                  205.38\n",
            "2003                  184.31\n",
            "2004                  211.81\n",
            "2005                  160.66\n",
            "2006                  103.42\n",
            "2007                   75.99\n",
            "2008                   53.90\n",
            "2009                   26.40\n",
            "2010                    5.64\n",
            "2011                    0.45\n"
          ],
          "name": "stdout"
        }
      ]
    },
    {
      "cell_type": "code",
      "metadata": {
        "id": "-h2WVF4H5UpC",
        "colab_type": "code",
        "colab": {},
        "outputId": "63814d2f-e43d-4026-c255-72c1cae8f4bd"
      },
      "source": [
        "relevant_PS2_sales_per_year.plot(style='o-', xlim=(2000, 2011), grid=True)"
      ],
      "execution_count": null,
      "outputs": [
        {
          "output_type": "execute_result",
          "data": {
            "text/plain": [
              "<matplotlib.axes._subplots.AxesSubplot at 0x7f8ce617dfd0>"
            ]
          },
          "metadata": {
            "tags": []
          },
          "execution_count": 67
        },
        {
          "output_type": "display_data",
          "data": {
            "image/png": "[encoded data removed]",
            "text/plain": [
              "<Figure size 432x288 with 1 Axes>"
            ]
          },
          "metadata": {
            "tags": [],
            "needs_background": "light"
          }
        }
      ]
    },
    {
      "cell_type": "markdown",
      "metadata": {
        "id": "gf1o3HN45UpV",
        "colab_type": "text"
      },
      "source": [
        "X360"
      ]
    },
    {
      "cell_type": "code",
      "metadata": {
        "id": "6F0W32KV5UpW",
        "colab_type": "code",
        "colab": {}
      },
      "source": [
        "relevant_X360 = relevant_df[relevant_df['platform'] == 'X360']"
      ],
      "execution_count": null,
      "outputs": []
    },
    {
      "cell_type": "code",
      "metadata": {
        "id": "I0cVA8ZY5Upe",
        "colab_type": "code",
        "colab": {}
      },
      "source": [
        "relevant_X360_sales_per_year = relevant_X360.pivot_table(index='year_of_release', values='total_sales', aggfunc='sum')"
      ],
      "execution_count": null,
      "outputs": []
    },
    {
      "cell_type": "code",
      "metadata": {
        "id": "l0YgMP7a5Upn",
        "colab_type": "code",
        "colab": {},
        "outputId": "d0bfd4c5-4aac-417b-fdab-cd55c29f769d"
      },
      "source": [
        "print(relevant_X360_sales_per_year)"
      ],
      "execution_count": null,
      "outputs": [
        {
          "output_type": "stream",
          "text": [
            "                 total_sales\n",
            "year_of_release             \n",
            "2005                    8.25\n",
            "2006                   51.62\n",
            "2007                   95.41\n",
            "2008                  135.26\n",
            "2009                  120.29\n",
            "2010                  170.03\n",
            "2011                  143.84\n",
            "2012                   99.74\n",
            "2013                   88.58\n",
            "2014                   34.74\n",
            "2015                   11.96\n",
            "2016                    1.52\n"
          ],
          "name": "stdout"
        }
      ]
    },
    {
      "cell_type": "code",
      "metadata": {
        "id": "De4WE1lO5Up2",
        "colab_type": "code",
        "colab": {},
        "outputId": "62740924-ba1b-4458-c092-69381907c85b"
      },
      "source": [
        "relevant_X360_sales_per_year.plot(style='o-', xlim=(2005, 2016), grid=True)"
      ],
      "execution_count": null,
      "outputs": [
        {
          "output_type": "execute_result",
          "data": {
            "text/plain": [
              "<matplotlib.axes._subplots.AxesSubplot at 0x7f8ce74b0410>"
            ]
          },
          "metadata": {
            "tags": []
          },
          "execution_count": 71
        },
        {
          "output_type": "display_data",
          "data": {
            "image/png": "[encoded data removed]",
            "text/plain": [
              "<Figure size 432x288 with 1 Axes>"
            ]
          },
          "metadata": {
            "tags": [],
            "needs_background": "light"
          }
        }
      ]
    },
    {
      "cell_type": "markdown",
      "metadata": {
        "id": "wLkDSHrm5Up9",
        "colab_type": "text"
      },
      "source": [
        "PS3"
      ]
    },
    {
      "cell_type": "code",
      "metadata": {
        "id": "FdiCOdwh5Up9",
        "colab_type": "code",
        "colab": {}
      },
      "source": [
        "relevant_PS3 = relevant_df[relevant_df['platform'] == 'PS3']"
      ],
      "execution_count": null,
      "outputs": []
    },
    {
      "cell_type": "code",
      "metadata": {
        "id": "PAswzR3k5UqC",
        "colab_type": "code",
        "colab": {}
      },
      "source": [
        "relevant_PS3_sales_per_year = relevant_PS3.pivot_table(index='year_of_release', values='total_sales', aggfunc='sum')"
      ],
      "execution_count": null,
      "outputs": []
    },
    {
      "cell_type": "code",
      "metadata": {
        "id": "SaFtblTA5UqW",
        "colab_type": "code",
        "colab": {},
        "outputId": "f206310e-dd82-417f-91ea-1c0e8cff5e9f"
      },
      "source": [
        "print(relevant_PS3_sales_per_year)"
      ],
      "execution_count": null,
      "outputs": [
        {
          "output_type": "stream",
          "text": [
            "                 total_sales\n",
            "year_of_release             \n",
            "2006                   20.96\n",
            "2007                   73.19\n",
            "2008                  118.52\n",
            "2009                  130.93\n",
            "2010                  142.17\n",
            "2011                  156.78\n",
            "2012                  107.36\n",
            "2013                  113.25\n",
            "2014                   47.76\n",
            "2015                   16.82\n",
            "2016                    3.60\n"
          ],
          "name": "stdout"
        }
      ]
    },
    {
      "cell_type": "code",
      "metadata": {
        "id": "ldqZDcfz5Uqk",
        "colab_type": "code",
        "colab": {},
        "outputId": "d3c12320-92ff-4ac7-f579-27b074870f27"
      },
      "source": [
        "relevant_PS3_sales_per_year.plot(style='o-', xlim=(2006, 2016), grid=True)"
      ],
      "execution_count": null,
      "outputs": [
        {
          "output_type": "execute_result",
          "data": {
            "text/plain": [
              "<matplotlib.axes._subplots.AxesSubplot at 0x7f8ce6c0d510>"
            ]
          },
          "metadata": {
            "tags": []
          },
          "execution_count": 75
        },
        {
          "output_type": "display_data",
          "data": {
            "image/png": "[encoded data removed]",
            "text/plain": [
              "<Figure size 432x288 with 1 Axes>"
            ]
          },
          "metadata": {
            "tags": [],
            "needs_background": "light"
          }
        }
      ]
    },
    {
      "cell_type": "markdown",
      "metadata": {
        "id": "ezRuMqD45Uqp",
        "colab_type": "text"
      },
      "source": [
        "Wii"
      ]
    },
    {
      "cell_type": "code",
      "metadata": {
        "id": "FE1Ioi1z5Uqq",
        "colab_type": "code",
        "colab": {}
      },
      "source": [
        "relevant_Wii = relevant_df[relevant_df['platform'] == 'Wii']"
      ],
      "execution_count": null,
      "outputs": []
    },
    {
      "cell_type": "code",
      "metadata": {
        "id": "wfyp1db05Uqv",
        "colab_type": "code",
        "colab": {}
      },
      "source": [
        "relevant_Wii_sales_per_year = relevant_Wii.pivot_table(index='year_of_release', values='total_sales', aggfunc='sum')"
      ],
      "execution_count": null,
      "outputs": []
    },
    {
      "cell_type": "code",
      "metadata": {
        "id": "b_Gn1Il-5Uq3",
        "colab_type": "code",
        "colab": {},
        "outputId": "8323382f-f0a3-4593-a54e-c037a27080dc"
      },
      "source": [
        "print(relevant_Wii_sales_per_year)"
      ],
      "execution_count": null,
      "outputs": [
        {
          "output_type": "stream",
          "text": [
            "                 total_sales\n",
            "year_of_release             \n",
            "2006                  137.15\n",
            "2007                  152.77\n",
            "2008                  171.32\n",
            "2009                  206.97\n",
            "2010                  127.95\n",
            "2011                   59.65\n",
            "2012                   21.71\n",
            "2013                    8.59\n",
            "2014                    3.75\n",
            "2015                    1.14\n",
            "2016                    0.18\n"
          ],
          "name": "stdout"
        }
      ]
    },
    {
      "cell_type": "code",
      "metadata": {
        "id": "pF94Fwwc5Uq9",
        "colab_type": "code",
        "colab": {},
        "outputId": "d93ffda0-33f8-45cb-8c0f-277aff43384f"
      },
      "source": [
        "relevant_Wii_sales_per_year.plot(style='o-', xlim=(2006, 2016), grid=True)"
      ],
      "execution_count": null,
      "outputs": [
        {
          "output_type": "execute_result",
          "data": {
            "text/plain": [
              "<matplotlib.axes._subplots.AxesSubplot at 0x7f8ce5f7fd50>"
            ]
          },
          "metadata": {
            "tags": []
          },
          "execution_count": 79
        },
        {
          "output_type": "display_data",
          "data": {
            "image/png": "[encoded data removed]",
            "text/plain": [
              "<Figure size 432x288 with 1 Axes>"
            ]
          },
          "metadata": {
            "tags": [],
            "needs_background": "light"
          }
        }
      ]
    },
    {
      "cell_type": "markdown",
      "metadata": {
        "id": "EObb5gTH5UrE",
        "colab_type": "text"
      },
      "source": [
        "DS"
      ]
    },
    {
      "cell_type": "code",
      "metadata": {
        "id": "1QWDsaDg5UrF",
        "colab_type": "code",
        "colab": {}
      },
      "source": [
        "relevant_DS = relevant_df[relevant_df['platform'] == 'DS']"
      ],
      "execution_count": null,
      "outputs": []
    },
    {
      "cell_type": "code",
      "metadata": {
        "id": "-7gutjns5UrL",
        "colab_type": "code",
        "colab": {}
      },
      "source": [
        "relevant_DS_sales_per_year = relevant_DS.pivot_table(index='year_of_release', values='total_sales', aggfunc='sum')"
      ],
      "execution_count": null,
      "outputs": []
    },
    {
      "cell_type": "code",
      "metadata": {
        "id": "kfmah8K45UrP",
        "colab_type": "code",
        "colab": {},
        "outputId": "04155878-7b31-4901-f798-b8ebaf01841f"
      },
      "source": [
        "print(relevant_DS_sales_per_year)"
      ],
      "execution_count": null,
      "outputs": [
        {
          "output_type": "stream",
          "text": [
            "                 total_sales\n",
            "year_of_release             \n",
            "2004                   17.27\n",
            "2005                  130.14\n",
            "2006                  119.81\n",
            "2007                  146.94\n",
            "2008                  145.31\n",
            "2009                  119.54\n",
            "2010                   85.02\n",
            "2011                   26.18\n",
            "2012                   11.01\n",
            "2013                    1.54\n"
          ],
          "name": "stdout"
        }
      ]
    },
    {
      "cell_type": "code",
      "metadata": {
        "id": "DNxNGSgM5Urn",
        "colab_type": "code",
        "colab": {},
        "outputId": "7878a400-0ee1-4f88-f9cb-01a1a73f7b97"
      },
      "source": [
        "relevant_DS_sales_per_year.plot(style='o-', xlim=(2004, 2013), grid=True)"
      ],
      "execution_count": null,
      "outputs": [
        {
          "output_type": "execute_result",
          "data": {
            "text/plain": [
              "<matplotlib.axes._subplots.AxesSubplot at 0x7f8ce5f67310>"
            ]
          },
          "metadata": {
            "tags": []
          },
          "execution_count": 83
        },
        {
          "output_type": "display_data",
          "data": {
            "image/png": "[encoded data removed]",
            "text/plain": [
              "<Figure size 432x288 with 1 Axes>"
            ]
          },
          "metadata": {
            "tags": [],
            "needs_background": "light"
          }
        }
      ]
    },
    {
      "cell_type": "markdown",
      "metadata": {
        "id": "gFY_k0C25Ur0",
        "colab_type": "text"
      },
      "source": [
        "PS"
      ]
    },
    {
      "cell_type": "code",
      "metadata": {
        "id": "_T7VyA0d5Ur1",
        "colab_type": "code",
        "colab": {}
      },
      "source": [
        "relevant_PS = relevant_df[relevant_df['platform'] == 'PS']"
      ],
      "execution_count": null,
      "outputs": []
    },
    {
      "cell_type": "code",
      "metadata": {
        "id": "19PXh09L5Ur8",
        "colab_type": "code",
        "colab": {}
      },
      "source": [
        "relevant_PS_sales_per_year = relevant_PS.pivot_table(index='year_of_release', values='total_sales', aggfunc='sum')"
      ],
      "execution_count": null,
      "outputs": []
    },
    {
      "cell_type": "code",
      "metadata": {
        "id": "nj_YBkQD5UsE",
        "colab_type": "code",
        "colab": {},
        "outputId": "cce03c90-8a32-43cf-ab96-e36e4221cc58"
      },
      "source": [
        "print(relevant_PS_sales_per_year)"
      ],
      "execution_count": null,
      "outputs": [
        {
          "output_type": "stream",
          "text": [
            "                 total_sales\n",
            "year_of_release             \n",
            "1996                   94.70\n",
            "1997                  136.17\n",
            "1998                  169.49\n",
            "1999                  144.53\n",
            "2000                   96.37\n",
            "2001                   35.59\n",
            "2002                    6.67\n",
            "2003                    2.07\n"
          ],
          "name": "stdout"
        }
      ]
    },
    {
      "cell_type": "code",
      "metadata": {
        "id": "kJcKZ2td5UsJ",
        "colab_type": "code",
        "colab": {},
        "outputId": "f43c3136-fe71-4885-fcdf-0fe33aa15c7b"
      },
      "source": [
        "relevant_PS_sales_per_year.plot(style='o-', xlim=(1996, 2003), grid=True)"
      ],
      "execution_count": null,
      "outputs": [
        {
          "output_type": "execute_result",
          "data": {
            "text/plain": [
              "<matplotlib.axes._subplots.AxesSubplot at 0x7f8ce5ec4e90>"
            ]
          },
          "metadata": {
            "tags": []
          },
          "execution_count": 87
        },
        {
          "output_type": "display_data",
          "data": {
            "image/png": "[encoded data removed]",
            "text/plain": [
              "<Figure size 432x288 with 1 Axes>"
            ]
          },
          "metadata": {
            "tags": [],
            "needs_background": "light"
          }
        }
      ]
    },
    {
      "cell_type": "markdown",
      "metadata": {
        "id": "PKkEQW7H5UsU",
        "colab_type": "text"
      },
      "source": [
        "The platforms with leading sales over the chosen period have already reached their peak popularity and sales have been decreasing for a long time. The sales for all of the above are shrinking. I will try to find some with some recent popularity in 2016. Maybe those will be growing in sales."
      ]
    },
    {
      "cell_type": "code",
      "metadata": {
        "id": "o1vSxXsb5UsV",
        "colab_type": "code",
        "colab": {}
      },
      "source": [
        "last_year_data = df[df['year_of_release'] == 2016]"
      ],
      "execution_count": null,
      "outputs": []
    },
    {
      "cell_type": "code",
      "metadata": {
        "id": "JjTdxpj35Uso",
        "colab_type": "code",
        "colab": {}
      },
      "source": [
        "recent_sales_per_platform = last_year_data.pivot_table(index='platform', values='total_sales', aggfunc='sum').sort_values(by='total_sales', ascending=False)"
      ],
      "execution_count": null,
      "outputs": []
    },
    {
      "cell_type": "code",
      "metadata": {
        "id": "zaO6q2EO5Usu",
        "colab_type": "code",
        "colab": {},
        "outputId": "066b5a67-a441-485e-8ab0-e5dc77910f73"
      },
      "source": [
        "print(recent_sales_per_platform)"
      ],
      "execution_count": null,
      "outputs": [
        {
          "output_type": "stream",
          "text": [
            "          total_sales\n",
            "platform             \n",
            "PS4             69.25\n",
            "XOne            26.15\n",
            "3DS             15.14\n",
            "PC               5.25\n",
            "WiiU             4.60\n",
            "PSV              4.25\n",
            "PS3              3.60\n",
            "X360             1.52\n",
            "Wii              0.18\n"
          ],
          "name": "stdout"
        }
      ]
    },
    {
      "cell_type": "markdown",
      "metadata": {
        "id": "01x2GKVs5UtA",
        "colab_type": "text"
      },
      "source": [
        "PS4, XOne, 3DS, PC, WiiU, and PSV are potentially profitable. I need to check if they are increasing or decreasing in sales to decide."
      ]
    },
    {
      "cell_type": "markdown",
      "metadata": {
        "id": "tLNiafEu5UtB",
        "colab_type": "text"
      },
      "source": [
        "PS4"
      ]
    },
    {
      "cell_type": "code",
      "metadata": {
        "id": "LWYLlyFm5UtE",
        "colab_type": "code",
        "colab": {}
      },
      "source": [
        "relevant_PS4 = relevant_df[relevant_df['platform'] == 'PS4']"
      ],
      "execution_count": null,
      "outputs": []
    },
    {
      "cell_type": "code",
      "metadata": {
        "id": "WvO1f1Kg5UtI",
        "colab_type": "code",
        "colab": {}
      },
      "source": [
        "relevant_PS4_sales_per_year = relevant_PS4.pivot_table(index='year_of_release', values='total_sales', aggfunc='sum')"
      ],
      "execution_count": null,
      "outputs": []
    },
    {
      "cell_type": "code",
      "metadata": {
        "id": "dwMpmMiD5UtV",
        "colab_type": "code",
        "colab": {},
        "outputId": "5834f0d8-9b91-41c4-adb8-809b9c7fceb0"
      },
      "source": [
        "print(relevant_PS4_sales_per_year)"
      ],
      "execution_count": null,
      "outputs": [
        {
          "output_type": "stream",
          "text": [
            "                 total_sales\n",
            "year_of_release             \n",
            "2013                   25.99\n",
            "2014                  100.00\n",
            "2015                  118.90\n",
            "2016                   69.25\n"
          ],
          "name": "stdout"
        }
      ]
    },
    {
      "cell_type": "code",
      "metadata": {
        "id": "wRPAdCwn5Utb",
        "colab_type": "code",
        "colab": {},
        "outputId": "457c88b6-a511-4f43-b730-b2bf61321809"
      },
      "source": [
        "relevant_PS4_sales_per_year.plot(style='o-', xlim=(2013, 2016), grid=True)"
      ],
      "execution_count": null,
      "outputs": [
        {
          "output_type": "execute_result",
          "data": {
            "text/plain": [
              "<matplotlib.axes._subplots.AxesSubplot at 0x7f8ce5e5f710>"
            ]
          },
          "metadata": {
            "tags": []
          },
          "execution_count": 94
        },
        {
          "output_type": "display_data",
          "data": {
            "image/png": "[encoded data removed]",
            "text/plain": [
              "<Figure size 432x288 with 1 Axes>"
            ]
          },
          "metadata": {
            "tags": [],
            "needs_background": "light"
          }
        }
      ]
    },
    {
      "cell_type": "markdown",
      "metadata": {
        "id": "X5g_Z8zR5Utg",
        "colab_type": "text"
      },
      "source": [
        "XOne"
      ]
    },
    {
      "cell_type": "code",
      "metadata": {
        "id": "WCHf7PHb5Utg",
        "colab_type": "code",
        "colab": {}
      },
      "source": [
        "relevant_XOne = relevant_df[relevant_df['platform'] == 'XOne']"
      ],
      "execution_count": null,
      "outputs": []
    },
    {
      "cell_type": "code",
      "metadata": {
        "id": "5Yqnt1Yt5Utp",
        "colab_type": "code",
        "colab": {}
      },
      "source": [
        "relevant_XOne_sales_per_year = relevant_XOne.pivot_table(index='year_of_release', values='total_sales', aggfunc='sum')"
      ],
      "execution_count": null,
      "outputs": []
    },
    {
      "cell_type": "code",
      "metadata": {
        "id": "psuhOCJM5Utt",
        "colab_type": "code",
        "colab": {},
        "outputId": "9f7c672a-57b5-44da-a84f-69120a460ae0"
      },
      "source": [
        "print(relevant_XOne_sales_per_year)"
      ],
      "execution_count": null,
      "outputs": [
        {
          "output_type": "stream",
          "text": [
            "                 total_sales\n",
            "year_of_release             \n",
            "2013                   18.96\n",
            "2014                   54.07\n",
            "2015                   60.14\n",
            "2016                   26.15\n"
          ],
          "name": "stdout"
        }
      ]
    },
    {
      "cell_type": "code",
      "metadata": {
        "id": "fi4qumpe5Uty",
        "colab_type": "code",
        "colab": {},
        "outputId": "585d2209-4a6f-4983-a387-b3084ac3bcd8"
      },
      "source": [
        "relevant_XOne_sales_per_year.plot(style='o-', xlim=(2013, 2016), grid=True)"
      ],
      "execution_count": null,
      "outputs": [
        {
          "output_type": "execute_result",
          "data": {
            "text/plain": [
              "<matplotlib.axes._subplots.AxesSubplot at 0x7f8ce5df39d0>"
            ]
          },
          "metadata": {
            "tags": []
          },
          "execution_count": 98
        },
        {
          "output_type": "display_data",
          "data": {
            "image/png": "[encoded data removed]",
            "text/plain": [
              "<Figure size 432x288 with 1 Axes>"
            ]
          },
          "metadata": {
            "tags": [],
            "needs_background": "light"
          }
        }
      ]
    },
    {
      "cell_type": "markdown",
      "metadata": {
        "id": "LIWgjHkV5Ut9",
        "colab_type": "text"
      },
      "source": [
        "3DS"
      ]
    },
    {
      "cell_type": "code",
      "metadata": {
        "id": "Cj5ZXxzu5Ut-",
        "colab_type": "code",
        "colab": {}
      },
      "source": [
        "relevant_3DS = relevant_df[relevant_df['platform'] == '3DS']"
      ],
      "execution_count": null,
      "outputs": []
    },
    {
      "cell_type": "code",
      "metadata": {
        "id": "TfDbNrVC5UuH",
        "colab_type": "code",
        "colab": {}
      },
      "source": [
        "relevant_3DS_sales_per_year = relevant_3DS.pivot_table(index='year_of_release', values='total_sales', aggfunc='sum')"
      ],
      "execution_count": null,
      "outputs": []
    },
    {
      "cell_type": "code",
      "metadata": {
        "id": "FMagbBGi5UuQ",
        "colab_type": "code",
        "colab": {},
        "outputId": "7c9f1847-944b-468d-e5e6-fcc26d55fb1e"
      },
      "source": [
        "print(relevant_3DS_sales_per_year)"
      ],
      "execution_count": null,
      "outputs": [
        {
          "output_type": "stream",
          "text": [
            "                 total_sales\n",
            "year_of_release             \n",
            "2011                   63.20\n",
            "2012                   51.36\n",
            "2013                   56.57\n",
            "2014                   43.76\n",
            "2015                   27.78\n",
            "2016                   15.14\n"
          ],
          "name": "stdout"
        }
      ]
    },
    {
      "cell_type": "code",
      "metadata": {
        "id": "BhjeUxUg5Uue",
        "colab_type": "code",
        "colab": {},
        "outputId": "72169aaf-b415-42fb-b5d4-aafcf257abd7"
      },
      "source": [
        "relevant_3DS_sales_per_year.plot(style='o-', xlim=(2011, 2016), grid=True)"
      ],
      "execution_count": null,
      "outputs": [
        {
          "output_type": "execute_result",
          "data": {
            "text/plain": [
              "<matplotlib.axes._subplots.AxesSubplot at 0x7f8ce5d48890>"
            ]
          },
          "metadata": {
            "tags": []
          },
          "execution_count": 102
        },
        {
          "output_type": "display_data",
          "data": {
            "image/png": "[encoded data removed]",
            "text/plain": [
              "<Figure size 432x288 with 1 Axes>"
            ]
          },
          "metadata": {
            "tags": [],
            "needs_background": "light"
          }
        }
      ]
    },
    {
      "cell_type": "markdown",
      "metadata": {
        "id": "jDGQmVhh5Uuj",
        "colab_type": "text"
      },
      "source": [
        "PC"
      ]
    },
    {
      "cell_type": "code",
      "metadata": {
        "id": "eMkme9sO5Uuk",
        "colab_type": "code",
        "colab": {}
      },
      "source": [
        "relevant_PC = relevant_df[relevant_df['platform'] == 'PC']"
      ],
      "execution_count": null,
      "outputs": []
    },
    {
      "cell_type": "code",
      "metadata": {
        "id": "GhMa1H5Q5Uuy",
        "colab_type": "code",
        "colab": {}
      },
      "source": [
        "relevant_PC_sales_per_year = relevant_PC.pivot_table(index='year_of_release', values='total_sales', aggfunc='sum')"
      ],
      "execution_count": null,
      "outputs": []
    },
    {
      "cell_type": "code",
      "metadata": {
        "id": "sabG8e7J5Uu5",
        "colab_type": "code",
        "colab": {},
        "outputId": "44806618-c2ae-4010-9a5f-f703ee98b34f"
      },
      "source": [
        "print(relevant_PC_sales_per_year)"
      ],
      "execution_count": null,
      "outputs": [
        {
          "output_type": "stream",
          "text": [
            "                 total_sales\n",
            "year_of_release             \n",
            "1996                   10.58\n",
            "1997                   11.27\n",
            "1998                    3.26\n",
            "1999                    4.74\n",
            "2000                    4.66\n",
            "2001                    5.47\n",
            "2002                    8.57\n",
            "2003                    8.84\n",
            "2004                   10.39\n",
            "2005                    4.37\n",
            "2006                    2.85\n",
            "2007                    9.28\n",
            "2008                   12.42\n",
            "2009                   16.91\n",
            "2010                   24.28\n",
            "2011                   35.03\n",
            "2012                   23.22\n",
            "2013                   12.38\n",
            "2014                   13.28\n",
            "2015                    8.52\n",
            "2016                    5.25\n"
          ],
          "name": "stdout"
        }
      ]
    },
    {
      "cell_type": "code",
      "metadata": {
        "id": "MC1egtGP5Uu-",
        "colab_type": "code",
        "colab": {},
        "outputId": "72d91732-df71-4f69-f511-13a2b0a7cabc"
      },
      "source": [
        "relevant_PC_sales_per_year.plot(style='o-', xlim=(1996, 2016), grid=True)"
      ],
      "execution_count": null,
      "outputs": [
        {
          "output_type": "execute_result",
          "data": {
            "text/plain": [
              "<matplotlib.axes._subplots.AxesSubplot at 0x7f8ce5cbfc90>"
            ]
          },
          "metadata": {
            "tags": []
          },
          "execution_count": 106
        },
        {
          "output_type": "display_data",
          "data": {
            "image/png": "[encoded data removed]",
            "text/plain": [
              "<Figure size 432x288 with 1 Axes>"
            ]
          },
          "metadata": {
            "tags": [],
            "needs_background": "light"
          }
        }
      ]
    },
    {
      "cell_type": "markdown",
      "metadata": {
        "id": "emktCdD35UvC",
        "colab_type": "text"
      },
      "source": [
        "WiiU"
      ]
    },
    {
      "cell_type": "code",
      "metadata": {
        "id": "P_lKChSD5UvC",
        "colab_type": "code",
        "colab": {}
      },
      "source": [
        "relevant_WiiU = relevant_df[relevant_df['platform'] == 'WiiU']"
      ],
      "execution_count": null,
      "outputs": []
    },
    {
      "cell_type": "code",
      "metadata": {
        "id": "zcwIFgJv5UvG",
        "colab_type": "code",
        "colab": {}
      },
      "source": [
        "relevant_WiiU_sales_per_year = relevant_WiiU.pivot_table(index='year_of_release', values='total_sales', aggfunc='sum')"
      ],
      "execution_count": null,
      "outputs": []
    },
    {
      "cell_type": "code",
      "metadata": {
        "id": "QkkMsQJl5UvN",
        "colab_type": "code",
        "colab": {},
        "outputId": "7ee52760-024c-4a12-e0da-0eadc8782a21"
      },
      "source": [
        "print(relevant_WiiU_sales_per_year)"
      ],
      "execution_count": null,
      "outputs": [
        {
          "output_type": "stream",
          "text": [
            "                 total_sales\n",
            "year_of_release             \n",
            "2012                   17.56\n",
            "2013                   21.65\n",
            "2014                   22.03\n",
            "2015                   16.35\n",
            "2016                    4.60\n"
          ],
          "name": "stdout"
        }
      ]
    },
    {
      "cell_type": "code",
      "metadata": {
        "id": "9e8Q4HIQ5UvU",
        "colab_type": "code",
        "colab": {},
        "outputId": "01c61852-c4bd-478b-ddca-8e4ca1b6e3bc"
      },
      "source": [
        "relevant_WiiU_sales_per_year.plot(style='o-', xlim=(2012, 2016), grid=True)"
      ],
      "execution_count": null,
      "outputs": [
        {
          "output_type": "execute_result",
          "data": {
            "text/plain": [
              "<matplotlib.axes._subplots.AxesSubplot at 0x7f8ce5c41150>"
            ]
          },
          "metadata": {
            "tags": []
          },
          "execution_count": 110
        },
        {
          "output_type": "display_data",
          "data": {
            "image/png": "[encoded data removed]",
            "text/plain": [
              "<Figure size 432x288 with 1 Axes>"
            ]
          },
          "metadata": {
            "tags": [],
            "needs_background": "light"
          }
        }
      ]
    },
    {
      "cell_type": "markdown",
      "metadata": {
        "id": "dlXrSy0E5Uvb",
        "colab_type": "text"
      },
      "source": [
        "PSV"
      ]
    },
    {
      "cell_type": "code",
      "metadata": {
        "id": "AkofvdC35Uvc",
        "colab_type": "code",
        "colab": {}
      },
      "source": [
        "relevant_PSV = relevant_df[relevant_df['platform'] == 'PSV']"
      ],
      "execution_count": null,
      "outputs": []
    },
    {
      "cell_type": "code",
      "metadata": {
        "id": "8DOkvckz5Uvh",
        "colab_type": "code",
        "colab": {}
      },
      "source": [
        "relevant_PSV_sales_per_year = relevant_PSV.pivot_table(index='year_of_release', values='total_sales', aggfunc='sum')"
      ],
      "execution_count": null,
      "outputs": []
    },
    {
      "cell_type": "code",
      "metadata": {
        "scrolled": false,
        "id": "bX2hfXAy5Uvt",
        "colab_type": "code",
        "colab": {},
        "outputId": "1a139ec9-666d-4c22-aeed-4ad00e6268a0"
      },
      "source": [
        "print(relevant_PSV_sales_per_year)"
      ],
      "execution_count": null,
      "outputs": [
        {
          "output_type": "stream",
          "text": [
            "                 total_sales\n",
            "year_of_release             \n",
            "2011                    4.63\n",
            "2012                   16.19\n",
            "2013                   10.59\n",
            "2014                   11.90\n",
            "2015                    6.25\n",
            "2016                    4.25\n"
          ],
          "name": "stdout"
        }
      ]
    },
    {
      "cell_type": "code",
      "metadata": {
        "id": "81Xrh4XR5Uv8",
        "colab_type": "code",
        "colab": {},
        "outputId": "85fcc0a3-bb56-4630-a732-2c415244d57b"
      },
      "source": [
        "relevant_PSV_sales_per_year.plot(style='o-', xlim=(2011, 2016), grid=True)"
      ],
      "execution_count": null,
      "outputs": [
        {
          "output_type": "execute_result",
          "data": {
            "text/plain": [
              "<matplotlib.axes._subplots.AxesSubplot at 0x7f8ce5bf4190>"
            ]
          },
          "metadata": {
            "tags": []
          },
          "execution_count": 114
        },
        {
          "output_type": "display_data",
          "data": {
            "image/png": "[encoded data removed]",
            "text/plain": [
              "<Figure size 432x288 with 1 Axes>"
            ]
          },
          "metadata": {
            "tags": [],
            "needs_background": "light"
          }
        }
      ]
    },
    {
      "cell_type": "markdown",
      "metadata": {
        "id": "SOW9Vwfn5UwB",
        "colab_type": "text"
      },
      "source": [
        "#### Select several potentially profitable platforms.\n"
      ]
    },
    {
      "cell_type": "markdown",
      "metadata": {
        "id": "VZyusj7h5UwE",
        "colab_type": "text"
      },
      "source": [
        "Most platforms seem to be decreasing. However, PS4 and XOne are not decreasing until the 2016 data point. The PS4 decrease is not very large compared to the peak (it dropped from 120 to 70). As seen in the past graphs of the high total_sales platforms, some successful platforms also had a drop one year and then an increase the next year. Thus, PS4 is potentially profitable. Although XOne has a similar drop in 2016, the drop is a lot bigger compared to the peak (from 60 to 25), so I believe it will not be as profitable as the PS4 but it still can be potentially profitable. In addition, both have been only used for 3 years, and have not reached the 10 years in which sales disappear.\n",
        "\n",
        "In sum, I believe PS4 and XOne can be potentially profitable platforms."
      ]
    },
    {
      "cell_type": "markdown",
      "metadata": {
        "id": "KXJYf5Yt5UwE",
        "colab_type": "text"
      },
      "source": [
        "#### Build a box plot for the global sales of all games, broken down by platform."
      ]
    },
    {
      "cell_type": "code",
      "metadata": {
        "id": "Tp6DIVkb5UwF",
        "colab_type": "code",
        "colab": {}
      },
      "source": [
        "import matplotlib.pyplot as plt"
      ],
      "execution_count": null,
      "outputs": []
    },
    {
      "cell_type": "code",
      "metadata": {
        "id": "RHfKBEEF5UwJ",
        "colab_type": "code",
        "colab": {}
      },
      "source": [
        "relevant_sales_per_platform = relevant_df.pivot_table(index='platform', values='total_sales', aggfunc='sum')"
      ],
      "execution_count": null,
      "outputs": []
    },
    {
      "cell_type": "code",
      "metadata": {
        "id": "2wNX3euh5Uwg",
        "colab_type": "code",
        "colab": {}
      },
      "source": [
        "relevant_sales_per_platform.columns = ['total_sales_for_platform']"
      ],
      "execution_count": null,
      "outputs": []
    },
    {
      "cell_type": "code",
      "metadata": {
        "id": "LVJSkUy95Uwm",
        "colab_type": "code",
        "colab": {},
        "outputId": "5cb4a798-00b1-4ed7-adc0-86b56d1c7fd3"
      },
      "source": [
        "relevant_sales_per_platform.boxplot(column='total_sales_for_platform')"
      ],
      "execution_count": null,
      "outputs": [
        {
          "output_type": "execute_result",
          "data": {
            "text/plain": [
              "<matplotlib.axes._subplots.AxesSubplot at 0x7f8ce5b565d0>"
            ]
          },
          "metadata": {
            "tags": []
          },
          "execution_count": 118
        },
        {
          "output_type": "display_data",
          "data": {
            "image/png": "[encoded data removed]",
            "text/plain": [
              "<Figure size 432x288 with 1 Axes>"
            ]
          },
          "metadata": {
            "tags": [],
            "needs_background": "light"
          }
        }
      ]
    },
    {
      "cell_type": "code",
      "metadata": {
        "scrolled": false,
        "id": "HdbEkz165Uws",
        "colab_type": "code",
        "colab": {},
        "outputId": "da31672a-4364-4c13-f1ae-486c9fccd981"
      },
      "source": [
        "relevant_df.boxplot(by='platform', column='total_sales', figsize=(15,9), showfliers=False)"
      ],
      "execution_count": null,
      "outputs": [
        {
          "output_type": "execute_result",
          "data": {
            "text/plain": [
              "<matplotlib.axes._subplots.AxesSubplot at 0x7f8cdf0ff250>"
            ]
          },
          "metadata": {
            "tags": []
          },
          "execution_count": 217
        },
        {
          "output_type": "display_data",
          "data": {
            "image/png": "[encoded data removed]",
            "text/plain": [
              "<Figure size 1080x648 with 1 Axes>"
            ]
          },
          "metadata": {
            "tags": [],
            "needs_background": "light"
          }
        }
      ]
    },
    {
      "cell_type": "markdown",
      "metadata": {
        "id": "Ha5Xq29v5Uw6",
        "colab_type": "text"
      },
      "source": [
        "#### Are the differences in sales significant? "
      ]
    },
    {
      "cell_type": "markdown",
      "metadata": {
        "id": "qgqrcrB45Uw7",
        "colab_type": "text"
      },
      "source": [
        "The differences in sales are a bit large. There are quite a lot of outliers that have a large difference in sales compared to the others, which is significant. "
      ]
    },
    {
      "cell_type": "markdown",
      "metadata": {
        "id": "D0wtz_X45Uw-",
        "colab_type": "text"
      },
      "source": [
        "#### What about average sales on various platforms? Describe your findings.\n"
      ]
    },
    {
      "cell_type": "code",
      "metadata": {
        "id": "aBNHoTvm5Uw_",
        "colab_type": "code",
        "colab": {}
      },
      "source": [
        "relevant_sales_per_platform_avg = relevant_df.pivot_table(index='platform', values='total_sales', aggfunc='mean')"
      ],
      "execution_count": null,
      "outputs": []
    },
    {
      "cell_type": "code",
      "metadata": {
        "id": "Yo27EeU05UxM",
        "colab_type": "code",
        "colab": {}
      },
      "source": [
        "relevant_sales_per_platform_avg.columns = ['total_sales_for_platform_avg']"
      ],
      "execution_count": null,
      "outputs": []
    },
    {
      "cell_type": "code",
      "metadata": {
        "id": "Y-uIR6cR5Uxo",
        "colab_type": "code",
        "colab": {},
        "outputId": "e826ffe7-93e5-468c-8ccb-8e36215ac1b7"
      },
      "source": [
        "relevant_sales_per_platform_avg.boxplot(column='total_sales_for_platform_avg')"
      ],
      "execution_count": null,
      "outputs": [
        {
          "output_type": "execute_result",
          "data": {
            "text/plain": [
              "<matplotlib.axes._subplots.AxesSubplot at 0x7f8ce586d950>"
            ]
          },
          "metadata": {
            "tags": []
          },
          "execution_count": 122
        },
        {
          "output_type": "display_data",
          "data": {
            "image/png": "[encoded data removed]",
            "text/plain": [
              "<Figure size 432x288 with 1 Axes>"
            ]
          },
          "metadata": {
            "tags": [],
            "needs_background": "light"
          }
        }
      ]
    },
    {
      "cell_type": "markdown",
      "metadata": {
        "id": "zOiM9sTS5Uxw",
        "colab_type": "text"
      },
      "source": [
        "The average sales on various platforms have less significant differences. All of the data is closer to the mean and is grouped on one area of the boxplot. There is one outlier that is significantly larger. "
      ]
    },
    {
      "cell_type": "markdown",
      "metadata": {
        "id": "DVNGP5fx5Uxx",
        "colab_type": "text"
      },
      "source": [
        "#### Take a look at how user and professional reviews affect sales for one popular platform (you choose). "
      ]
    },
    {
      "cell_type": "markdown",
      "metadata": {
        "id": "1N-ZkPSF5Uxx",
        "colab_type": "text"
      },
      "source": [
        "PS2 was the most popular platform and I will analyze how user and professional reviews affect sales for this popular platform."
      ]
    },
    {
      "cell_type": "markdown",
      "metadata": {
        "id": "3PrkDexr5Uxy",
        "colab_type": "text"
      },
      "source": [
        "#### Build a scatter plot and calculate the correlation between reviews and sales. Draw conclusions.\n"
      ]
    },
    {
      "cell_type": "code",
      "metadata": {
        "id": "ABUGhmjT5Uxz",
        "colab_type": "code",
        "colab": {}
      },
      "source": [
        "relevant_PS2 = relevant_df[relevant_df['platform'] == 'PS2']"
      ],
      "execution_count": null,
      "outputs": []
    },
    {
      "cell_type": "code",
      "metadata": {
        "id": "PF36o0sR5Ux3",
        "colab_type": "code",
        "colab": {}
      },
      "source": [
        "relevant_PS2 = relevant_PS2[relevant_PS2['user_score']>=0]"
      ],
      "execution_count": null,
      "outputs": []
    },
    {
      "cell_type": "code",
      "metadata": {
        "id": "fjm6F3pH5Ux7",
        "colab_type": "code",
        "colab": {}
      },
      "source": [
        "relevant_PS2 = relevant_PS2[relevant_PS2['critic_score']>=0]"
      ],
      "execution_count": null,
      "outputs": []
    },
    {
      "cell_type": "code",
      "metadata": {
        "id": "_3DLFaBh5UyA",
        "colab_type": "code",
        "colab": {},
        "outputId": "ed67e701-751f-4001-b076-4c20c96c8c54"
      },
      "source": [
        "relevant_PS2.plot(x='user_score', y='total_sales', kind='scatter')"
      ],
      "execution_count": null,
      "outputs": [
        {
          "output_type": "execute_result",
          "data": {
            "text/plain": [
              "<matplotlib.axes._subplots.AxesSubplot at 0x7f8ce57d0c10>"
            ]
          },
          "metadata": {
            "tags": []
          },
          "execution_count": 126
        },
        {
          "output_type": "display_data",
          "data": {
            "image/png": "[encoded data removed]",
            "text/plain": [
              "<Figure size 432x288 with 1 Axes>"
            ]
          },
          "metadata": {
            "tags": [],
            "needs_background": "light"
          }
        }
      ]
    },
    {
      "cell_type": "code",
      "metadata": {
        "id": "e15xc5Iv5UyH",
        "colab_type": "code",
        "colab": {},
        "outputId": "f1e0bb5f-55c2-4b34-fe38-8ed1f24b0c2c"
      },
      "source": [
        "relevant_PS2.plot(x='critic_score', y='total_sales', kind='scatter')"
      ],
      "execution_count": null,
      "outputs": [
        {
          "output_type": "execute_result",
          "data": {
            "text/plain": [
              "<matplotlib.axes._subplots.AxesSubplot at 0x7f8ce578fc90>"
            ]
          },
          "metadata": {
            "tags": []
          },
          "execution_count": 127
        },
        {
          "output_type": "display_data",
          "data": {
            "image/png": "[encoded data removed]",
            "text/plain": [
              "<Figure size 432x288 with 1 Axes>"
            ]
          },
          "metadata": {
            "tags": [],
            "needs_background": "light"
          }
        }
      ]
    },
    {
      "cell_type": "markdown",
      "metadata": {
        "id": "_vZuz4am5UyM",
        "colab_type": "text"
      },
      "source": [
        "<div style=\"border:solid #ebd731; 4px; padding: 20px\">Same here and below.</div>"
      ]
    },
    {
      "cell_type": "code",
      "metadata": {
        "id": "qQp4HFi95UyN",
        "colab_type": "code",
        "colab": {},
        "outputId": "a85c2df9-0239-42a7-a2e0-7efc4a971a60"
      },
      "source": [
        "relevant_PS2.corr()"
      ],
      "execution_count": null,
      "outputs": [
        {
          "output_type": "execute_result",
          "data": {
            "text/html": [
              "<div>\n",
              "<style scoped>\n",
              "    .dataframe tbody tr th:only-of-type {\n",
              "        vertical-align: middle;\n",
              "    }\n",
              "\n",
              "    .dataframe tbody tr th {\n",
              "        vertical-align: top;\n",
              "    }\n",
              "\n",
              "    .dataframe thead th {\n",
              "        text-align: right;\n",
              "    }\n",
              "</style>\n",
              "<table border=\"1\" class=\"dataframe\">\n",
              "  <thead>\n",
              "    <tr style=\"text-align: right;\">\n",
              "      <th></th>\n",
              "      <th>year_of_release</th>\n",
              "      <th>na_sales</th>\n",
              "      <th>eu_sales</th>\n",
              "      <th>jp_sales</th>\n",
              "      <th>other_sales</th>\n",
              "      <th>critic_score</th>\n",
              "      <th>user_score</th>\n",
              "      <th>total_sales</th>\n",
              "    </tr>\n",
              "  </thead>\n",
              "  <tbody>\n",
              "    <tr>\n",
              "      <td>year_of_release</td>\n",
              "      <td>1.000000</td>\n",
              "      <td>-0.066385</td>\n",
              "      <td>-0.177203</td>\n",
              "      <td>-0.064916</td>\n",
              "      <td>0.059087</td>\n",
              "      <td>-0.110356</td>\n",
              "      <td>-0.053078</td>\n",
              "      <td>-0.080508</td>\n",
              "    </tr>\n",
              "    <tr>\n",
              "      <td>na_sales</td>\n",
              "      <td>-0.066385</td>\n",
              "      <td>1.000000</td>\n",
              "      <td>0.655312</td>\n",
              "      <td>0.261896</td>\n",
              "      <td>0.575840</td>\n",
              "      <td>0.390233</td>\n",
              "      <td>0.169334</td>\n",
              "      <td>0.927369</td>\n",
              "    </tr>\n",
              "    <tr>\n",
              "      <td>eu_sales</td>\n",
              "      <td>-0.177203</td>\n",
              "      <td>0.655312</td>\n",
              "      <td>1.000000</td>\n",
              "      <td>0.283266</td>\n",
              "      <td>0.265005</td>\n",
              "      <td>0.291779</td>\n",
              "      <td>0.124795</td>\n",
              "      <td>0.766618</td>\n",
              "    </tr>\n",
              "    <tr>\n",
              "      <td>jp_sales</td>\n",
              "      <td>-0.064916</td>\n",
              "      <td>0.261896</td>\n",
              "      <td>0.283266</td>\n",
              "      <td>1.000000</td>\n",
              "      <td>0.213619</td>\n",
              "      <td>0.214256</td>\n",
              "      <td>0.147916</td>\n",
              "      <td>0.452669</td>\n",
              "    </tr>\n",
              "    <tr>\n",
              "      <td>other_sales</td>\n",
              "      <td>0.059087</td>\n",
              "      <td>0.575840</td>\n",
              "      <td>0.265005</td>\n",
              "      <td>0.213619</td>\n",
              "      <td>1.000000</td>\n",
              "      <td>0.207457</td>\n",
              "      <td>0.074942</td>\n",
              "      <td>0.716110</td>\n",
              "    </tr>\n",
              "    <tr>\n",
              "      <td>critic_score</td>\n",
              "      <td>-0.110356</td>\n",
              "      <td>0.390233</td>\n",
              "      <td>0.291779</td>\n",
              "      <td>0.214256</td>\n",
              "      <td>0.207457</td>\n",
              "      <td>1.000000</td>\n",
              "      <td>0.565841</td>\n",
              "      <td>0.386415</td>\n",
              "    </tr>\n",
              "    <tr>\n",
              "      <td>user_score</td>\n",
              "      <td>-0.053078</td>\n",
              "      <td>0.169334</td>\n",
              "      <td>0.124795</td>\n",
              "      <td>0.147916</td>\n",
              "      <td>0.074942</td>\n",
              "      <td>0.565841</td>\n",
              "      <td>1.000000</td>\n",
              "      <td>0.171690</td>\n",
              "    </tr>\n",
              "    <tr>\n",
              "      <td>total_sales</td>\n",
              "      <td>-0.080508</td>\n",
              "      <td>0.927369</td>\n",
              "      <td>0.766618</td>\n",
              "      <td>0.452669</td>\n",
              "      <td>0.716110</td>\n",
              "      <td>0.386415</td>\n",
              "      <td>0.171690</td>\n",
              "      <td>1.000000</td>\n",
              "    </tr>\n",
              "  </tbody>\n",
              "</table>\n",
              "</div>"
            ],
            "text/plain": [
              "                 year_of_release  na_sales  eu_sales  jp_sales  other_sales  \\\n",
              "year_of_release         1.000000 -0.066385 -0.177203 -0.064916     0.059087   \n",
              "na_sales               -0.066385  1.000000  0.655312  0.261896     0.575840   \n",
              "eu_sales               -0.177203  0.655312  1.000000  0.283266     0.265005   \n",
              "jp_sales               -0.064916  0.261896  0.283266  1.000000     0.213619   \n",
              "other_sales             0.059087  0.575840  0.265005  0.213619     1.000000   \n",
              "critic_score           -0.110356  0.390233  0.291779  0.214256     0.207457   \n",
              "user_score             -0.053078  0.169334  0.124795  0.147916     0.074942   \n",
              "total_sales            -0.080508  0.927369  0.766618  0.452669     0.716110   \n",
              "\n",
              "                 critic_score  user_score  total_sales  \n",
              "year_of_release     -0.110356   -0.053078    -0.080508  \n",
              "na_sales             0.390233    0.169334     0.927369  \n",
              "eu_sales             0.291779    0.124795     0.766618  \n",
              "jp_sales             0.214256    0.147916     0.452669  \n",
              "other_sales          0.207457    0.074942     0.716110  \n",
              "critic_score         1.000000    0.565841     0.386415  \n",
              "user_score           0.565841    1.000000     0.171690  \n",
              "total_sales          0.386415    0.171690     1.000000  "
            ]
          },
          "metadata": {
            "tags": []
          },
          "execution_count": 128
        }
      ]
    },
    {
      "cell_type": "markdown",
      "metadata": {
        "id": "JbwT3dT_5UyV",
        "colab_type": "text"
      },
      "source": [
        "In both scatterplots, it seems that total sales increase as the scores increase, for both critic and user reviews. However, the correlation shows that there is a higher correlation for critic scores (0.386) than user scores (0.172). This means that PS2 players value critic reviews slightly more than user reviews and see them as more trustworthy."
      ]
    },
    {
      "cell_type": "markdown",
      "metadata": {
        "id": "HPj-P7Xa5UyW",
        "colab_type": "text"
      },
      "source": [
        "#### Keeping your conclusions in mind, compare the sales of games on other platforms."
      ]
    },
    {
      "cell_type": "markdown",
      "metadata": {
        "id": "X-UE9X3W5UyX",
        "colab_type": "text"
      },
      "source": [
        "X360"
      ]
    },
    {
      "cell_type": "code",
      "metadata": {
        "id": "enIsONTV5UyY",
        "colab_type": "code",
        "colab": {}
      },
      "source": [
        "relevant_X360 = relevant_df[relevant_df['platform'] == 'X360']"
      ],
      "execution_count": null,
      "outputs": []
    },
    {
      "cell_type": "code",
      "metadata": {
        "id": "2Aq-StFm5Uyn",
        "colab_type": "code",
        "colab": {}
      },
      "source": [
        "relevant_X360 = relevant_X360[relevant_X360['user_score']>=0]"
      ],
      "execution_count": null,
      "outputs": []
    },
    {
      "cell_type": "code",
      "metadata": {
        "id": "OM1Y_E2U5Uyr",
        "colab_type": "code",
        "colab": {}
      },
      "source": [
        "relevant_X360 = relevant_X360[relevant_X360['critic_score']>=0]"
      ],
      "execution_count": null,
      "outputs": []
    },
    {
      "cell_type": "code",
      "metadata": {
        "id": "_uZR5sBp5Uyz",
        "colab_type": "code",
        "colab": {},
        "outputId": "e4c0c70f-a2aa-4923-819f-1d5f8183901e"
      },
      "source": [
        "relevant_X360.plot(x='user_score', y='total_sales', kind='scatter')"
      ],
      "execution_count": null,
      "outputs": [
        {
          "output_type": "execute_result",
          "data": {
            "text/plain": [
              "<matplotlib.axes._subplots.AxesSubplot at 0x7f8ce1ec9450>"
            ]
          },
          "metadata": {
            "tags": []
          },
          "execution_count": 132
        },
        {
          "output_type": "display_data",
          "data": {
            "image/png": "[encoded data removed]",
            "text/plain": [
              "<Figure size 432x288 with 1 Axes>"
            ]
          },
          "metadata": {
            "tags": [],
            "needs_background": "light"
          }
        }
      ]
    },
    {
      "cell_type": "code",
      "metadata": {
        "id": "UXVEaEQI5Uy3",
        "colab_type": "code",
        "colab": {},
        "outputId": "963e5a96-10c2-4b88-aa7c-84e7bf1e9950"
      },
      "source": [
        "relevant_X360[relevant_X360['critic_score']>0].plot(x='critic_score', y='total_sales', kind='scatter')"
      ],
      "execution_count": null,
      "outputs": [
        {
          "output_type": "execute_result",
          "data": {
            "text/plain": [
              "<matplotlib.axes._subplots.AxesSubplot at 0x7f8ce1eb1cd0>"
            ]
          },
          "metadata": {
            "tags": []
          },
          "execution_count": 133
        },
        {
          "output_type": "display_data",
          "data": {
            "image/png": "[encoded data removed]",
            "text/plain": [
              "<Figure size 432x288 with 1 Axes>"
            ]
          },
          "metadata": {
            "tags": [],
            "needs_background": "light"
          }
        }
      ]
    },
    {
      "cell_type": "code",
      "metadata": {
        "id": "G6c-a0tz5Uy8",
        "colab_type": "code",
        "colab": {},
        "outputId": "ffc92573-8904-41c9-f53a-bbde4ff11c99"
      },
      "source": [
        "relevant_X360.corr()"
      ],
      "execution_count": null,
      "outputs": [
        {
          "output_type": "execute_result",
          "data": {
            "text/html": [
              "<div>\n",
              "<style scoped>\n",
              "    .dataframe tbody tr th:only-of-type {\n",
              "        vertical-align: middle;\n",
              "    }\n",
              "\n",
              "    .dataframe tbody tr th {\n",
              "        vertical-align: top;\n",
              "    }\n",
              "\n",
              "    .dataframe thead th {\n",
              "        text-align: right;\n",
              "    }\n",
              "</style>\n",
              "<table border=\"1\" class=\"dataframe\">\n",
              "  <thead>\n",
              "    <tr style=\"text-align: right;\">\n",
              "      <th></th>\n",
              "      <th>year_of_release</th>\n",
              "      <th>na_sales</th>\n",
              "      <th>eu_sales</th>\n",
              "      <th>jp_sales</th>\n",
              "      <th>other_sales</th>\n",
              "      <th>critic_score</th>\n",
              "      <th>user_score</th>\n",
              "      <th>total_sales</th>\n",
              "    </tr>\n",
              "  </thead>\n",
              "  <tbody>\n",
              "    <tr>\n",
              "      <td>year_of_release</td>\n",
              "      <td>1.000000</td>\n",
              "      <td>0.036286</td>\n",
              "      <td>0.109241</td>\n",
              "      <td>-0.082736</td>\n",
              "      <td>0.047521</td>\n",
              "      <td>-0.010906</td>\n",
              "      <td>-0.162320</td>\n",
              "      <td>0.057813</td>\n",
              "    </tr>\n",
              "    <tr>\n",
              "      <td>na_sales</td>\n",
              "      <td>0.036286</td>\n",
              "      <td>1.000000</td>\n",
              "      <td>0.867076</td>\n",
              "      <td>0.516617</td>\n",
              "      <td>0.966921</td>\n",
              "      <td>0.373209</td>\n",
              "      <td>0.102680</td>\n",
              "      <td>0.986051</td>\n",
              "    </tr>\n",
              "    <tr>\n",
              "      <td>eu_sales</td>\n",
              "      <td>0.109241</td>\n",
              "      <td>0.867076</td>\n",
              "      <td>1.000000</td>\n",
              "      <td>0.496487</td>\n",
              "      <td>0.953073</td>\n",
              "      <td>0.380524</td>\n",
              "      <td>0.107795</td>\n",
              "      <td>0.937464</td>\n",
              "    </tr>\n",
              "    <tr>\n",
              "      <td>jp_sales</td>\n",
              "      <td>-0.082736</td>\n",
              "      <td>0.516617</td>\n",
              "      <td>0.496487</td>\n",
              "      <td>1.000000</td>\n",
              "      <td>0.535311</td>\n",
              "      <td>0.279094</td>\n",
              "      <td>0.172285</td>\n",
              "      <td>0.537560</td>\n",
              "    </tr>\n",
              "    <tr>\n",
              "      <td>other_sales</td>\n",
              "      <td>0.047521</td>\n",
              "      <td>0.966921</td>\n",
              "      <td>0.953073</td>\n",
              "      <td>0.535311</td>\n",
              "      <td>1.000000</td>\n",
              "      <td>0.397901</td>\n",
              "      <td>0.120049</td>\n",
              "      <td>0.992809</td>\n",
              "    </tr>\n",
              "    <tr>\n",
              "      <td>critic_score</td>\n",
              "      <td>-0.010906</td>\n",
              "      <td>0.373209</td>\n",
              "      <td>0.380524</td>\n",
              "      <td>0.279094</td>\n",
              "      <td>0.397901</td>\n",
              "      <td>1.000000</td>\n",
              "      <td>0.625020</td>\n",
              "      <td>0.388992</td>\n",
              "    </tr>\n",
              "    <tr>\n",
              "      <td>user_score</td>\n",
              "      <td>-0.162320</td>\n",
              "      <td>0.102680</td>\n",
              "      <td>0.107795</td>\n",
              "      <td>0.172285</td>\n",
              "      <td>0.120049</td>\n",
              "      <td>0.625020</td>\n",
              "      <td>1.000000</td>\n",
              "      <td>0.110280</td>\n",
              "    </tr>\n",
              "    <tr>\n",
              "      <td>total_sales</td>\n",
              "      <td>0.057813</td>\n",
              "      <td>0.986051</td>\n",
              "      <td>0.937464</td>\n",
              "      <td>0.537560</td>\n",
              "      <td>0.992809</td>\n",
              "      <td>0.388992</td>\n",
              "      <td>0.110280</td>\n",
              "      <td>1.000000</td>\n",
              "    </tr>\n",
              "  </tbody>\n",
              "</table>\n",
              "</div>"
            ],
            "text/plain": [
              "                 year_of_release  na_sales  eu_sales  jp_sales  other_sales  \\\n",
              "year_of_release         1.000000  0.036286  0.109241 -0.082736     0.047521   \n",
              "na_sales                0.036286  1.000000  0.867076  0.516617     0.966921   \n",
              "eu_sales                0.109241  0.867076  1.000000  0.496487     0.953073   \n",
              "jp_sales               -0.082736  0.516617  0.496487  1.000000     0.535311   \n",
              "other_sales             0.047521  0.966921  0.953073  0.535311     1.000000   \n",
              "critic_score           -0.010906  0.373209  0.380524  0.279094     0.397901   \n",
              "user_score             -0.162320  0.102680  0.107795  0.172285     0.120049   \n",
              "total_sales             0.057813  0.986051  0.937464  0.537560     0.992809   \n",
              "\n",
              "                 critic_score  user_score  total_sales  \n",
              "year_of_release     -0.010906   -0.162320     0.057813  \n",
              "na_sales             0.373209    0.102680     0.986051  \n",
              "eu_sales             0.380524    0.107795     0.937464  \n",
              "jp_sales             0.279094    0.172285     0.537560  \n",
              "other_sales          0.397901    0.120049     0.992809  \n",
              "critic_score         1.000000    0.625020     0.388992  \n",
              "user_score           0.625020    1.000000     0.110280  \n",
              "total_sales          0.388992    0.110280     1.000000  "
            ]
          },
          "metadata": {
            "tags": []
          },
          "execution_count": 134
        }
      ]
    },
    {
      "cell_type": "markdown",
      "metadata": {
        "id": "PPARxX_q5UzA",
        "colab_type": "text"
      },
      "source": [
        "PS3"
      ]
    },
    {
      "cell_type": "code",
      "metadata": {
        "id": "3eftt7zd5UzG",
        "colab_type": "code",
        "colab": {}
      },
      "source": [
        "relevant_PS3 = relevant_df[relevant_df['platform'] == 'PS3']"
      ],
      "execution_count": null,
      "outputs": []
    },
    {
      "cell_type": "code",
      "metadata": {
        "id": "HQhVQrmN5UzX",
        "colab_type": "code",
        "colab": {}
      },
      "source": [
        "relevant_PS3 = relevant_PS3[relevant_PS3['user_score']>=0]"
      ],
      "execution_count": null,
      "outputs": []
    },
    {
      "cell_type": "code",
      "metadata": {
        "id": "2cyGQPyz5Uze",
        "colab_type": "code",
        "colab": {}
      },
      "source": [
        "relevant_PS3 = relevant_PS3[relevant_PS3['critic_score']>=0]"
      ],
      "execution_count": null,
      "outputs": []
    },
    {
      "cell_type": "code",
      "metadata": {
        "id": "Vzkn22Dw5Uzo",
        "colab_type": "code",
        "colab": {},
        "outputId": "d9a15c2e-fb47-47b5-97b0-677dc69aa613"
      },
      "source": [
        "relevant_PS3[relevant_PS3['user_score']>0].plot(x='user_score', y='total_sales', kind='scatter')"
      ],
      "execution_count": null,
      "outputs": [
        {
          "output_type": "execute_result",
          "data": {
            "text/plain": [
              "<matplotlib.axes._subplots.AxesSubplot at 0x7f8ce1e10810>"
            ]
          },
          "metadata": {
            "tags": []
          },
          "execution_count": 138
        },
        {
          "output_type": "display_data",
          "data": {
            "image/png": "[encoded data removed]",
            "text/plain": [
              "<Figure size 432x288 with 1 Axes>"
            ]
          },
          "metadata": {
            "tags": [],
            "needs_background": "light"
          }
        }
      ]
    },
    {
      "cell_type": "code",
      "metadata": {
        "id": "0eA1esNf5Uzu",
        "colab_type": "code",
        "colab": {},
        "outputId": "ea6ed5e2-668d-46ef-a8f8-da014ec0c3fb"
      },
      "source": [
        "relevant_PS3[relevant_PS3['critic_score']>0].plot(x='critic_score', y='total_sales', kind='scatter')"
      ],
      "execution_count": null,
      "outputs": [
        {
          "output_type": "execute_result",
          "data": {
            "text/plain": [
              "<matplotlib.axes._subplots.AxesSubplot at 0x7f8ce1d99550>"
            ]
          },
          "metadata": {
            "tags": []
          },
          "execution_count": 139
        },
        {
          "output_type": "display_data",
          "data": {
            "image/png": "[encoded data removed]",
            "text/plain": [
              "<Figure size 432x288 with 1 Axes>"
            ]
          },
          "metadata": {
            "tags": [],
            "needs_background": "light"
          }
        }
      ]
    },
    {
      "cell_type": "code",
      "metadata": {
        "scrolled": true,
        "id": "42iZUsCq5Uzy",
        "colab_type": "code",
        "colab": {},
        "outputId": "f7bc0aba-62b5-4bcb-be8c-271ce6506683"
      },
      "source": [
        "relevant_PS3.corr()"
      ],
      "execution_count": null,
      "outputs": [
        {
          "output_type": "execute_result",
          "data": {
            "text/html": [
              "<div>\n",
              "<style scoped>\n",
              "    .dataframe tbody tr th:only-of-type {\n",
              "        vertical-align: middle;\n",
              "    }\n",
              "\n",
              "    .dataframe tbody tr th {\n",
              "        vertical-align: top;\n",
              "    }\n",
              "\n",
              "    .dataframe thead th {\n",
              "        text-align: right;\n",
              "    }\n",
              "</style>\n",
              "<table border=\"1\" class=\"dataframe\">\n",
              "  <thead>\n",
              "    <tr style=\"text-align: right;\">\n",
              "      <th></th>\n",
              "      <th>year_of_release</th>\n",
              "      <th>na_sales</th>\n",
              "      <th>eu_sales</th>\n",
              "      <th>jp_sales</th>\n",
              "      <th>other_sales</th>\n",
              "      <th>critic_score</th>\n",
              "      <th>user_score</th>\n",
              "      <th>total_sales</th>\n",
              "    </tr>\n",
              "  </thead>\n",
              "  <tbody>\n",
              "    <tr>\n",
              "      <td>year_of_release</td>\n",
              "      <td>1.000000</td>\n",
              "      <td>-0.057800</td>\n",
              "      <td>0.016808</td>\n",
              "      <td>0.102977</td>\n",
              "      <td>-0.001280</td>\n",
              "      <td>0.003276</td>\n",
              "      <td>-0.047437</td>\n",
              "      <td>-0.007750</td>\n",
              "    </tr>\n",
              "    <tr>\n",
              "      <td>na_sales</td>\n",
              "      <td>-0.057800</td>\n",
              "      <td>1.000000</td>\n",
              "      <td>0.825403</td>\n",
              "      <td>0.375620</td>\n",
              "      <td>0.871465</td>\n",
              "      <td>0.450629</td>\n",
              "      <td>0.150631</td>\n",
              "      <td>0.940013</td>\n",
              "    </tr>\n",
              "    <tr>\n",
              "      <td>eu_sales</td>\n",
              "      <td>0.016808</td>\n",
              "      <td>0.825403</td>\n",
              "      <td>1.000000</td>\n",
              "      <td>0.417368</td>\n",
              "      <td>0.978001</td>\n",
              "      <td>0.378263</td>\n",
              "      <td>0.107035</td>\n",
              "      <td>0.961846</td>\n",
              "    </tr>\n",
              "    <tr>\n",
              "      <td>jp_sales</td>\n",
              "      <td>0.102977</td>\n",
              "      <td>0.375620</td>\n",
              "      <td>0.417368</td>\n",
              "      <td>1.000000</td>\n",
              "      <td>0.416060</td>\n",
              "      <td>0.194475</td>\n",
              "      <td>0.166781</td>\n",
              "      <td>0.491768</td>\n",
              "    </tr>\n",
              "    <tr>\n",
              "      <td>other_sales</td>\n",
              "      <td>-0.001280</td>\n",
              "      <td>0.871465</td>\n",
              "      <td>0.978001</td>\n",
              "      <td>0.416060</td>\n",
              "      <td>1.000000</td>\n",
              "      <td>0.390654</td>\n",
              "      <td>0.127973</td>\n",
              "      <td>0.975359</td>\n",
              "    </tr>\n",
              "    <tr>\n",
              "      <td>critic_score</td>\n",
              "      <td>0.003276</td>\n",
              "      <td>0.450629</td>\n",
              "      <td>0.378263</td>\n",
              "      <td>0.194475</td>\n",
              "      <td>0.390654</td>\n",
              "      <td>1.000000</td>\n",
              "      <td>0.631154</td>\n",
              "      <td>0.428213</td>\n",
              "    </tr>\n",
              "    <tr>\n",
              "      <td>user_score</td>\n",
              "      <td>-0.047437</td>\n",
              "      <td>0.150631</td>\n",
              "      <td>0.107035</td>\n",
              "      <td>0.166781</td>\n",
              "      <td>0.127973</td>\n",
              "      <td>0.631154</td>\n",
              "      <td>1.000000</td>\n",
              "      <td>0.143978</td>\n",
              "    </tr>\n",
              "    <tr>\n",
              "      <td>total_sales</td>\n",
              "      <td>-0.007750</td>\n",
              "      <td>0.940013</td>\n",
              "      <td>0.961846</td>\n",
              "      <td>0.491768</td>\n",
              "      <td>0.975359</td>\n",
              "      <td>0.428213</td>\n",
              "      <td>0.143978</td>\n",
              "      <td>1.000000</td>\n",
              "    </tr>\n",
              "  </tbody>\n",
              "</table>\n",
              "</div>"
            ],
            "text/plain": [
              "                 year_of_release  na_sales  eu_sales  jp_sales  other_sales  \\\n",
              "year_of_release         1.000000 -0.057800  0.016808  0.102977    -0.001280   \n",
              "na_sales               -0.057800  1.000000  0.825403  0.375620     0.871465   \n",
              "eu_sales                0.016808  0.825403  1.000000  0.417368     0.978001   \n",
              "jp_sales                0.102977  0.375620  0.417368  1.000000     0.416060   \n",
              "other_sales            -0.001280  0.871465  0.978001  0.416060     1.000000   \n",
              "critic_score            0.003276  0.450629  0.378263  0.194475     0.390654   \n",
              "user_score             -0.047437  0.150631  0.107035  0.166781     0.127973   \n",
              "total_sales            -0.007750  0.940013  0.961846  0.491768     0.975359   \n",
              "\n",
              "                 critic_score  user_score  total_sales  \n",
              "year_of_release      0.003276   -0.047437    -0.007750  \n",
              "na_sales             0.450629    0.150631     0.940013  \n",
              "eu_sales             0.378263    0.107035     0.961846  \n",
              "jp_sales             0.194475    0.166781     0.491768  \n",
              "other_sales          0.390654    0.127973     0.975359  \n",
              "critic_score         1.000000    0.631154     0.428213  \n",
              "user_score           0.631154    1.000000     0.143978  \n",
              "total_sales          0.428213    0.143978     1.000000  "
            ]
          },
          "metadata": {
            "tags": []
          },
          "execution_count": 140
        }
      ]
    },
    {
      "cell_type": "markdown",
      "metadata": {
        "id": "LwF38jFT5Uz3",
        "colab_type": "text"
      },
      "source": [
        "Wii"
      ]
    },
    {
      "cell_type": "code",
      "metadata": {
        "id": "UiP3F4s75Uz5",
        "colab_type": "code",
        "colab": {}
      },
      "source": [
        "relevant_Wii = relevant_df[relevant_df['platform'] == 'Wii']"
      ],
      "execution_count": null,
      "outputs": []
    },
    {
      "cell_type": "code",
      "metadata": {
        "id": "vRxItO0O5Uz8",
        "colab_type": "code",
        "colab": {}
      },
      "source": [
        "relevant_Wii = relevant_Wii[relevant_Wii['user_score']>=0]"
      ],
      "execution_count": null,
      "outputs": []
    },
    {
      "cell_type": "code",
      "metadata": {
        "id": "gXfnwNPg5U0G",
        "colab_type": "code",
        "colab": {}
      },
      "source": [
        "relevant_Wii = relevant_Wii[relevant_Wii['critic_score']>=0]"
      ],
      "execution_count": null,
      "outputs": []
    },
    {
      "cell_type": "code",
      "metadata": {
        "id": "hKFNJuTj5U0M",
        "colab_type": "code",
        "colab": {},
        "outputId": "b741ca11-f7b7-4f6f-9c08-7d2112d13485"
      },
      "source": [
        "relevant_Wii.plot(x='user_score', y='total_sales', kind='scatter')"
      ],
      "execution_count": null,
      "outputs": [
        {
          "output_type": "execute_result",
          "data": {
            "text/plain": [
              "<matplotlib.axes._subplots.AxesSubplot at 0x7f8ce1d63d90>"
            ]
          },
          "metadata": {
            "tags": []
          },
          "execution_count": 144
        },
        {
          "output_type": "display_data",
          "data": {
            "image/png": "[encoded data removed]",
            "text/plain": [
              "<Figure size 432x288 with 1 Axes>"
            ]
          },
          "metadata": {
            "tags": [],
            "needs_background": "light"
          }
        }
      ]
    },
    {
      "cell_type": "code",
      "metadata": {
        "id": "BbCoc4Ks5U0R",
        "colab_type": "code",
        "colab": {},
        "outputId": "38ef81be-058e-478b-902d-9c5aa4096b28"
      },
      "source": [
        "relevant_Wii.plot(x='critic_score', y='total_sales', kind='scatter')"
      ],
      "execution_count": null,
      "outputs": [
        {
          "output_type": "execute_result",
          "data": {
            "text/plain": [
              "<matplotlib.axes._subplots.AxesSubplot at 0x7f8ce1cc0990>"
            ]
          },
          "metadata": {
            "tags": []
          },
          "execution_count": 145
        },
        {
          "output_type": "display_data",
          "data": {
            "image/png": "[encoded data removed]",
            "text/plain": [
              "<Figure size 432x288 with 1 Axes>"
            ]
          },
          "metadata": {
            "tags": [],
            "needs_background": "light"
          }
        }
      ]
    },
    {
      "cell_type": "code",
      "metadata": {
        "id": "DRIU5kkj5U0V",
        "colab_type": "code",
        "colab": {},
        "outputId": "47141060-8f09-4140-f1a3-4b1e1a30b999"
      },
      "source": [
        "relevant_Wii.corr()"
      ],
      "execution_count": null,
      "outputs": [
        {
          "output_type": "execute_result",
          "data": {
            "text/html": [
              "<div>\n",
              "<style scoped>\n",
              "    .dataframe tbody tr th:only-of-type {\n",
              "        vertical-align: middle;\n",
              "    }\n",
              "\n",
              "    .dataframe tbody tr th {\n",
              "        vertical-align: top;\n",
              "    }\n",
              "\n",
              "    .dataframe thead th {\n",
              "        text-align: right;\n",
              "    }\n",
              "</style>\n",
              "<table border=\"1\" class=\"dataframe\">\n",
              "  <thead>\n",
              "    <tr style=\"text-align: right;\">\n",
              "      <th></th>\n",
              "      <th>year_of_release</th>\n",
              "      <th>na_sales</th>\n",
              "      <th>eu_sales</th>\n",
              "      <th>jp_sales</th>\n",
              "      <th>other_sales</th>\n",
              "      <th>critic_score</th>\n",
              "      <th>user_score</th>\n",
              "      <th>total_sales</th>\n",
              "    </tr>\n",
              "  </thead>\n",
              "  <tbody>\n",
              "    <tr>\n",
              "      <td>year_of_release</td>\n",
              "      <td>1.000000</td>\n",
              "      <td>-0.063189</td>\n",
              "      <td>-0.052390</td>\n",
              "      <td>-0.027091</td>\n",
              "      <td>-0.067319</td>\n",
              "      <td>0.199993</td>\n",
              "      <td>0.078134</td>\n",
              "      <td>-0.057849</td>\n",
              "    </tr>\n",
              "    <tr>\n",
              "      <td>na_sales</td>\n",
              "      <td>-0.063189</td>\n",
              "      <td>1.000000</td>\n",
              "      <td>0.979393</td>\n",
              "      <td>0.792153</td>\n",
              "      <td>0.991366</td>\n",
              "      <td>0.171222</td>\n",
              "      <td>0.109735</td>\n",
              "      <td>0.994412</td>\n",
              "    </tr>\n",
              "    <tr>\n",
              "      <td>eu_sales</td>\n",
              "      <td>-0.052390</td>\n",
              "      <td>0.979393</td>\n",
              "      <td>1.000000</td>\n",
              "      <td>0.795263</td>\n",
              "      <td>0.993853</td>\n",
              "      <td>0.156829</td>\n",
              "      <td>0.102459</td>\n",
              "      <td>0.991969</td>\n",
              "    </tr>\n",
              "    <tr>\n",
              "      <td>jp_sales</td>\n",
              "      <td>-0.027091</td>\n",
              "      <td>0.792153</td>\n",
              "      <td>0.795263</td>\n",
              "      <td>1.000000</td>\n",
              "      <td>0.786926</td>\n",
              "      <td>0.196070</td>\n",
              "      <td>0.128983</td>\n",
              "      <td>0.829994</td>\n",
              "    </tr>\n",
              "    <tr>\n",
              "      <td>other_sales</td>\n",
              "      <td>-0.067319</td>\n",
              "      <td>0.991366</td>\n",
              "      <td>0.993853</td>\n",
              "      <td>0.786926</td>\n",
              "      <td>1.000000</td>\n",
              "      <td>0.154887</td>\n",
              "      <td>0.100849</td>\n",
              "      <td>0.995499</td>\n",
              "    </tr>\n",
              "    <tr>\n",
              "      <td>critic_score</td>\n",
              "      <td>0.199993</td>\n",
              "      <td>0.171222</td>\n",
              "      <td>0.156829</td>\n",
              "      <td>0.196070</td>\n",
              "      <td>0.154887</td>\n",
              "      <td>1.000000</td>\n",
              "      <td>0.688285</td>\n",
              "      <td>0.170855</td>\n",
              "    </tr>\n",
              "    <tr>\n",
              "      <td>user_score</td>\n",
              "      <td>0.078134</td>\n",
              "      <td>0.109735</td>\n",
              "      <td>0.102459</td>\n",
              "      <td>0.128983</td>\n",
              "      <td>0.100849</td>\n",
              "      <td>0.688285</td>\n",
              "      <td>1.000000</td>\n",
              "      <td>0.110637</td>\n",
              "    </tr>\n",
              "    <tr>\n",
              "      <td>total_sales</td>\n",
              "      <td>-0.057849</td>\n",
              "      <td>0.994412</td>\n",
              "      <td>0.991969</td>\n",
              "      <td>0.829994</td>\n",
              "      <td>0.995499</td>\n",
              "      <td>0.170855</td>\n",
              "      <td>0.110637</td>\n",
              "      <td>1.000000</td>\n",
              "    </tr>\n",
              "  </tbody>\n",
              "</table>\n",
              "</div>"
            ],
            "text/plain": [
              "                 year_of_release  na_sales  eu_sales  jp_sales  other_sales  \\\n",
              "year_of_release         1.000000 -0.063189 -0.052390 -0.027091    -0.067319   \n",
              "na_sales               -0.063189  1.000000  0.979393  0.792153     0.991366   \n",
              "eu_sales               -0.052390  0.979393  1.000000  0.795263     0.993853   \n",
              "jp_sales               -0.027091  0.792153  0.795263  1.000000     0.786926   \n",
              "other_sales            -0.067319  0.991366  0.993853  0.786926     1.000000   \n",
              "critic_score            0.199993  0.171222  0.156829  0.196070     0.154887   \n",
              "user_score              0.078134  0.109735  0.102459  0.128983     0.100849   \n",
              "total_sales            -0.057849  0.994412  0.991969  0.829994     0.995499   \n",
              "\n",
              "                 critic_score  user_score  total_sales  \n",
              "year_of_release      0.199993    0.078134    -0.057849  \n",
              "na_sales             0.171222    0.109735     0.994412  \n",
              "eu_sales             0.156829    0.102459     0.991969  \n",
              "jp_sales             0.196070    0.128983     0.829994  \n",
              "other_sales          0.154887    0.100849     0.995499  \n",
              "critic_score         1.000000    0.688285     0.170855  \n",
              "user_score           0.688285    1.000000     0.110637  \n",
              "total_sales          0.170855    0.110637     1.000000  "
            ]
          },
          "metadata": {
            "tags": []
          },
          "execution_count": 146
        }
      ]
    },
    {
      "cell_type": "markdown",
      "metadata": {
        "id": "MQBHaYyn5U0b",
        "colab_type": "text"
      },
      "source": [
        "In all platforms, the critic score has a slightly higher correlation with the total sales. However, both can cause higher sales, which can be seen by the slight upward trend in the scatterplots. This supports our first conclusion made using the most popular platform, PS2."
      ]
    },
    {
      "cell_type": "markdown",
      "metadata": {
        "id": "Fj5Ffyoe5U0b",
        "colab_type": "text"
      },
      "source": [
        "#### Take a look at the general distribution of games by genre. "
      ]
    },
    {
      "cell_type": "code",
      "metadata": {
        "id": "PTy6fQA15U0c",
        "colab_type": "code",
        "colab": {}
      },
      "source": [
        "games_per_genre = relevant_df.pivot_table(index='genre', values='total_sales', aggfunc='count')"
      ],
      "execution_count": null,
      "outputs": []
    },
    {
      "cell_type": "code",
      "metadata": {
        "id": "LVdXe5ts5U0g",
        "colab_type": "code",
        "colab": {}
      },
      "source": [
        "games_per_genre.columns = ['number_games_in_genre']"
      ],
      "execution_count": null,
      "outputs": []
    },
    {
      "cell_type": "code",
      "metadata": {
        "id": "AOiGCCoc5U0l",
        "colab_type": "code",
        "colab": {},
        "outputId": "ed93ed4f-4f4e-4751-a5c4-3847d477cfce"
      },
      "source": [
        "print(games_per_genre.sort_values(by='number_games_in_genre', ascending=False))"
      ],
      "execution_count": null,
      "outputs": [
        {
          "output_type": "stream",
          "text": [
            "              number_games_in_genre\n",
            "genre                              \n",
            "Action                         3214\n",
            "Sports                         2209\n",
            "Misc                           1679\n",
            "Role-Playing                   1410\n",
            "Adventure                      1267\n",
            "Shooter                        1218\n",
            "Racing                         1191\n",
            "Simulation                      828\n",
            "Platform                        795\n",
            "Fighting                        763\n",
            "Strategy                        644\n",
            "Puzzle                          521\n"
          ],
          "name": "stdout"
        }
      ]
    },
    {
      "cell_type": "code",
      "metadata": {
        "id": "ETteJbhB5U0q",
        "colab_type": "code",
        "colab": {},
        "outputId": "6b751e70-7637-4205-c689-138a1585e3fc"
      },
      "source": [
        "games_per_genre.sort_values(by='number_games_in_genre', ascending=False).plot(y='number_games_in_genre', grid=True, kind='bar')"
      ],
      "execution_count": null,
      "outputs": [
        {
          "output_type": "execute_result",
          "data": {
            "text/plain": [
              "<matplotlib.axes._subplots.AxesSubplot at 0x7f8ce1c69150>"
            ]
          },
          "metadata": {
            "tags": []
          },
          "execution_count": 150
        },
        {
          "output_type": "display_data",
          "data": {
            "image/png": "[encoded data removed]",
            "text/plain": [
              "<Figure size 432x288 with 1 Axes>"
            ]
          },
          "metadata": {
            "tags": [],
            "needs_background": "light"
          }
        }
      ]
    },
    {
      "cell_type": "markdown",
      "metadata": {
        "id": "HNf2IudA5U0v",
        "colab_type": "text"
      },
      "source": [
        "Most games are in the action or sports genres."
      ]
    },
    {
      "cell_type": "markdown",
      "metadata": {
        "id": "wfIW55WM5U0y",
        "colab_type": "text"
      },
      "source": [
        "#### What can we say about the most profitable genres? "
      ]
    },
    {
      "cell_type": "code",
      "metadata": {
        "id": "JTUxYyjd5U0z",
        "colab_type": "code",
        "colab": {}
      },
      "source": [
        "sales_per_genre = relevant_df.pivot_table(index='genre', values='total_sales', aggfunc='sum')"
      ],
      "execution_count": null,
      "outputs": []
    },
    {
      "cell_type": "code",
      "metadata": {
        "id": "yMMKAYSX5U04",
        "colab_type": "code",
        "colab": {}
      },
      "source": [
        "sales_per_genre.columns = ['total_sales_sum']"
      ],
      "execution_count": null,
      "outputs": []
    },
    {
      "cell_type": "code",
      "metadata": {
        "id": "gWfN7-Z95U0-",
        "colab_type": "code",
        "colab": {},
        "outputId": "99972056-fed0-4bd3-b730-6e4ada809f08"
      },
      "source": [
        "print(sales_per_genre.sort_values(by='total_sales_sum', ascending=False))"
      ],
      "execution_count": null,
      "outputs": [
        {
          "output_type": "stream",
          "text": [
            "              total_sales_sum\n",
            "genre                        \n",
            "Action                1641.49\n",
            "Sports                1250.34\n",
            "Shooter                963.79\n",
            "Role-Playing           874.20\n",
            "Misc                   767.27\n",
            "Racing                 686.32\n",
            "Platform               595.14\n",
            "Fighting               387.73\n",
            "Simulation             374.95\n",
            "Adventure              209.54\n",
            "Strategy               160.34\n",
            "Puzzle                 155.68\n"
          ],
          "name": "stdout"
        }
      ]
    },
    {
      "cell_type": "code",
      "metadata": {
        "id": "a7lpLWZO5U1E",
        "colab_type": "code",
        "colab": {},
        "outputId": "592b088e-9c9a-4a38-b829-4c92aeca1e5a"
      },
      "source": [
        "sales_per_genre.sort_values(by='total_sales_sum', ascending=False).plot(y='total_sales_sum', grid=True, kind='bar')"
      ],
      "execution_count": null,
      "outputs": [
        {
          "output_type": "execute_result",
          "data": {
            "text/plain": [
              "<matplotlib.axes._subplots.AxesSubplot at 0x7f8ce1bf3190>"
            ]
          },
          "metadata": {
            "tags": []
          },
          "execution_count": 154
        },
        {
          "output_type": "display_data",
          "data": {
            "image/png": "[encoded data removed]",
            "text/plain": [
              "<Figure size 432x288 with 1 Axes>"
            ]
          },
          "metadata": {
            "tags": [],
            "needs_background": "light"
          }
        }
      ]
    },
    {
      "cell_type": "markdown",
      "metadata": {
        "id": "2Qh3VOf05U1J",
        "colab_type": "text"
      },
      "source": [
        "Action and sports are most profitable. This could be because most games are in these genres. "
      ]
    },
    {
      "cell_type": "markdown",
      "metadata": {
        "id": "moGmoBjl5U1K",
        "colab_type": "text"
      },
      "source": [
        "#### Can you generalize about genres with high and low sales?\n"
      ]
    },
    {
      "cell_type": "markdown",
      "metadata": {
        "id": "HNn1PY5Q5U1L",
        "colab_type": "text"
      },
      "source": [
        "I can generalize that genres that are more popular (more games in this genre than others) are more profitable. "
      ]
    },
    {
      "cell_type": "markdown",
      "metadata": {
        "id": "Ust4LcZW5U1P",
        "colab_type": "text"
      },
      "source": [
        "## Step 4. Create a user profile for each region"
      ]
    },
    {
      "cell_type": "markdown",
      "metadata": {
        "id": "-9kxrN9A5U1S",
        "colab_type": "text"
      },
      "source": [
        "### The top five platforms in each region"
      ]
    },
    {
      "cell_type": "markdown",
      "metadata": {
        "id": "Ba6DSSVK5U1S",
        "colab_type": "text"
      },
      "source": [
        "#### North America"
      ]
    },
    {
      "cell_type": "code",
      "metadata": {
        "id": "NmV7rxqw5U1T",
        "colab_type": "code",
        "colab": {}
      },
      "source": [
        "na_platform_data = relevant_df.pivot_table(index='platform', values='na_sales', aggfunc='sum').sort_values(by='na_sales', ascending=False)"
      ],
      "execution_count": null,
      "outputs": []
    },
    {
      "cell_type": "code",
      "metadata": {
        "id": "n4tX4hnb5U1Z",
        "colab_type": "code",
        "colab": {},
        "outputId": "a988c77a-9b6f-497c-9a7d-24e32617b033"
      },
      "source": [
        "print(na_platform_data.head())"
      ],
      "execution_count": null,
      "outputs": [
        {
          "output_type": "stream",
          "text": [
            "          na_sales\n",
            "platform          \n",
            "X360        595.74\n",
            "PS2         572.92\n",
            "Wii         486.87\n",
            "PS3         390.13\n",
            "DS          380.31\n"
          ],
          "name": "stdout"
        }
      ]
    },
    {
      "cell_type": "markdown",
      "metadata": {
        "id": "7IfaiiwW5U1e",
        "colab_type": "text"
      },
      "source": [
        "#### Europe"
      ]
    },
    {
      "cell_type": "code",
      "metadata": {
        "id": "HvdYPc6m5U1f",
        "colab_type": "code",
        "colab": {}
      },
      "source": [
        "eu_platform_data = relevant_df.pivot_table(index='platform', values='eu_sales', aggfunc='sum').sort_values(by='eu_sales', ascending=False)"
      ],
      "execution_count": null,
      "outputs": []
    },
    {
      "cell_type": "code",
      "metadata": {
        "id": "AGsgPHHg5U1j",
        "colab_type": "code",
        "colab": {},
        "outputId": "751ba5e9-5a75-485d-e778-6146e250b9ee"
      },
      "source": [
        "print(eu_platform_data.head())"
      ],
      "execution_count": null,
      "outputs": [
        {
          "output_type": "stream",
          "text": [
            "          eu_sales\n",
            "platform          \n",
            "PS2         332.63\n",
            "PS3         327.21\n",
            "X360        268.32\n",
            "Wii         258.32\n",
            "PS          201.34\n"
          ],
          "name": "stdout"
        }
      ]
    },
    {
      "cell_type": "markdown",
      "metadata": {
        "id": "3yGkNlAf5U1o",
        "colab_type": "text"
      },
      "source": [
        "#### Japan "
      ]
    },
    {
      "cell_type": "code",
      "metadata": {
        "id": "RZSYQfJK5U1p",
        "colab_type": "code",
        "colab": {}
      },
      "source": [
        "jp_platform_data = relevant_df.pivot_table(index='platform', values='jp_sales', aggfunc='sum').sort_values(by='jp_sales', ascending=False)"
      ],
      "execution_count": null,
      "outputs": []
    },
    {
      "cell_type": "code",
      "metadata": {
        "id": "4e80-dAt5U1u",
        "colab_type": "code",
        "colab": {},
        "outputId": "531cd16a-976c-4aa1-ee63-122abe2d9793"
      },
      "source": [
        "print(jp_platform_data.head())"
      ],
      "execution_count": null,
      "outputs": [
        {
          "output_type": "stream",
          "text": [
            "          jp_sales\n",
            "platform          \n",
            "DS          175.00\n",
            "PS2         137.54\n",
            "PS          127.57\n",
            "3DS         100.62\n",
            "PS3          79.41\n"
          ],
          "name": "stdout"
        }
      ]
    },
    {
      "cell_type": "markdown",
      "metadata": {
        "id": "0LZ31kZ_5U13",
        "colab_type": "text"
      },
      "source": [
        "#### Describe variations in their market shares from region to region.\n"
      ]
    },
    {
      "cell_type": "markdown",
      "metadata": {
        "id": "8w_G1AtH5U14",
        "colab_type": "text"
      },
      "source": [
        " \n",
        "The top platform is X360 in North America, PS2 in Europe, and DS in Japan. X360, PS2, and DS are near the top in almost all of these regions. The only one that is not near the top is X360 in Japan."
      ]
    },
    {
      "cell_type": "markdown",
      "metadata": {
        "id": "t9JhnRDM5U2H",
        "colab_type": "text"
      },
      "source": [
        "### The top five genres in each region"
      ]
    },
    {
      "cell_type": "markdown",
      "metadata": {
        "id": "3FRo4bv15U2H",
        "colab_type": "text"
      },
      "source": [
        "#### North America"
      ]
    },
    {
      "cell_type": "code",
      "metadata": {
        "id": "blFX09YG5U2I",
        "colab_type": "code",
        "colab": {}
      },
      "source": [
        "na_genre_data = relevant_df.pivot_table(index='genre', values='na_sales', aggfunc='sum').sort_values(by='na_sales', ascending=False)"
      ],
      "execution_count": null,
      "outputs": []
    },
    {
      "cell_type": "code",
      "metadata": {
        "id": "OVkfblNf5U2P",
        "colab_type": "code",
        "colab": {},
        "outputId": "360cc58b-588f-4f1d-ac77-0d0cf472245b"
      },
      "source": [
        "print(na_genre_data.head())"
      ],
      "execution_count": null,
      "outputs": [
        {
          "output_type": "stream",
          "text": [
            "         na_sales\n",
            "genre            \n",
            "Action     812.38\n",
            "Sports     652.51\n",
            "Shooter    526.89\n",
            "Misc       390.11\n",
            "Racing     340.55\n"
          ],
          "name": "stdout"
        }
      ]
    },
    {
      "cell_type": "markdown",
      "metadata": {
        "id": "50w38NH55U2k",
        "colab_type": "text"
      },
      "source": [
        "#### Europe"
      ]
    },
    {
      "cell_type": "code",
      "metadata": {
        "id": "9ObYeTIO5U2l",
        "colab_type": "code",
        "colab": {}
      },
      "source": [
        "eu_genre_data = relevant_df.pivot_table(index='genre', values='eu_sales', aggfunc='sum').sort_values(by='eu_sales', ascending=False)"
      ],
      "execution_count": null,
      "outputs": []
    },
    {
      "cell_type": "code",
      "metadata": {
        "id": "hSO5OzNx5U2o",
        "colab_type": "code",
        "colab": {},
        "outputId": "1170af3c-b7dc-46de-bb54-3170023987f7"
      },
      "source": [
        "print(eu_genre_data.head())"
      ],
      "execution_count": null,
      "outputs": [
        {
          "output_type": "stream",
          "text": [
            "         eu_sales\n",
            "genre            \n",
            "Action     502.90\n",
            "Sports     366.07\n",
            "Shooter    307.75\n",
            "Racing     228.76\n",
            "Misc       207.32\n"
          ],
          "name": "stdout"
        }
      ]
    },
    {
      "cell_type": "markdown",
      "metadata": {
        "id": "ulxfau6m5U2z",
        "colab_type": "text"
      },
      "source": [
        "#### Japan "
      ]
    },
    {
      "cell_type": "code",
      "metadata": {
        "id": "gWklD6A95U20",
        "colab_type": "code",
        "colab": {}
      },
      "source": [
        "jp_genre_data = relevant_df.pivot_table(index='genre', values='jp_sales', aggfunc='sum').sort_values(by='jp_sales', ascending=False)"
      ],
      "execution_count": null,
      "outputs": []
    },
    {
      "cell_type": "code",
      "metadata": {
        "id": "873g-Rv-5U24",
        "colab_type": "code",
        "colab": {},
        "outputId": "3e0b5fe5-5fb8-474d-9d89-6df320ed95df"
      },
      "source": [
        "print(jp_genre_data.head())"
      ],
      "execution_count": null,
      "outputs": [
        {
          "output_type": "stream",
          "text": [
            "              jp_sales\n",
            "genre                 \n",
            "Role-Playing    302.08\n",
            "Action          145.20\n",
            "Sports          100.44\n",
            "Misc             97.08\n",
            "Platform         70.69\n"
          ],
          "name": "stdout"
        }
      ]
    },
    {
      "cell_type": "markdown",
      "metadata": {
        "id": "k4QnamYu5U3A",
        "colab_type": "text"
      },
      "source": [
        "#### Explain the difference."
      ]
    },
    {
      "cell_type": "markdown",
      "metadata": {
        "id": "Sa5Kh7na5U3A",
        "colab_type": "text"
      },
      "source": [
        "\n",
        "In North America and Europe, the action, sports, shooter, and racing genres are the most popular. In Japan, the action, sports, role playing, and platform genres are most popular."
      ]
    },
    {
      "cell_type": "markdown",
      "metadata": {
        "id": "4XOC_Ewc5U3B",
        "colab_type": "text"
      },
      "source": [
        "### Do ESRB ratings affect sales in individual regions?"
      ]
    },
    {
      "cell_type": "markdown",
      "metadata": {
        "id": "0BRf4m3F5U3C",
        "colab_type": "text"
      },
      "source": [
        "#### North America"
      ]
    },
    {
      "cell_type": "code",
      "metadata": {
        "id": "DV1GKqvw5U3V",
        "colab_type": "code",
        "colab": {}
      },
      "source": [
        "na_rating_data = relevant_df.pivot_table(index='rating', values='na_sales', aggfunc='sum').sort_values(by='na_sales', ascending=False)"
      ],
      "execution_count": null,
      "outputs": []
    },
    {
      "cell_type": "code",
      "metadata": {
        "id": "xQJ9V2Jp5U3c",
        "colab_type": "code",
        "colab": {},
        "outputId": "5c0ad0ba-1d31-47db-aa9b-83c1d460c26e"
      },
      "source": [
        "print(na_rating_data)"
      ],
      "execution_count": null,
      "outputs": [
        {
          "output_type": "stream",
          "text": [
            "                na_sales\n",
            "rating                  \n",
            "E                1274.24\n",
            "unknown rating    850.39\n",
            "T                 747.19\n",
            "M                 742.87\n",
            "E10+              345.50\n",
            "K-A                 2.56\n",
            "EC                  1.53\n",
            "AO                  1.26\n",
            "RP                  0.00\n"
          ],
          "name": "stdout"
        }
      ]
    },
    {
      "cell_type": "markdown",
      "metadata": {
        "id": "dHgo3twx5U3r",
        "colab_type": "text"
      },
      "source": [
        "#### Europe"
      ]
    },
    {
      "cell_type": "code",
      "metadata": {
        "id": "bOhJiJxa5U35",
        "colab_type": "code",
        "colab": {}
      },
      "source": [
        "eu_rating_data = relevant_df.pivot_table(index='rating', values='eu_sales', aggfunc='sum').sort_values(by='eu_sales', ascending=False)"
      ],
      "execution_count": null,
      "outputs": []
    },
    {
      "cell_type": "code",
      "metadata": {
        "id": "G6NAXCLe5U4B",
        "colab_type": "code",
        "colab": {},
        "outputId": "1813ae89-e7c3-44ef-d1b9-06b3bef60d85"
      },
      "source": [
        "print(eu_rating_data)"
      ],
      "execution_count": null,
      "outputs": [
        {
          "output_type": "stream",
          "text": [
            "                eu_sales\n",
            "rating                  \n",
            "E                 703.87\n",
            "unknown rating    521.81\n",
            "M                 480.00\n",
            "T                 420.73\n",
            "E10+              183.33\n",
            "AO                  0.61\n",
            "K-A                 0.27\n",
            "EC                  0.11\n",
            "RP                  0.03\n"
          ],
          "name": "stdout"
        }
      ]
    },
    {
      "cell_type": "markdown",
      "metadata": {
        "id": "aHYyfQ6_5U4V",
        "colab_type": "text"
      },
      "source": [
        "#### Japan "
      ]
    },
    {
      "cell_type": "code",
      "metadata": {
        "id": "LS-Tjn7g5U4X",
        "colab_type": "code",
        "colab": {}
      },
      "source": [
        "jp_rating_data = relevant_df.pivot_table(index='rating', values='jp_sales', aggfunc='sum').sort_values(by='jp_sales', ascending=False)"
      ],
      "execution_count": null,
      "outputs": []
    },
    {
      "cell_type": "code",
      "metadata": {
        "id": "GQPp7EsP5U4b",
        "colab_type": "code",
        "colab": {},
        "outputId": "6b8efb7e-29a5-47d1-ebcd-6ee55c9766c2"
      },
      "source": [
        "print(jp_rating_data)"
      ],
      "execution_count": null,
      "outputs": [
        {
          "output_type": "stream",
          "text": [
            "                jp_sales\n",
            "rating                  \n",
            "unknown rating    571.14\n",
            "E                 197.96\n",
            "T                 150.17\n",
            "M                  63.58\n",
            "E10+               40.20\n",
            "K-A                 1.46\n",
            "AO                  0.00\n",
            "EC                  0.00\n",
            "RP                  0.00\n"
          ],
          "name": "stdout"
        }
      ]
    },
    {
      "cell_type": "markdown",
      "metadata": {
        "id": "3e_Gon8r5U4k",
        "colab_type": "text"
      },
      "source": [
        "It seems that E, M, and T ratings have the highest sales in each region. However, I cannot be sure because a significant amount of data is in the unknown rating category, where there were missing values. If unknown rating means that the games were not rated, then not rated also has some of the highest sales."
      ]
    },
    {
      "cell_type": "markdown",
      "metadata": {
        "id": "qIhod5KU5U4k",
        "colab_type": "text"
      },
      "source": [
        "## Step 5. Test the following hypotheses:\n"
      ]
    },
    {
      "cell_type": "markdown",
      "metadata": {
        "id": "jlxrVk9O5U4l",
        "colab_type": "text"
      },
      "source": [
        "### Average user ratings of the Xbox One and PC platforms are the same.\n"
      ]
    },
    {
      "cell_type": "code",
      "metadata": {
        "id": "tbWhsf0U5U4l",
        "colab_type": "code",
        "colab": {}
      },
      "source": [
        "user_rating_XboxOne = relevant_XOne['user_score']"
      ],
      "execution_count": null,
      "outputs": []
    },
    {
      "cell_type": "code",
      "metadata": {
        "id": "2k_NM7en5U4o",
        "colab_type": "code",
        "colab": {}
      },
      "source": [
        "user_rating_PC = relevant_PC['user_score']"
      ],
      "execution_count": null,
      "outputs": []
    },
    {
      "cell_type": "markdown",
      "metadata": {
        "id": "zBpcx2UD5U4r",
        "colab_type": "text"
      },
      "source": [
        "#### Set the alpha threshold value yourself."
      ]
    },
    {
      "cell_type": "code",
      "metadata": {
        "id": "JpdEEoLN5U4r",
        "colab_type": "code",
        "colab": {}
      },
      "source": [
        "alpha = 0.05 "
      ],
      "execution_count": null,
      "outputs": []
    },
    {
      "cell_type": "markdown",
      "metadata": {
        "id": "fLQj-Skn5U4u",
        "colab_type": "text"
      },
      "source": [
        "#### Explain what significance level you chose to test the hypotheses, and why.\n"
      ]
    },
    {
      "cell_type": "markdown",
      "metadata": {
        "id": "rnQlphYm5U4v",
        "colab_type": "text"
      },
      "source": [
        "I set alpha = 0.05 because this is the conventional threshold value for the p-value. This is the significance level that I chose to test the hypotheses. I would not want to be wrong more than 5% of the time."
      ]
    },
    {
      "cell_type": "code",
      "metadata": {
        "id": "2dOFNhAI5U4w",
        "colab_type": "code",
        "colab": {}
      },
      "source": [
        "results = st.ttest_ind(\n",
        "        user_rating_XboxOne, \n",
        "        user_rating_PC)"
      ],
      "execution_count": null,
      "outputs": []
    },
    {
      "cell_type": "code",
      "metadata": {
        "id": "2YE2XF575U44",
        "colab_type": "code",
        "colab": {},
        "outputId": "85bac7c3-70e5-402f-853a-d684e197c9cd"
      },
      "source": [
        "print('p-value: ', results.pvalue)"
      ],
      "execution_count": null,
      "outputs": [
        {
          "output_type": "stream",
          "text": [
            "p-value:  0.00027489908486236773\n"
          ],
          "name": "stdout"
        }
      ]
    },
    {
      "cell_type": "code",
      "metadata": {
        "id": "0JPRObZL5U47",
        "colab_type": "code",
        "colab": {},
        "outputId": "d85d6b65-bc69-47ec-ab71-e6c76027b141"
      },
      "source": [
        "if (results.pvalue < alpha):\n",
        "        print(\"We reject the null hypothesis\")\n",
        "else:\n",
        "        print(\"We can't reject the null hypothesis\")"
      ],
      "execution_count": null,
      "outputs": [
        {
          "output_type": "stream",
          "text": [
            "We reject the null hypothesis\n"
          ],
          "name": "stdout"
        }
      ]
    },
    {
      "cell_type": "markdown",
      "metadata": {
        "id": "UhiXX6pO5U5A",
        "colab_type": "text"
      },
      "source": [
        "#### Explain how you formulated the null and alternative hypotheses\n"
      ]
    },
    {
      "cell_type": "markdown",
      "metadata": {
        "id": "ZqP3oDSh5U5C",
        "colab_type": "text"
      },
      "source": [
        "Null hypothesis: Average user ratings of the Xbox One and PC platforms are the same."
      ]
    },
    {
      "cell_type": "markdown",
      "metadata": {
        "id": "tQ7Z9l9e5U5D",
        "colab_type": "text"
      },
      "source": [
        "Alternative hypothesis: Average user ratings of the Xbox One and PC platforms are different."
      ]
    },
    {
      "cell_type": "markdown",
      "metadata": {
        "id": "ZrMorqdB5U5E",
        "colab_type": "text"
      },
      "source": [
        "Since we reject the null hypothesis, the alternative hypothesis is not rejected so we can say that  the average user ratings of the Xbox One and PC platforms are different."
      ]
    },
    {
      "cell_type": "markdown",
      "metadata": {
        "id": "Afy4zckS5U5F",
        "colab_type": "text"
      },
      "source": [
        "### Average user ratings for the Action and Sports genres are different."
      ]
    },
    {
      "cell_type": "code",
      "metadata": {
        "id": "uRpJtn-F5U5F",
        "colab_type": "code",
        "colab": {},
        "outputId": "e3ad5818-6b0a-4711-9368-1451fd930380"
      },
      "source": [
        "print(relevant_df['genre'].unique())"
      ],
      "execution_count": null,
      "outputs": [
        {
          "output_type": "stream",
          "text": [
            "['Sports' 'Racing' 'Role-Playing' 'Platform' 'Misc' 'Simulation' 'Action'\n",
            " 'Puzzle' 'Shooter' 'Fighting' 'Adventure' 'Strategy']\n"
          ],
          "name": "stdout"
        }
      ]
    },
    {
      "cell_type": "code",
      "metadata": {
        "id": "HdnBmsSK5U5J",
        "colab_type": "code",
        "colab": {}
      },
      "source": [
        "relevant_action = relevant_df[relevant_df['genre'] == 'Action']"
      ],
      "execution_count": null,
      "outputs": []
    },
    {
      "cell_type": "code",
      "metadata": {
        "id": "A2inAaT15U5M",
        "colab_type": "code",
        "colab": {}
      },
      "source": [
        "relevant_sports = relevant_df[relevant_df['genre'] == 'Sports']"
      ],
      "execution_count": null,
      "outputs": []
    },
    {
      "cell_type": "code",
      "metadata": {
        "id": "k9Ksf9U35U5P",
        "colab_type": "code",
        "colab": {}
      },
      "source": [
        "user_rating_action = relevant_action['user_score']"
      ],
      "execution_count": null,
      "outputs": []
    },
    {
      "cell_type": "code",
      "metadata": {
        "id": "DLAPUl085U5V",
        "colab_type": "code",
        "colab": {}
      },
      "source": [
        "user_rating_sports = relevant_sports['user_score']"
      ],
      "execution_count": null,
      "outputs": []
    },
    {
      "cell_type": "markdown",
      "metadata": {
        "id": "PP1UAy9p5U5Z",
        "colab_type": "text"
      },
      "source": [
        "#### Set the alpha threshold value yourself."
      ]
    },
    {
      "cell_type": "code",
      "metadata": {
        "id": "BtYWST8y5U5Z",
        "colab_type": "code",
        "colab": {}
      },
      "source": [
        "alpha = 0.05 "
      ],
      "execution_count": null,
      "outputs": []
    },
    {
      "cell_type": "markdown",
      "metadata": {
        "id": "fS3Kq3Y-5U51",
        "colab_type": "text"
      },
      "source": [
        "#### Explain what significance level you chose to test the hypotheses, and why.\n"
      ]
    },
    {
      "cell_type": "markdown",
      "metadata": {
        "id": "ETu3V6Kv5U52",
        "colab_type": "text"
      },
      "source": [
        "I set alpha = 0.05 because this is the conventional threshold value for the p-value. This is the significance level that I chose to test the hypotheses. I would not want to be wrong more than 5% of the time."
      ]
    },
    {
      "cell_type": "code",
      "metadata": {
        "id": "Q3RLjF6p5U53",
        "colab_type": "code",
        "colab": {}
      },
      "source": [
        "results = st.ttest_ind(\n",
        "        user_rating_action, \n",
        "        user_rating_sports)"
      ],
      "execution_count": null,
      "outputs": []
    },
    {
      "cell_type": "code",
      "metadata": {
        "id": "UHju2lQj5U56",
        "colab_type": "code",
        "colab": {},
        "outputId": "48041b95-f516-49b3-bf9a-0021dd7bd858"
      },
      "source": [
        "print('p-value: ', results.pvalue)"
      ],
      "execution_count": null,
      "outputs": [
        {
          "output_type": "stream",
          "text": [
            "p-value:  2.963066930660666e-07\n"
          ],
          "name": "stdout"
        }
      ]
    },
    {
      "cell_type": "code",
      "metadata": {
        "id": "AZswS6xz5U5-",
        "colab_type": "code",
        "colab": {},
        "outputId": "74931049-992c-4c37-93e7-18c91c9ba24b"
      },
      "source": [
        "if (results.pvalue < alpha):\n",
        "        print(\"We reject the null hypothesis\")\n",
        "else:\n",
        "        print(\"We can't reject the null hypothesis\")"
      ],
      "execution_count": null,
      "outputs": [
        {
          "output_type": "stream",
          "text": [
            "We reject the null hypothesis\n"
          ],
          "name": "stdout"
        }
      ]
    },
    {
      "cell_type": "markdown",
      "metadata": {
        "id": "xmYKDh-i5U6P",
        "colab_type": "text"
      },
      "source": [
        "#### Explain how you formulated the null and alternative hypotheses\n"
      ]
    },
    {
      "cell_type": "markdown",
      "metadata": {
        "id": "maQsXQx35U6Q",
        "colab_type": "text"
      },
      "source": [
        "Null hypothesis: Average user ratings for the Action and Sports genres are equal."
      ]
    },
    {
      "cell_type": "markdown",
      "metadata": {
        "id": "qGzoA0r85U6S",
        "colab_type": "text"
      },
      "source": [
        "Alternative hypothesis: Average user ratings for the Action and Sports genres are different."
      ]
    },
    {
      "cell_type": "markdown",
      "metadata": {
        "id": "MK0ivzNz5U6T",
        "colab_type": "text"
      },
      "source": [
        "Since we reject the null hypothesis, the alternative hypothesis is not rejected so we can say that the average user ratings for the Action and Sports genres are different. "
      ]
    },
    {
      "cell_type": "markdown",
      "metadata": {
        "id": "k4J9M5qU5U6X",
        "colab_type": "text"
      },
      "source": [
        "## Step 6. Write a general conclusion\n"
      ]
    },
    {
      "cell_type": "markdown",
      "metadata": {
        "id": "LX9LlS3H5U6Y",
        "colab_type": "text"
      },
      "source": [
        "From the data, I would recommend to plan advertising campaigns for the platforms that have not reached a high peak in a 10 year period. Most successful platforms have a peak and then lose popularity after 10 years of existing. This could because users get older and no longer play as much or because game consoles break in this time period. After this 10 year period, a new audience has a new popular video game platform. I would mostly recommend to advertise PS4 but XOne also has some potential.\n",
        "\n"
      ]
    }
  ]
}